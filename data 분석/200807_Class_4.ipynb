{
  "nbformat": 4,
  "nbformat_minor": 0,
  "metadata": {
    "kernelspec": {
      "display_name": "Python 3",
      "language": "python",
      "name": "python3"
    },
    "language_info": {
      "codemirror_mode": {
        "name": "ipython",
        "version": 3
      },
      "file_extension": ".py",
      "mimetype": "text/x-python",
      "name": "python",
      "nbconvert_exporter": "python",
      "pygments_lexer": "ipython3",
      "version": "3.8.3"
    },
    "colab": {
      "name": "200807 Class 4.ipynb",
      "provenance": [],
      "include_colab_link": true
    }
  },
  "cells": [
    {
      "cell_type": "markdown",
      "metadata": {
        "id": "view-in-github",
        "colab_type": "text"
      },
      "source": [
        "<a href=\"https://colab.research.google.com/github/jmins33/ml_edu/blob/master/data%20%EB%B6%84%EC%84%9D/200807_Class_4.ipynb\" target=\"_parent\"><img src=\"https://colab.research.google.com/assets/colab-badge.svg\" alt=\"Open In Colab\"/></a>"
      ]
    },
    {
      "cell_type": "code",
      "metadata": {
        "id": "hJaTPDXx52An",
        "colab_type": "code",
        "colab": {}
      },
      "source": [
        "import pandas as pd\n",
        "import numpy as np"
      ],
      "execution_count": null,
      "outputs": []
    },
    {
      "cell_type": "markdown",
      "metadata": {
        "id": "ybb_J9tm52As",
        "colab_type": "text"
      },
      "source": [
        "###  pandas 로 국민청원 데이터 분석하기"
      ]
    },
    {
      "cell_type": "code",
      "metadata": {
        "id": "olaXCxFw52As",
        "colab_type": "code",
        "colab": {}
      },
      "source": [
        "df = pd.read_csv('C:/Users/ASIA-01/petition.csv', parse_dates=['start','end'])"
      ],
      "execution_count": null,
      "outputs": []
    },
    {
      "cell_type": "code",
      "metadata": {
        "id": "GWln1Sz-52Av",
        "colab_type": "code",
        "colab": {},
        "outputId": "ff10ee16-c352-4f12-f403-7296349940fb"
      },
      "source": [
        "df.shape"
      ],
      "execution_count": null,
      "outputs": [
        {
          "output_type": "execute_result",
          "data": {
            "text/plain": [
              "(395547, 8)"
            ]
          },
          "metadata": {
            "tags": []
          },
          "execution_count": 9
        }
      ]
    },
    {
      "cell_type": "code",
      "metadata": {
        "id": "OR3u-gQg52Ay",
        "colab_type": "code",
        "colab": {},
        "outputId": "924c4fed-3642-459b-a194-b144db02a17b"
      },
      "source": [
        "df.head()"
      ],
      "execution_count": null,
      "outputs": [
        {
          "output_type": "execute_result",
          "data": {
            "text/html": [
              "<div>\n",
              "<style scoped>\n",
              "    .dataframe tbody tr th:only-of-type {\n",
              "        vertical-align: middle;\n",
              "    }\n",
              "\n",
              "    .dataframe tbody tr th {\n",
              "        vertical-align: top;\n",
              "    }\n",
              "\n",
              "    .dataframe thead th {\n",
              "        text-align: right;\n",
              "    }\n",
              "</style>\n",
              "<table border=\"1\" class=\"dataframe\">\n",
              "  <thead>\n",
              "    <tr style=\"text-align: right;\">\n",
              "      <th></th>\n",
              "      <th>article_id</th>\n",
              "      <th>start</th>\n",
              "      <th>end</th>\n",
              "      <th>answered</th>\n",
              "      <th>votes</th>\n",
              "      <th>category</th>\n",
              "      <th>title</th>\n",
              "      <th>content</th>\n",
              "    </tr>\n",
              "  </thead>\n",
              "  <tbody>\n",
              "    <tr>\n",
              "      <th>0</th>\n",
              "      <td>21</td>\n",
              "      <td>2017-08-19</td>\n",
              "      <td>2017-11-17</td>\n",
              "      <td>0</td>\n",
              "      <td>9</td>\n",
              "      <td>안전/환경</td>\n",
              "      <td>스텔라 데이지호에 대한 제안입니다.</td>\n",
              "      <td>스텔라 데이지호에 대한 제안입니다.\\n3월31일 스텔라 데이지호가 침몰하고 5달째가...</td>\n",
              "    </tr>\n",
              "    <tr>\n",
              "      <th>1</th>\n",
              "      <td>22</td>\n",
              "      <td>2017-08-19</td>\n",
              "      <td>2017-11-17</td>\n",
              "      <td>0</td>\n",
              "      <td>17</td>\n",
              "      <td>기타</td>\n",
              "      <td>비리제보처를 만들어주세요.</td>\n",
              "      <td>현 정부에 국민들이 가장 원하는 것은 부패척결입니다.  우리 사회에 각종 비리들이 ...</td>\n",
              "    </tr>\n",
              "    <tr>\n",
              "      <th>2</th>\n",
              "      <td>23</td>\n",
              "      <td>2017-08-19</td>\n",
              "      <td>2017-09-03</td>\n",
              "      <td>0</td>\n",
              "      <td>0</td>\n",
              "      <td>미래</td>\n",
              "      <td>제2의 개성공단</td>\n",
              "      <td>만일 하시는 대통령님 및 각 부처 장관님,주무관님들 안녕하세요!!\\n전남 목포에서 ...</td>\n",
              "    </tr>\n",
              "    <tr>\n",
              "      <th>3</th>\n",
              "      <td>24</td>\n",
              "      <td>2017-08-19</td>\n",
              "      <td>2017-08-26</td>\n",
              "      <td>0</td>\n",
              "      <td>53</td>\n",
              "      <td>일자리</td>\n",
              "      <td>공공기관 무조건적인 정규직전환을 반대합니다.</td>\n",
              "      <td>현정부에서 정규직 일자리를 늘리는 것에 찬성합니다. 그런데 공공기관 비정규직들은 인...</td>\n",
              "    </tr>\n",
              "    <tr>\n",
              "      <th>4</th>\n",
              "      <td>25</td>\n",
              "      <td>2017-08-19</td>\n",
              "      <td>2017-09-03</td>\n",
              "      <td>0</td>\n",
              "      <td>0</td>\n",
              "      <td>미래</td>\n",
              "      <td>제2의 개성공단</td>\n",
              "      <td>만일 하시는 대통령님 및 각 부처 장관님,주무관님들 안녕하세요!!\\n전남 목포에서 ...</td>\n",
              "    </tr>\n",
              "  </tbody>\n",
              "</table>\n",
              "</div>"
            ],
            "text/plain": [
              "   article_id      start        end  answered  votes category  \\\n",
              "0          21 2017-08-19 2017-11-17         0      9    안전/환경   \n",
              "1          22 2017-08-19 2017-11-17         0     17       기타   \n",
              "2          23 2017-08-19 2017-09-03         0      0       미래   \n",
              "3          24 2017-08-19 2017-08-26         0     53      일자리   \n",
              "4          25 2017-08-19 2017-09-03         0      0       미래   \n",
              "\n",
              "                      title                                            content  \n",
              "0       스텔라 데이지호에 대한 제안입니다.  스텔라 데이지호에 대한 제안입니다.\\n3월31일 스텔라 데이지호가 침몰하고 5달째가...  \n",
              "1            비리제보처를 만들어주세요.  현 정부에 국민들이 가장 원하는 것은 부패척결입니다.  우리 사회에 각종 비리들이 ...  \n",
              "2                  제2의 개성공단  만일 하시는 대통령님 및 각 부처 장관님,주무관님들 안녕하세요!!\\n전남 목포에서 ...  \n",
              "3  공공기관 무조건적인 정규직전환을 반대합니다.  현정부에서 정규직 일자리를 늘리는 것에 찬성합니다. 그런데 공공기관 비정규직들은 인...  \n",
              "4                  제2의 개성공단  만일 하시는 대통령님 및 각 부처 장관님,주무관님들 안녕하세요!!\\n전남 목포에서 ...  "
            ]
          },
          "metadata": {
            "tags": []
          },
          "execution_count": 10
        }
      ]
    },
    {
      "cell_type": "code",
      "metadata": {
        "id": "IA30jhmz52A1",
        "colab_type": "code",
        "colab": {},
        "outputId": "ab908552-bbd1-4969-a79f-4b644938cfbf"
      },
      "source": [
        "df.tail()"
      ],
      "execution_count": null,
      "outputs": [
        {
          "output_type": "execute_result",
          "data": {
            "text/html": [
              "<div>\n",
              "<style scoped>\n",
              "    .dataframe tbody tr th:only-of-type {\n",
              "        vertical-align: middle;\n",
              "    }\n",
              "\n",
              "    .dataframe tbody tr th {\n",
              "        vertical-align: top;\n",
              "    }\n",
              "\n",
              "    .dataframe thead th {\n",
              "        text-align: right;\n",
              "    }\n",
              "</style>\n",
              "<table border=\"1\" class=\"dataframe\">\n",
              "  <thead>\n",
              "    <tr style=\"text-align: right;\">\n",
              "      <th></th>\n",
              "      <th>article_id</th>\n",
              "      <th>start</th>\n",
              "      <th>end</th>\n",
              "      <th>answered</th>\n",
              "      <th>votes</th>\n",
              "      <th>category</th>\n",
              "      <th>title</th>\n",
              "      <th>content</th>\n",
              "    </tr>\n",
              "  </thead>\n",
              "  <tbody>\n",
              "    <tr>\n",
              "      <th>395542</th>\n",
              "      <td>517117</td>\n",
              "      <td>2019-02-04</td>\n",
              "      <td>2019-03-06</td>\n",
              "      <td>0</td>\n",
              "      <td>3</td>\n",
              "      <td>보건복지</td>\n",
              "      <td>명절연휴 고속도로 무료반대</td>\n",
              "      <td>명절고속도로 무료보단 대다수의 서민들이 이용하는 대중교통 무료와 명절기간 증차로 했...</td>\n",
              "    </tr>\n",
              "    <tr>\n",
              "      <th>395543</th>\n",
              "      <td>517119</td>\n",
              "      <td>2019-02-04</td>\n",
              "      <td>2019-03-06</td>\n",
              "      <td>0</td>\n",
              "      <td>23</td>\n",
              "      <td>보건복지</td>\n",
              "      <td>광주사태 가짜 유공자들 정수기로 걸려내야함</td>\n",
              "      <td>광주사태 유공자들 차고 넘치는데 이래 많은 유공자들 그냥놓아두면 재앙이다.\\n김대중...</td>\n",
              "    </tr>\n",
              "    <tr>\n",
              "      <th>395544</th>\n",
              "      <td>517120</td>\n",
              "      <td>2019-02-04</td>\n",
              "      <td>2019-03-06</td>\n",
              "      <td>0</td>\n",
              "      <td>0</td>\n",
              "      <td>안전/환경</td>\n",
              "      <td>환경문제</td>\n",
              "      <td>명절이면 후로 제일문제는 쓰레기 문제 입니다.\\n제일문제는 선물세트와 농산물세트 입...</td>\n",
              "    </tr>\n",
              "    <tr>\n",
              "      <th>395545</th>\n",
              "      <td>517121</td>\n",
              "      <td>2019-02-04</td>\n",
              "      <td>2019-03-06</td>\n",
              "      <td>0</td>\n",
              "      <td>20</td>\n",
              "      <td>정치개혁</td>\n",
              "      <td>청화대,더불어민주당, 당장 답하라,,,,,,</td>\n",
              "      <td>좌파 더불어민주당, 좌파 정권 청화대는 선한 국민들을 더는 기망하지 말고 담장 답하...</td>\n",
              "    </tr>\n",
              "    <tr>\n",
              "      <th>395546</th>\n",
              "      <td>517122</td>\n",
              "      <td>2019-02-04</td>\n",
              "      <td>2019-03-06</td>\n",
              "      <td>0</td>\n",
              "      <td>16</td>\n",
              "      <td>인권/성평등</td>\n",
              "      <td>여성부 폐지</td>\n",
              "      <td>국민들이 원합니다\\n폐지 좀 시키세요;</td>\n",
              "    </tr>\n",
              "  </tbody>\n",
              "</table>\n",
              "</div>"
            ],
            "text/plain": [
              "        article_id      start        end  answered  votes category  \\\n",
              "395542      517117 2019-02-04 2019-03-06         0      3     보건복지   \n",
              "395543      517119 2019-02-04 2019-03-06         0     23     보건복지   \n",
              "395544      517120 2019-02-04 2019-03-06         0      0    안전/환경   \n",
              "395545      517121 2019-02-04 2019-03-06         0     20     정치개혁   \n",
              "395546      517122 2019-02-04 2019-03-06         0     16   인권/성평등   \n",
              "\n",
              "                           title  \\\n",
              "395542            명절연휴 고속도로 무료반대   \n",
              "395543   광주사태 가짜 유공자들 정수기로 걸려내야함   \n",
              "395544                      환경문제   \n",
              "395545  청화대,더불어민주당, 당장 답하라,,,,,,   \n",
              "395546                    여성부 폐지   \n",
              "\n",
              "                                                  content  \n",
              "395542  명절고속도로 무료보단 대다수의 서민들이 이용하는 대중교통 무료와 명절기간 증차로 했...  \n",
              "395543  광주사태 유공자들 차고 넘치는데 이래 많은 유공자들 그냥놓아두면 재앙이다.\\n김대중...  \n",
              "395544  명절이면 후로 제일문제는 쓰레기 문제 입니다.\\n제일문제는 선물세트와 농산물세트 입...  \n",
              "395545  좌파 더불어민주당, 좌파 정권 청화대는 선한 국민들을 더는 기망하지 말고 담장 답하...  \n",
              "395546                              국민들이 원합니다\\n폐지 좀 시키세요;  "
            ]
          },
          "metadata": {
            "tags": []
          },
          "execution_count": 11
        }
      ]
    },
    {
      "cell_type": "code",
      "metadata": {
        "id": "UQPraS5Z52A3",
        "colab_type": "code",
        "colab": {},
        "outputId": "74c1d223-809d-4183-866d-6d4c3b2c8b0b"
      },
      "source": [
        "df.info()"
      ],
      "execution_count": null,
      "outputs": [
        {
          "output_type": "stream",
          "text": [
            "<class 'pandas.core.frame.DataFrame'>\n",
            "RangeIndex: 395547 entries, 0 to 395546\n",
            "Data columns (total 8 columns):\n",
            " #   Column      Non-Null Count   Dtype         \n",
            "---  ------      --------------   -----         \n",
            " 0   article_id  395547 non-null  int64         \n",
            " 1   start       395547 non-null  datetime64[ns]\n",
            " 2   end         395547 non-null  datetime64[ns]\n",
            " 3   answered    395547 non-null  int64         \n",
            " 4   votes       395547 non-null  int64         \n",
            " 5   category    395547 non-null  object        \n",
            " 6   title       395547 non-null  object        \n",
            " 7   content     395546 non-null  object        \n",
            "dtypes: datetime64[ns](2), int64(3), object(3)\n",
            "memory usage: 24.1+ MB\n"
          ],
          "name": "stdout"
        }
      ]
    },
    {
      "cell_type": "code",
      "metadata": {
        "id": "ZL1yIzhX52A5",
        "colab_type": "code",
        "colab": {},
        "outputId": "bacb3395-f6d3-4a4e-f91e-cd23ba2d3bc0"
      },
      "source": [
        "df.isnull().sum()"
      ],
      "execution_count": null,
      "outputs": [
        {
          "output_type": "execute_result",
          "data": {
            "text/plain": [
              "article_id    0\n",
              "start         0\n",
              "end           0\n",
              "answered      0\n",
              "votes         0\n",
              "category      0\n",
              "title         0\n",
              "content       1\n",
              "dtype: int64"
            ]
          },
          "metadata": {
            "tags": []
          },
          "execution_count": 13
        }
      ]
    },
    {
      "cell_type": "code",
      "metadata": {
        "id": "UYk0SVkK52A8",
        "colab_type": "code",
        "colab": {},
        "outputId": "16a2c570-f95b-402b-f688-be9f6848e09b"
      },
      "source": [
        "df.columns"
      ],
      "execution_count": null,
      "outputs": [
        {
          "output_type": "execute_result",
          "data": {
            "text/plain": [
              "Index(['article_id', 'start', 'end', 'answered', 'votes', 'category', 'title',\n",
              "       'content'],\n",
              "      dtype='object')"
            ]
          },
          "metadata": {
            "tags": []
          },
          "execution_count": 17
        }
      ]
    },
    {
      "cell_type": "code",
      "metadata": {
        "id": "buZkRkQG52A_",
        "colab_type": "code",
        "colab": {},
        "outputId": "2468e436-9f1e-40e4-e186-5941511cccfa"
      },
      "source": [
        "df.dtypes"
      ],
      "execution_count": null,
      "outputs": [
        {
          "output_type": "execute_result",
          "data": {
            "text/plain": [
              "article_id             int64\n",
              "start         datetime64[ns]\n",
              "end           datetime64[ns]\n",
              "answered               int64\n",
              "votes                  int64\n",
              "category              object\n",
              "title                 object\n",
              "content               object\n",
              "dtype: object"
            ]
          },
          "metadata": {
            "tags": []
          },
          "execution_count": 18
        }
      ]
    },
    {
      "cell_type": "code",
      "metadata": {
        "scrolled": false,
        "id": "iP74bV8T52BB",
        "colab_type": "code",
        "colab": {},
        "outputId": "0ec50b49-81b2-460f-af63-7c283552ee8a"
      },
      "source": [
        "df.describe()"
      ],
      "execution_count": null,
      "outputs": [
        {
          "output_type": "execute_result",
          "data": {
            "text/html": [
              "<div>\n",
              "<style scoped>\n",
              "    .dataframe tbody tr th:only-of-type {\n",
              "        vertical-align: middle;\n",
              "    }\n",
              "\n",
              "    .dataframe tbody tr th {\n",
              "        vertical-align: top;\n",
              "    }\n",
              "\n",
              "    .dataframe thead th {\n",
              "        text-align: right;\n",
              "    }\n",
              "</style>\n",
              "<table border=\"1\" class=\"dataframe\">\n",
              "  <thead>\n",
              "    <tr style=\"text-align: right;\">\n",
              "      <th></th>\n",
              "      <th>article_id</th>\n",
              "      <th>answered</th>\n",
              "      <th>votes</th>\n",
              "    </tr>\n",
              "  </thead>\n",
              "  <tbody>\n",
              "    <tr>\n",
              "      <th>count</th>\n",
              "      <td>395547.000000</td>\n",
              "      <td>395547.000000</td>\n",
              "      <td>3.955470e+05</td>\n",
              "    </tr>\n",
              "    <tr>\n",
              "      <th>mean</th>\n",
              "      <td>251608.934635</td>\n",
              "      <td>0.000073</td>\n",
              "      <td>1.501188e+02</td>\n",
              "    </tr>\n",
              "    <tr>\n",
              "      <th>std</th>\n",
              "      <td>153219.216242</td>\n",
              "      <td>0.008562</td>\n",
              "      <td>4.802583e+03</td>\n",
              "    </tr>\n",
              "    <tr>\n",
              "      <th>min</th>\n",
              "      <td>21.000000</td>\n",
              "      <td>0.000000</td>\n",
              "      <td>0.000000e+00</td>\n",
              "    </tr>\n",
              "    <tr>\n",
              "      <th>25%</th>\n",
              "      <td>115236.500000</td>\n",
              "      <td>0.000000</td>\n",
              "      <td>2.000000e+00</td>\n",
              "    </tr>\n",
              "    <tr>\n",
              "      <th>50%</th>\n",
              "      <td>253682.000000</td>\n",
              "      <td>0.000000</td>\n",
              "      <td>5.000000e+00</td>\n",
              "    </tr>\n",
              "    <tr>\n",
              "      <th>75%</th>\n",
              "      <td>386137.500000</td>\n",
              "      <td>0.000000</td>\n",
              "      <td>1.500000e+01</td>\n",
              "    </tr>\n",
              "    <tr>\n",
              "      <th>max</th>\n",
              "      <td>517122.000000</td>\n",
              "      <td>1.000000</td>\n",
              "      <td>1.192049e+06</td>\n",
              "    </tr>\n",
              "  </tbody>\n",
              "</table>\n",
              "</div>"
            ],
            "text/plain": [
              "          article_id       answered         votes\n",
              "count  395547.000000  395547.000000  3.955470e+05\n",
              "mean   251608.934635       0.000073  1.501188e+02\n",
              "std    153219.216242       0.008562  4.802583e+03\n",
              "min        21.000000       0.000000  0.000000e+00\n",
              "25%    115236.500000       0.000000  2.000000e+00\n",
              "50%    253682.000000       0.000000  5.000000e+00\n",
              "75%    386137.500000       0.000000  1.500000e+01\n",
              "max    517122.000000       1.000000  1.192049e+06"
            ]
          },
          "metadata": {
            "tags": []
          },
          "execution_count": 20
        }
      ]
    },
    {
      "cell_type": "code",
      "metadata": {
        "id": "fi--9_SP52BD",
        "colab_type": "code",
        "colab": {},
        "outputId": "24f2e5cc-339e-48ff-f8e9-ad6287904091"
      },
      "source": [
        "df.set_option('float_format', '{:f}'.format)       ####### 셋옵션에서 소수점변경"
      ],
      "execution_count": null,
      "outputs": [
        {
          "output_type": "error",
          "ename": "AttributeError",
          "evalue": "'DataFrame' object has no attribute 'set_option'",
          "traceback": [
            "\u001b[1;31m---------------------------------------------------------------------------\u001b[0m",
            "\u001b[1;31mAttributeError\u001b[0m                            Traceback (most recent call last)",
            "\u001b[1;32m<ipython-input-24-fc06c38623fb>\u001b[0m in \u001b[0;36m<module>\u001b[1;34m\u001b[0m\n\u001b[1;32m----> 1\u001b[1;33m \u001b[0mdf\u001b[0m\u001b[1;33m.\u001b[0m\u001b[0mset_option\u001b[0m\u001b[1;33m(\u001b[0m\u001b[1;34m'float_format'\u001b[0m\u001b[1;33m,\u001b[0m \u001b[1;34m'{:f}'\u001b[0m\u001b[1;33m.\u001b[0m\u001b[0mformat\u001b[0m\u001b[1;33m)\u001b[0m       \u001b[1;31m####### 셋옵션에서 소수점변경\u001b[0m\u001b[1;33m\u001b[0m\u001b[1;33m\u001b[0m\u001b[0m\n\u001b[0m",
            "\u001b[1;32mC:\\anaconda3\\lib\\site-packages\\pandas\\core\\generic.py\u001b[0m in \u001b[0;36m__getattr__\u001b[1;34m(self, name)\u001b[0m\n\u001b[0;32m   5272\u001b[0m             \u001b[1;32mif\u001b[0m \u001b[0mself\u001b[0m\u001b[1;33m.\u001b[0m\u001b[0m_info_axis\u001b[0m\u001b[1;33m.\u001b[0m\u001b[0m_can_hold_identifiers_and_holds_name\u001b[0m\u001b[1;33m(\u001b[0m\u001b[0mname\u001b[0m\u001b[1;33m)\u001b[0m\u001b[1;33m:\u001b[0m\u001b[1;33m\u001b[0m\u001b[1;33m\u001b[0m\u001b[0m\n\u001b[0;32m   5273\u001b[0m                 \u001b[1;32mreturn\u001b[0m \u001b[0mself\u001b[0m\u001b[1;33m[\u001b[0m\u001b[0mname\u001b[0m\u001b[1;33m]\u001b[0m\u001b[1;33m\u001b[0m\u001b[1;33m\u001b[0m\u001b[0m\n\u001b[1;32m-> 5274\u001b[1;33m             \u001b[1;32mreturn\u001b[0m \u001b[0mobject\u001b[0m\u001b[1;33m.\u001b[0m\u001b[0m__getattribute__\u001b[0m\u001b[1;33m(\u001b[0m\u001b[0mself\u001b[0m\u001b[1;33m,\u001b[0m \u001b[0mname\u001b[0m\u001b[1;33m)\u001b[0m\u001b[1;33m\u001b[0m\u001b[1;33m\u001b[0m\u001b[0m\n\u001b[0m\u001b[0;32m   5275\u001b[0m \u001b[1;33m\u001b[0m\u001b[0m\n\u001b[0;32m   5276\u001b[0m     \u001b[1;32mdef\u001b[0m \u001b[0m__setattr__\u001b[0m\u001b[1;33m(\u001b[0m\u001b[0mself\u001b[0m\u001b[1;33m,\u001b[0m \u001b[0mname\u001b[0m\u001b[1;33m:\u001b[0m \u001b[0mstr\u001b[0m\u001b[1;33m,\u001b[0m \u001b[0mvalue\u001b[0m\u001b[1;33m)\u001b[0m \u001b[1;33m->\u001b[0m \u001b[1;32mNone\u001b[0m\u001b[1;33m:\u001b[0m\u001b[1;33m\u001b[0m\u001b[1;33m\u001b[0m\u001b[0m\n",
            "\u001b[1;31mAttributeError\u001b[0m: 'DataFrame' object has no attribute 'set_option'"
          ]
        }
      ]
    },
    {
      "cell_type": "code",
      "metadata": {
        "id": "eVB-X9Qi52BF",
        "colab_type": "code",
        "colab": {},
        "outputId": "5d132f1a-e924-49e3-e170-1db23171e265"
      },
      "source": [
        "df.describe(include=np.object)"
      ],
      "execution_count": null,
      "outputs": [
        {
          "output_type": "execute_result",
          "data": {
            "text/html": [
              "<div>\n",
              "<style scoped>\n",
              "    .dataframe tbody tr th:only-of-type {\n",
              "        vertical-align: middle;\n",
              "    }\n",
              "\n",
              "    .dataframe tbody tr th {\n",
              "        vertical-align: top;\n",
              "    }\n",
              "\n",
              "    .dataframe thead th {\n",
              "        text-align: right;\n",
              "    }\n",
              "</style>\n",
              "<table border=\"1\" class=\"dataframe\">\n",
              "  <thead>\n",
              "    <tr style=\"text-align: right;\">\n",
              "      <th></th>\n",
              "      <th>category</th>\n",
              "      <th>title</th>\n",
              "      <th>content</th>\n",
              "    </tr>\n",
              "  </thead>\n",
              "  <tbody>\n",
              "    <tr>\n",
              "      <th>count</th>\n",
              "      <td>395547</td>\n",
              "      <td>395547</td>\n",
              "      <td>395546</td>\n",
              "    </tr>\n",
              "    <tr>\n",
              "      <th>unique</th>\n",
              "      <td>17</td>\n",
              "      <td>346524</td>\n",
              "      <td>375224</td>\n",
              "    </tr>\n",
              "    <tr>\n",
              "      <th>top</th>\n",
              "      <td>정치개혁</td>\n",
              "      <td>이명박 출국금지</td>\n",
              "      <td>이명박 출국금지</td>\n",
              "    </tr>\n",
              "    <tr>\n",
              "      <th>freq</th>\n",
              "      <td>62750</td>\n",
              "      <td>3018</td>\n",
              "      <td>597</td>\n",
              "    </tr>\n",
              "  </tbody>\n",
              "</table>\n",
              "</div>"
            ],
            "text/plain": [
              "       category     title   content\n",
              "count    395547    395547    395546\n",
              "unique       17    346524    375224\n",
              "top        정치개혁  이명박 출국금지  이명박 출국금지\n",
              "freq      62750      3018       597"
            ]
          },
          "metadata": {
            "tags": []
          },
          "execution_count": 26
        }
      ]
    },
    {
      "cell_type": "markdown",
      "metadata": {
        "id": "25JothcI52BI",
        "colab_type": "text"
      },
      "source": [
        "###  답변 대상 청원보기\n",
        "20만건 이상 투표를 받으면 답변 대상 청원이 됩니다\n",
        "20만건 이상 청원받은 내용으로 데이터프레임 만들기;\n",
        "20만건 이상 투표를 받은 청원의 갯수를 세어보세요."
      ]
    },
    {
      "cell_type": "code",
      "metadata": {
        "id": "AK4b06LY52BI",
        "colab_type": "code",
        "colab": {},
        "outputId": "3543456d-56b5-4a1a-e0e3-b602c9e3e74d"
      },
      "source": [
        "df_votes = df['votes'] ; df_votes"
      ],
      "execution_count": null,
      "outputs": [
        {
          "output_type": "execute_result",
          "data": {
            "text/plain": [
              "0          9\n",
              "1         17\n",
              "2          0\n",
              "3         53\n",
              "4          0\n",
              "          ..\n",
              "395542     3\n",
              "395543    23\n",
              "395544     0\n",
              "395545    20\n",
              "395546    16\n",
              "Name: votes, Length: 395547, dtype: int64"
            ]
          },
          "metadata": {
            "tags": []
          },
          "execution_count": 32
        }
      ]
    },
    {
      "cell_type": "code",
      "metadata": {
        "id": "uk0QKLQf52BK",
        "colab_type": "code",
        "colab": {},
        "outputId": "061f48e7-71ea-4b4e-952e-717dac395d8a"
      },
      "source": [
        "df_20 = df[df['votes']> 200000] ; df_20.head(3)"
      ],
      "execution_count": null,
      "outputs": [
        {
          "output_type": "execute_result",
          "data": {
            "text/html": [
              "<div>\n",
              "<style scoped>\n",
              "    .dataframe tbody tr th:only-of-type {\n",
              "        vertical-align: middle;\n",
              "    }\n",
              "\n",
              "    .dataframe tbody tr th {\n",
              "        vertical-align: top;\n",
              "    }\n",
              "\n",
              "    .dataframe thead th {\n",
              "        text-align: right;\n",
              "    }\n",
              "</style>\n",
              "<table border=\"1\" class=\"dataframe\">\n",
              "  <thead>\n",
              "    <tr style=\"text-align: right;\">\n",
              "      <th></th>\n",
              "      <th>article_id</th>\n",
              "      <th>start</th>\n",
              "      <th>end</th>\n",
              "      <th>answered</th>\n",
              "      <th>votes</th>\n",
              "      <th>category</th>\n",
              "      <th>title</th>\n",
              "      <th>content</th>\n",
              "    </tr>\n",
              "  </thead>\n",
              "  <tbody>\n",
              "    <tr>\n",
              "      <th>1752</th>\n",
              "      <td>1785</td>\n",
              "      <td>2017-09-03</td>\n",
              "      <td>2017-11-02</td>\n",
              "      <td>1</td>\n",
              "      <td>296330</td>\n",
              "      <td>인권/성평등</td>\n",
              "      <td>청소년이란 이유로 보호법을 악용하는 잔인무도한 청소년들이 늘어나고있습니다. 반드시 ...</td>\n",
              "      <td>안녕하십니까. 청소년보호법이란 명목하에 나쁜짓을 일삼는 청소년들이 너무나 많아지고 ...</td>\n",
              "    </tr>\n",
              "    <tr>\n",
              "      <th>10894</th>\n",
              "      <td>10949</td>\n",
              "      <td>2017-09-06</td>\n",
              "      <td>2017-12-05</td>\n",
              "      <td>1</td>\n",
              "      <td>615354</td>\n",
              "      <td>미래</td>\n",
              "      <td>조두순 출소반대</td>\n",
              "      <td>제발 조두순 재심다시해서 무기징역으로 해야됩니다!!!</td>\n",
              "    </tr>\n",
              "    <tr>\n",
              "      <th>18111</th>\n",
              "      <td>18278</td>\n",
              "      <td>2017-09-30</td>\n",
              "      <td>2017-10-30</td>\n",
              "      <td>1</td>\n",
              "      <td>235372</td>\n",
              "      <td>인권/성평등</td>\n",
              "      <td>낙태죄 폐지와 자연유산 유도약(미프진) 합법화 및 도입을 부탁드립니다.</td>\n",
              "      <td>안녕하세요. 존경하는 대통령님 의원님\\n낙태죄 폐지를 청원합니다.\\n현재 대한민국은...</td>\n",
              "    </tr>\n",
              "  </tbody>\n",
              "</table>\n",
              "</div>"
            ],
            "text/plain": [
              "       article_id      start        end  answered   votes category  \\\n",
              "1752         1785 2017-09-03 2017-11-02         1  296330   인권/성평등   \n",
              "10894       10949 2017-09-06 2017-12-05         1  615354       미래   \n",
              "18111       18278 2017-09-30 2017-10-30         1  235372   인권/성평등   \n",
              "\n",
              "                                                   title  \\\n",
              "1752   청소년이란 이유로 보호법을 악용하는 잔인무도한 청소년들이 늘어나고있습니다. 반드시 ...   \n",
              "10894                                           조두순 출소반대   \n",
              "18111            낙태죄 폐지와 자연유산 유도약(미프진) 합법화 및 도입을 부탁드립니다.   \n",
              "\n",
              "                                                 content  \n",
              "1752   안녕하십니까. 청소년보호법이란 명목하에 나쁜짓을 일삼는 청소년들이 너무나 많아지고 ...  \n",
              "10894                      제발 조두순 재심다시해서 무기징역으로 해야됩니다!!!  \n",
              "18111  안녕하세요. 존경하는 대통령님 의원님\\n낙태죄 폐지를 청원합니다.\\n현재 대한민국은...  "
            ]
          },
          "metadata": {
            "tags": []
          },
          "execution_count": 36
        }
      ]
    },
    {
      "cell_type": "code",
      "metadata": {
        "id": "18gs7Lmn52BM",
        "colab_type": "code",
        "colab": {},
        "outputId": "ffa2d6ac-68c9-4185-fd42-a020270cd137"
      },
      "source": [
        "df_20.shape"
      ],
      "execution_count": null,
      "outputs": [
        {
          "output_type": "execute_result",
          "data": {
            "text/plain": [
              "(80, 8)"
            ]
          },
          "metadata": {
            "tags": []
          },
          "execution_count": 37
        }
      ]
    },
    {
      "cell_type": "code",
      "metadata": {
        "id": "ROlTGI9m52BQ",
        "colab_type": "code",
        "colab": {},
        "outputId": "d376c2eb-a647-47ac-a09b-fcf0b482553e"
      },
      "source": [
        "len(df_20)"
      ],
      "execution_count": null,
      "outputs": [
        {
          "output_type": "execute_result",
          "data": {
            "text/plain": [
              "80"
            ]
          },
          "metadata": {
            "tags": []
          },
          "execution_count": 38
        }
      ]
    },
    {
      "cell_type": "code",
      "metadata": {
        "id": "DuSKorKY52BS",
        "colab_type": "code",
        "colab": {},
        "outputId": "1921e7bd-edce-477b-a0d7-e57e333cd3e9"
      },
      "source": [
        "df_10 = df[df['votes']>1000] ; df_10.count()"
      ],
      "execution_count": null,
      "outputs": [
        {
          "output_type": "execute_result",
          "data": {
            "text/plain": [
              "article_id    3472\n",
              "start         3472\n",
              "end           3472\n",
              "answered      3472\n",
              "votes         3472\n",
              "category      3472\n",
              "title         3472\n",
              "content       3472\n",
              "dtype: int64"
            ]
          },
          "metadata": {
            "tags": []
          },
          "execution_count": 41
        }
      ]
    },
    {
      "cell_type": "code",
      "metadata": {
        "id": "CLLdHNo852BU",
        "colab_type": "code",
        "colab": {},
        "outputId": "b04ad390-b0a5-4115-9185-ec84ea42ee35"
      },
      "source": [
        "df_20.category"
      ],
      "execution_count": null,
      "outputs": [
        {
          "output_type": "execute_result",
          "data": {
            "text/plain": [
              "1752      인권/성평등\n",
              "10894         미래\n",
              "18111     인권/성평등\n",
              "25032      안전/환경\n",
              "43992       보건복지\n",
              "           ...  \n",
              "363005    인권/성평등\n",
              "375654      정치개혁\n",
              "390787        기타\n",
              "391208    인권/성평등\n",
              "391984      정치개혁\n",
              "Name: category, Length: 80, dtype: object"
            ]
          },
          "metadata": {
            "tags": []
          },
          "execution_count": 44
        }
      ]
    },
    {
      "cell_type": "code",
      "metadata": {
        "id": "NllxXF7e52BW",
        "colab_type": "code",
        "colab": {},
        "outputId": "a74c8219-7577-47e0-981d-81b6a35d3d71"
      },
      "source": [
        "df_20.category.value_counts()"
      ],
      "execution_count": null,
      "outputs": [
        {
          "output_type": "execute_result",
          "data": {
            "text/plain": [
              "인권/성평등         24\n",
              "안전/환경          10\n",
              "기타              8\n",
              "정치개혁            8\n",
              "문화/예술/체육/언론     7\n",
              "반려동물            4\n",
              "외교/통일/국방        4\n",
              "보건복지            3\n",
              "교통/건축/국토        3\n",
              "육아/교육           3\n",
              "성장동력            2\n",
              "경제민주화           2\n",
              "행정              1\n",
              "미래              1\n",
              "Name: category, dtype: int64"
            ]
          },
          "metadata": {
            "tags": []
          },
          "execution_count": 45
        }
      ]
    },
    {
      "cell_type": "code",
      "metadata": {
        "id": "D2R0dGw752BY",
        "colab_type": "code",
        "colab": {},
        "outputId": "080cd793-f16a-4309-e00b-7dbbd6b47e73"
      },
      "source": [
        "df_20[['title','content','votes']]"
      ],
      "execution_count": null,
      "outputs": [
        {
          "output_type": "execute_result",
          "data": {
            "text/html": [
              "<div>\n",
              "<style scoped>\n",
              "    .dataframe tbody tr th:only-of-type {\n",
              "        vertical-align: middle;\n",
              "    }\n",
              "\n",
              "    .dataframe tbody tr th {\n",
              "        vertical-align: top;\n",
              "    }\n",
              "\n",
              "    .dataframe thead th {\n",
              "        text-align: right;\n",
              "    }\n",
              "</style>\n",
              "<table border=\"1\" class=\"dataframe\">\n",
              "  <thead>\n",
              "    <tr style=\"text-align: right;\">\n",
              "      <th></th>\n",
              "      <th>title</th>\n",
              "      <th>content</th>\n",
              "      <th>votes</th>\n",
              "    </tr>\n",
              "  </thead>\n",
              "  <tbody>\n",
              "    <tr>\n",
              "      <th>1752</th>\n",
              "      <td>청소년이란 이유로 보호법을 악용하는 잔인무도한 청소년들이 늘어나고있습니다. 반드시 ...</td>\n",
              "      <td>안녕하십니까. 청소년보호법이란 명목하에 나쁜짓을 일삼는 청소년들이 너무나 많아지고 ...</td>\n",
              "      <td>296330</td>\n",
              "    </tr>\n",
              "    <tr>\n",
              "      <th>10894</th>\n",
              "      <td>조두순 출소반대</td>\n",
              "      <td>제발 조두순 재심다시해서 무기징역으로 해야됩니다!!!</td>\n",
              "      <td>615354</td>\n",
              "    </tr>\n",
              "    <tr>\n",
              "      <th>18111</th>\n",
              "      <td>낙태죄 폐지와 자연유산 유도약(미프진) 합법화 및 도입을 부탁드립니다.</td>\n",
              "      <td>안녕하세요. 존경하는 대통령님 의원님\\n낙태죄 폐지를 청원합니다.\\n현재 대한민국은...</td>\n",
              "      <td>235372</td>\n",
              "    </tr>\n",
              "    <tr>\n",
              "      <th>25032</th>\n",
              "      <td>'주취감형(술을 먹으면 형벌 감형)' 폐지를 건의(청원)합니다.</td>\n",
              "      <td>'주취감형'이란, 술을 먹고 범행을 저지를 때, 심신미약 (이성이 없고 우발적)이라...</td>\n",
              "      <td>216774</td>\n",
              "    </tr>\n",
              "    <tr>\n",
              "      <th>43992</th>\n",
              "      <td>권역외상센터 (이국종 교수님) 추가적, 제도적, 환경적, 인력 지원</td>\n",
              "      <td>청원사항)\\n중증외상분야의 추가적, 제도적, 환경적, 인력 지원 방안마련\\n현 의료...</td>\n",
              "      <td>281985</td>\n",
              "    </tr>\n",
              "    <tr>\n",
              "      <th>...</th>\n",
              "      <td>...</td>\n",
              "      <td>...</td>\n",
              "      <td>...</td>\n",
              "    </tr>\n",
              "    <tr>\n",
              "      <th>363005</th>\n",
              "      <td>조재범 코치를 강력처벌해주세요</td>\n",
              "      <td>그는 국가대표 심석희 외 다수의 여자선수들을 지속적으로 적어도 14년간 폭행해온 쓰...</td>\n",
              "      <td>269110</td>\n",
              "    </tr>\n",
              "    <tr>\n",
              "      <th>375654</th>\n",
              "      <td>여.야는 속히 공수처 신설하라 !!!</td>\n",
              "      <td>지금 대한 민국은 나라를 바로 잡기 위해 반드시 이번 정부내에 검찰과 법원의 확실한...</td>\n",
              "      <td>302856</td>\n",
              "    </tr>\n",
              "    <tr>\n",
              "      <th>390787</th>\n",
              "      <td>경사 ***, 경장 *** 외 ***에서 뇌물받는지 조사부탁드립니다.</td>\n",
              "      <td>경사 ***, 경장 *** 등등 ***에서 뇌물받는지 조사부탁드립니다.\\nㅡㅡㅡㅡㅡ...</td>\n",
              "      <td>312197</td>\n",
              "    </tr>\n",
              "    <tr>\n",
              "      <th>391208</th>\n",
              "      <td>공공연한 여성 대상 약물 범죄 처벌과 ***을 비롯한 클럽, 유흥업소와 경찰 간의 ...</td>\n",
              "      <td>*** 사태의 핵심은 클럽&amp;유흥업소 운영 관리인들의 의도적 약물 사용이 의심되는 납...</td>\n",
              "      <td>207784</td>\n",
              "    </tr>\n",
              "    <tr>\n",
              "      <th>391984</th>\n",
              "      <td>시민의 이름으로, 이번 김경수 지사 재판에 관련된 법원 판사 전원의 사퇴를 명령합니다.</td>\n",
              "      <td>촛불혁명으로 세운 정부와 달리, 사법부는 여전히 과거의 구습과 적폐적 습관을 버리지...</td>\n",
              "      <td>270999</td>\n",
              "    </tr>\n",
              "  </tbody>\n",
              "</table>\n",
              "<p>80 rows × 3 columns</p>\n",
              "</div>"
            ],
            "text/plain": [
              "                                                    title  \\\n",
              "1752    청소년이란 이유로 보호법을 악용하는 잔인무도한 청소년들이 늘어나고있습니다. 반드시 ...   \n",
              "10894                                            조두순 출소반대   \n",
              "18111             낙태죄 폐지와 자연유산 유도약(미프진) 합법화 및 도입을 부탁드립니다.   \n",
              "25032                 '주취감형(술을 먹으면 형벌 감형)' 폐지를 건의(청원)합니다.   \n",
              "43992               권역외상센터 (이국종 교수님) 추가적, 제도적, 환경적, 인력 지원   \n",
              "...                                                   ...   \n",
              "363005                                   조재범 코치를 강력처벌해주세요   \n",
              "375654                               여.야는 속히 공수처 신설하라 !!!   \n",
              "390787             경사 ***, 경장 *** 외 ***에서 뇌물받는지 조사부탁드립니다.   \n",
              "391208  공공연한 여성 대상 약물 범죄 처벌과 ***을 비롯한 클럽, 유흥업소와 경찰 간의 ...   \n",
              "391984   시민의 이름으로, 이번 김경수 지사 재판에 관련된 법원 판사 전원의 사퇴를 명령합니다.   \n",
              "\n",
              "                                                  content   votes  \n",
              "1752    안녕하십니까. 청소년보호법이란 명목하에 나쁜짓을 일삼는 청소년들이 너무나 많아지고 ...  296330  \n",
              "10894                       제발 조두순 재심다시해서 무기징역으로 해야됩니다!!!  615354  \n",
              "18111   안녕하세요. 존경하는 대통령님 의원님\\n낙태죄 폐지를 청원합니다.\\n현재 대한민국은...  235372  \n",
              "25032   '주취감형'이란, 술을 먹고 범행을 저지를 때, 심신미약 (이성이 없고 우발적)이라...  216774  \n",
              "43992   청원사항)\\n중증외상분야의 추가적, 제도적, 환경적, 인력 지원 방안마련\\n현 의료...  281985  \n",
              "...                                                   ...     ...  \n",
              "363005  그는 국가대표 심석희 외 다수의 여자선수들을 지속적으로 적어도 14년간 폭행해온 쓰...  269110  \n",
              "375654  지금 대한 민국은 나라를 바로 잡기 위해 반드시 이번 정부내에 검찰과 법원의 확실한...  302856  \n",
              "390787  경사 ***, 경장 *** 등등 ***에서 뇌물받는지 조사부탁드립니다.\\nㅡㅡㅡㅡㅡ...  312197  \n",
              "391208  *** 사태의 핵심은 클럽&유흥업소 운영 관리인들의 의도적 약물 사용이 의심되는 납...  207784  \n",
              "391984  촛불혁명으로 세운 정부와 달리, 사법부는 여전히 과거의 구습과 적폐적 습관을 버리지...  270999  \n",
              "\n",
              "[80 rows x 3 columns]"
            ]
          },
          "metadata": {
            "tags": []
          },
          "execution_count": 46
        }
      ]
    },
    {
      "cell_type": "code",
      "metadata": {
        "id": "163O87JF52Ba",
        "colab_type": "code",
        "colab": {},
        "outputId": "8e1cf1a2-bb1e-4851-8020-8af9131308b3"
      },
      "source": [
        "df_20.head(5)"
      ],
      "execution_count": null,
      "outputs": [
        {
          "output_type": "execute_result",
          "data": {
            "text/html": [
              "<div>\n",
              "<style scoped>\n",
              "    .dataframe tbody tr th:only-of-type {\n",
              "        vertical-align: middle;\n",
              "    }\n",
              "\n",
              "    .dataframe tbody tr th {\n",
              "        vertical-align: top;\n",
              "    }\n",
              "\n",
              "    .dataframe thead th {\n",
              "        text-align: right;\n",
              "    }\n",
              "</style>\n",
              "<table border=\"1\" class=\"dataframe\">\n",
              "  <thead>\n",
              "    <tr style=\"text-align: right;\">\n",
              "      <th></th>\n",
              "      <th>article_id</th>\n",
              "      <th>start</th>\n",
              "      <th>end</th>\n",
              "      <th>answered</th>\n",
              "      <th>votes</th>\n",
              "      <th>category</th>\n",
              "      <th>title</th>\n",
              "      <th>content</th>\n",
              "    </tr>\n",
              "  </thead>\n",
              "  <tbody>\n",
              "    <tr>\n",
              "      <th>1752</th>\n",
              "      <td>1785</td>\n",
              "      <td>2017-09-03</td>\n",
              "      <td>2017-11-02</td>\n",
              "      <td>1</td>\n",
              "      <td>296330</td>\n",
              "      <td>인권/성평등</td>\n",
              "      <td>청소년이란 이유로 보호법을 악용하는 잔인무도한 청소년들이 늘어나고있습니다. 반드시 ...</td>\n",
              "      <td>안녕하십니까. 청소년보호법이란 명목하에 나쁜짓을 일삼는 청소년들이 너무나 많아지고 ...</td>\n",
              "    </tr>\n",
              "    <tr>\n",
              "      <th>10894</th>\n",
              "      <td>10949</td>\n",
              "      <td>2017-09-06</td>\n",
              "      <td>2017-12-05</td>\n",
              "      <td>1</td>\n",
              "      <td>615354</td>\n",
              "      <td>미래</td>\n",
              "      <td>조두순 출소반대</td>\n",
              "      <td>제발 조두순 재심다시해서 무기징역으로 해야됩니다!!!</td>\n",
              "    </tr>\n",
              "    <tr>\n",
              "      <th>18111</th>\n",
              "      <td>18278</td>\n",
              "      <td>2017-09-30</td>\n",
              "      <td>2017-10-30</td>\n",
              "      <td>1</td>\n",
              "      <td>235372</td>\n",
              "      <td>인권/성평등</td>\n",
              "      <td>낙태죄 폐지와 자연유산 유도약(미프진) 합법화 및 도입을 부탁드립니다.</td>\n",
              "      <td>안녕하세요. 존경하는 대통령님 의원님\\n낙태죄 폐지를 청원합니다.\\n현재 대한민국은...</td>\n",
              "    </tr>\n",
              "    <tr>\n",
              "      <th>25032</th>\n",
              "      <td>26024</td>\n",
              "      <td>2017-11-04</td>\n",
              "      <td>2017-12-04</td>\n",
              "      <td>1</td>\n",
              "      <td>216774</td>\n",
              "      <td>안전/환경</td>\n",
              "      <td>'주취감형(술을 먹으면 형벌 감형)' 폐지를 건의(청원)합니다.</td>\n",
              "      <td>'주취감형'이란, 술을 먹고 범행을 저지를 때, 심신미약 (이성이 없고 우발적)이라...</td>\n",
              "    </tr>\n",
              "    <tr>\n",
              "      <th>43992</th>\n",
              "      <td>45581</td>\n",
              "      <td>2017-11-17</td>\n",
              "      <td>2017-12-17</td>\n",
              "      <td>1</td>\n",
              "      <td>281985</td>\n",
              "      <td>보건복지</td>\n",
              "      <td>권역외상센터 (이국종 교수님) 추가적, 제도적, 환경적, 인력 지원</td>\n",
              "      <td>청원사항)\\n중증외상분야의 추가적, 제도적, 환경적, 인력 지원 방안마련\\n현 의료...</td>\n",
              "    </tr>\n",
              "  </tbody>\n",
              "</table>\n",
              "</div>"
            ],
            "text/plain": [
              "       article_id      start        end  answered   votes category  \\\n",
              "1752         1785 2017-09-03 2017-11-02         1  296330   인권/성평등   \n",
              "10894       10949 2017-09-06 2017-12-05         1  615354       미래   \n",
              "18111       18278 2017-09-30 2017-10-30         1  235372   인권/성평등   \n",
              "25032       26024 2017-11-04 2017-12-04         1  216774    안전/환경   \n",
              "43992       45581 2017-11-17 2017-12-17         1  281985     보건복지   \n",
              "\n",
              "                                                   title  \\\n",
              "1752   청소년이란 이유로 보호법을 악용하는 잔인무도한 청소년들이 늘어나고있습니다. 반드시 ...   \n",
              "10894                                           조두순 출소반대   \n",
              "18111            낙태죄 폐지와 자연유산 유도약(미프진) 합법화 및 도입을 부탁드립니다.   \n",
              "25032                '주취감형(술을 먹으면 형벌 감형)' 폐지를 건의(청원)합니다.   \n",
              "43992              권역외상센터 (이국종 교수님) 추가적, 제도적, 환경적, 인력 지원   \n",
              "\n",
              "                                                 content  \n",
              "1752   안녕하십니까. 청소년보호법이란 명목하에 나쁜짓을 일삼는 청소년들이 너무나 많아지고 ...  \n",
              "10894                      제발 조두순 재심다시해서 무기징역으로 해야됩니다!!!  \n",
              "18111  안녕하세요. 존경하는 대통령님 의원님\\n낙태죄 폐지를 청원합니다.\\n현재 대한민국은...  \n",
              "25032  '주취감형'이란, 술을 먹고 범행을 저지를 때, 심신미약 (이성이 없고 우발적)이라...  \n",
              "43992  청원사항)\\n중증외상분야의 추가적, 제도적, 환경적, 인력 지원 방안마련\\n현 의료...  "
            ]
          },
          "metadata": {
            "tags": []
          },
          "execution_count": 47
        }
      ]
    },
    {
      "cell_type": "code",
      "metadata": {
        "id": "MYC7xvlD52Bc",
        "colab_type": "code",
        "colab": {},
        "outputId": "81d52c64-c619-4e7f-e2a9-e65b9bde49c2"
      },
      "source": [
        "df_20 = df[df.votes> 200000]\n",
        "df_20.sort_values(by='votes', ascending=False).head(5)"
      ],
      "execution_count": null,
      "outputs": [
        {
          "output_type": "execute_result",
          "data": {
            "text/html": [
              "<div>\n",
              "<style scoped>\n",
              "    .dataframe tbody tr th:only-of-type {\n",
              "        vertical-align: middle;\n",
              "    }\n",
              "\n",
              "    .dataframe tbody tr th {\n",
              "        vertical-align: top;\n",
              "    }\n",
              "\n",
              "    .dataframe thead th {\n",
              "        text-align: right;\n",
              "    }\n",
              "</style>\n",
              "<table border=\"1\" class=\"dataframe\">\n",
              "  <thead>\n",
              "    <tr style=\"text-align: right;\">\n",
              "      <th></th>\n",
              "      <th>article_id</th>\n",
              "      <th>start</th>\n",
              "      <th>end</th>\n",
              "      <th>answered</th>\n",
              "      <th>votes</th>\n",
              "      <th>category</th>\n",
              "      <th>title</th>\n",
              "      <th>content</th>\n",
              "    </tr>\n",
              "  </thead>\n",
              "  <tbody>\n",
              "    <tr>\n",
              "      <th>313314</th>\n",
              "      <td>408609</td>\n",
              "      <td>2018-10-17</td>\n",
              "      <td>2018-11-16</td>\n",
              "      <td>0</td>\n",
              "      <td>1192049</td>\n",
              "      <td>안전/환경</td>\n",
              "      <td>강서구 피시방 살인 사건. 또 심신미약 피의자입니다.</td>\n",
              "      <td>2018년 10월 14일 엊그제 일어난 강서구 피시방 살인사건에 대한 청원입니다.\\...</td>\n",
              "    </tr>\n",
              "    <tr>\n",
              "      <th>208597</th>\n",
              "      <td>269548</td>\n",
              "      <td>2018-06-13</td>\n",
              "      <td>2018-07-13</td>\n",
              "      <td>0</td>\n",
              "      <td>714875</td>\n",
              "      <td>외교/통일/국방</td>\n",
              "      <td>제주도 불법 난민 신청 문제에 따른 난민법, 무사증 입국, 난민신청허가 폐지/개헌 ...</td>\n",
              "      <td>2012년 난민법 제정으로 인해 외국인은 한달 무비자로 입국할 수 있으나 난민신청자...</td>\n",
              "    </tr>\n",
              "    <tr>\n",
              "      <th>10894</th>\n",
              "      <td>10949</td>\n",
              "      <td>2017-09-06</td>\n",
              "      <td>2017-12-05</td>\n",
              "      <td>1</td>\n",
              "      <td>615354</td>\n",
              "      <td>미래</td>\n",
              "      <td>조두순 출소반대</td>\n",
              "      <td>제발 조두순 재심다시해서 무기징역으로 해야됩니다!!!</td>\n",
              "    </tr>\n",
              "    <tr>\n",
              "      <th>118970</th>\n",
              "      <td>142600</td>\n",
              "      <td>2018-02-19</td>\n",
              "      <td>2018-03-21</td>\n",
              "      <td>1</td>\n",
              "      <td>614127</td>\n",
              "      <td>문화/예술/체육/언론</td>\n",
              "      <td>김보름, 박지우 선수의 자격박탈과 적폐 빙상연맹의 엄중 처벌을 청원합니다</td>\n",
              "      <td>오늘 여자 단체전 팀추월에서 김보름, 박지우 선수는 팀전인데도 불구하고 개인의 영달...</td>\n",
              "    </tr>\n",
              "    <tr>\n",
              "      <th>183791</th>\n",
              "      <td>230552</td>\n",
              "      <td>2018-05-11</td>\n",
              "      <td>2018-06-10</td>\n",
              "      <td>1</td>\n",
              "      <td>419006</td>\n",
              "      <td>인권/성평등</td>\n",
              "      <td>여성도 대한민국 국민입니다. 성별 관계없는 국가의 보호를 요청합니다.</td>\n",
              "      <td>최근 홍대 누드크로키 모델의 불법촬영 사건이 있었습니다.\\n사건은 굉장히 빠르게 처...</td>\n",
              "    </tr>\n",
              "  </tbody>\n",
              "</table>\n",
              "</div>"
            ],
            "text/plain": [
              "        article_id      start        end  answered    votes     category  \\\n",
              "313314      408609 2018-10-17 2018-11-16         0  1192049        안전/환경   \n",
              "208597      269548 2018-06-13 2018-07-13         0   714875     외교/통일/국방   \n",
              "10894        10949 2017-09-06 2017-12-05         1   615354           미래   \n",
              "118970      142600 2018-02-19 2018-03-21         1   614127  문화/예술/체육/언론   \n",
              "183791      230552 2018-05-11 2018-06-10         1   419006       인권/성평등   \n",
              "\n",
              "                                                    title  \\\n",
              "313314                      강서구 피시방 살인 사건. 또 심신미약 피의자입니다.   \n",
              "208597  제주도 불법 난민 신청 문제에 따른 난민법, 무사증 입국, 난민신청허가 폐지/개헌 ...   \n",
              "10894                                            조두순 출소반대   \n",
              "118970           김보름, 박지우 선수의 자격박탈과 적폐 빙상연맹의 엄중 처벌을 청원합니다   \n",
              "183791             여성도 대한민국 국민입니다. 성별 관계없는 국가의 보호를 요청합니다.   \n",
              "\n",
              "                                                  content  \n",
              "313314  2018년 10월 14일 엊그제 일어난 강서구 피시방 살인사건에 대한 청원입니다.\\...  \n",
              "208597  2012년 난민법 제정으로 인해 외국인은 한달 무비자로 입국할 수 있으나 난민신청자...  \n",
              "10894                       제발 조두순 재심다시해서 무기징역으로 해야됩니다!!!  \n",
              "118970  오늘 여자 단체전 팀추월에서 김보름, 박지우 선수는 팀전인데도 불구하고 개인의 영달...  \n",
              "183791  최근 홍대 누드크로키 모델의 불법촬영 사건이 있었습니다.\\n사건은 굉장히 빠르게 처...  "
            ]
          },
          "metadata": {
            "tags": []
          },
          "execution_count": 49
        }
      ]
    },
    {
      "cell_type": "markdown",
      "metadata": {
        "id": "JtIXU8gh52Bf",
        "colab_type": "text"
      },
      "source": [
        "### 20만건 이상 투표를 받은 청원을 별도의 컬럼을 만들어 줍니다. 컬럼 이름은 answer로 합니다."
      ]
    },
    {
      "cell_type": "code",
      "metadata": {
        "scrolled": true,
        "id": "VycUnwS752Bf",
        "colab_type": "code",
        "colab": {},
        "outputId": "e5914352-6d41-4d86-e2ec-b054877c4d47"
      },
      "source": [
        "df['answer'] = df['votes'] >200000 ; df.head()"
      ],
      "execution_count": null,
      "outputs": [
        {
          "output_type": "execute_result",
          "data": {
            "text/html": [
              "<div>\n",
              "<style scoped>\n",
              "    .dataframe tbody tr th:only-of-type {\n",
              "        vertical-align: middle;\n",
              "    }\n",
              "\n",
              "    .dataframe tbody tr th {\n",
              "        vertical-align: top;\n",
              "    }\n",
              "\n",
              "    .dataframe thead th {\n",
              "        text-align: right;\n",
              "    }\n",
              "</style>\n",
              "<table border=\"1\" class=\"dataframe\">\n",
              "  <thead>\n",
              "    <tr style=\"text-align: right;\">\n",
              "      <th></th>\n",
              "      <th>article_id</th>\n",
              "      <th>start</th>\n",
              "      <th>end</th>\n",
              "      <th>answered</th>\n",
              "      <th>votes</th>\n",
              "      <th>category</th>\n",
              "      <th>title</th>\n",
              "      <th>content</th>\n",
              "      <th>answer</th>\n",
              "    </tr>\n",
              "  </thead>\n",
              "  <tbody>\n",
              "    <tr>\n",
              "      <th>0</th>\n",
              "      <td>21</td>\n",
              "      <td>2017-08-19</td>\n",
              "      <td>2017-11-17</td>\n",
              "      <td>0</td>\n",
              "      <td>9</td>\n",
              "      <td>안전/환경</td>\n",
              "      <td>스텔라 데이지호에 대한 제안입니다.</td>\n",
              "      <td>스텔라 데이지호에 대한 제안입니다.\\n3월31일 스텔라 데이지호가 침몰하고 5달째가...</td>\n",
              "      <td>False</td>\n",
              "    </tr>\n",
              "    <tr>\n",
              "      <th>1</th>\n",
              "      <td>22</td>\n",
              "      <td>2017-08-19</td>\n",
              "      <td>2017-11-17</td>\n",
              "      <td>0</td>\n",
              "      <td>17</td>\n",
              "      <td>기타</td>\n",
              "      <td>비리제보처를 만들어주세요.</td>\n",
              "      <td>현 정부에 국민들이 가장 원하는 것은 부패척결입니다.  우리 사회에 각종 비리들이 ...</td>\n",
              "      <td>False</td>\n",
              "    </tr>\n",
              "    <tr>\n",
              "      <th>2</th>\n",
              "      <td>23</td>\n",
              "      <td>2017-08-19</td>\n",
              "      <td>2017-09-03</td>\n",
              "      <td>0</td>\n",
              "      <td>0</td>\n",
              "      <td>미래</td>\n",
              "      <td>제2의 개성공단</td>\n",
              "      <td>만일 하시는 대통령님 및 각 부처 장관님,주무관님들 안녕하세요!!\\n전남 목포에서 ...</td>\n",
              "      <td>False</td>\n",
              "    </tr>\n",
              "    <tr>\n",
              "      <th>3</th>\n",
              "      <td>24</td>\n",
              "      <td>2017-08-19</td>\n",
              "      <td>2017-08-26</td>\n",
              "      <td>0</td>\n",
              "      <td>53</td>\n",
              "      <td>일자리</td>\n",
              "      <td>공공기관 무조건적인 정규직전환을 반대합니다.</td>\n",
              "      <td>현정부에서 정규직 일자리를 늘리는 것에 찬성합니다. 그런데 공공기관 비정규직들은 인...</td>\n",
              "      <td>False</td>\n",
              "    </tr>\n",
              "    <tr>\n",
              "      <th>4</th>\n",
              "      <td>25</td>\n",
              "      <td>2017-08-19</td>\n",
              "      <td>2017-09-03</td>\n",
              "      <td>0</td>\n",
              "      <td>0</td>\n",
              "      <td>미래</td>\n",
              "      <td>제2의 개성공단</td>\n",
              "      <td>만일 하시는 대통령님 및 각 부처 장관님,주무관님들 안녕하세요!!\\n전남 목포에서 ...</td>\n",
              "      <td>False</td>\n",
              "    </tr>\n",
              "  </tbody>\n",
              "</table>\n",
              "</div>"
            ],
            "text/plain": [
              "   article_id      start        end  answered  votes category  \\\n",
              "0          21 2017-08-19 2017-11-17         0      9    안전/환경   \n",
              "1          22 2017-08-19 2017-11-17         0     17       기타   \n",
              "2          23 2017-08-19 2017-09-03         0      0       미래   \n",
              "3          24 2017-08-19 2017-08-26         0     53      일자리   \n",
              "4          25 2017-08-19 2017-09-03         0      0       미래   \n",
              "\n",
              "                      title  \\\n",
              "0       스텔라 데이지호에 대한 제안입니다.   \n",
              "1            비리제보처를 만들어주세요.   \n",
              "2                  제2의 개성공단   \n",
              "3  공공기관 무조건적인 정규직전환을 반대합니다.   \n",
              "4                  제2의 개성공단   \n",
              "\n",
              "                                             content  answer  \n",
              "0  스텔라 데이지호에 대한 제안입니다.\\n3월31일 스텔라 데이지호가 침몰하고 5달째가...   False  \n",
              "1  현 정부에 국민들이 가장 원하는 것은 부패척결입니다.  우리 사회에 각종 비리들이 ...   False  \n",
              "2  만일 하시는 대통령님 및 각 부처 장관님,주무관님들 안녕하세요!!\\n전남 목포에서 ...   False  \n",
              "3  현정부에서 정규직 일자리를 늘리는 것에 찬성합니다. 그런데 공공기관 비정규직들은 인...   False  \n",
              "4  만일 하시는 대통령님 및 각 부처 장관님,주무관님들 안녕하세요!!\\n전남 목포에서 ...   False  "
            ]
          },
          "metadata": {
            "tags": []
          },
          "execution_count": 54
        }
      ]
    },
    {
      "cell_type": "code",
      "metadata": {
        "id": "vCvMh3D952Bh",
        "colab_type": "code",
        "colab": {},
        "outputId": "ad6fb9e1-337a-42d0-c2e6-e88de17e89af"
      },
      "source": [
        "df.shape"
      ],
      "execution_count": null,
      "outputs": [
        {
          "output_type": "execute_result",
          "data": {
            "text/plain": [
              "(395547, 9)"
            ]
          },
          "metadata": {
            "tags": []
          },
          "execution_count": 55
        }
      ]
    },
    {
      "cell_type": "code",
      "metadata": {
        "id": "F8gs4dBX52Bj",
        "colab_type": "code",
        "colab": {},
        "outputId": "ecb07a64-3b5a-4758-d17e-58cc9a99ca32"
      },
      "source": [
        "df.info()"
      ],
      "execution_count": null,
      "outputs": [
        {
          "output_type": "stream",
          "text": [
            "<class 'pandas.core.frame.DataFrame'>\n",
            "RangeIndex: 395547 entries, 0 to 395546\n",
            "Data columns (total 9 columns):\n",
            " #   Column      Non-Null Count   Dtype         \n",
            "---  ------      --------------   -----         \n",
            " 0   article_id  395547 non-null  int64         \n",
            " 1   start       395547 non-null  datetime64[ns]\n",
            " 2   end         395547 non-null  datetime64[ns]\n",
            " 3   answered    395547 non-null  int64         \n",
            " 4   votes       395547 non-null  int64         \n",
            " 5   category    395547 non-null  object        \n",
            " 6   title       395547 non-null  object        \n",
            " 7   content     395546 non-null  object        \n",
            " 8   answer      395547 non-null  bool          \n",
            "dtypes: bool(1), datetime64[ns](2), int64(3), object(3)\n",
            "memory usage: 24.5+ MB\n"
          ],
          "name": "stdout"
        }
      ]
    },
    {
      "cell_type": "markdown",
      "metadata": {
        "id": "ZXryM4Cg52Bl",
        "colab_type": "text"
      },
      "source": [
        " ### 8번 bool 타입을 int타입으로 바꿔보자"
      ]
    },
    {
      "cell_type": "code",
      "metadata": {
        "id": "FDu-2GOs52Bm",
        "colab_type": "code",
        "colab": {},
        "outputId": "7570b457-24d7-459c-d5dd-8d33633d1200"
      },
      "source": [
        "df['answer']= df['answer'].astype('int')\n",
        "df.dtypes"
      ],
      "execution_count": null,
      "outputs": [
        {
          "output_type": "execute_result",
          "data": {
            "text/plain": [
              "article_id             int64\n",
              "start         datetime64[ns]\n",
              "end           datetime64[ns]\n",
              "answered               int64\n",
              "votes                  int64\n",
              "category              object\n",
              "title                 object\n",
              "content               object\n",
              "answer                 int32\n",
              "dtype: object"
            ]
          },
          "metadata": {
            "tags": []
          },
          "execution_count": 58
        }
      ]
    },
    {
      "cell_type": "markdown",
      "metadata": {
        "id": "N45ijNce52Bo",
        "colab_type": "text"
      },
      "source": [
        "### 답변대상 청원 중 아직 답변되지 않은 청원의 수를 계산해보시오. 답변됨1 답변안됨0"
      ]
    },
    {
      "cell_type": "code",
      "metadata": {
        "id": "ObA426pZ52Bo",
        "colab_type": "code",
        "colab": {},
        "outputId": "389f3f01-5d22-457d-bf35-2044a958e7ff"
      },
      "source": [
        "df_asw = df_20.loc[df['answered']==0] ; df_asw"
      ],
      "execution_count": null,
      "outputs": [
        {
          "output_type": "execute_result",
          "data": {
            "text/html": [
              "<div>\n",
              "<style scoped>\n",
              "    .dataframe tbody tr th:only-of-type {\n",
              "        vertical-align: middle;\n",
              "    }\n",
              "\n",
              "    .dataframe tbody tr th {\n",
              "        vertical-align: top;\n",
              "    }\n",
              "\n",
              "    .dataframe thead th {\n",
              "        text-align: right;\n",
              "    }\n",
              "</style>\n",
              "<table border=\"1\" class=\"dataframe\">\n",
              "  <thead>\n",
              "    <tr style=\"text-align: right;\">\n",
              "      <th></th>\n",
              "      <th>article_id</th>\n",
              "      <th>start</th>\n",
              "      <th>end</th>\n",
              "      <th>answered</th>\n",
              "      <th>votes</th>\n",
              "      <th>category</th>\n",
              "      <th>title</th>\n",
              "      <th>content</th>\n",
              "    </tr>\n",
              "  </thead>\n",
              "  <tbody>\n",
              "    <tr>\n",
              "      <th>137035</th>\n",
              "      <td>164255</td>\n",
              "      <td>2018-03-12</td>\n",
              "      <td>2018-04-11</td>\n",
              "      <td>0</td>\n",
              "      <td>216886</td>\n",
              "      <td>기타</td>\n",
              "      <td>GMO완전표시제 시행을 촉구합니다!</td>\n",
              "      <td>우리나라는 안전성 논란이 계속되고 있는 식용 GMO를 연간 200만 톤 이상 수입합...</td>\n",
              "    </tr>\n",
              "    <tr>\n",
              "      <th>138242</th>\n",
              "      <td>165796</td>\n",
              "      <td>2018-03-13</td>\n",
              "      <td>2018-04-12</td>\n",
              "      <td>0</td>\n",
              "      <td>304320</td>\n",
              "      <td>정치개혁</td>\n",
              "      <td>국민들은 정부 개헌안을 지지합니다. 정부의 개헌을 꼭 실현시켜 주십시오.</td>\n",
              "      <td>공약은 중요한 것입니다.\\n국민과의 약속입니다.\\n대통령님은 공약을 이행해주십시오....</td>\n",
              "    </tr>\n",
              "    <tr>\n",
              "      <th>144223</th>\n",
              "      <td>173355</td>\n",
              "      <td>2018-03-23</td>\n",
              "      <td>2018-04-22</td>\n",
              "      <td>0</td>\n",
              "      <td>209494</td>\n",
              "      <td>안전/환경</td>\n",
              "      <td>위장•몰래카메라 판매금지와 몰카범죄 처벌을 강화해주세요.</td>\n",
              "      <td>2012년 전국의 몰카범죄는 2400건 2015년에 들어 3배 이상 증가해 무려 7...</td>\n",
              "    </tr>\n",
              "    <tr>\n",
              "      <th>144874</th>\n",
              "      <td>174292</td>\n",
              "      <td>2018-03-24</td>\n",
              "      <td>2018-04-23</td>\n",
              "      <td>0</td>\n",
              "      <td>278128</td>\n",
              "      <td>안전/환경</td>\n",
              "      <td>미세먼지의 위험 그리고 오염 및 중국에대한 항의</td>\n",
              "      <td>미세먼지가 10년전에 비해 상당히 자주 몰려오고있습니다.\\n언론에서도 중국발이라고 ...</td>\n",
              "    </tr>\n",
              "    <tr>\n",
              "      <th>148359</th>\n",
              "      <td>178781</td>\n",
              "      <td>2018-03-28</td>\n",
              "      <td>2018-04-27</td>\n",
              "      <td>0</td>\n",
              "      <td>215036</td>\n",
              "      <td>안전/환경</td>\n",
              "      <td>세월호 관련 청문회 위증한 조여옥대위 징계바랍니다.</td>\n",
              "      <td>세월호 관련해서 그 동안 거짓으로 감추고 숨겨왔던 사실들이 조금씩 드러나고 있습니다...</td>\n",
              "    </tr>\n",
              "    <tr>\n",
              "      <th>154986</th>\n",
              "      <td>187633</td>\n",
              "      <td>2018-04-06</td>\n",
              "      <td>2018-05-06</td>\n",
              "      <td>0</td>\n",
              "      <td>242286</td>\n",
              "      <td>경제민주화</td>\n",
              "      <td>삼성증권 시스템 규제와 공매도 금지</td>\n",
              "      <td>우리사주 280만주에 배당 주당 1000원 하기로 하고 현금배당 28억원이 나가야될...</td>\n",
              "    </tr>\n",
              "    <tr>\n",
              "      <th>161851</th>\n",
              "      <td>199622</td>\n",
              "      <td>2018-04-14</td>\n",
              "      <td>2018-05-14</td>\n",
              "      <td>0</td>\n",
              "      <td>236714</td>\n",
              "      <td>문화/예술/체육/언론</td>\n",
              "      <td>티비 조선의  종편 허가 취소 청원</td>\n",
              "      <td>과거부터 현재진행형으로 허위, 과장, 날조 보도를 일삼고\\n국민의 알권리를 호도하는...</td>\n",
              "    </tr>\n",
              "    <tr>\n",
              "      <th>161950</th>\n",
              "      <td>199778</td>\n",
              "      <td>2018-04-15</td>\n",
              "      <td>2018-05-15</td>\n",
              "      <td>0</td>\n",
              "      <td>216163</td>\n",
              "      <td>기타</td>\n",
              "      <td>어른들에게 성적 학대와 조롱을 당하고 있는 아이들을 구해주세요.</td>\n",
              "      <td>4월 1일 새벽 2시 경, 구글 서칭 중 불법 야동 사이트(https://y****...</td>\n",
              "    </tr>\n",
              "    <tr>\n",
              "      <th>163363</th>\n",
              "      <td>201953</td>\n",
              "      <td>2018-04-16</td>\n",
              "      <td>2018-05-16</td>\n",
              "      <td>0</td>\n",
              "      <td>260624</td>\n",
              "      <td>정치개혁</td>\n",
              "      <td>선관위의 위법사항 내용에 따른 국회의원 전원 위법사실 여부 전수조사를 청원합니다.</td>\n",
              "      <td>이미 청와대가 선관위에 질의사항으로 접수한\\n김기식 금융감독원장의 정치자금법 위반 ...</td>\n",
              "    </tr>\n",
              "    <tr>\n",
              "      <th>175768</th>\n",
              "      <td>219348</td>\n",
              "      <td>2018-05-02</td>\n",
              "      <td>2018-06-01</td>\n",
              "      <td>0</td>\n",
              "      <td>334173</td>\n",
              "      <td>기타</td>\n",
              "      <td>(한번씩만 봐주세요.)저의 일은 아니지만 이런 일은 좀 강력 처벌 강력하게 조치 해...</td>\n",
              "      <td>일단 저의 일은 아니지만 저의 가족,친구,지인이 이런일을 당하면 정말 안되겠다고 생...</td>\n",
              "    </tr>\n",
              "    <tr>\n",
              "      <th>184529</th>\n",
              "      <td>231701</td>\n",
              "      <td>2018-05-13</td>\n",
              "      <td>2018-06-12</td>\n",
              "      <td>0</td>\n",
              "      <td>226252</td>\n",
              "      <td>반려동물</td>\n",
              "      <td>유기견 보호소 폐지를 막아주세요!!!</td>\n",
              "      <td>대구 팔공산에 위치한 한나네 유기견 보호소를 도와주세요!!!\\n대구 팔공산 한나네 ...</td>\n",
              "    </tr>\n",
              "    <tr>\n",
              "      <th>187991</th>\n",
              "      <td>236397</td>\n",
              "      <td>2018-05-18</td>\n",
              "      <td>2018-06-17</td>\n",
              "      <td>0</td>\n",
              "      <td>302635</td>\n",
              "      <td>외교/통일/국방</td>\n",
              "      <td>자주포 폭발사고로 전신화상을 입은 장병을 치료해 주시고 국가유공자로 지정해 주십시오</td>\n",
              "      <td>작년 8월 철원에서 발생한 K-9 자주포 폭발 사고로 이찬호 병장은 전신 화상을 입...</td>\n",
              "    </tr>\n",
              "    <tr>\n",
              "      <th>192426</th>\n",
              "      <td>242950</td>\n",
              "      <td>2018-05-25</td>\n",
              "      <td>2018-06-24</td>\n",
              "      <td>0</td>\n",
              "      <td>224539</td>\n",
              "      <td>기타</td>\n",
              "      <td>문재인 대통령님께 청원합니다.</td>\n",
              "      <td>문재인 대통령님\\n헌법개정안 실패, 풍계리 폭파, 북미정상회담 중지 등 오늘 하루만...</td>\n",
              "    </tr>\n",
              "    <tr>\n",
              "      <th>193251</th>\n",
              "      <td>244045</td>\n",
              "      <td>2018-05-25</td>\n",
              "      <td>2018-06-24</td>\n",
              "      <td>0</td>\n",
              "      <td>240618</td>\n",
              "      <td>인권/성평등</td>\n",
              "      <td>무고죄 특별법의 제정을 촉구합니다.</td>\n",
              "      <td>최근 위계/권력에 의한 성범죄에 저항하기 위한 미투운동이 일부에 의하여 심각하게 변...</td>\n",
              "    </tr>\n",
              "    <tr>\n",
              "      <th>194822</th>\n",
              "      <td>246489</td>\n",
              "      <td>2018-05-28</td>\n",
              "      <td>2018-06-27</td>\n",
              "      <td>0</td>\n",
              "      <td>217143</td>\n",
              "      <td>인권/성평등</td>\n",
              "      <td>대검찰청의 불법적인 성폭력 수사메뉴얼  중단을 요청합니다.</td>\n",
              "      <td>오늘 뉴스를 보니 대검찰청의 황당한 수사메뉴얼 개정안을 보게되었습니다.\\n\"성폭력을...</td>\n",
              "    </tr>\n",
              "    <tr>\n",
              "      <th>208597</th>\n",
              "      <td>269548</td>\n",
              "      <td>2018-06-13</td>\n",
              "      <td>2018-07-13</td>\n",
              "      <td>0</td>\n",
              "      <td>714875</td>\n",
              "      <td>외교/통일/국방</td>\n",
              "      <td>제주도 불법 난민 신청 문제에 따른 난민법, 무사증 입국, 난민신청허가 폐지/개헌 ...</td>\n",
              "      <td>2012년 난민법 제정으로 인해 외국인은 한달 무비자로 입국할 수 있으나 난민신청자...</td>\n",
              "    </tr>\n",
              "    <tr>\n",
              "      <th>211110</th>\n",
              "      <td>272632</td>\n",
              "      <td>2018-06-17</td>\n",
              "      <td>2018-07-17</td>\n",
              "      <td>0</td>\n",
              "      <td>214634</td>\n",
              "      <td>반려동물</td>\n",
              "      <td>개.고양이 식용종식 전동연(개를 가축에서 제외하라)</td>\n",
              "      <td>대통령께 청원을 올리기에 앞서,\\n소중한 생명으로 태어나 감금틀에서 극한 고통을 받...</td>\n",
              "    </tr>\n",
              "    <tr>\n",
              "      <th>211483</th>\n",
              "      <td>273112</td>\n",
              "      <td>2018-06-17</td>\n",
              "      <td>2018-07-17</td>\n",
              "      <td>0</td>\n",
              "      <td>207275</td>\n",
              "      <td>외교/통일/국방</td>\n",
              "      <td>남편선교사가 안티폴로감옥에 있습니다. (필리핀)</td>\n",
              "      <td>저는 기독교대한성결교회 파송 배순영선교사입니다.\\n남편(백영모선교사)과 저는 필리핀...</td>\n",
              "    </tr>\n",
              "    <tr>\n",
              "      <th>217468</th>\n",
              "      <td>281200</td>\n",
              "      <td>2018-06-24</td>\n",
              "      <td>2018-07-24</td>\n",
              "      <td>0</td>\n",
              "      <td>212424</td>\n",
              "      <td>반려동물</td>\n",
              "      <td>표창원 의원의 개, 고양이 도살 금지 법안을 통과 시켜주세요!</td>\n",
              "      <td>2018. 6.20 일 표창원 의원은 대한민국에서 역사적인 동물보호법 개정안을 발의...</td>\n",
              "    </tr>\n",
              "    <tr>\n",
              "      <th>218365</th>\n",
              "      <td>282903</td>\n",
              "      <td>2018-06-24</td>\n",
              "      <td>2018-07-24</td>\n",
              "      <td>0</td>\n",
              "      <td>354935</td>\n",
              "      <td>기타</td>\n",
              "      <td>가해자들은 떳떳이 생활하고, 집단 성폭행 당한 피해자인 저희아이는 오히려 더 죄인같...</td>\n",
              "      <td>저는 15살 여중생을 둔 엄마입니다.\\n2018년 3월 저희 아이는 2000년생 남...</td>\n",
              "    </tr>\n",
              "    <tr>\n",
              "      <th>219857</th>\n",
              "      <td>284845</td>\n",
              "      <td>2018-06-26</td>\n",
              "      <td>2018-07-26</td>\n",
              "      <td>0</td>\n",
              "      <td>211296</td>\n",
              "      <td>문화/예술/체육/언론</td>\n",
              "      <td>디스패치 폐간을 요청합니다</td>\n",
              "      <td>디스패치 폐간을 요청합니다.\\n연예계 언론에 굉장히 큰 영향을 끼치고 있는 이 디스...</td>\n",
              "    </tr>\n",
              "    <tr>\n",
              "      <th>227227</th>\n",
              "      <td>294226</td>\n",
              "      <td>2018-07-03</td>\n",
              "      <td>2018-08-02</td>\n",
              "      <td>0</td>\n",
              "      <td>208202</td>\n",
              "      <td>인권/성평등</td>\n",
              "      <td>여고생이  중고생8명에게 관악산끌려가 집단폭행을당했습니다  소년법폐지또는 개정청원합니다</td>\n",
              "      <td>서울에서 여고생이 관악산에끌려가 집단폭행을당했습니다\\n안녕하세요 티비에서만 나오던 ...</td>\n",
              "    </tr>\n",
              "    <tr>\n",
              "      <th>242969</th>\n",
              "      <td>314584</td>\n",
              "      <td>2018-07-22</td>\n",
              "      <td>2018-08-21</td>\n",
              "      <td>0</td>\n",
              "      <td>413924</td>\n",
              "      <td>육아/교육</td>\n",
              "      <td>23개월 아기가 폭행에 장이 끊어져 죽었습니다.</td>\n",
              "      <td>고생하시는 청와대 관계자 및 대통령님.\\n이 글을 꼭 한번만 읽어주세요.\\n너무나 ...</td>\n",
              "    </tr>\n",
              "    <tr>\n",
              "      <th>248925</th>\n",
              "      <td>322420</td>\n",
              "      <td>2018-07-29</td>\n",
              "      <td>2018-08-28</td>\n",
              "      <td>0</td>\n",
              "      <td>208543</td>\n",
              "      <td>인권/성평등</td>\n",
              "      <td>웹하드 카르텔과 디지털성범죄 산업에 대해 특별 수사를 요구한다.</td>\n",
              "      <td>- 정부는 7월 28일 '그것이 알고싶다' 방송으로 드러난 웹하드 카르텔을 수사하라...</td>\n",
              "    </tr>\n",
              "    <tr>\n",
              "      <th>284574</th>\n",
              "      <td>369690</td>\n",
              "      <td>2018-09-06</td>\n",
              "      <td>2018-10-06</td>\n",
              "      <td>0</td>\n",
              "      <td>330587</td>\n",
              "      <td>인권/성평등</td>\n",
              "      <td>제 남편의 억울함을 풀어주세요!</td>\n",
              "      <td>제 남편이 어제 재판에서 징역6개월을 받고 그 자리에서 법정구속 되었습니다\\n어제 ...</td>\n",
              "    </tr>\n",
              "    <tr>\n",
              "      <th>295554</th>\n",
              "      <td>384676</td>\n",
              "      <td>2018-09-19</td>\n",
              "      <td>2018-10-19</td>\n",
              "      <td>0</td>\n",
              "      <td>234236</td>\n",
              "      <td>기타</td>\n",
              "      <td>인천 여중생 자살 가해자 강력 처벌 희망 요망</td>\n",
              "      <td>저의 사랑스럽고 하나뿐인 동생에게\\n인천 여중생 자살관련하여 궁금한이야기 y에도 방...</td>\n",
              "    </tr>\n",
              "    <tr>\n",
              "      <th>305378</th>\n",
              "      <td>398030</td>\n",
              "      <td>2018-10-04</td>\n",
              "      <td>2018-11-03</td>\n",
              "      <td>0</td>\n",
              "      <td>257471</td>\n",
              "      <td>인권/성평등</td>\n",
              "      <td>성범죄피해자의 집주소와 주민번호등을 가해자에게 보내는 법원을 막아주세요</td>\n",
              "      <td>안녕하세요 저는 24살 95년생 여성입니다.\\n2015년도에 준강간을 당해서 고소를...</td>\n",
              "    </tr>\n",
              "    <tr>\n",
              "      <th>312931</th>\n",
              "      <td>408154</td>\n",
              "      <td>2018-10-16</td>\n",
              "      <td>2018-11-15</td>\n",
              "      <td>0</td>\n",
              "      <td>216448</td>\n",
              "      <td>교통/건축/국토</td>\n",
              "      <td>카풀반대</td>\n",
              "      <td>불법카풀을 허용을 반대합니다.\\n수십년간 길바닦을 일터로 생계유지를 위해 고생하신\\...</td>\n",
              "    </tr>\n",
              "    <tr>\n",
              "      <th>313314</th>\n",
              "      <td>408609</td>\n",
              "      <td>2018-10-17</td>\n",
              "      <td>2018-11-16</td>\n",
              "      <td>0</td>\n",
              "      <td>1192049</td>\n",
              "      <td>안전/환경</td>\n",
              "      <td>강서구 피시방 살인 사건. 또 심신미약 피의자입니다.</td>\n",
              "      <td>2018년 10월 14일 엊그제 일어난 강서구 피시방 살인사건에 대한 청원입니다.\\...</td>\n",
              "    </tr>\n",
              "    <tr>\n",
              "      <th>314764</th>\n",
              "      <td>410447</td>\n",
              "      <td>2018-10-18</td>\n",
              "      <td>2018-11-17</td>\n",
              "      <td>0</td>\n",
              "      <td>214952</td>\n",
              "      <td>보건복지</td>\n",
              "      <td>경남양산시 모 산부인과 의료사고 입니다. 제발 도와주세요 (산모의 남편입니다)</td>\n",
              "      <td>저는 산모의 남편이며 사망한 신생아의 아빠입니다. 사고당사자인 산모는 38세입니다....</td>\n",
              "    </tr>\n",
              "    <tr>\n",
              "      <th>314823</th>\n",
              "      <td>410524</td>\n",
              "      <td>2018-10-18</td>\n",
              "      <td>2018-11-17</td>\n",
              "      <td>0</td>\n",
              "      <td>216834</td>\n",
              "      <td>안전/환경</td>\n",
              "      <td>심신미약 피의자에 의해 죽게된 우리 딸 억울하지 않게 해주세요</td>\n",
              "      <td>저는 억울하게 죽게된 딸의 아빠입니다. 너무 억울해서 이렇게나마 글을 올립니다.\\n...</td>\n",
              "    </tr>\n",
              "    <tr>\n",
              "      <th>315634</th>\n",
              "      <td>411485</td>\n",
              "      <td>2018-10-19</td>\n",
              "      <td>2018-11-18</td>\n",
              "      <td>0</td>\n",
              "      <td>233495</td>\n",
              "      <td>문화/예술/체육/언론</td>\n",
              "      <td>더 이스트라이트 폭행</td>\n",
              "      <td>대한민국의 국민으로서 너무 화가나네요.\\n평균 연령 15살인 더 이스트라이트는 소속...</td>\n",
              "    </tr>\n",
              "    <tr>\n",
              "      <th>316569</th>\n",
              "      <td>412722</td>\n",
              "      <td>2018-10-20</td>\n",
              "      <td>2018-11-19</td>\n",
              "      <td>0</td>\n",
              "      <td>261418</td>\n",
              "      <td>인권/성평등</td>\n",
              "      <td>조두순의 출소를 반대합니다</td>\n",
              "      <td>제 얘기를 하기에 앞서 요즘 페이스북이라는 sns에서 화제가 되고 있는 글을 하나 ...</td>\n",
              "    </tr>\n",
              "    <tr>\n",
              "      <th>318234</th>\n",
              "      <td>414891</td>\n",
              "      <td>2018-10-22</td>\n",
              "      <td>2018-11-21</td>\n",
              "      <td>0</td>\n",
              "      <td>256004</td>\n",
              "      <td>인권/성평등</td>\n",
              "      <td>5년 전 여성의 질과 항문에 팔을 넣어 사망에 이르게 한 사건의 재조사를 요구합니다</td>\n",
              "      <td>[ 1 ]\\n본 사건은 2013년 38세 남성이 직장 내 동료인 38세 여성과 퇴근...</td>\n",
              "    </tr>\n",
              "    <tr>\n",
              "      <th>320034</th>\n",
              "      <td>417147</td>\n",
              "      <td>2018-10-23</td>\n",
              "      <td>2018-11-22</td>\n",
              "      <td>0</td>\n",
              "      <td>214306</td>\n",
              "      <td>안전/환경</td>\n",
              "      <td>강서구 아파트 살인사건 피해차의 딸입니다.</td>\n",
              "      <td>18년 10월22일 강서구 등촌동 47세 여성 살인사건의 주범 저희아빠는 절대 심신...</td>\n",
              "    </tr>\n",
              "    <tr>\n",
              "      <th>321042</th>\n",
              "      <td>418376</td>\n",
              "      <td>2018-10-24</td>\n",
              "      <td>2018-11-23</td>\n",
              "      <td>0</td>\n",
              "      <td>211546</td>\n",
              "      <td>정치개혁</td>\n",
              "      <td>소년법 개정을 촉구 합니다!  17살 조카가 자살을 했습니다</td>\n",
              "      <td>https://pann.nate.com/talk/343936115\\n저는 지난 8월...</td>\n",
              "    </tr>\n",
              "    <tr>\n",
              "      <th>327507</th>\n",
              "      <td>426349</td>\n",
              "      <td>2018-10-31</td>\n",
              "      <td>2018-11-30</td>\n",
              "      <td>0</td>\n",
              "      <td>211766</td>\n",
              "      <td>안전/환경</td>\n",
              "      <td>제발 도와주세요.. 너무나 사랑하는 23살 예쁜딸이 잔인한 두번의 살인행위로 차디찬...</td>\n",
              "      <td>국민 여러분 제발 도와주세요.\\n너무 사랑하는 23살 이쁜 딸이 꽃다운 나이에 억울...</td>\n",
              "    </tr>\n",
              "    <tr>\n",
              "      <th>327873</th>\n",
              "      <td>426834</td>\n",
              "      <td>2018-10-31</td>\n",
              "      <td>2018-11-30</td>\n",
              "      <td>0</td>\n",
              "      <td>416093</td>\n",
              "      <td>인권/성평등</td>\n",
              "      <td>132cm, 31kg의 왜소한 50대 여성이 180cm가 넘는 건장한 20세 남성에...</td>\n",
              "      <td>http://m.news1.kr/articles/?3464603\\n관련 기사입니다....</td>\n",
              "    </tr>\n",
              "    <tr>\n",
              "      <th>335887</th>\n",
              "      <td>436901</td>\n",
              "      <td>2018-11-09</td>\n",
              "      <td>2018-12-09</td>\n",
              "      <td>0</td>\n",
              "      <td>206447</td>\n",
              "      <td>인권/성평등</td>\n",
              "      <td>부하 여군을 강간한 두 명의 해군 간부를 처벌해주십시오.</td>\n",
              "      <td>2010년 9월경 해군 중위가 직속상관에게 상습적 강간과 강제 추행을 당한 사건이 ...</td>\n",
              "    </tr>\n",
              "    <tr>\n",
              "      <th>336559</th>\n",
              "      <td>437737</td>\n",
              "      <td>2018-11-09</td>\n",
              "      <td>2018-12-09</td>\n",
              "      <td>0</td>\n",
              "      <td>397079</td>\n",
              "      <td>인권/성평등</td>\n",
              "      <td>억울하게 떠나신 저의 아버지의 원한을 풀어주세요</td>\n",
              "      <td>46일동안 눈 한번 뜨시지 못한 채 11월 6일 새벽 4시에 저의 아버지가 억울하게...</td>\n",
              "    </tr>\n",
              "    <tr>\n",
              "      <th>340046</th>\n",
              "      <td>442093</td>\n",
              "      <td>2018-11-14</td>\n",
              "      <td>2018-12-14</td>\n",
              "      <td>0</td>\n",
              "      <td>365418</td>\n",
              "      <td>인권/성평등</td>\n",
              "      <td>이수역 폭행사건</td>\n",
              "      <td>11월 13일 새벽4시 경 이수역의 한 맥주집에서 남자 다섯명이 여성 두 명을 폭행...</td>\n",
              "    </tr>\n",
              "    <tr>\n",
              "      <th>343587</th>\n",
              "      <td>446686</td>\n",
              "      <td>2018-11-19</td>\n",
              "      <td>2018-12-19</td>\n",
              "      <td>0</td>\n",
              "      <td>202548</td>\n",
              "      <td>인권/성평등</td>\n",
              "      <td>경찰은 ‘일베 여친, 전여친 몰카사건’을 철저히 수사해서 범죄자들 처벌하라</td>\n",
              "      <td>2018년 11월 18일 ‘일간 베스트’ 사이트에 여친인증, 전여친인증 등의제목의 ...</td>\n",
              "    </tr>\n",
              "    <tr>\n",
              "      <th>345700</th>\n",
              "      <td>449519</td>\n",
              "      <td>2018-11-22</td>\n",
              "      <td>2018-12-22</td>\n",
              "      <td>0</td>\n",
              "      <td>216615</td>\n",
              "      <td>안전/환경</td>\n",
              "      <td>중국 알루미늄공장,막아주세요</td>\n",
              "      <td>안녕하세요 대통령님,\\n광양시에서 살아가고있는 시민입니다\\n광양시에 중국기업이 알루...</td>\n",
              "    </tr>\n",
              "    <tr>\n",
              "      <th>349254</th>\n",
              "      <td>454045</td>\n",
              "      <td>2018-11-27</td>\n",
              "      <td>2018-12-27</td>\n",
              "      <td>0</td>\n",
              "      <td>214251</td>\n",
              "      <td>반려동물</td>\n",
              "      <td>도살장에서 망치로 머리를 맞던 개가 잠시 튀어나가 옆에있는 자신의 새끼에게 젖물리며...</td>\n",
              "      <td>아래의 링크를 봐주세요\\n사람과 똑같이 자신의 자식을 귀히여기고 사람과 똑같이 죽는...</td>\n",
              "    </tr>\n",
              "    <tr>\n",
              "      <th>355362</th>\n",
              "      <td>462340</td>\n",
              "      <td>2018-12-06</td>\n",
              "      <td>2019-01-05</td>\n",
              "      <td>0</td>\n",
              "      <td>221317</td>\n",
              "      <td>육아/교육</td>\n",
              "      <td>짐승보다 못한 위탁모 에게 굶기고 맞아죽은 15개월된 저희딸 얘기좀 들어주세요....</td>\n",
              "      <td>짐승 같은 위탁모(김모씨) 에게 맞아 죽은 15개월 된 저희 딸 서원이가 억울하게 ...</td>\n",
              "    </tr>\n",
              "    <tr>\n",
              "      <th>355595</th>\n",
              "      <td>462623</td>\n",
              "      <td>2018-12-07</td>\n",
              "      <td>2019-01-06</td>\n",
              "      <td>0</td>\n",
              "      <td>243938</td>\n",
              "      <td>정치개혁</td>\n",
              "      <td>국회의원 내년 연봉 2000만원 인상 추진..최저임금 인상률보다 높은 14%.. 셀...</td>\n",
              "      <td>국회의원 내년 연봉 2000만원 인상 추진..최저임금 인상률보다 높은 14%로 인상...</td>\n",
              "    </tr>\n",
              "    <tr>\n",
              "      <th>363005</th>\n",
              "      <td>472309</td>\n",
              "      <td>2018-12-18</td>\n",
              "      <td>2019-01-17</td>\n",
              "      <td>0</td>\n",
              "      <td>269110</td>\n",
              "      <td>인권/성평등</td>\n",
              "      <td>조재범 코치를 강력처벌해주세요</td>\n",
              "      <td>그는 국가대표 심석희 외 다수의 여자선수들을 지속적으로 적어도 14년간 폭행해온 쓰...</td>\n",
              "    </tr>\n",
              "    <tr>\n",
              "      <th>375654</th>\n",
              "      <td>489302</td>\n",
              "      <td>2019-01-07</td>\n",
              "      <td>2019-02-06</td>\n",
              "      <td>0</td>\n",
              "      <td>302856</td>\n",
              "      <td>정치개혁</td>\n",
              "      <td>여.야는 속히 공수처 신설하라 !!!</td>\n",
              "      <td>지금 대한 민국은 나라를 바로 잡기 위해 반드시 이번 정부내에 검찰과 법원의 확실한...</td>\n",
              "    </tr>\n",
              "    <tr>\n",
              "      <th>390787</th>\n",
              "      <td>510422</td>\n",
              "      <td>2019-01-29</td>\n",
              "      <td>2019-02-28</td>\n",
              "      <td>0</td>\n",
              "      <td>312197</td>\n",
              "      <td>기타</td>\n",
              "      <td>경사 ***, 경장 *** 외 ***에서 뇌물받는지 조사부탁드립니다.</td>\n",
              "      <td>경사 ***, 경장 *** 등등 ***에서 뇌물받는지 조사부탁드립니다.\\nㅡㅡㅡㅡㅡ...</td>\n",
              "    </tr>\n",
              "    <tr>\n",
              "      <th>391208</th>\n",
              "      <td>511075</td>\n",
              "      <td>2019-01-29</td>\n",
              "      <td>2019-02-28</td>\n",
              "      <td>0</td>\n",
              "      <td>207784</td>\n",
              "      <td>인권/성평등</td>\n",
              "      <td>공공연한 여성 대상 약물 범죄 처벌과 ***을 비롯한 클럽, 유흥업소와 경찰 간의 ...</td>\n",
              "      <td>*** 사태의 핵심은 클럽&amp;유흥업소 운영 관리인들의 의도적 약물 사용이 의심되는 납...</td>\n",
              "    </tr>\n",
              "    <tr>\n",
              "      <th>391984</th>\n",
              "      <td>512112</td>\n",
              "      <td>2019-01-30</td>\n",
              "      <td>2019-03-01</td>\n",
              "      <td>0</td>\n",
              "      <td>270999</td>\n",
              "      <td>정치개혁</td>\n",
              "      <td>시민의 이름으로, 이번 김경수 지사 재판에 관련된 법원 판사 전원의 사퇴를 명령합니다.</td>\n",
              "      <td>촛불혁명으로 세운 정부와 달리, 사법부는 여전히 과거의 구습과 적폐적 습관을 버리지...</td>\n",
              "    </tr>\n",
              "  </tbody>\n",
              "</table>\n",
              "</div>"
            ],
            "text/plain": [
              "        article_id      start        end  answered    votes     category  \\\n",
              "137035      164255 2018-03-12 2018-04-11         0   216886           기타   \n",
              "138242      165796 2018-03-13 2018-04-12         0   304320         정치개혁   \n",
              "144223      173355 2018-03-23 2018-04-22         0   209494        안전/환경   \n",
              "144874      174292 2018-03-24 2018-04-23         0   278128        안전/환경   \n",
              "148359      178781 2018-03-28 2018-04-27         0   215036        안전/환경   \n",
              "154986      187633 2018-04-06 2018-05-06         0   242286        경제민주화   \n",
              "161851      199622 2018-04-14 2018-05-14         0   236714  문화/예술/체육/언론   \n",
              "161950      199778 2018-04-15 2018-05-15         0   216163           기타   \n",
              "163363      201953 2018-04-16 2018-05-16         0   260624         정치개혁   \n",
              "175768      219348 2018-05-02 2018-06-01         0   334173           기타   \n",
              "184529      231701 2018-05-13 2018-06-12         0   226252         반려동물   \n",
              "187991      236397 2018-05-18 2018-06-17         0   302635     외교/통일/국방   \n",
              "192426      242950 2018-05-25 2018-06-24         0   224539           기타   \n",
              "193251      244045 2018-05-25 2018-06-24         0   240618       인권/성평등   \n",
              "194822      246489 2018-05-28 2018-06-27         0   217143       인권/성평등   \n",
              "208597      269548 2018-06-13 2018-07-13         0   714875     외교/통일/국방   \n",
              "211110      272632 2018-06-17 2018-07-17         0   214634         반려동물   \n",
              "211483      273112 2018-06-17 2018-07-17         0   207275     외교/통일/국방   \n",
              "217468      281200 2018-06-24 2018-07-24         0   212424         반려동물   \n",
              "218365      282903 2018-06-24 2018-07-24         0   354935           기타   \n",
              "219857      284845 2018-06-26 2018-07-26         0   211296  문화/예술/체육/언론   \n",
              "227227      294226 2018-07-03 2018-08-02         0   208202       인권/성평등   \n",
              "242969      314584 2018-07-22 2018-08-21         0   413924        육아/교육   \n",
              "248925      322420 2018-07-29 2018-08-28         0   208543       인권/성평등   \n",
              "284574      369690 2018-09-06 2018-10-06         0   330587       인권/성평등   \n",
              "295554      384676 2018-09-19 2018-10-19         0   234236           기타   \n",
              "305378      398030 2018-10-04 2018-11-03         0   257471       인권/성평등   \n",
              "312931      408154 2018-10-16 2018-11-15         0   216448     교통/건축/국토   \n",
              "313314      408609 2018-10-17 2018-11-16         0  1192049        안전/환경   \n",
              "314764      410447 2018-10-18 2018-11-17         0   214952         보건복지   \n",
              "314823      410524 2018-10-18 2018-11-17         0   216834        안전/환경   \n",
              "315634      411485 2018-10-19 2018-11-18         0   233495  문화/예술/체육/언론   \n",
              "316569      412722 2018-10-20 2018-11-19         0   261418       인권/성평등   \n",
              "318234      414891 2018-10-22 2018-11-21         0   256004       인권/성평등   \n",
              "320034      417147 2018-10-23 2018-11-22         0   214306        안전/환경   \n",
              "321042      418376 2018-10-24 2018-11-23         0   211546         정치개혁   \n",
              "327507      426349 2018-10-31 2018-11-30         0   211766        안전/환경   \n",
              "327873      426834 2018-10-31 2018-11-30         0   416093       인권/성평등   \n",
              "335887      436901 2018-11-09 2018-12-09         0   206447       인권/성평등   \n",
              "336559      437737 2018-11-09 2018-12-09         0   397079       인권/성평등   \n",
              "340046      442093 2018-11-14 2018-12-14         0   365418       인권/성평등   \n",
              "343587      446686 2018-11-19 2018-12-19         0   202548       인권/성평등   \n",
              "345700      449519 2018-11-22 2018-12-22         0   216615        안전/환경   \n",
              "349254      454045 2018-11-27 2018-12-27         0   214251         반려동물   \n",
              "355362      462340 2018-12-06 2019-01-05         0   221317        육아/교육   \n",
              "355595      462623 2018-12-07 2019-01-06         0   243938         정치개혁   \n",
              "363005      472309 2018-12-18 2019-01-17         0   269110       인권/성평등   \n",
              "375654      489302 2019-01-07 2019-02-06         0   302856         정치개혁   \n",
              "390787      510422 2019-01-29 2019-02-28         0   312197           기타   \n",
              "391208      511075 2019-01-29 2019-02-28         0   207784       인권/성평등   \n",
              "391984      512112 2019-01-30 2019-03-01         0   270999         정치개혁   \n",
              "\n",
              "                                                    title  \\\n",
              "137035                                GMO완전표시제 시행을 촉구합니다!   \n",
              "138242           국민들은 정부 개헌안을 지지합니다. 정부의 개헌을 꼭 실현시켜 주십시오.   \n",
              "144223                    위장•몰래카메라 판매금지와 몰카범죄 처벌을 강화해주세요.   \n",
              "144874                         미세먼지의 위험 그리고 오염 및 중국에대한 항의   \n",
              "148359                       세월호 관련 청문회 위증한 조여옥대위 징계바랍니다.   \n",
              "154986                                삼성증권 시스템 규제와 공매도 금지   \n",
              "161851                                티비 조선의  종편 허가 취소 청원   \n",
              "161950                어른들에게 성적 학대와 조롱을 당하고 있는 아이들을 구해주세요.   \n",
              "163363      선관위의 위법사항 내용에 따른 국회의원 전원 위법사실 여부 전수조사를 청원합니다.   \n",
              "175768  (한번씩만 봐주세요.)저의 일은 아니지만 이런 일은 좀 강력 처벌 강력하게 조치 해...   \n",
              "184529                               유기견 보호소 폐지를 막아주세요!!!   \n",
              "187991     자주포 폭발사고로 전신화상을 입은 장병을 치료해 주시고 국가유공자로 지정해 주십시오   \n",
              "192426                                   문재인 대통령님께 청원합니다.   \n",
              "193251                                무고죄 특별법의 제정을 촉구합니다.   \n",
              "194822                   대검찰청의 불법적인 성폭력 수사메뉴얼  중단을 요청합니다.   \n",
              "208597  제주도 불법 난민 신청 문제에 따른 난민법, 무사증 입국, 난민신청허가 폐지/개헌 ...   \n",
              "211110                       개.고양이 식용종식 전동연(개를 가축에서 제외하라)   \n",
              "211483                         남편선교사가 안티폴로감옥에 있습니다. (필리핀)   \n",
              "217468                 표창원 의원의 개, 고양이 도살 금지 법안을 통과 시켜주세요!   \n",
              "218365  가해자들은 떳떳이 생활하고, 집단 성폭행 당한 피해자인 저희아이는 오히려 더 죄인같...   \n",
              "219857                                     디스패치 폐간을 요청합니다   \n",
              "227227   여고생이  중고생8명에게 관악산끌려가 집단폭행을당했습니다  소년법폐지또는 개정청원합니다   \n",
              "242969                         23개월 아기가 폭행에 장이 끊어져 죽었습니다.   \n",
              "248925                웹하드 카르텔과 디지털성범죄 산업에 대해 특별 수사를 요구한다.   \n",
              "284574                                  제 남편의 억울함을 풀어주세요!   \n",
              "295554                          인천 여중생 자살 가해자 강력 처벌 희망 요망   \n",
              "305378            성범죄피해자의 집주소와 주민번호등을 가해자에게 보내는 법원을 막아주세요   \n",
              "312931                                               카풀반대   \n",
              "313314                      강서구 피시방 살인 사건. 또 심신미약 피의자입니다.   \n",
              "314764        경남양산시 모 산부인과 의료사고 입니다. 제발 도와주세요 (산모의 남편입니다)   \n",
              "314823                 심신미약 피의자에 의해 죽게된 우리 딸 억울하지 않게 해주세요   \n",
              "315634                                        더 이스트라이트 폭행   \n",
              "316569                                     조두순의 출소를 반대합니다   \n",
              "318234     5년 전 여성의 질과 항문에 팔을 넣어 사망에 이르게 한 사건의 재조사를 요구합니다   \n",
              "320034                            강서구 아파트 살인사건 피해차의 딸입니다.   \n",
              "321042                  소년법 개정을 촉구 합니다!  17살 조카가 자살을 했습니다   \n",
              "327507  제발 도와주세요.. 너무나 사랑하는 23살 예쁜딸이 잔인한 두번의 살인행위로 차디찬...   \n",
              "327873  132cm, 31kg의 왜소한 50대 여성이 180cm가 넘는 건장한 20세 남성에...   \n",
              "335887                    부하 여군을 강간한 두 명의 해군 간부를 처벌해주십시오.   \n",
              "336559                         억울하게 떠나신 저의 아버지의 원한을 풀어주세요   \n",
              "340046                                           이수역 폭행사건   \n",
              "343587          경찰은 ‘일베 여친, 전여친 몰카사건’을 철저히 수사해서 범죄자들 처벌하라   \n",
              "345700                                    중국 알루미늄공장,막아주세요   \n",
              "349254  도살장에서 망치로 머리를 맞던 개가 잠시 튀어나가 옆에있는 자신의 새끼에게 젖물리며...   \n",
              "355362    짐승보다 못한 위탁모 에게 굶기고 맞아죽은 15개월된 저희딸 얘기좀 들어주세요....   \n",
              "355595  국회의원 내년 연봉 2000만원 인상 추진..최저임금 인상률보다 높은 14%.. 셀...   \n",
              "363005                                   조재범 코치를 강력처벌해주세요   \n",
              "375654                               여.야는 속히 공수처 신설하라 !!!   \n",
              "390787             경사 ***, 경장 *** 외 ***에서 뇌물받는지 조사부탁드립니다.   \n",
              "391208  공공연한 여성 대상 약물 범죄 처벌과 ***을 비롯한 클럽, 유흥업소와 경찰 간의 ...   \n",
              "391984   시민의 이름으로, 이번 김경수 지사 재판에 관련된 법원 판사 전원의 사퇴를 명령합니다.   \n",
              "\n",
              "                                                  content  \n",
              "137035  우리나라는 안전성 논란이 계속되고 있는 식용 GMO를 연간 200만 톤 이상 수입합...  \n",
              "138242  공약은 중요한 것입니다.\\n국민과의 약속입니다.\\n대통령님은 공약을 이행해주십시오....  \n",
              "144223  2012년 전국의 몰카범죄는 2400건 2015년에 들어 3배 이상 증가해 무려 7...  \n",
              "144874  미세먼지가 10년전에 비해 상당히 자주 몰려오고있습니다.\\n언론에서도 중국발이라고 ...  \n",
              "148359  세월호 관련해서 그 동안 거짓으로 감추고 숨겨왔던 사실들이 조금씩 드러나고 있습니다...  \n",
              "154986  우리사주 280만주에 배당 주당 1000원 하기로 하고 현금배당 28억원이 나가야될...  \n",
              "161851  과거부터 현재진행형으로 허위, 과장, 날조 보도를 일삼고\\n국민의 알권리를 호도하는...  \n",
              "161950  4월 1일 새벽 2시 경, 구글 서칭 중 불법 야동 사이트(https://y****...  \n",
              "163363  이미 청와대가 선관위에 질의사항으로 접수한\\n김기식 금융감독원장의 정치자금법 위반 ...  \n",
              "175768  일단 저의 일은 아니지만 저의 가족,친구,지인이 이런일을 당하면 정말 안되겠다고 생...  \n",
              "184529  대구 팔공산에 위치한 한나네 유기견 보호소를 도와주세요!!!\\n대구 팔공산 한나네 ...  \n",
              "187991  작년 8월 철원에서 발생한 K-9 자주포 폭발 사고로 이찬호 병장은 전신 화상을 입...  \n",
              "192426  문재인 대통령님\\n헌법개정안 실패, 풍계리 폭파, 북미정상회담 중지 등 오늘 하루만...  \n",
              "193251  최근 위계/권력에 의한 성범죄에 저항하기 위한 미투운동이 일부에 의하여 심각하게 변...  \n",
              "194822  오늘 뉴스를 보니 대검찰청의 황당한 수사메뉴얼 개정안을 보게되었습니다.\\n\"성폭력을...  \n",
              "208597  2012년 난민법 제정으로 인해 외국인은 한달 무비자로 입국할 수 있으나 난민신청자...  \n",
              "211110  대통령께 청원을 올리기에 앞서,\\n소중한 생명으로 태어나 감금틀에서 극한 고통을 받...  \n",
              "211483  저는 기독교대한성결교회 파송 배순영선교사입니다.\\n남편(백영모선교사)과 저는 필리핀...  \n",
              "217468  2018. 6.20 일 표창원 의원은 대한민국에서 역사적인 동물보호법 개정안을 발의...  \n",
              "218365  저는 15살 여중생을 둔 엄마입니다.\\n2018년 3월 저희 아이는 2000년생 남...  \n",
              "219857  디스패치 폐간을 요청합니다.\\n연예계 언론에 굉장히 큰 영향을 끼치고 있는 이 디스...  \n",
              "227227  서울에서 여고생이 관악산에끌려가 집단폭행을당했습니다\\n안녕하세요 티비에서만 나오던 ...  \n",
              "242969  고생하시는 청와대 관계자 및 대통령님.\\n이 글을 꼭 한번만 읽어주세요.\\n너무나 ...  \n",
              "248925  - 정부는 7월 28일 '그것이 알고싶다' 방송으로 드러난 웹하드 카르텔을 수사하라...  \n",
              "284574  제 남편이 어제 재판에서 징역6개월을 받고 그 자리에서 법정구속 되었습니다\\n어제 ...  \n",
              "295554  저의 사랑스럽고 하나뿐인 동생에게\\n인천 여중생 자살관련하여 궁금한이야기 y에도 방...  \n",
              "305378  안녕하세요 저는 24살 95년생 여성입니다.\\n2015년도에 준강간을 당해서 고소를...  \n",
              "312931  불법카풀을 허용을 반대합니다.\\n수십년간 길바닦을 일터로 생계유지를 위해 고생하신\\...  \n",
              "313314  2018년 10월 14일 엊그제 일어난 강서구 피시방 살인사건에 대한 청원입니다.\\...  \n",
              "314764  저는 산모의 남편이며 사망한 신생아의 아빠입니다. 사고당사자인 산모는 38세입니다....  \n",
              "314823  저는 억울하게 죽게된 딸의 아빠입니다. 너무 억울해서 이렇게나마 글을 올립니다.\\n...  \n",
              "315634  대한민국의 국민으로서 너무 화가나네요.\\n평균 연령 15살인 더 이스트라이트는 소속...  \n",
              "316569  제 얘기를 하기에 앞서 요즘 페이스북이라는 sns에서 화제가 되고 있는 글을 하나 ...  \n",
              "318234  [ 1 ]\\n본 사건은 2013년 38세 남성이 직장 내 동료인 38세 여성과 퇴근...  \n",
              "320034  18년 10월22일 강서구 등촌동 47세 여성 살인사건의 주범 저희아빠는 절대 심신...  \n",
              "321042  https://pann.nate.com/talk/343936115\\n저는 지난 8월...  \n",
              "327507  국민 여러분 제발 도와주세요.\\n너무 사랑하는 23살 이쁜 딸이 꽃다운 나이에 억울...  \n",
              "327873  http://m.news1.kr/articles/?3464603\\n관련 기사입니다....  \n",
              "335887  2010년 9월경 해군 중위가 직속상관에게 상습적 강간과 강제 추행을 당한 사건이 ...  \n",
              "336559  46일동안 눈 한번 뜨시지 못한 채 11월 6일 새벽 4시에 저의 아버지가 억울하게...  \n",
              "340046  11월 13일 새벽4시 경 이수역의 한 맥주집에서 남자 다섯명이 여성 두 명을 폭행...  \n",
              "343587  2018년 11월 18일 ‘일간 베스트’ 사이트에 여친인증, 전여친인증 등의제목의 ...  \n",
              "345700  안녕하세요 대통령님,\\n광양시에서 살아가고있는 시민입니다\\n광양시에 중국기업이 알루...  \n",
              "349254  아래의 링크를 봐주세요\\n사람과 똑같이 자신의 자식을 귀히여기고 사람과 똑같이 죽는...  \n",
              "355362  짐승 같은 위탁모(김모씨) 에게 맞아 죽은 15개월 된 저희 딸 서원이가 억울하게 ...  \n",
              "355595  국회의원 내년 연봉 2000만원 인상 추진..최저임금 인상률보다 높은 14%로 인상...  \n",
              "363005  그는 국가대표 심석희 외 다수의 여자선수들을 지속적으로 적어도 14년간 폭행해온 쓰...  \n",
              "375654  지금 대한 민국은 나라를 바로 잡기 위해 반드시 이번 정부내에 검찰과 법원의 확실한...  \n",
              "390787  경사 ***, 경장 *** 등등 ***에서 뇌물받는지 조사부탁드립니다.\\nㅡㅡㅡㅡㅡ...  \n",
              "391208  *** 사태의 핵심은 클럽&유흥업소 운영 관리인들의 의도적 약물 사용이 의심되는 납...  \n",
              "391984  촛불혁명으로 세운 정부와 달리, 사법부는 여전히 과거의 구습과 적폐적 습관을 버리지...  "
            ]
          },
          "metadata": {
            "tags": []
          },
          "execution_count": 78
        }
      ]
    },
    {
      "cell_type": "code",
      "metadata": {
        "id": "Kzn6ENoa52Bq",
        "colab_type": "code",
        "colab": {},
        "outputId": "34b5f819-12ae-4afe-9e1b-060cd10b435d"
      },
      "source": [
        "df_asw.count()"
      ],
      "execution_count": null,
      "outputs": [
        {
          "output_type": "execute_result",
          "data": {
            "text/plain": [
              "article_id    51\n",
              "start         51\n",
              "end           51\n",
              "answered      51\n",
              "votes         51\n",
              "category      51\n",
              "title         51\n",
              "content       51\n",
              "dtype: int64"
            ]
          },
          "metadata": {
            "tags": []
          },
          "execution_count": 79
        }
      ]
    },
    {
      "cell_type": "code",
      "metadata": {
        "id": "a880VMjc52Bs",
        "colab_type": "code",
        "colab": {},
        "outputId": "662f7a4f-102a-4958-9ca3-d604e57f525c"
      },
      "source": [
        "df[df['answer']==1]['answered'].value_counts()"
      ],
      "execution_count": null,
      "outputs": [
        {
          "output_type": "execute_result",
          "data": {
            "text/plain": [
              "0    51\n",
              "1    29\n",
              "Name: answered, dtype: int64"
            ]
          },
          "metadata": {
            "tags": []
          },
          "execution_count": 80
        }
      ]
    },
    {
      "cell_type": "markdown",
      "metadata": {
        "id": "PWnK3Fh-52Bu",
        "colab_type": "text"
      },
      "source": [
        "### 답변 대상 청원 중 투표를 가장 많이 받은 것"
      ]
    },
    {
      "cell_type": "code",
      "metadata": {
        "id": "MwT710vX52Bv",
        "colab_type": "code",
        "colab": {},
        "outputId": "b1929590-041b-4714-b0a9-ec2221ab7b49"
      },
      "source": [
        "df_20 = df[df.votes> 200000]\n",
        "df_20.sort_values(by='votes', ascending=False).head(5)"
      ],
      "execution_count": null,
      "outputs": [
        {
          "output_type": "execute_result",
          "data": {
            "text/html": [
              "<div>\n",
              "<style scoped>\n",
              "    .dataframe tbody tr th:only-of-type {\n",
              "        vertical-align: middle;\n",
              "    }\n",
              "\n",
              "    .dataframe tbody tr th {\n",
              "        vertical-align: top;\n",
              "    }\n",
              "\n",
              "    .dataframe thead th {\n",
              "        text-align: right;\n",
              "    }\n",
              "</style>\n",
              "<table border=\"1\" class=\"dataframe\">\n",
              "  <thead>\n",
              "    <tr style=\"text-align: right;\">\n",
              "      <th></th>\n",
              "      <th>article_id</th>\n",
              "      <th>start</th>\n",
              "      <th>end</th>\n",
              "      <th>answered</th>\n",
              "      <th>votes</th>\n",
              "      <th>category</th>\n",
              "      <th>title</th>\n",
              "      <th>content</th>\n",
              "      <th>answer</th>\n",
              "    </tr>\n",
              "  </thead>\n",
              "  <tbody>\n",
              "    <tr>\n",
              "      <th>313314</th>\n",
              "      <td>408609</td>\n",
              "      <td>2018-10-17</td>\n",
              "      <td>2018-11-16</td>\n",
              "      <td>0</td>\n",
              "      <td>1192049</td>\n",
              "      <td>안전/환경</td>\n",
              "      <td>강서구 피시방 살인 사건. 또 심신미약 피의자입니다.</td>\n",
              "      <td>2018년 10월 14일 엊그제 일어난 강서구 피시방 살인사건에 대한 청원입니다.\\...</td>\n",
              "      <td>1</td>\n",
              "    </tr>\n",
              "    <tr>\n",
              "      <th>208597</th>\n",
              "      <td>269548</td>\n",
              "      <td>2018-06-13</td>\n",
              "      <td>2018-07-13</td>\n",
              "      <td>0</td>\n",
              "      <td>714875</td>\n",
              "      <td>외교/통일/국방</td>\n",
              "      <td>제주도 불법 난민 신청 문제에 따른 난민법, 무사증 입국, 난민신청허가 폐지/개헌 ...</td>\n",
              "      <td>2012년 난민법 제정으로 인해 외국인은 한달 무비자로 입국할 수 있으나 난민신청자...</td>\n",
              "      <td>1</td>\n",
              "    </tr>\n",
              "    <tr>\n",
              "      <th>10894</th>\n",
              "      <td>10949</td>\n",
              "      <td>2017-09-06</td>\n",
              "      <td>2017-12-05</td>\n",
              "      <td>1</td>\n",
              "      <td>615354</td>\n",
              "      <td>미래</td>\n",
              "      <td>조두순 출소반대</td>\n",
              "      <td>제발 조두순 재심다시해서 무기징역으로 해야됩니다!!!</td>\n",
              "      <td>1</td>\n",
              "    </tr>\n",
              "    <tr>\n",
              "      <th>118970</th>\n",
              "      <td>142600</td>\n",
              "      <td>2018-02-19</td>\n",
              "      <td>2018-03-21</td>\n",
              "      <td>1</td>\n",
              "      <td>614127</td>\n",
              "      <td>문화/예술/체육/언론</td>\n",
              "      <td>김보름, 박지우 선수의 자격박탈과 적폐 빙상연맹의 엄중 처벌을 청원합니다</td>\n",
              "      <td>오늘 여자 단체전 팀추월에서 김보름, 박지우 선수는 팀전인데도 불구하고 개인의 영달...</td>\n",
              "      <td>1</td>\n",
              "    </tr>\n",
              "    <tr>\n",
              "      <th>183791</th>\n",
              "      <td>230552</td>\n",
              "      <td>2018-05-11</td>\n",
              "      <td>2018-06-10</td>\n",
              "      <td>1</td>\n",
              "      <td>419006</td>\n",
              "      <td>인권/성평등</td>\n",
              "      <td>여성도 대한민국 국민입니다. 성별 관계없는 국가의 보호를 요청합니다.</td>\n",
              "      <td>최근 홍대 누드크로키 모델의 불법촬영 사건이 있었습니다.\\n사건은 굉장히 빠르게 처...</td>\n",
              "      <td>1</td>\n",
              "    </tr>\n",
              "  </tbody>\n",
              "</table>\n",
              "</div>"
            ],
            "text/plain": [
              "        article_id      start        end  answered    votes     category  \\\n",
              "313314      408609 2018-10-17 2018-11-16         0  1192049        안전/환경   \n",
              "208597      269548 2018-06-13 2018-07-13         0   714875     외교/통일/국방   \n",
              "10894        10949 2017-09-06 2017-12-05         1   615354           미래   \n",
              "118970      142600 2018-02-19 2018-03-21         1   614127  문화/예술/체육/언론   \n",
              "183791      230552 2018-05-11 2018-06-10         1   419006       인권/성평등   \n",
              "\n",
              "                                                    title  \\\n",
              "313314                      강서구 피시방 살인 사건. 또 심신미약 피의자입니다.   \n",
              "208597  제주도 불법 난민 신청 문제에 따른 난민법, 무사증 입국, 난민신청허가 폐지/개헌 ...   \n",
              "10894                                            조두순 출소반대   \n",
              "118970           김보름, 박지우 선수의 자격박탈과 적폐 빙상연맹의 엄중 처벌을 청원합니다   \n",
              "183791             여성도 대한민국 국민입니다. 성별 관계없는 국가의 보호를 요청합니다.   \n",
              "\n",
              "                                                  content  answer  \n",
              "313314  2018년 10월 14일 엊그제 일어난 강서구 피시방 살인사건에 대한 청원입니다.\\...       1  \n",
              "208597  2012년 난민법 제정으로 인해 외국인은 한달 무비자로 입국할 수 있으나 난민신청자...       1  \n",
              "10894                       제발 조두순 재심다시해서 무기징역으로 해야됩니다!!!       1  \n",
              "118970  오늘 여자 단체전 팀추월에서 김보름, 박지우 선수는 팀전인데도 불구하고 개인의 영달...       1  \n",
              "183791  최근 홍대 누드크로키 모델의 불법촬영 사건이 있었습니다.\\n사건은 굉장히 빠르게 처...       1  "
            ]
          },
          "metadata": {
            "tags": []
          },
          "execution_count": 81
        }
      ]
    },
    {
      "cell_type": "markdown",
      "metadata": {
        "id": "DBONaWSa52Bx",
        "colab_type": "text"
      },
      "source": [
        "### 어느 분야의 청원이 가장 많이 들어왔는지\n",
        "청원이 많이 들어온 순서 3개는 어느 분야?"
      ]
    },
    {
      "cell_type": "code",
      "metadata": {
        "id": "e8B-9UI452Bx",
        "colab_type": "code",
        "colab": {},
        "outputId": "5aefe0b6-c544-4e22-a34b-1a1fc1165986"
      },
      "source": [
        "df.category.value_counts().index[:3]"
      ],
      "execution_count": null,
      "outputs": [
        {
          "output_type": "execute_result",
          "data": {
            "text/plain": [
              "Index(['정치개혁', '기타', '인권/성평등'], dtype='object')"
            ]
          },
          "metadata": {
            "tags": []
          },
          "execution_count": 87
        }
      ]
    },
    {
      "cell_type": "code",
      "metadata": {
        "id": "-0HvqDLC52Bz",
        "colab_type": "code",
        "colab": {},
        "outputId": "85c5237b-8f3a-402b-cf12-5b4bf0ea3969"
      },
      "source": [
        "type(df['category'].value_counts())"
      ],
      "execution_count": null,
      "outputs": [
        {
          "output_type": "execute_result",
          "data": {
            "text/plain": [
              "pandas.core.series.Series"
            ]
          },
          "metadata": {
            "tags": []
          },
          "execution_count": 92
        }
      ]
    },
    {
      "cell_type": "code",
      "metadata": {
        "scrolled": true,
        "id": "I-8iDXhy52B1",
        "colab_type": "code",
        "colab": {},
        "outputId": "ff8cda3b-8048-4606-c549-9abaa4635700"
      },
      "source": [
        "category = pd.DataFrame(df['category'].value_counts().reset_index())\n",
        "category"
      ],
      "execution_count": null,
      "outputs": [
        {
          "output_type": "execute_result",
          "data": {
            "text/html": [
              "<div>\n",
              "<style scoped>\n",
              "    .dataframe tbody tr th:only-of-type {\n",
              "        vertical-align: middle;\n",
              "    }\n",
              "\n",
              "    .dataframe tbody tr th {\n",
              "        vertical-align: top;\n",
              "    }\n",
              "\n",
              "    .dataframe thead th {\n",
              "        text-align: right;\n",
              "    }\n",
              "</style>\n",
              "<table border=\"1\" class=\"dataframe\">\n",
              "  <thead>\n",
              "    <tr style=\"text-align: right;\">\n",
              "      <th></th>\n",
              "      <th>index</th>\n",
              "      <th>category</th>\n",
              "    </tr>\n",
              "  </thead>\n",
              "  <tbody>\n",
              "    <tr>\n",
              "      <th>0</th>\n",
              "      <td>정치개혁</td>\n",
              "      <td>62750</td>\n",
              "    </tr>\n",
              "    <tr>\n",
              "      <th>1</th>\n",
              "      <td>기타</td>\n",
              "      <td>48682</td>\n",
              "    </tr>\n",
              "    <tr>\n",
              "      <th>2</th>\n",
              "      <td>인권/성평등</td>\n",
              "      <td>34993</td>\n",
              "    </tr>\n",
              "    <tr>\n",
              "      <th>3</th>\n",
              "      <td>안전/환경</td>\n",
              "      <td>30638</td>\n",
              "    </tr>\n",
              "    <tr>\n",
              "      <th>4</th>\n",
              "      <td>교통/건축/국토</td>\n",
              "      <td>28184</td>\n",
              "    </tr>\n",
              "    <tr>\n",
              "      <th>5</th>\n",
              "      <td>외교/통일/국방</td>\n",
              "      <td>26626</td>\n",
              "    </tr>\n",
              "    <tr>\n",
              "      <th>6</th>\n",
              "      <td>육아/교육</td>\n",
              "      <td>25537</td>\n",
              "    </tr>\n",
              "    <tr>\n",
              "      <th>7</th>\n",
              "      <td>보건복지</td>\n",
              "      <td>24848</td>\n",
              "    </tr>\n",
              "    <tr>\n",
              "      <th>8</th>\n",
              "      <td>일자리</td>\n",
              "      <td>23225</td>\n",
              "    </tr>\n",
              "    <tr>\n",
              "      <th>9</th>\n",
              "      <td>행정</td>\n",
              "      <td>20268</td>\n",
              "    </tr>\n",
              "    <tr>\n",
              "      <th>10</th>\n",
              "      <td>문화/예술/체육/언론</td>\n",
              "      <td>18207</td>\n",
              "    </tr>\n",
              "    <tr>\n",
              "      <th>11</th>\n",
              "      <td>미래</td>\n",
              "      <td>18000</td>\n",
              "    </tr>\n",
              "    <tr>\n",
              "      <th>12</th>\n",
              "      <td>경제민주화</td>\n",
              "      <td>16793</td>\n",
              "    </tr>\n",
              "    <tr>\n",
              "      <th>13</th>\n",
              "      <td>성장동력</td>\n",
              "      <td>7253</td>\n",
              "    </tr>\n",
              "    <tr>\n",
              "      <th>14</th>\n",
              "      <td>반려동물</td>\n",
              "      <td>4057</td>\n",
              "    </tr>\n",
              "    <tr>\n",
              "      <th>15</th>\n",
              "      <td>저출산/고령화대책</td>\n",
              "      <td>3584</td>\n",
              "    </tr>\n",
              "    <tr>\n",
              "      <th>16</th>\n",
              "      <td>농산어촌</td>\n",
              "      <td>1902</td>\n",
              "    </tr>\n",
              "  </tbody>\n",
              "</table>\n",
              "</div>"
            ],
            "text/plain": [
              "          index  category\n",
              "0          정치개혁     62750\n",
              "1            기타     48682\n",
              "2        인권/성평등     34993\n",
              "3         안전/환경     30638\n",
              "4      교통/건축/국토     28184\n",
              "5      외교/통일/국방     26626\n",
              "6         육아/교육     25537\n",
              "7          보건복지     24848\n",
              "8           일자리     23225\n",
              "9            행정     20268\n",
              "10  문화/예술/체육/언론     18207\n",
              "11           미래     18000\n",
              "12        경제민주화     16793\n",
              "13         성장동력      7253\n",
              "14         반려동물      4057\n",
              "15    저출산/고령화대책      3584\n",
              "16         농산어촌      1902"
            ]
          },
          "metadata": {
            "tags": []
          },
          "execution_count": 100
        }
      ]
    },
    {
      "cell_type": "code",
      "metadata": {
        "id": "qfclXZ1s52B3",
        "colab_type": "code",
        "colab": {},
        "outputId": "ddd81149-4f3e-47f2-e7d9-5d1d1204cc12"
      },
      "source": [
        "category.columns = ['category', 'counts']\n",
        "category.head(3)"
      ],
      "execution_count": null,
      "outputs": [
        {
          "output_type": "execute_result",
          "data": {
            "text/html": [
              "<div>\n",
              "<style scoped>\n",
              "    .dataframe tbody tr th:only-of-type {\n",
              "        vertical-align: middle;\n",
              "    }\n",
              "\n",
              "    .dataframe tbody tr th {\n",
              "        vertical-align: top;\n",
              "    }\n",
              "\n",
              "    .dataframe thead th {\n",
              "        text-align: right;\n",
              "    }\n",
              "</style>\n",
              "<table border=\"1\" class=\"dataframe\">\n",
              "  <thead>\n",
              "    <tr style=\"text-align: right;\">\n",
              "      <th></th>\n",
              "      <th>category</th>\n",
              "      <th>counts</th>\n",
              "    </tr>\n",
              "  </thead>\n",
              "  <tbody>\n",
              "    <tr>\n",
              "      <th>0</th>\n",
              "      <td>정치개혁</td>\n",
              "      <td>62750</td>\n",
              "    </tr>\n",
              "    <tr>\n",
              "      <th>1</th>\n",
              "      <td>기타</td>\n",
              "      <td>48682</td>\n",
              "    </tr>\n",
              "    <tr>\n",
              "      <th>2</th>\n",
              "      <td>인권/성평등</td>\n",
              "      <td>34993</td>\n",
              "    </tr>\n",
              "  </tbody>\n",
              "</table>\n",
              "</div>"
            ],
            "text/plain": [
              "  category  counts\n",
              "0     정치개혁   62750\n",
              "1       기타   48682\n",
              "2   인권/성평등   34993"
            ]
          },
          "metadata": {
            "tags": []
          },
          "execution_count": 101
        }
      ]
    },
    {
      "cell_type": "code",
      "metadata": {
        "id": "HGvtZUGV52B5",
        "colab_type": "code",
        "colab": {},
        "outputId": "cbae7702-5992-4bc3-af91-439b7e9611cc"
      },
      "source": [
        "category = pd.DataFrame(df['category'].value_counts())\n",
        "category.head(3)"
      ],
      "execution_count": null,
      "outputs": [
        {
          "output_type": "execute_result",
          "data": {
            "text/html": [
              "<div>\n",
              "<style scoped>\n",
              "    .dataframe tbody tr th:only-of-type {\n",
              "        vertical-align: middle;\n",
              "    }\n",
              "\n",
              "    .dataframe tbody tr th {\n",
              "        vertical-align: top;\n",
              "    }\n",
              "\n",
              "    .dataframe thead th {\n",
              "        text-align: right;\n",
              "    }\n",
              "</style>\n",
              "<table border=\"1\" class=\"dataframe\">\n",
              "  <thead>\n",
              "    <tr style=\"text-align: right;\">\n",
              "      <th></th>\n",
              "      <th>category</th>\n",
              "    </tr>\n",
              "  </thead>\n",
              "  <tbody>\n",
              "    <tr>\n",
              "      <th>정치개혁</th>\n",
              "      <td>62750</td>\n",
              "    </tr>\n",
              "    <tr>\n",
              "      <th>기타</th>\n",
              "      <td>48682</td>\n",
              "    </tr>\n",
              "    <tr>\n",
              "      <th>인권/성평등</th>\n",
              "      <td>34993</td>\n",
              "    </tr>\n",
              "  </tbody>\n",
              "</table>\n",
              "</div>"
            ],
            "text/plain": [
              "        category\n",
              "정치개혁       62750\n",
              "기타         48682\n",
              "인권/성평등     34993"
            ]
          },
          "metadata": {
            "tags": []
          },
          "execution_count": 102
        }
      ]
    },
    {
      "cell_type": "markdown",
      "metadata": {
        "id": "kUoAwIlt52B-",
        "colab_type": "text"
      },
      "source": [
        "### 시계열 데이터 보기\n",
        "월별 청원수를 집계해 보세요.\n",
        "1. 청원이 가장 많이 들어온 달\n",
        "2. 요일별 청원수"
      ]
    },
    {
      "cell_type": "code",
      "metadata": {
        "id": "CDw1WPXr52B-",
        "colab_type": "code",
        "colab": {},
        "outputId": "c64fe869-631f-426d-c3a2-ff1b071ed816"
      },
      "source": [
        "df['start']"
      ],
      "execution_count": null,
      "outputs": [
        {
          "output_type": "execute_result",
          "data": {
            "text/plain": [
              "0        2017-08-19\n",
              "1        2017-08-19\n",
              "2        2017-08-19\n",
              "3        2017-08-19\n",
              "4        2017-08-19\n",
              "            ...    \n",
              "395542   2019-02-04\n",
              "395543   2019-02-04\n",
              "395544   2019-02-04\n",
              "395545   2019-02-04\n",
              "395546   2019-02-04\n",
              "Name: start, Length: 395547, dtype: datetime64[ns]"
            ]
          },
          "metadata": {
            "tags": []
          },
          "execution_count": 105
        }
      ]
    },
    {
      "cell_type": "code",
      "metadata": {
        "id": "Tqoz6SZL52CA",
        "colab_type": "code",
        "colab": {}
      },
      "source": [
        "df['month'] = df['start'].dt.strftime('%m')"
      ],
      "execution_count": null,
      "outputs": []
    },
    {
      "cell_type": "code",
      "metadata": {
        "id": "ImnIMdrt52CC",
        "colab_type": "code",
        "colab": {},
        "outputId": "a21ef887-97ae-4ccb-f120-d11a5b22db9f"
      },
      "source": [
        "df.head()"
      ],
      "execution_count": null,
      "outputs": [
        {
          "output_type": "execute_result",
          "data": {
            "text/html": [
              "<div>\n",
              "<style scoped>\n",
              "    .dataframe tbody tr th:only-of-type {\n",
              "        vertical-align: middle;\n",
              "    }\n",
              "\n",
              "    .dataframe tbody tr th {\n",
              "        vertical-align: top;\n",
              "    }\n",
              "\n",
              "    .dataframe thead th {\n",
              "        text-align: right;\n",
              "    }\n",
              "</style>\n",
              "<table border=\"1\" class=\"dataframe\">\n",
              "  <thead>\n",
              "    <tr style=\"text-align: right;\">\n",
              "      <th></th>\n",
              "      <th>article_id</th>\n",
              "      <th>start</th>\n",
              "      <th>end</th>\n",
              "      <th>answered</th>\n",
              "      <th>votes</th>\n",
              "      <th>category</th>\n",
              "      <th>title</th>\n",
              "      <th>content</th>\n",
              "      <th>answer</th>\n",
              "      <th>month</th>\n",
              "    </tr>\n",
              "  </thead>\n",
              "  <tbody>\n",
              "    <tr>\n",
              "      <th>0</th>\n",
              "      <td>21</td>\n",
              "      <td>2017-08-19</td>\n",
              "      <td>2017-11-17</td>\n",
              "      <td>0</td>\n",
              "      <td>9</td>\n",
              "      <td>안전/환경</td>\n",
              "      <td>스텔라 데이지호에 대한 제안입니다.</td>\n",
              "      <td>스텔라 데이지호에 대한 제안입니다.\\n3월31일 스텔라 데이지호가 침몰하고 5달째가...</td>\n",
              "      <td>0</td>\n",
              "      <td>08</td>\n",
              "    </tr>\n",
              "    <tr>\n",
              "      <th>1</th>\n",
              "      <td>22</td>\n",
              "      <td>2017-08-19</td>\n",
              "      <td>2017-11-17</td>\n",
              "      <td>0</td>\n",
              "      <td>17</td>\n",
              "      <td>기타</td>\n",
              "      <td>비리제보처를 만들어주세요.</td>\n",
              "      <td>현 정부에 국민들이 가장 원하는 것은 부패척결입니다.  우리 사회에 각종 비리들이 ...</td>\n",
              "      <td>0</td>\n",
              "      <td>08</td>\n",
              "    </tr>\n",
              "    <tr>\n",
              "      <th>2</th>\n",
              "      <td>23</td>\n",
              "      <td>2017-08-19</td>\n",
              "      <td>2017-09-03</td>\n",
              "      <td>0</td>\n",
              "      <td>0</td>\n",
              "      <td>미래</td>\n",
              "      <td>제2의 개성공단</td>\n",
              "      <td>만일 하시는 대통령님 및 각 부처 장관님,주무관님들 안녕하세요!!\\n전남 목포에서 ...</td>\n",
              "      <td>0</td>\n",
              "      <td>08</td>\n",
              "    </tr>\n",
              "    <tr>\n",
              "      <th>3</th>\n",
              "      <td>24</td>\n",
              "      <td>2017-08-19</td>\n",
              "      <td>2017-08-26</td>\n",
              "      <td>0</td>\n",
              "      <td>53</td>\n",
              "      <td>일자리</td>\n",
              "      <td>공공기관 무조건적인 정규직전환을 반대합니다.</td>\n",
              "      <td>현정부에서 정규직 일자리를 늘리는 것에 찬성합니다. 그런데 공공기관 비정규직들은 인...</td>\n",
              "      <td>0</td>\n",
              "      <td>08</td>\n",
              "    </tr>\n",
              "    <tr>\n",
              "      <th>4</th>\n",
              "      <td>25</td>\n",
              "      <td>2017-08-19</td>\n",
              "      <td>2017-09-03</td>\n",
              "      <td>0</td>\n",
              "      <td>0</td>\n",
              "      <td>미래</td>\n",
              "      <td>제2의 개성공단</td>\n",
              "      <td>만일 하시는 대통령님 및 각 부처 장관님,주무관님들 안녕하세요!!\\n전남 목포에서 ...</td>\n",
              "      <td>0</td>\n",
              "      <td>08</td>\n",
              "    </tr>\n",
              "  </tbody>\n",
              "</table>\n",
              "</div>"
            ],
            "text/plain": [
              "   article_id      start        end  answered  votes category  \\\n",
              "0          21 2017-08-19 2017-11-17         0      9    안전/환경   \n",
              "1          22 2017-08-19 2017-11-17         0     17       기타   \n",
              "2          23 2017-08-19 2017-09-03         0      0       미래   \n",
              "3          24 2017-08-19 2017-08-26         0     53      일자리   \n",
              "4          25 2017-08-19 2017-09-03         0      0       미래   \n",
              "\n",
              "                      title  \\\n",
              "0       스텔라 데이지호에 대한 제안입니다.   \n",
              "1            비리제보처를 만들어주세요.   \n",
              "2                  제2의 개성공단   \n",
              "3  공공기관 무조건적인 정규직전환을 반대합니다.   \n",
              "4                  제2의 개성공단   \n",
              "\n",
              "                                             content  answer month  \n",
              "0  스텔라 데이지호에 대한 제안입니다.\\n3월31일 스텔라 데이지호가 침몰하고 5달째가...       0    08  \n",
              "1  현 정부에 국민들이 가장 원하는 것은 부패척결입니다.  우리 사회에 각종 비리들이 ...       0    08  \n",
              "2  만일 하시는 대통령님 및 각 부처 장관님,주무관님들 안녕하세요!!\\n전남 목포에서 ...       0    08  \n",
              "3  현정부에서 정규직 일자리를 늘리는 것에 찬성합니다. 그런데 공공기관 비정규직들은 인...       0    08  \n",
              "4  만일 하시는 대통령님 및 각 부처 장관님,주무관님들 안녕하세요!!\\n전남 목포에서 ...       0    08  "
            ]
          },
          "metadata": {
            "tags": []
          },
          "execution_count": 113
        }
      ]
    },
    {
      "cell_type": "code",
      "metadata": {
        "id": "jzgoPvXL52CE",
        "colab_type": "code",
        "colab": {},
        "outputId": "b2f8bf7e-0e5e-4314-bcff-86fe3f5e1296"
      },
      "source": [
        "df['month'].value_counts()"
      ],
      "execution_count": null,
      "outputs": [
        {
          "output_type": "execute_result",
          "data": {
            "text/plain": [
              "01    52941\n",
              "11    52847\n",
              "09    40888\n",
              "12    38498\n",
              "10    31687\n",
              "08    28851\n",
              "02    28117\n",
              "07    25714\n",
              "05    25499\n",
              "06    25483\n",
              "04    23227\n",
              "03    21795\n",
              "Name: month, dtype: int64"
            ]
          },
          "metadata": {
            "tags": []
          },
          "execution_count": 121
        }
      ]
    },
    {
      "cell_type": "code",
      "metadata": {
        "id": "w8HEXc6t52CH",
        "colab_type": "code",
        "colab": {}
      },
      "source": [
        "df['date'] = df['start'].dt.weekday"
      ],
      "execution_count": null,
      "outputs": []
    },
    {
      "cell_type": "code",
      "metadata": {
        "id": "MMzRhf3r52CK",
        "colab_type": "code",
        "colab": {},
        "outputId": "0b87c5b5-63a9-480a-d166-da64d71717e9"
      },
      "source": [
        "df['date'].value_counts()  # 요일숫자(0-월, 1-화)"
      ],
      "execution_count": null,
      "outputs": [
        {
          "output_type": "execute_result",
          "data": {
            "text/plain": [
              "1    65229\n",
              "3    63072\n",
              "2    61966\n",
              "4    56646\n",
              "0    54234\n",
              "5    50984\n",
              "6    43416\n",
              "Name: date, dtype: int64"
            ]
          },
          "metadata": {
            "tags": []
          },
          "execution_count": 124
        }
      ]
    },
    {
      "cell_type": "code",
      "metadata": {
        "id": "5Lyukk_M52CM",
        "colab_type": "code",
        "colab": {}
      },
      "source": [
        "df['year'] = df['start'].dt.year"
      ],
      "execution_count": null,
      "outputs": []
    },
    {
      "cell_type": "code",
      "metadata": {
        "id": "LniFsZaG52CP",
        "colab_type": "code",
        "colab": {},
        "outputId": "cc900c74-d972-4c67-a19f-1840b6f2fb2e"
      },
      "source": [
        "df['year'].value_counts()"
      ],
      "execution_count": null,
      "outputs": [
        {
          "output_type": "execute_result",
          "data": {
            "text/plain": [
              "2018    299565\n",
              "2017     72119\n",
              "2019     23863\n",
              "Name: year, dtype: int64"
            ]
          },
          "metadata": {
            "tags": []
          },
          "execution_count": 133
        }
      ]
    },
    {
      "cell_type": "code",
      "metadata": {
        "id": "-ceFFKDl52CR",
        "colab_type": "code",
        "colab": {},
        "outputId": "0a9295a0-eb73-4c86-966f-a02648802f5d"
      },
      "source": [
        "df.head()"
      ],
      "execution_count": null,
      "outputs": [
        {
          "output_type": "execute_result",
          "data": {
            "text/html": [
              "<div>\n",
              "<style scoped>\n",
              "    .dataframe tbody tr th:only-of-type {\n",
              "        vertical-align: middle;\n",
              "    }\n",
              "\n",
              "    .dataframe tbody tr th {\n",
              "        vertical-align: top;\n",
              "    }\n",
              "\n",
              "    .dataframe thead th {\n",
              "        text-align: right;\n",
              "    }\n",
              "</style>\n",
              "<table border=\"1\" class=\"dataframe\">\n",
              "  <thead>\n",
              "    <tr style=\"text-align: right;\">\n",
              "      <th></th>\n",
              "      <th>article_id</th>\n",
              "      <th>start</th>\n",
              "      <th>end</th>\n",
              "      <th>answered</th>\n",
              "      <th>votes</th>\n",
              "      <th>category</th>\n",
              "      <th>title</th>\n",
              "      <th>content</th>\n",
              "      <th>answer</th>\n",
              "      <th>month</th>\n",
              "      <th>date</th>\n",
              "      <th>year</th>\n",
              "    </tr>\n",
              "  </thead>\n",
              "  <tbody>\n",
              "    <tr>\n",
              "      <th>0</th>\n",
              "      <td>21</td>\n",
              "      <td>2017-08-19</td>\n",
              "      <td>2017-11-17</td>\n",
              "      <td>0</td>\n",
              "      <td>9</td>\n",
              "      <td>안전/환경</td>\n",
              "      <td>스텔라 데이지호에 대한 제안입니다.</td>\n",
              "      <td>스텔라 데이지호에 대한 제안입니다.\\n3월31일 스텔라 데이지호가 침몰하고 5달째가...</td>\n",
              "      <td>0</td>\n",
              "      <td>08</td>\n",
              "      <td>5</td>\n",
              "      <td>2017</td>\n",
              "    </tr>\n",
              "    <tr>\n",
              "      <th>1</th>\n",
              "      <td>22</td>\n",
              "      <td>2017-08-19</td>\n",
              "      <td>2017-11-17</td>\n",
              "      <td>0</td>\n",
              "      <td>17</td>\n",
              "      <td>기타</td>\n",
              "      <td>비리제보처를 만들어주세요.</td>\n",
              "      <td>현 정부에 국민들이 가장 원하는 것은 부패척결입니다.  우리 사회에 각종 비리들이 ...</td>\n",
              "      <td>0</td>\n",
              "      <td>08</td>\n",
              "      <td>5</td>\n",
              "      <td>2017</td>\n",
              "    </tr>\n",
              "    <tr>\n",
              "      <th>2</th>\n",
              "      <td>23</td>\n",
              "      <td>2017-08-19</td>\n",
              "      <td>2017-09-03</td>\n",
              "      <td>0</td>\n",
              "      <td>0</td>\n",
              "      <td>미래</td>\n",
              "      <td>제2의 개성공단</td>\n",
              "      <td>만일 하시는 대통령님 및 각 부처 장관님,주무관님들 안녕하세요!!\\n전남 목포에서 ...</td>\n",
              "      <td>0</td>\n",
              "      <td>08</td>\n",
              "      <td>5</td>\n",
              "      <td>2017</td>\n",
              "    </tr>\n",
              "    <tr>\n",
              "      <th>3</th>\n",
              "      <td>24</td>\n",
              "      <td>2017-08-19</td>\n",
              "      <td>2017-08-26</td>\n",
              "      <td>0</td>\n",
              "      <td>53</td>\n",
              "      <td>일자리</td>\n",
              "      <td>공공기관 무조건적인 정규직전환을 반대합니다.</td>\n",
              "      <td>현정부에서 정규직 일자리를 늘리는 것에 찬성합니다. 그런데 공공기관 비정규직들은 인...</td>\n",
              "      <td>0</td>\n",
              "      <td>08</td>\n",
              "      <td>5</td>\n",
              "      <td>2017</td>\n",
              "    </tr>\n",
              "    <tr>\n",
              "      <th>4</th>\n",
              "      <td>25</td>\n",
              "      <td>2017-08-19</td>\n",
              "      <td>2017-09-03</td>\n",
              "      <td>0</td>\n",
              "      <td>0</td>\n",
              "      <td>미래</td>\n",
              "      <td>제2의 개성공단</td>\n",
              "      <td>만일 하시는 대통령님 및 각 부처 장관님,주무관님들 안녕하세요!!\\n전남 목포에서 ...</td>\n",
              "      <td>0</td>\n",
              "      <td>08</td>\n",
              "      <td>5</td>\n",
              "      <td>2017</td>\n",
              "    </tr>\n",
              "  </tbody>\n",
              "</table>\n",
              "</div>"
            ],
            "text/plain": [
              "   article_id      start        end  answered  votes category  \\\n",
              "0          21 2017-08-19 2017-11-17         0      9    안전/환경   \n",
              "1          22 2017-08-19 2017-11-17         0     17       기타   \n",
              "2          23 2017-08-19 2017-09-03         0      0       미래   \n",
              "3          24 2017-08-19 2017-08-26         0     53      일자리   \n",
              "4          25 2017-08-19 2017-09-03         0      0       미래   \n",
              "\n",
              "                      title  \\\n",
              "0       스텔라 데이지호에 대한 제안입니다.   \n",
              "1            비리제보처를 만들어주세요.   \n",
              "2                  제2의 개성공단   \n",
              "3  공공기관 무조건적인 정규직전환을 반대합니다.   \n",
              "4                  제2의 개성공단   \n",
              "\n",
              "                                             content  answer month  date  year  \n",
              "0  스텔라 데이지호에 대한 제안입니다.\\n3월31일 스텔라 데이지호가 침몰하고 5달째가...       0    08     5  2017  \n",
              "1  현 정부에 국민들이 가장 원하는 것은 부패척결입니다.  우리 사회에 각종 비리들이 ...       0    08     5  2017  \n",
              "2  만일 하시는 대통령님 및 각 부처 장관님,주무관님들 안녕하세요!!\\n전남 목포에서 ...       0    08     5  2017  \n",
              "3  현정부에서 정규직 일자리를 늘리는 것에 찬성합니다. 그런데 공공기관 비정규직들은 인...       0    08     5  2017  \n",
              "4  만일 하시는 대통령님 및 각 부처 장관님,주무관님들 안녕하세요!!\\n전남 목포에서 ...       0    08     5  2017  "
            ]
          },
          "metadata": {
            "tags": []
          },
          "execution_count": 134
        }
      ]
    },
    {
      "cell_type": "markdown",
      "metadata": {
        "id": "F5XuJX3j52CT",
        "colab_type": "text"
      },
      "source": [
        "### https://blog.naver.com/wideeyed/221603462366"
      ]
    },
    {
      "cell_type": "code",
      "metadata": {
        "id": "B0wBmPIy52CU",
        "colab_type": "code",
        "colab": {},
        "outputId": "e14fc149-3004-40a0-e8ba-3a77dd406029"
      },
      "source": [
        "import re\n",
        "p = r'.*(돌봄|아이|초등|보육).*'\n",
        "care = df[df['title'].str.match(p)] |\n",
        "           df['content'].str.match(p, flags=re.MULTILINE)\n",
        "care.shape"
      ],
      "execution_count": null,
      "outputs": [
        {
          "output_type": "error",
          "ename": "SyntaxError",
          "evalue": "invalid syntax (<ipython-input-1-c63741fc0d38>, line 3)",
          "traceback": [
            "\u001b[1;36m  File \u001b[1;32m\"<ipython-input-1-c63741fc0d38>\"\u001b[1;36m, line \u001b[1;32m3\u001b[0m\n\u001b[1;33m    care = df[df['title'].str.match(p)] |\u001b[0m\n\u001b[1;37m                                         ^\u001b[0m\n\u001b[1;31mSyntaxError\u001b[0m\u001b[1;31m:\u001b[0m invalid syntax\n"
          ]
        }
      ]
    },
    {
      "cell_type": "code",
      "metadata": {
        "id": "P4gbQfxV52CW",
        "colab_type": "code",
        "colab": {}
      },
      "source": [
        ""
      ],
      "execution_count": null,
      "outputs": []
    },
    {
      "cell_type": "code",
      "metadata": {
        "id": "A1OEQ3dE52CY",
        "colab_type": "code",
        "colab": {}
      },
      "source": [
        ""
      ],
      "execution_count": null,
      "outputs": []
    }
  ]
}