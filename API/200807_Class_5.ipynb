{
  "nbformat": 4,
  "nbformat_minor": 0,
  "metadata": {
    "kernelspec": {
      "display_name": "Python 3",
      "language": "python",
      "name": "python3"
    },
    "language_info": {
      "codemirror_mode": {
        "name": "ipython",
        "version": 3
      },
      "file_extension": ".py",
      "mimetype": "text/x-python",
      "name": "python",
      "nbconvert_exporter": "python",
      "pygments_lexer": "ipython3",
      "version": "3.8.3"
    },
    "colab": {
      "name": "200807 Class 5.ipynb",
      "provenance": [],
      "include_colab_link": true
    }
  },
  "cells": [
    {
      "cell_type": "markdown",
      "metadata": {
        "id": "view-in-github",
        "colab_type": "text"
      },
      "source": [
        "<a href=\"https://colab.research.google.com/github/jmins33/ml_edu/blob/master/API/200807_Class_5.ipynb\" target=\"_parent\"><img src=\"https://colab.research.google.com/assets/colab-badge.svg\" alt=\"Open In Colab\"/></a>"
      ]
    },
    {
      "cell_type": "code",
      "metadata": {
        "scrolled": true,
        "id": "t-7ntIZU6XSD",
        "colab_type": "code",
        "colab": {}
      },
      "source": [
        "my_key ='%2Bna8y%2B7XNm7r55Suf5yyGwSnYWea%2BXR68NSdlMPacSIRrLaVZ5%2F8XTV770NMtO8wO6uHBstMaFlgDvestKH7Ug%3D%3D'\n",
        "# 서비스인증키"
      ],
      "execution_count": null,
      "outputs": []
    },
    {
      "cell_type": "code",
      "metadata": {
        "id": "hulhlYGa6XSK",
        "colab_type": "code",
        "colab": {}
      },
      "source": [
        "url1 ='http://apis.data.go.kr/B553077/api/open/sdsc/storeZoneInRadius?radius=500&cx=127.004528&cy=37.567538&ServiceKey='\n",
        "url2 ='&type=json'"
      ],
      "execution_count": null,
      "outputs": []
    },
    {
      "cell_type": "code",
      "metadata": {
        "id": "vkcKSFFT6XSN",
        "colab_type": "code",
        "colab": {},
        "outputId": "adba9dca-0773-4566-dcad-f3433614580c"
      },
      "source": [
        "url = url1 + my_key+ url2\n",
        "url"
      ],
      "execution_count": null,
      "outputs": [
        {
          "output_type": "execute_result",
          "data": {
            "text/plain": [
              "'http://apis.data.go.kr/B553077/api/open/sdsc/storeZoneInRadius?radius=500&cx=127.004528&cy=37.567538&ServiceKey=%2Bna8y%2B7XNm7r55Suf5yyGwSnYWea%2BXR68NSdlMPacSIRrLaVZ5%2F8XTV770NMtO8wO6uHBstMaFlgDvestKH7Ug%3D%3D&type=json'"
            ]
          },
          "metadata": {
            "tags": []
          },
          "execution_count": 12
        }
      ]
    },
    {
      "cell_type": "code",
      "metadata": {
        "id": "xx6Sbosr6XSR",
        "colab_type": "code",
        "colab": {},
        "outputId": "c2db12f3-4fd9-47be-e1d5-ee576e937c29"
      },
      "source": [
        "import urllib.request\n",
        "res = urllib.request.urlopen(url); res"
      ],
      "execution_count": null,
      "outputs": [
        {
          "output_type": "execute_result",
          "data": {
            "text/plain": [
              "<http.client.HTTPResponse at 0x1ff34d82070>"
            ]
          },
          "metadata": {
            "tags": []
          },
          "execution_count": 19
        }
      ]
    },
    {
      "cell_type": "code",
      "metadata": {
        "id": "a8D2dZSo6XST",
        "colab_type": "code",
        "colab": {},
        "outputId": "d36d5c97-4334-47ed-e07d-af7e3e23284b"
      },
      "source": [
        "json_str = res.read() ; json_str"
      ],
      "execution_count": null,
      "outputs": [
        {
          "output_type": "execute_result",
          "data": {
            "text/plain": [
              "b'{\\n\\t\"header\" : {\\n\\t\\t\"description\" : \"\\xec\\x86\\x8c\\xec\\x83\\x81\\xea\\xb3\\xb5\\xec\\x9d\\xb8\\xec\\x8b\\x9c\\xec\\x9e\\xa5\\xec\\xa7\\x84\\xed\\x9d\\xa5\\xea\\xb3\\xb5\\xeb\\x8b\\xa8 \\xec\\xa3\\xbc\\xec\\x9a\\x94\\xec\\x83\\x81\\xea\\xb6\\x8c\"\\n\\t\\t,\"resultCode\" : \"00\"\\n\\t\\t,\"resultMsg\" : \"NORMAL SERVICE\"\\n\\t},\\n\\t\"body\" : {\\n\\t\\t\\t\"items\" : [\\n\\t\\t\\t\\t{\\n\\t\\t\\t\\t\"trarNo\" : 2214\\n\\t\\t\\t\\t,\"mainTrarNm\" : \"\\xec\\x9d\\x84\\xec\\xa7\\x80\\xeb\\xa1\\x9c4\\xea\\xb0\\x80\\xec\\x97\\xad\"\\n\\t\\t\\t\\t,\"ctprvnCd\" : \"11\"\\n\\t\\t\\t\\t,\"ctprvnNm\" : \"\\xec\\x84\\x9c\\xec\\x9a\\xb8\\xed\\x8a\\xb9\\xeb\\xb3\\x84\\xec\\x8b\\x9c\"\\n\\t\\t\\t\\t,\"signguCd\" : \"11140\"\\n\\t\\t\\t\\t,\"signguNm\" : \"\\xec\\xa4\\x91\\xea\\xb5\\xac\"\\n\\t\\t\\t\\t,\"trarArea\" : 88434.9\\n\\t\\t\\t\\t,\"coordNum\" : 8\\n\\t\\t\\t\\t,\"coords\" : \"POLYGON ((126.999081 37.566789, 127.002102 37.566937, 127.001981 37.568644, 127.001871 37.568655, 127.001873 37.569521, 126.998065 37.568812, 126.998213 37.566753, 126.999081 37.566789))\"\\n\\t\\t\\t\\t,\"stdrDt\" : \"2015-12-17\"\\n\\t\\t\\t\\t}\\n\\t\\t\\t\\t,{\\n\\t\\t\\t\\t\"trarNo\" : 2216\\n\\t\\t\\t\\t,\"mainTrarNm\" : \"\\xeb\\x8f\\x99\\xeb\\x8c\\x80\\xeb\\xac\\xb8\\xec\\x8b\\x9c\\xec\\x9e\\xa5\"\\n\\t\\t\\t\\t,\"ctprvnCd\" : \"11\"\\n\\t\\t\\t\\t,\"ctprvnNm\" : \"\\xec\\x84\\x9c\\xec\\x9a\\xb8\\xed\\x8a\\xb9\\xeb\\xb3\\x84\\xec\\x8b\\x9c\"\\n\\t\\t\\t\\t,\"signguCd\" : \"11140\"\\n\\t\\t\\t\\t,\"signguNm\" : \"\\xec\\xa4\\x91\\xea\\xb5\\xac\"\\n\\t\\t\\t\\t,\"trarArea\" : 68658\\n\\t\\t\\t\\t,\"coordNum\" : 15\\n\\t\\t\\t\\t,\"coords\" : \"POLYGON ((127.009453 37.568775, 127.009445 37.569396, 127.009558 37.569397, 127.009543 37.569686, 127.00659 37.569553, 127.006688 37.568112, 127.007709 37.567931, 127.007098 37.567124, 127.006951 37.56706, 127.006146 37.56717, 127.005929 37.566438, 127.007632 37.56611, 127.008198 37.566935, 127.008107 37.566979, 127.009453 37.568775))\"\\n\\t\\t\\t\\t,\"stdrDt\" : \"2015-12-17\"\\n\\t\\t\\t\\t}\\n\\t\\t\\t\\t,{\\n\\t\\t\\t\\t\"trarNo\" : 2207\\n\\t\\t\\t\\t,\"mainTrarNm\" : \"\\xeb\\x8f\\x99\\xeb\\x8c\\x80\\xeb\\xac\\xb8\\xec\\x97\\xad\\xec\\x82\\xac\\xeb\\xac\\xb8\\xed\\x99\\x94\\xea\\xb3\\xb5\\xec\\x9b\\x90\\xec\\x97\\xad\"\\n\\t\\t\\t\\t,\"ctprvnCd\" : \"11\"\\n\\t\\t\\t\\t,\"ctprvnNm\" : \"\\xec\\x84\\x9c\\xec\\x9a\\xb8\\xed\\x8a\\xb9\\xeb\\xb3\\x84\\xec\\x8b\\x9c\"\\n\\t\\t\\t\\t,\"signguCd\" : \"11140\"\\n\\t\\t\\t\\t,\"signguNm\" : \"\\xec\\xa4\\x91\\xea\\xb5\\xac\"\\n\\t\\t\\t\\t,\"trarArea\" : 81499.1\\n\\t\\t\\t\\t,\"coordNum\" : 8\\n\\t\\t\\t\\t,\"coords\" : \"POLYGON ((127.007565 37.565945, 127.004846 37.566394, 127.002877 37.566759, 127.002341 37.566737, 127.00252 37.5647, 127.004682 37.564852, 127.007062 37.564448, 127.007565 37.565945))\"\\n\\t\\t\\t\\t,\"stdrDt\" : \"2015-12-17\"\\n\\t\\t\\t\\t}\\n\\t\\t\\t\\t,{\\n\\t\\t\\t\\t\"trarNo\" : 2226\\n\\t\\t\\t\\t,\"mainTrarNm\" : \"\\xeb\\x8f\\x99\\xeb\\x8c\\x80\\xeb\\xac\\xb8\\xec\\x8b\\x9c\\xec\\x9e\\xa5\"\\n\\t\\t\\t\\t,\"ctprvnCd\" : \"11\"\\n\\t\\t\\t\\t,\"ctprvnNm\" : \"\\xec\\x84\\x9c\\xec\\x9a\\xb8\\xed\\x8a\\xb9\\xeb\\xb3\\x84\\xec\\x8b\\x9c\"\\n\\t\\t\\t\\t,\"signguCd\" : \"11110\"\\n\\t\\t\\t\\t,\"signguNm\" : \"\\xec\\xa2\\x85\\xeb\\xa1\\x9c\\xea\\xb5\\xac\"\\n\\t\\t\\t\\t,\"trarArea\" : 82364.6\\n\\t\\t\\t\\t,\"coordNum\" : 28\\n\\t\\t\\t\\t,\"coords\" : \"POLYGON ((127.009388 37.570565, 127.008984 37.571182, 127.008537 37.57103, 127.006426 37.570998, 127.00658 37.570351, 127.006482 37.570257, 127.006356 37.570327, 127.006198 37.57099, 127.005964 37.570986, 127.005915 37.570267, 127.005804 37.570193, 127.005691 37.570283, 127.005737 37.570983, 127.005376 37.570977, 127.005356 37.570376, 127.005244 37.570291, 127.00513 37.570373, 127.005149 37.570973, 127.003561 37.570947, 127.003571 37.570412, 127.003461 37.570336, 127.003348 37.570409, 127.003335 37.570944, 127.002014 37.570911, 127.002118 37.569718, 127.006712 37.569739, 127.009542 37.569875, 127.009388 37.570565))\"\\n\\t\\t\\t\\t,\"stdrDt\" : \"2015-12-17\"\\n\\t\\t\\t\\t}\\n\\t\\t\\t\\t,{\\n\\t\\t\\t\\t\"trarNo\" : 2225\\n\\t\\t\\t\\t,\"mainTrarNm\" : \"\\xec\\x84\\x9c\\xec\\x9a\\xb8 \\xec\\xa2\\x85\\xeb\\xa1\\x9c\\xea\\xb5\\xac \\xec\\xa2\\x85\\xeb\\xa1\\x9c5\\xea\\xb0\\x80\\xec\\x97\\xad_1\"\\n\\t\\t\\t\\t,\"ctprvnCd\" : \"11\"\\n\\t\\t\\t\\t,\"ctprvnNm\" : \"\\xec\\x84\\x9c\\xec\\x9a\\xb8\\xed\\x8a\\xb9\\xeb\\xb3\\x84\\xec\\x8b\\x9c\"\\n\\t\\t\\t\\t,\"signguCd\" : \"11110\"\\n\\t\\t\\t\\t,\"signguNm\" : \"\\xec\\xa2\\x85\\xeb\\xa1\\x9c\\xea\\xb5\\xac\"\\n\\t\\t\\t\\t,\"trarArea\" : 50246.7\\n\\t\\t\\t\\t,\"coordNum\" : 20\\n\\t\\t\\t\\t,\"coords\" : \"POLYGON ((127.001795 37.57082, 127.000088 37.570774, 127.000052 37.570281, 126.999763 37.57022, 126.99964 37.570323, 126.999836 37.570406, 126.999859 37.570757, 126.999321 37.570717, 126.999367 37.570303, 126.999265 37.570221, 126.999145 37.570287, 126.999096 37.5707, 126.999078 37.570524, 126.99887 37.570325, 126.998761 37.570381, 126.998725 37.570672, 126.997866 37.570624, 126.998052 37.568996, 127.001892 37.569705, 127.001795 37.57082))\"\\n\\t\\t\\t\\t,\"stdrDt\" : \"2015-12-17\"\\n\\t\\t\\t\\t}\\n\\t\\t\\t]\\n\\t}\\n}\\n'"
            ]
          },
          "metadata": {
            "tags": []
          },
          "execution_count": 20
        }
      ]
    },
    {
      "cell_type": "code",
      "metadata": {
        "id": "MCxQBZ6Q6XSW",
        "colab_type": "code",
        "colab": {},
        "outputId": "81a2d7e1-6fa2-4869-e060-fb971afe93b3"
      },
      "source": [
        "res = urllib.request.urlopen(url)      ###### 그냥 공백이 나올 경우, res 복붙해서 붙여넣고 하면 됨.\n",
        "json_str = res.read().decode('utf-8') ; json_str"
      ],
      "execution_count": null,
      "outputs": [
        {
          "output_type": "execute_result",
          "data": {
            "text/plain": [
              "'{\\n\\t\"header\" : {\\n\\t\\t\"description\" : \"소상공인시장진흥공단 주요상권\"\\n\\t\\t,\"resultCode\" : \"00\"\\n\\t\\t,\"resultMsg\" : \"NORMAL SERVICE\"\\n\\t},\\n\\t\"body\" : {\\n\\t\\t\\t\"items\" : [\\n\\t\\t\\t\\t{\\n\\t\\t\\t\\t\"trarNo\" : 2214\\n\\t\\t\\t\\t,\"mainTrarNm\" : \"을지로4가역\"\\n\\t\\t\\t\\t,\"ctprvnCd\" : \"11\"\\n\\t\\t\\t\\t,\"ctprvnNm\" : \"서울특별시\"\\n\\t\\t\\t\\t,\"signguCd\" : \"11140\"\\n\\t\\t\\t\\t,\"signguNm\" : \"중구\"\\n\\t\\t\\t\\t,\"trarArea\" : 88434.9\\n\\t\\t\\t\\t,\"coordNum\" : 8\\n\\t\\t\\t\\t,\"coords\" : \"POLYGON ((126.999081 37.566789, 127.002102 37.566937, 127.001981 37.568644, 127.001871 37.568655, 127.001873 37.569521, 126.998065 37.568812, 126.998213 37.566753, 126.999081 37.566789))\"\\n\\t\\t\\t\\t,\"stdrDt\" : \"2015-12-17\"\\n\\t\\t\\t\\t}\\n\\t\\t\\t\\t,{\\n\\t\\t\\t\\t\"trarNo\" : 2216\\n\\t\\t\\t\\t,\"mainTrarNm\" : \"동대문시장\"\\n\\t\\t\\t\\t,\"ctprvnCd\" : \"11\"\\n\\t\\t\\t\\t,\"ctprvnNm\" : \"서울특별시\"\\n\\t\\t\\t\\t,\"signguCd\" : \"11140\"\\n\\t\\t\\t\\t,\"signguNm\" : \"중구\"\\n\\t\\t\\t\\t,\"trarArea\" : 68658\\n\\t\\t\\t\\t,\"coordNum\" : 15\\n\\t\\t\\t\\t,\"coords\" : \"POLYGON ((127.009453 37.568775, 127.009445 37.569396, 127.009558 37.569397, 127.009543 37.569686, 127.00659 37.569553, 127.006688 37.568112, 127.007709 37.567931, 127.007098 37.567124, 127.006951 37.56706, 127.006146 37.56717, 127.005929 37.566438, 127.007632 37.56611, 127.008198 37.566935, 127.008107 37.566979, 127.009453 37.568775))\"\\n\\t\\t\\t\\t,\"stdrDt\" : \"2015-12-17\"\\n\\t\\t\\t\\t}\\n\\t\\t\\t\\t,{\\n\\t\\t\\t\\t\"trarNo\" : 2207\\n\\t\\t\\t\\t,\"mainTrarNm\" : \"동대문역사문화공원역\"\\n\\t\\t\\t\\t,\"ctprvnCd\" : \"11\"\\n\\t\\t\\t\\t,\"ctprvnNm\" : \"서울특별시\"\\n\\t\\t\\t\\t,\"signguCd\" : \"11140\"\\n\\t\\t\\t\\t,\"signguNm\" : \"중구\"\\n\\t\\t\\t\\t,\"trarArea\" : 81499.1\\n\\t\\t\\t\\t,\"coordNum\" : 8\\n\\t\\t\\t\\t,\"coords\" : \"POLYGON ((127.007565 37.565945, 127.004846 37.566394, 127.002877 37.566759, 127.002341 37.566737, 127.00252 37.5647, 127.004682 37.564852, 127.007062 37.564448, 127.007565 37.565945))\"\\n\\t\\t\\t\\t,\"stdrDt\" : \"2015-12-17\"\\n\\t\\t\\t\\t}\\n\\t\\t\\t\\t,{\\n\\t\\t\\t\\t\"trarNo\" : 2226\\n\\t\\t\\t\\t,\"mainTrarNm\" : \"동대문시장\"\\n\\t\\t\\t\\t,\"ctprvnCd\" : \"11\"\\n\\t\\t\\t\\t,\"ctprvnNm\" : \"서울특별시\"\\n\\t\\t\\t\\t,\"signguCd\" : \"11110\"\\n\\t\\t\\t\\t,\"signguNm\" : \"종로구\"\\n\\t\\t\\t\\t,\"trarArea\" : 82364.6\\n\\t\\t\\t\\t,\"coordNum\" : 28\\n\\t\\t\\t\\t,\"coords\" : \"POLYGON ((127.009388 37.570565, 127.008984 37.571182, 127.008537 37.57103, 127.006426 37.570998, 127.00658 37.570351, 127.006482 37.570257, 127.006356 37.570327, 127.006198 37.57099, 127.005964 37.570986, 127.005915 37.570267, 127.005804 37.570193, 127.005691 37.570283, 127.005737 37.570983, 127.005376 37.570977, 127.005356 37.570376, 127.005244 37.570291, 127.00513 37.570373, 127.005149 37.570973, 127.003561 37.570947, 127.003571 37.570412, 127.003461 37.570336, 127.003348 37.570409, 127.003335 37.570944, 127.002014 37.570911, 127.002118 37.569718, 127.006712 37.569739, 127.009542 37.569875, 127.009388 37.570565))\"\\n\\t\\t\\t\\t,\"stdrDt\" : \"2015-12-17\"\\n\\t\\t\\t\\t}\\n\\t\\t\\t\\t,{\\n\\t\\t\\t\\t\"trarNo\" : 2225\\n\\t\\t\\t\\t,\"mainTrarNm\" : \"서울 종로구 종로5가역_1\"\\n\\t\\t\\t\\t,\"ctprvnCd\" : \"11\"\\n\\t\\t\\t\\t,\"ctprvnNm\" : \"서울특별시\"\\n\\t\\t\\t\\t,\"signguCd\" : \"11110\"\\n\\t\\t\\t\\t,\"signguNm\" : \"종로구\"\\n\\t\\t\\t\\t,\"trarArea\" : 50246.7\\n\\t\\t\\t\\t,\"coordNum\" : 20\\n\\t\\t\\t\\t,\"coords\" : \"POLYGON ((127.001795 37.57082, 127.000088 37.570774, 127.000052 37.570281, 126.999763 37.57022, 126.99964 37.570323, 126.999836 37.570406, 126.999859 37.570757, 126.999321 37.570717, 126.999367 37.570303, 126.999265 37.570221, 126.999145 37.570287, 126.999096 37.5707, 126.999078 37.570524, 126.99887 37.570325, 126.998761 37.570381, 126.998725 37.570672, 126.997866 37.570624, 126.998052 37.568996, 127.001892 37.569705, 127.001795 37.57082))\"\\n\\t\\t\\t\\t,\"stdrDt\" : \"2015-12-17\"\\n\\t\\t\\t\\t}\\n\\t\\t\\t]\\n\\t}\\n}\\n'"
            ]
          },
          "metadata": {
            "tags": []
          },
          "execution_count": 22
        }
      ]
    },
    {
      "cell_type": "code",
      "metadata": {
        "id": "-VOofYah6XSY",
        "colab_type": "code",
        "colab": {},
        "outputId": "d613d816-606d-4d7d-bcaa-3e91c2e9d96b"
      },
      "source": [
        "import json\n",
        "json_object = json.loads(json_str)  ####문자열을 json 으로 변환\n",
        "json_object"
      ],
      "execution_count": null,
      "outputs": [
        {
          "output_type": "execute_result",
          "data": {
            "text/plain": [
              "{'header': {'description': '소상공인시장진흥공단 주요상권',\n",
              "  'resultCode': '00',\n",
              "  'resultMsg': 'NORMAL SERVICE'},\n",
              " 'body': {'items': [{'trarNo': 2214,\n",
              "    'mainTrarNm': '을지로4가역',\n",
              "    'ctprvnCd': '11',\n",
              "    'ctprvnNm': '서울특별시',\n",
              "    'signguCd': '11140',\n",
              "    'signguNm': '중구',\n",
              "    'trarArea': 88434.9,\n",
              "    'coordNum': 8,\n",
              "    'coords': 'POLYGON ((126.999081 37.566789, 127.002102 37.566937, 127.001981 37.568644, 127.001871 37.568655, 127.001873 37.569521, 126.998065 37.568812, 126.998213 37.566753, 126.999081 37.566789))',\n",
              "    'stdrDt': '2015-12-17'},\n",
              "   {'trarNo': 2216,\n",
              "    'mainTrarNm': '동대문시장',\n",
              "    'ctprvnCd': '11',\n",
              "    'ctprvnNm': '서울특별시',\n",
              "    'signguCd': '11140',\n",
              "    'signguNm': '중구',\n",
              "    'trarArea': 68658,\n",
              "    'coordNum': 15,\n",
              "    'coords': 'POLYGON ((127.009453 37.568775, 127.009445 37.569396, 127.009558 37.569397, 127.009543 37.569686, 127.00659 37.569553, 127.006688 37.568112, 127.007709 37.567931, 127.007098 37.567124, 127.006951 37.56706, 127.006146 37.56717, 127.005929 37.566438, 127.007632 37.56611, 127.008198 37.566935, 127.008107 37.566979, 127.009453 37.568775))',\n",
              "    'stdrDt': '2015-12-17'},\n",
              "   {'trarNo': 2207,\n",
              "    'mainTrarNm': '동대문역사문화공원역',\n",
              "    'ctprvnCd': '11',\n",
              "    'ctprvnNm': '서울특별시',\n",
              "    'signguCd': '11140',\n",
              "    'signguNm': '중구',\n",
              "    'trarArea': 81499.1,\n",
              "    'coordNum': 8,\n",
              "    'coords': 'POLYGON ((127.007565 37.565945, 127.004846 37.566394, 127.002877 37.566759, 127.002341 37.566737, 127.00252 37.5647, 127.004682 37.564852, 127.007062 37.564448, 127.007565 37.565945))',\n",
              "    'stdrDt': '2015-12-17'},\n",
              "   {'trarNo': 2226,\n",
              "    'mainTrarNm': '동대문시장',\n",
              "    'ctprvnCd': '11',\n",
              "    'ctprvnNm': '서울특별시',\n",
              "    'signguCd': '11110',\n",
              "    'signguNm': '종로구',\n",
              "    'trarArea': 82364.6,\n",
              "    'coordNum': 28,\n",
              "    'coords': 'POLYGON ((127.009388 37.570565, 127.008984 37.571182, 127.008537 37.57103, 127.006426 37.570998, 127.00658 37.570351, 127.006482 37.570257, 127.006356 37.570327, 127.006198 37.57099, 127.005964 37.570986, 127.005915 37.570267, 127.005804 37.570193, 127.005691 37.570283, 127.005737 37.570983, 127.005376 37.570977, 127.005356 37.570376, 127.005244 37.570291, 127.00513 37.570373, 127.005149 37.570973, 127.003561 37.570947, 127.003571 37.570412, 127.003461 37.570336, 127.003348 37.570409, 127.003335 37.570944, 127.002014 37.570911, 127.002118 37.569718, 127.006712 37.569739, 127.009542 37.569875, 127.009388 37.570565))',\n",
              "    'stdrDt': '2015-12-17'},\n",
              "   {'trarNo': 2225,\n",
              "    'mainTrarNm': '서울 종로구 종로5가역_1',\n",
              "    'ctprvnCd': '11',\n",
              "    'ctprvnNm': '서울특별시',\n",
              "    'signguCd': '11110',\n",
              "    'signguNm': '종로구',\n",
              "    'trarArea': 50246.7,\n",
              "    'coordNum': 20,\n",
              "    'coords': 'POLYGON ((127.001795 37.57082, 127.000088 37.570774, 127.000052 37.570281, 126.999763 37.57022, 126.99964 37.570323, 126.999836 37.570406, 126.999859 37.570757, 126.999321 37.570717, 126.999367 37.570303, 126.999265 37.570221, 126.999145 37.570287, 126.999096 37.5707, 126.999078 37.570524, 126.99887 37.570325, 126.998761 37.570381, 126.998725 37.570672, 126.997866 37.570624, 126.998052 37.568996, 127.001892 37.569705, 127.001795 37.57082))',\n",
              "    'stdrDt': '2015-12-17'}]}}"
            ]
          },
          "metadata": {
            "tags": []
          },
          "execution_count": 23
        }
      ]
    },
    {
      "cell_type": "code",
      "metadata": {
        "id": "ppWpWduT6XSb",
        "colab_type": "code",
        "colab": {}
      },
      "source": [
        "import pandas as pd\n",
        "from pandas.io.json import json_normalize"
      ],
      "execution_count": null,
      "outputs": []
    },
    {
      "cell_type": "code",
      "metadata": {
        "id": "XR1cZHi06XSd",
        "colab_type": "code",
        "colab": {},
        "outputId": "22a1dfdc-c5f9-436b-ea54-9363026e6429"
      },
      "source": [
        "json_object['body']['items']    ##### body안에 들어있는 items를 불러온다."
      ],
      "execution_count": null,
      "outputs": [
        {
          "output_type": "execute_result",
          "data": {
            "text/plain": [
              "[{'trarNo': 2214,\n",
              "  'mainTrarNm': '을지로4가역',\n",
              "  'ctprvnCd': '11',\n",
              "  'ctprvnNm': '서울특별시',\n",
              "  'signguCd': '11140',\n",
              "  'signguNm': '중구',\n",
              "  'trarArea': 88434.9,\n",
              "  'coordNum': 8,\n",
              "  'coords': 'POLYGON ((126.999081 37.566789, 127.002102 37.566937, 127.001981 37.568644, 127.001871 37.568655, 127.001873 37.569521, 126.998065 37.568812, 126.998213 37.566753, 126.999081 37.566789))',\n",
              "  'stdrDt': '2015-12-17'},\n",
              " {'trarNo': 2216,\n",
              "  'mainTrarNm': '동대문시장',\n",
              "  'ctprvnCd': '11',\n",
              "  'ctprvnNm': '서울특별시',\n",
              "  'signguCd': '11140',\n",
              "  'signguNm': '중구',\n",
              "  'trarArea': 68658,\n",
              "  'coordNum': 15,\n",
              "  'coords': 'POLYGON ((127.009453 37.568775, 127.009445 37.569396, 127.009558 37.569397, 127.009543 37.569686, 127.00659 37.569553, 127.006688 37.568112, 127.007709 37.567931, 127.007098 37.567124, 127.006951 37.56706, 127.006146 37.56717, 127.005929 37.566438, 127.007632 37.56611, 127.008198 37.566935, 127.008107 37.566979, 127.009453 37.568775))',\n",
              "  'stdrDt': '2015-12-17'},\n",
              " {'trarNo': 2207,\n",
              "  'mainTrarNm': '동대문역사문화공원역',\n",
              "  'ctprvnCd': '11',\n",
              "  'ctprvnNm': '서울특별시',\n",
              "  'signguCd': '11140',\n",
              "  'signguNm': '중구',\n",
              "  'trarArea': 81499.1,\n",
              "  'coordNum': 8,\n",
              "  'coords': 'POLYGON ((127.007565 37.565945, 127.004846 37.566394, 127.002877 37.566759, 127.002341 37.566737, 127.00252 37.5647, 127.004682 37.564852, 127.007062 37.564448, 127.007565 37.565945))',\n",
              "  'stdrDt': '2015-12-17'},\n",
              " {'trarNo': 2226,\n",
              "  'mainTrarNm': '동대문시장',\n",
              "  'ctprvnCd': '11',\n",
              "  'ctprvnNm': '서울특별시',\n",
              "  'signguCd': '11110',\n",
              "  'signguNm': '종로구',\n",
              "  'trarArea': 82364.6,\n",
              "  'coordNum': 28,\n",
              "  'coords': 'POLYGON ((127.009388 37.570565, 127.008984 37.571182, 127.008537 37.57103, 127.006426 37.570998, 127.00658 37.570351, 127.006482 37.570257, 127.006356 37.570327, 127.006198 37.57099, 127.005964 37.570986, 127.005915 37.570267, 127.005804 37.570193, 127.005691 37.570283, 127.005737 37.570983, 127.005376 37.570977, 127.005356 37.570376, 127.005244 37.570291, 127.00513 37.570373, 127.005149 37.570973, 127.003561 37.570947, 127.003571 37.570412, 127.003461 37.570336, 127.003348 37.570409, 127.003335 37.570944, 127.002014 37.570911, 127.002118 37.569718, 127.006712 37.569739, 127.009542 37.569875, 127.009388 37.570565))',\n",
              "  'stdrDt': '2015-12-17'},\n",
              " {'trarNo': 2225,\n",
              "  'mainTrarNm': '서울 종로구 종로5가역_1',\n",
              "  'ctprvnCd': '11',\n",
              "  'ctprvnNm': '서울특별시',\n",
              "  'signguCd': '11110',\n",
              "  'signguNm': '종로구',\n",
              "  'trarArea': 50246.7,\n",
              "  'coordNum': 20,\n",
              "  'coords': 'POLYGON ((127.001795 37.57082, 127.000088 37.570774, 127.000052 37.570281, 126.999763 37.57022, 126.99964 37.570323, 126.999836 37.570406, 126.999859 37.570757, 126.999321 37.570717, 126.999367 37.570303, 126.999265 37.570221, 126.999145 37.570287, 126.999096 37.5707, 126.999078 37.570524, 126.99887 37.570325, 126.998761 37.570381, 126.998725 37.570672, 126.997866 37.570624, 126.998052 37.568996, 127.001892 37.569705, 127.001795 37.57082))',\n",
              "  'stdrDt': '2015-12-17'}]"
            ]
          },
          "metadata": {
            "tags": []
          },
          "execution_count": 25
        }
      ]
    },
    {
      "cell_type": "code",
      "metadata": {
        "id": "aQhSfK0R6XSf",
        "colab_type": "code",
        "colab": {},
        "outputId": "98732ba3-5e2e-4a06-883c-d92e0581ca86"
      },
      "source": [
        "body = [json_object['body']['items']]\n",
        "json_normalize(json_object['body']['items'])   ####normalize는 판다스함수"
      ],
      "execution_count": null,
      "outputs": [
        {
          "output_type": "stream",
          "text": [
            "<ipython-input-26-c272d63ffaf5>:2: FutureWarning: pandas.io.json.json_normalize is deprecated, use pandas.json_normalize instead\n",
            "  json_normalize(json_object['body']['items'])\n"
          ],
          "name": "stderr"
        },
        {
          "output_type": "execute_result",
          "data": {
            "text/html": [
              "<div>\n",
              "<style scoped>\n",
              "    .dataframe tbody tr th:only-of-type {\n",
              "        vertical-align: middle;\n",
              "    }\n",
              "\n",
              "    .dataframe tbody tr th {\n",
              "        vertical-align: top;\n",
              "    }\n",
              "\n",
              "    .dataframe thead th {\n",
              "        text-align: right;\n",
              "    }\n",
              "</style>\n",
              "<table border=\"1\" class=\"dataframe\">\n",
              "  <thead>\n",
              "    <tr style=\"text-align: right;\">\n",
              "      <th></th>\n",
              "      <th>trarNo</th>\n",
              "      <th>mainTrarNm</th>\n",
              "      <th>ctprvnCd</th>\n",
              "      <th>ctprvnNm</th>\n",
              "      <th>signguCd</th>\n",
              "      <th>signguNm</th>\n",
              "      <th>trarArea</th>\n",
              "      <th>coordNum</th>\n",
              "      <th>coords</th>\n",
              "      <th>stdrDt</th>\n",
              "    </tr>\n",
              "  </thead>\n",
              "  <tbody>\n",
              "    <tr>\n",
              "      <th>0</th>\n",
              "      <td>2214</td>\n",
              "      <td>을지로4가역</td>\n",
              "      <td>11</td>\n",
              "      <td>서울특별시</td>\n",
              "      <td>11140</td>\n",
              "      <td>중구</td>\n",
              "      <td>88434.9</td>\n",
              "      <td>8</td>\n",
              "      <td>POLYGON ((126.999081 37.566789, 127.002102 37....</td>\n",
              "      <td>2015-12-17</td>\n",
              "    </tr>\n",
              "    <tr>\n",
              "      <th>1</th>\n",
              "      <td>2216</td>\n",
              "      <td>동대문시장</td>\n",
              "      <td>11</td>\n",
              "      <td>서울특별시</td>\n",
              "      <td>11140</td>\n",
              "      <td>중구</td>\n",
              "      <td>68658.0</td>\n",
              "      <td>15</td>\n",
              "      <td>POLYGON ((127.009453 37.568775, 127.009445 37....</td>\n",
              "      <td>2015-12-17</td>\n",
              "    </tr>\n",
              "    <tr>\n",
              "      <th>2</th>\n",
              "      <td>2207</td>\n",
              "      <td>동대문역사문화공원역</td>\n",
              "      <td>11</td>\n",
              "      <td>서울특별시</td>\n",
              "      <td>11140</td>\n",
              "      <td>중구</td>\n",
              "      <td>81499.1</td>\n",
              "      <td>8</td>\n",
              "      <td>POLYGON ((127.007565 37.565945, 127.004846 37....</td>\n",
              "      <td>2015-12-17</td>\n",
              "    </tr>\n",
              "    <tr>\n",
              "      <th>3</th>\n",
              "      <td>2226</td>\n",
              "      <td>동대문시장</td>\n",
              "      <td>11</td>\n",
              "      <td>서울특별시</td>\n",
              "      <td>11110</td>\n",
              "      <td>종로구</td>\n",
              "      <td>82364.6</td>\n",
              "      <td>28</td>\n",
              "      <td>POLYGON ((127.009388 37.570565, 127.008984 37....</td>\n",
              "      <td>2015-12-17</td>\n",
              "    </tr>\n",
              "    <tr>\n",
              "      <th>4</th>\n",
              "      <td>2225</td>\n",
              "      <td>서울 종로구 종로5가역_1</td>\n",
              "      <td>11</td>\n",
              "      <td>서울특별시</td>\n",
              "      <td>11110</td>\n",
              "      <td>종로구</td>\n",
              "      <td>50246.7</td>\n",
              "      <td>20</td>\n",
              "      <td>POLYGON ((127.001795 37.57082, 127.000088 37.5...</td>\n",
              "      <td>2015-12-17</td>\n",
              "    </tr>\n",
              "  </tbody>\n",
              "</table>\n",
              "</div>"
            ],
            "text/plain": [
              "   trarNo      mainTrarNm ctprvnCd ctprvnNm signguCd signguNm  trarArea  \\\n",
              "0    2214          을지로4가역       11    서울특별시    11140       중구   88434.9   \n",
              "1    2216           동대문시장       11    서울특별시    11140       중구   68658.0   \n",
              "2    2207      동대문역사문화공원역       11    서울특별시    11140       중구   81499.1   \n",
              "3    2226           동대문시장       11    서울특별시    11110      종로구   82364.6   \n",
              "4    2225  서울 종로구 종로5가역_1       11    서울특별시    11110      종로구   50246.7   \n",
              "\n",
              "   coordNum                                             coords      stdrDt  \n",
              "0         8  POLYGON ((126.999081 37.566789, 127.002102 37....  2015-12-17  \n",
              "1        15  POLYGON ((127.009453 37.568775, 127.009445 37....  2015-12-17  \n",
              "2         8  POLYGON ((127.007565 37.565945, 127.004846 37....  2015-12-17  \n",
              "3        28  POLYGON ((127.009388 37.570565, 127.008984 37....  2015-12-17  \n",
              "4        20  POLYGON ((127.001795 37.57082, 127.000088 37.5...  2015-12-17  "
            ]
          },
          "metadata": {
            "tags": []
          },
          "execution_count": 26
        }
      ]
    },
    {
      "cell_type": "code",
      "metadata": {
        "id": "KfbEur436XSi",
        "colab_type": "code",
        "colab": {}
      },
      "source": [
        "df = pd.json_normalize(json_object['body']['items'])"
      ],
      "execution_count": null,
      "outputs": []
    },
    {
      "cell_type": "code",
      "metadata": {
        "scrolled": true,
        "id": "XqCbZpLt6XSl",
        "colab_type": "code",
        "colab": {},
        "outputId": "8a0d70a4-1d93-4aab-d51a-33f43fedc803"
      },
      "source": [
        "df"
      ],
      "execution_count": null,
      "outputs": [
        {
          "output_type": "execute_result",
          "data": {
            "text/html": [
              "<div>\n",
              "<style scoped>\n",
              "    .dataframe tbody tr th:only-of-type {\n",
              "        vertical-align: middle;\n",
              "    }\n",
              "\n",
              "    .dataframe tbody tr th {\n",
              "        vertical-align: top;\n",
              "    }\n",
              "\n",
              "    .dataframe thead th {\n",
              "        text-align: right;\n",
              "    }\n",
              "</style>\n",
              "<table border=\"1\" class=\"dataframe\">\n",
              "  <thead>\n",
              "    <tr style=\"text-align: right;\">\n",
              "      <th></th>\n",
              "      <th>trarNo</th>\n",
              "      <th>mainTrarNm</th>\n",
              "      <th>ctprvnCd</th>\n",
              "      <th>ctprvnNm</th>\n",
              "      <th>signguCd</th>\n",
              "      <th>signguNm</th>\n",
              "      <th>trarArea</th>\n",
              "      <th>coordNum</th>\n",
              "      <th>coords</th>\n",
              "      <th>stdrDt</th>\n",
              "    </tr>\n",
              "  </thead>\n",
              "  <tbody>\n",
              "    <tr>\n",
              "      <th>0</th>\n",
              "      <td>2214</td>\n",
              "      <td>을지로4가역</td>\n",
              "      <td>11</td>\n",
              "      <td>서울특별시</td>\n",
              "      <td>11140</td>\n",
              "      <td>중구</td>\n",
              "      <td>88434.9</td>\n",
              "      <td>8</td>\n",
              "      <td>POLYGON ((126.999081 37.566789, 127.002102 37....</td>\n",
              "      <td>2015-12-17</td>\n",
              "    </tr>\n",
              "    <tr>\n",
              "      <th>1</th>\n",
              "      <td>2216</td>\n",
              "      <td>동대문시장</td>\n",
              "      <td>11</td>\n",
              "      <td>서울특별시</td>\n",
              "      <td>11140</td>\n",
              "      <td>중구</td>\n",
              "      <td>68658.0</td>\n",
              "      <td>15</td>\n",
              "      <td>POLYGON ((127.009453 37.568775, 127.009445 37....</td>\n",
              "      <td>2015-12-17</td>\n",
              "    </tr>\n",
              "    <tr>\n",
              "      <th>2</th>\n",
              "      <td>2207</td>\n",
              "      <td>동대문역사문화공원역</td>\n",
              "      <td>11</td>\n",
              "      <td>서울특별시</td>\n",
              "      <td>11140</td>\n",
              "      <td>중구</td>\n",
              "      <td>81499.1</td>\n",
              "      <td>8</td>\n",
              "      <td>POLYGON ((127.007565 37.565945, 127.004846 37....</td>\n",
              "      <td>2015-12-17</td>\n",
              "    </tr>\n",
              "    <tr>\n",
              "      <th>3</th>\n",
              "      <td>2226</td>\n",
              "      <td>동대문시장</td>\n",
              "      <td>11</td>\n",
              "      <td>서울특별시</td>\n",
              "      <td>11110</td>\n",
              "      <td>종로구</td>\n",
              "      <td>82364.6</td>\n",
              "      <td>28</td>\n",
              "      <td>POLYGON ((127.009388 37.570565, 127.008984 37....</td>\n",
              "      <td>2015-12-17</td>\n",
              "    </tr>\n",
              "    <tr>\n",
              "      <th>4</th>\n",
              "      <td>2225</td>\n",
              "      <td>서울 종로구 종로5가역_1</td>\n",
              "      <td>11</td>\n",
              "      <td>서울특별시</td>\n",
              "      <td>11110</td>\n",
              "      <td>종로구</td>\n",
              "      <td>50246.7</td>\n",
              "      <td>20</td>\n",
              "      <td>POLYGON ((127.001795 37.57082, 127.000088 37.5...</td>\n",
              "      <td>2015-12-17</td>\n",
              "    </tr>\n",
              "  </tbody>\n",
              "</table>\n",
              "</div>"
            ],
            "text/plain": [
              "   trarNo      mainTrarNm ctprvnCd ctprvnNm signguCd signguNm  trarArea  \\\n",
              "0    2214          을지로4가역       11    서울특별시    11140       중구   88434.9   \n",
              "1    2216           동대문시장       11    서울특별시    11140       중구   68658.0   \n",
              "2    2207      동대문역사문화공원역       11    서울특별시    11140       중구   81499.1   \n",
              "3    2226           동대문시장       11    서울특별시    11110      종로구   82364.6   \n",
              "4    2225  서울 종로구 종로5가역_1       11    서울특별시    11110      종로구   50246.7   \n",
              "\n",
              "   coordNum                                             coords      stdrDt  \n",
              "0         8  POLYGON ((126.999081 37.566789, 127.002102 37....  2015-12-17  \n",
              "1        15  POLYGON ((127.009453 37.568775, 127.009445 37....  2015-12-17  \n",
              "2         8  POLYGON ((127.007565 37.565945, 127.004846 37....  2015-12-17  \n",
              "3        28  POLYGON ((127.009388 37.570565, 127.008984 37....  2015-12-17  \n",
              "4        20  POLYGON ((127.001795 37.57082, 127.000088 37.5...  2015-12-17  "
            ]
          },
          "metadata": {
            "tags": []
          },
          "execution_count": 32
        }
      ]
    },
    {
      "cell_type": "markdown",
      "metadata": {
        "id": "92oWYvLO6XSn",
        "colab_type": "text"
      },
      "source": [
        "### 컬럼명 변경하기 / 상권명, 시도코드, 시군구코드, 데이터기준일자로 구성된 df1 만들기"
      ]
    },
    {
      "cell_type": "code",
      "metadata": {
        "id": "UVebiTw46XSo",
        "colab_type": "code",
        "colab": {},
        "outputId": "e8a7f81a-5a77-4d72-e731-6265638c50ce"
      },
      "source": [
        "df= df.rename(columns={'trarNo': '상권번호', 'mainTrarNm': '상권명', 'ctprvnCd':'시도코드', 'stprvnNm':'시도명','signguCd': '시군구코드',\\\n",
        "                       'signguNm': '시군구명','trarArea': '면적', 'coordNum': '좌표개수', 'coords': '좌표값', 'stdrDt': '데이터기준일자'})\n",
        "df"
      ],
      "execution_count": null,
      "outputs": [
        {
          "output_type": "execute_result",
          "data": {
            "text/html": [
              "<div>\n",
              "<style scoped>\n",
              "    .dataframe tbody tr th:only-of-type {\n",
              "        vertical-align: middle;\n",
              "    }\n",
              "\n",
              "    .dataframe tbody tr th {\n",
              "        vertical-align: top;\n",
              "    }\n",
              "\n",
              "    .dataframe thead th {\n",
              "        text-align: right;\n",
              "    }\n",
              "</style>\n",
              "<table border=\"1\" class=\"dataframe\">\n",
              "  <thead>\n",
              "    <tr style=\"text-align: right;\">\n",
              "      <th></th>\n",
              "      <th>상권번호</th>\n",
              "      <th>상권명</th>\n",
              "      <th>시도코드</th>\n",
              "      <th>ctprvnNm</th>\n",
              "      <th>시군구코드</th>\n",
              "      <th>시군구명</th>\n",
              "      <th>면적</th>\n",
              "      <th>좌표개수</th>\n",
              "      <th>좌표값</th>\n",
              "      <th>데이터기준일자</th>\n",
              "    </tr>\n",
              "  </thead>\n",
              "  <tbody>\n",
              "    <tr>\n",
              "      <th>0</th>\n",
              "      <td>2214</td>\n",
              "      <td>을지로4가역</td>\n",
              "      <td>11</td>\n",
              "      <td>서울특별시</td>\n",
              "      <td>11140</td>\n",
              "      <td>중구</td>\n",
              "      <td>88434.9</td>\n",
              "      <td>8</td>\n",
              "      <td>POLYGON ((126.999081 37.566789, 127.002102 37....</td>\n",
              "      <td>2015-12-17</td>\n",
              "    </tr>\n",
              "    <tr>\n",
              "      <th>1</th>\n",
              "      <td>2216</td>\n",
              "      <td>동대문시장</td>\n",
              "      <td>11</td>\n",
              "      <td>서울특별시</td>\n",
              "      <td>11140</td>\n",
              "      <td>중구</td>\n",
              "      <td>68658.0</td>\n",
              "      <td>15</td>\n",
              "      <td>POLYGON ((127.009453 37.568775, 127.009445 37....</td>\n",
              "      <td>2015-12-17</td>\n",
              "    </tr>\n",
              "    <tr>\n",
              "      <th>2</th>\n",
              "      <td>2207</td>\n",
              "      <td>동대문역사문화공원역</td>\n",
              "      <td>11</td>\n",
              "      <td>서울특별시</td>\n",
              "      <td>11140</td>\n",
              "      <td>중구</td>\n",
              "      <td>81499.1</td>\n",
              "      <td>8</td>\n",
              "      <td>POLYGON ((127.007565 37.565945, 127.004846 37....</td>\n",
              "      <td>2015-12-17</td>\n",
              "    </tr>\n",
              "    <tr>\n",
              "      <th>3</th>\n",
              "      <td>2226</td>\n",
              "      <td>동대문시장</td>\n",
              "      <td>11</td>\n",
              "      <td>서울특별시</td>\n",
              "      <td>11110</td>\n",
              "      <td>종로구</td>\n",
              "      <td>82364.6</td>\n",
              "      <td>28</td>\n",
              "      <td>POLYGON ((127.009388 37.570565, 127.008984 37....</td>\n",
              "      <td>2015-12-17</td>\n",
              "    </tr>\n",
              "    <tr>\n",
              "      <th>4</th>\n",
              "      <td>2225</td>\n",
              "      <td>서울 종로구 종로5가역_1</td>\n",
              "      <td>11</td>\n",
              "      <td>서울특별시</td>\n",
              "      <td>11110</td>\n",
              "      <td>종로구</td>\n",
              "      <td>50246.7</td>\n",
              "      <td>20</td>\n",
              "      <td>POLYGON ((127.001795 37.57082, 127.000088 37.5...</td>\n",
              "      <td>2015-12-17</td>\n",
              "    </tr>\n",
              "  </tbody>\n",
              "</table>\n",
              "</div>"
            ],
            "text/plain": [
              "   상권번호             상권명 시도코드 ctprvnNm  시군구코드 시군구명       면적  좌표개수  \\\n",
              "0  2214          을지로4가역   11    서울특별시  11140   중구  88434.9     8   \n",
              "1  2216           동대문시장   11    서울특별시  11140   중구  68658.0    15   \n",
              "2  2207      동대문역사문화공원역   11    서울특별시  11140   중구  81499.1     8   \n",
              "3  2226           동대문시장   11    서울특별시  11110  종로구  82364.6    28   \n",
              "4  2225  서울 종로구 종로5가역_1   11    서울특별시  11110  종로구  50246.7    20   \n",
              "\n",
              "                                                 좌표값     데이터기준일자  \n",
              "0  POLYGON ((126.999081 37.566789, 127.002102 37....  2015-12-17  \n",
              "1  POLYGON ((127.009453 37.568775, 127.009445 37....  2015-12-17  \n",
              "2  POLYGON ((127.007565 37.565945, 127.004846 37....  2015-12-17  \n",
              "3  POLYGON ((127.009388 37.570565, 127.008984 37....  2015-12-17  \n",
              "4  POLYGON ((127.001795 37.57082, 127.000088 37.5...  2015-12-17  "
            ]
          },
          "metadata": {
            "tags": []
          },
          "execution_count": 38
        }
      ]
    },
    {
      "cell_type": "code",
      "metadata": {
        "scrolled": true,
        "id": "Y3LEact96XSq",
        "colab_type": "code",
        "colab": {},
        "outputId": "ddc65b71-7c97-4fc3-fb1c-e136e94e9660"
      },
      "source": [
        "df1 = df[['상권명','시도코드','시군구코드','데이터기준일자']]\n",
        "df1"
      ],
      "execution_count": null,
      "outputs": [
        {
          "output_type": "execute_result",
          "data": {
            "text/html": [
              "<div>\n",
              "<style scoped>\n",
              "    .dataframe tbody tr th:only-of-type {\n",
              "        vertical-align: middle;\n",
              "    }\n",
              "\n",
              "    .dataframe tbody tr th {\n",
              "        vertical-align: top;\n",
              "    }\n",
              "\n",
              "    .dataframe thead th {\n",
              "        text-align: right;\n",
              "    }\n",
              "</style>\n",
              "<table border=\"1\" class=\"dataframe\">\n",
              "  <thead>\n",
              "    <tr style=\"text-align: right;\">\n",
              "      <th></th>\n",
              "      <th>상권명</th>\n",
              "      <th>시도코드</th>\n",
              "      <th>시군구코드</th>\n",
              "      <th>데이터기준일자</th>\n",
              "    </tr>\n",
              "  </thead>\n",
              "  <tbody>\n",
              "    <tr>\n",
              "      <th>0</th>\n",
              "      <td>을지로4가역</td>\n",
              "      <td>11</td>\n",
              "      <td>11140</td>\n",
              "      <td>2015-12-17</td>\n",
              "    </tr>\n",
              "    <tr>\n",
              "      <th>1</th>\n",
              "      <td>동대문시장</td>\n",
              "      <td>11</td>\n",
              "      <td>11140</td>\n",
              "      <td>2015-12-17</td>\n",
              "    </tr>\n",
              "    <tr>\n",
              "      <th>2</th>\n",
              "      <td>동대문역사문화공원역</td>\n",
              "      <td>11</td>\n",
              "      <td>11140</td>\n",
              "      <td>2015-12-17</td>\n",
              "    </tr>\n",
              "    <tr>\n",
              "      <th>3</th>\n",
              "      <td>동대문시장</td>\n",
              "      <td>11</td>\n",
              "      <td>11110</td>\n",
              "      <td>2015-12-17</td>\n",
              "    </tr>\n",
              "    <tr>\n",
              "      <th>4</th>\n",
              "      <td>서울 종로구 종로5가역_1</td>\n",
              "      <td>11</td>\n",
              "      <td>11110</td>\n",
              "      <td>2015-12-17</td>\n",
              "    </tr>\n",
              "  </tbody>\n",
              "</table>\n",
              "</div>"
            ],
            "text/plain": [
              "              상권명 시도코드  시군구코드     데이터기준일자\n",
              "0          을지로4가역   11  11140  2015-12-17\n",
              "1           동대문시장   11  11140  2015-12-17\n",
              "2      동대문역사문화공원역   11  11140  2015-12-17\n",
              "3           동대문시장   11  11110  2015-12-17\n",
              "4  서울 종로구 종로5가역_1   11  11110  2015-12-17"
            ]
          },
          "metadata": {
            "tags": []
          },
          "execution_count": 39
        }
      ]
    },
    {
      "cell_type": "code",
      "metadata": {
        "id": "tK5L_cLI6XSs",
        "colab_type": "code",
        "colab": {}
      },
      "source": [
        "# df.columns = ['상권번호', '상권명', '시도코드','시도명','시군구코드', '시군구명','면적','좌표개수','좌표값','데이터기준일자']"
      ],
      "execution_count": null,
      "outputs": []
    },
    {
      "cell_type": "code",
      "metadata": {
        "id": "S-JlRZUA6XSu",
        "colab_type": "code",
        "colab": {}
      },
      "source": [
        ""
      ],
      "execution_count": null,
      "outputs": []
    },
    {
      "cell_type": "code",
      "metadata": {
        "id": "y_2xH1p06XSw",
        "colab_type": "code",
        "colab": {}
      },
      "source": [
        ""
      ],
      "execution_count": null,
      "outputs": []
    },
    {
      "cell_type": "code",
      "metadata": {
        "id": "Zd59ULA_6XSy",
        "colab_type": "code",
        "colab": {}
      },
      "source": [
        ""
      ],
      "execution_count": null,
      "outputs": []
    },
    {
      "cell_type": "code",
      "metadata": {
        "id": "hp_jVaSK6XS0",
        "colab_type": "code",
        "colab": {}
      },
      "source": [
        ""
      ],
      "execution_count": null,
      "outputs": []
    },
    {
      "cell_type": "code",
      "metadata": {
        "id": "Qr0tweFY6XS2",
        "colab_type": "code",
        "colab": {}
      },
      "source": [
        ""
      ],
      "execution_count": null,
      "outputs": []
    },
    {
      "cell_type": "code",
      "metadata": {
        "id": "ZPxaV4YU6XS4",
        "colab_type": "code",
        "colab": {}
      },
      "source": [
        ""
      ],
      "execution_count": null,
      "outputs": []
    },
    {
      "cell_type": "code",
      "metadata": {
        "id": "vi5r73DU6XS6",
        "colab_type": "code",
        "colab": {}
      },
      "source": [
        ""
      ],
      "execution_count": null,
      "outputs": []
    },
    {
      "cell_type": "code",
      "metadata": {
        "id": "_m7r_4896XS8",
        "colab_type": "code",
        "colab": {}
      },
      "source": [
        ""
      ],
      "execution_count": null,
      "outputs": []
    }
  ]
}