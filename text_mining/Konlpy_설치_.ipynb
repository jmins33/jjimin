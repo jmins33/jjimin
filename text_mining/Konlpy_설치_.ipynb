{
  "nbformat": 4,
  "nbformat_minor": 0,
  "metadata": {
    "kernelspec": {
      "display_name": "Python 3",
      "language": "python",
      "name": "python3"
    },
    "language_info": {
      "codemirror_mode": {
        "name": "ipython",
        "version": 3
      },
      "file_extension": ".py",
      "mimetype": "text/x-python",
      "name": "python",
      "nbconvert_exporter": "python",
      "pygments_lexer": "ipython3",
      "version": "3.7.7"
    },
    "colab": {
      "name": "Konlpy 설치.....ipynb",
      "provenance": [],
      "include_colab_link": true
    }
  },
  "cells": [
    {
      "cell_type": "markdown",
      "metadata": {
        "id": "view-in-github",
        "colab_type": "text"
      },
      "source": [
        "<a href=\"https://colab.research.google.com/github/jmins33/ml_edu/blob/master/text_mining/Konlpy_%EC%84%A4%EC%B9%98_.ipynb\" target=\"_parent\"><img src=\"https://colab.research.google.com/assets/colab-badge.svg\" alt=\"Open In Colab\"/></a>"
      ]
    },
    {
      "cell_type": "code",
      "metadata": {
        "scrolled": true,
        "id": "A2qF39ofCHf2",
        "colab_type": "code",
        "colab": {},
        "outputId": "dc865605-00ec-483e-e18f-c3b243517508"
      },
      "source": [
        "!pip install JPype1-1.0.2-cp37-cp37m-win_amd64.whl"
      ],
      "execution_count": null,
      "outputs": [
        {
          "output_type": "stream",
          "text": [
            "Requirement already satisfied: JPype1==1.0.2 from file:///C:/Users/jminw/Untitled%20Folder/JPype1-1.0.2-cp37-cp37m-win_amd64.whl in c:\\data\\envs\\py37\\lib\\site-packages (1.0.2)\n",
            "Requirement already satisfied: typing-extensions; python_version < \"3.8\" in c:\\data\\envs\\py37\\lib\\site-packages (from JPype1==1.0.2) (3.7.4.3)\n"
          ],
          "name": "stdout"
        }
      ]
    },
    {
      "cell_type": "code",
      "metadata": {
        "scrolled": true,
        "id": "E-w6ADYrCHf9",
        "colab_type": "code",
        "colab": {},
        "outputId": "4ea22113-02ea-438d-8073-e778442f47e9"
      },
      "source": [
        "!pip install konlpy"
      ],
      "execution_count": null,
      "outputs": [
        {
          "output_type": "stream",
          "text": [
            "Requirement already satisfied: konlpy in c:\\data\\envs\\py37\\lib\\site-packages (0.5.2)\n",
            "Requirement already satisfied: JPype1>=0.7.0 in c:\\data\\envs\\py37\\lib\\site-packages (from konlpy) (1.0.2)\n",
            "Requirement already satisfied: colorama in c:\\data\\envs\\py37\\lib\\site-packages (from konlpy) (0.4.3)\n",
            "Requirement already satisfied: lxml>=4.1.0 in c:\\data\\envs\\py37\\lib\\site-packages (from konlpy) (4.5.2)\n",
            "Requirement already satisfied: numpy>=1.6 in c:\\data\\envs\\py37\\lib\\site-packages (from konlpy) (1.19.1)\n",
            "Requirement already satisfied: beautifulsoup4==4.6.0 in c:\\data\\envs\\py37\\lib\\site-packages (from konlpy) (4.6.0)\n",
            "Requirement already satisfied: tweepy>=3.7.0 in c:\\data\\envs\\py37\\lib\\site-packages (from konlpy) (3.9.0)\n",
            "Requirement already satisfied: typing-extensions; python_version < \"3.8\" in c:\\data\\envs\\py37\\lib\\site-packages (from JPype1>=0.7.0->konlpy) (3.7.4.3)\n",
            "Requirement already satisfied: requests-oauthlib>=0.7.0 in c:\\data\\envs\\py37\\lib\\site-packages (from tweepy>=3.7.0->konlpy) (1.3.0)\n",
            "Requirement already satisfied: six>=1.10.0 in c:\\data\\envs\\py37\\lib\\site-packages (from tweepy>=3.7.0->konlpy) (1.15.0)\n",
            "Requirement already satisfied: requests[socks]>=2.11.1 in c:\\data\\envs\\py37\\lib\\site-packages (from tweepy>=3.7.0->konlpy) (2.24.0)\n",
            "Requirement already satisfied: oauthlib>=3.0.0 in c:\\data\\envs\\py37\\lib\\site-packages (from requests-oauthlib>=0.7.0->tweepy>=3.7.0->konlpy) (3.1.0)\n",
            "Requirement already satisfied: idna<3,>=2.5 in c:\\data\\envs\\py37\\lib\\site-packages (from requests[socks]>=2.11.1->tweepy>=3.7.0->konlpy) (2.10)\n",
            "Requirement already satisfied: certifi>=2017.4.17 in c:\\data\\envs\\py37\\lib\\site-packages (from requests[socks]>=2.11.1->tweepy>=3.7.0->konlpy) (2020.6.20)\n",
            "Requirement already satisfied: urllib3!=1.25.0,!=1.25.1,<1.26,>=1.21.1 in c:\\data\\envs\\py37\\lib\\site-packages (from requests[socks]>=2.11.1->tweepy>=3.7.0->konlpy) (1.25.10)\n",
            "Requirement already satisfied: chardet<4,>=3.0.2 in c:\\data\\envs\\py37\\lib\\site-packages (from requests[socks]>=2.11.1->tweepy>=3.7.0->konlpy) (3.0.4)\n",
            "Requirement already satisfied: PySocks!=1.5.7,>=1.5.6; extra == \"socks\" in c:\\data\\envs\\py37\\lib\\site-packages (from requests[socks]>=2.11.1->tweepy>=3.7.0->konlpy) (1.7.1)\n"
          ],
          "name": "stdout"
        }
      ]
    },
    {
      "cell_type": "code",
      "metadata": {
        "id": "XvS-YDk9CHgD",
        "colab_type": "code",
        "colab": {},
        "outputId": "92761b06-2c02-40ff-8ec6-2c712a09a326"
      },
      "source": [
        "#설치 확인\n",
        "from konlpy.tag import Kkma\n",
        "K = Kkma()\n",
        "out = K.nouns(\"지금부터 코앤엘파이 한국어 형태소 분석기 설치를 확인해 봅니다.\")\n",
        "out"
      ],
      "execution_count": null,
      "outputs": [
        {
          "output_type": "execute_result",
          "data": {
            "text/plain": [
              "['지금', '코', '코앤엘파이', '앤', '엘', '파이', '한국어', '형태소', '분석기', '설치', '확인']"
            ]
          },
          "metadata": {
            "tags": []
          },
          "execution_count": 3
        }
      ]
    },
    {
      "cell_type": "code",
      "metadata": {
        "id": "8kCNiyoTCHgK",
        "colab_type": "code",
        "colab": {}
      },
      "source": [
        "from konlpy.tag import Mecab\n",
        "m = Mecab()"
      ],
      "execution_count": null,
      "outputs": []
    },
    {
      "cell_type": "code",
      "metadata": {
        "id": "3djBALxbCHgQ",
        "colab_type": "code",
        "colab": {},
        "outputId": "14f581e8-d331-421c-bd88-ddc7c7c18875"
      },
      "source": [
        "m.nouns('메켑이 설치되었는지 확인')"
      ],
      "execution_count": null,
      "outputs": [
        {
          "output_type": "execute_result",
          "data": {
            "text/plain": [
              "['설치', '확인']"
            ]
          },
          "metadata": {
            "tags": []
          },
          "execution_count": 5
        }
      ]
    }
  ]
}