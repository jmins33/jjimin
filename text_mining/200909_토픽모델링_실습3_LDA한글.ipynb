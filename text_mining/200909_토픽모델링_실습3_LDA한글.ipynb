{
 "cells": [
  {
   "cell_type": "code",
   "execution_count": 68,
   "metadata": {},
   "outputs": [
    {
     "data": {
      "text/html": [
       "<div>\n",
       "<style scoped>\n",
       "    .dataframe tbody tr th:only-of-type {\n",
       "        vertical-align: middle;\n",
       "    }\n",
       "\n",
       "    .dataframe tbody tr th {\n",
       "        vertical-align: top;\n",
       "    }\n",
       "\n",
       "    .dataframe thead th {\n",
       "        text-align: right;\n",
       "    }\n",
       "</style>\n",
       "<table border=\"1\" class=\"dataframe\">\n",
       "  <thead>\n",
       "    <tr style=\"text-align: right;\">\n",
       "      <th></th>\n",
       "      <th>content</th>\n",
       "    </tr>\n",
       "  </thead>\n",
       "  <tbody>\n",
       "    <tr>\n",
       "      <th>0</th>\n",
       "      <td>\"후불정산 방식 악용해 서버 혹사 시키고 잠적 비트코인 등 가상통화 광풍으로 국내 ...</td>\n",
       "    </tr>\n",
       "    <tr>\n",
       "      <th>1</th>\n",
       "      <td>개인정보 유출 공지 안내 이메일로 위장한 '가상화폐 채굴 악성코드'가 나타났다. P...</td>\n",
       "    </tr>\n",
       "    <tr>\n",
       "      <th>2</th>\n",
       "      <td>\"행정안전부 국가기록원은 9일부터 국민의 열람 수요가 많은 서울 경기권 지적원도 약...</td>\n",
       "    </tr>\n",
       "    <tr>\n",
       "      <th>3</th>\n",
       "      <td>\"소비자잡지 초이스, 추천제품 선정 LG전자 건조기가 호주서 호평을 받았다.LG전자...</td>\n",
       "    </tr>\n",
       "    <tr>\n",
       "      <th>4</th>\n",
       "      <td>\"스타크래프트 AI대회 韓 첫 1위데이비드 처칠 David Churchill 캐나다...</td>\n",
       "    </tr>\n",
       "  </tbody>\n",
       "</table>\n",
       "</div>"
      ],
      "text/plain": [
       "                                             content\n",
       "0  \"후불정산 방식 악용해 서버 혹사 시키고 잠적 비트코인 등 가상통화 광풍으로 국내 ...\n",
       "1  개인정보 유출 공지 안내 이메일로 위장한 '가상화폐 채굴 악성코드'가 나타났다. P...\n",
       "2  \"행정안전부 국가기록원은 9일부터 국민의 열람 수요가 많은 서울 경기권 지적원도 약...\n",
       "3  \"소비자잡지 초이스, 추천제품 선정 LG전자 건조기가 호주서 호평을 받았다.LG전자...\n",
       "4  \"스타크래프트 AI대회 韓 첫 1위데이비드 처칠 David Churchill 캐나다..."
      ]
     },
     "execution_count": 68,
     "metadata": {},
     "output_type": "execute_result"
    }
   ],
   "source": [
    "import pandas as pd\n",
    "import numpy as np\n",
    "\n",
    "df= pd.DataFrame(pd.read_csv('LDA_example.csv', sep='\\t', quoting=3))\n",
    "df = df.replace(np.nan, '', regex=True)\n",
    "df.head()"
   ]
  },
  {
   "cell_type": "code",
   "execution_count": 69,
   "metadata": {
    "scrolled": false
   },
   "outputs": [
    {
     "data": {
      "text/html": [
       "<div>\n",
       "<style scoped>\n",
       "    .dataframe tbody tr th:only-of-type {\n",
       "        vertical-align: middle;\n",
       "    }\n",
       "\n",
       "    .dataframe tbody tr th {\n",
       "        vertical-align: top;\n",
       "    }\n",
       "\n",
       "    .dataframe thead th {\n",
       "        text-align: right;\n",
       "    }\n",
       "</style>\n",
       "<table border=\"1\" class=\"dataframe\">\n",
       "  <thead>\n",
       "    <tr style=\"text-align: right;\">\n",
       "      <th></th>\n",
       "      <th>content</th>\n",
       "    </tr>\n",
       "  </thead>\n",
       "  <tbody>\n",
       "    <tr>\n",
       "      <th>0</th>\n",
       "      <td>후불정산 방식 악용해 서버 혹사 시키고 잠적 비트코인 등 가상통화 광풍으로 국내 클...</td>\n",
       "    </tr>\n",
       "    <tr>\n",
       "      <th>1</th>\n",
       "      <td>개인정보 유출 공지 안내 이메일로 위장한  가상화폐 채굴 악성코드 가 나타났다   ...</td>\n",
       "    </tr>\n",
       "    <tr>\n",
       "      <th>2</th>\n",
       "      <td>행정안전부 국가기록원은  일부터 국민의 열람 수요가 많은 서울 경기권 지적원도 약 ...</td>\n",
       "    </tr>\n",
       "    <tr>\n",
       "      <th>3</th>\n",
       "      <td>소비자잡지 초이스  추천제품 선정   전자 건조기가 호주서 호평을 받았다   전자 ...</td>\n",
       "    </tr>\n",
       "    <tr>\n",
       "      <th>4</th>\n",
       "      <td>스타크래프트   대회   첫  위데이비드 처칠                 캐나다 ...</td>\n",
       "    </tr>\n",
       "  </tbody>\n",
       "</table>\n",
       "</div>"
      ],
      "text/plain": [
       "                                             content\n",
       "0  후불정산 방식 악용해 서버 혹사 시키고 잠적 비트코인 등 가상통화 광풍으로 국내 클...\n",
       "1  개인정보 유출 공지 안내 이메일로 위장한  가상화폐 채굴 악성코드 가 나타났다   ...\n",
       "2  행정안전부 국가기록원은  일부터 국민의 열람 수요가 많은 서울 경기권 지적원도 약 ...\n",
       "3  소비자잡지 초이스  추천제품 선정   전자 건조기가 호주서 호평을 받았다   전자 ...\n",
       "4  스타크래프트   대회   첫  위데이비드 처칠                 캐나다 ..."
      ]
     },
     "execution_count": 69,
     "metadata": {},
     "output_type": "execute_result"
    }
   ],
   "source": [
    "import re \n",
    "# '한글'을 제외한 다른 문자 모두 제거\n",
    "remove_except_ko = re.compile(r\"[^가-힣ㄱ-ㅎㅏ-ㅣ\\\\s]\")\n",
    "def preprocess(text):\n",
    "    text = re.sub(remove_except_ko,' ',text).strip()\n",
    "    return text\n",
    "\n",
    "df['content'] = df['content'].map(lambda x : preprocess(x))\n",
    "df.head()"
   ]
  },
  {
   "cell_type": "code",
   "execution_count": 98,
   "metadata": {},
   "outputs": [
    {
     "name": "stderr",
     "output_type": "stream",
     "text": [
      "C:\\Data\\envs\\py37\\lib\\site-packages\\ipykernel\\ipkernel.py:287: DeprecationWarning: `should_run_async` will not call `transform_cell` automatically in the future. Please pass the result to `transformed_cell` argument and any exception that happen during thetransform in `preprocessing_exc_tuple` in IPython 7.17 and above.\n",
      "  and should_run_async(code)\n"
     ]
    }
   ],
   "source": [
    "# Mecab\n",
    "from konlpy.tag import Mecab\n",
    "# 선언\n",
    "mecab= Mecab()"
   ]
  },
  {
   "cell_type": "code",
   "execution_count": 99,
   "metadata": {},
   "outputs": [
    {
     "name": "stderr",
     "output_type": "stream",
     "text": [
      "C:\\Data\\envs\\py37\\lib\\site-packages\\ipykernel\\ipkernel.py:287: DeprecationWarning: `should_run_async` will not call `transform_cell` automatically in the future. Please pass the result to `transformed_cell` argument and any exception that happen during thetransform in `preprocessing_exc_tuple` in IPython 7.17 and above.\n",
      "  and should_run_async(code)\n"
     ]
    }
   ],
   "source": [
    "stop_words = ['은','는','이','가','을','를','께서','에서','이다','에게','으로','이랑','까지','부터','하다']\n",
    "stopPos = ['JKS','JKC','JKG','JKO','JKB','JKV','JKQ','JC','JX',\n",
    "           'SF','SE','SS','SP','SSO','SSC','SC','SY','SH','SL','SN',\n",
    "           'MM','MAG','MAJ']\n",
    "def token_mecab(text):\n",
    "    text = mecab.pos(text)\n",
    "    text = [i for i in text if len(i[0])>1]\n",
    "    text = [i for i in text if i[0] not in stop_word]\n",
    "    text = [i[0] for i in text if i[1] not in stopPos]\n",
    "    return text"
   ]
  },
  {
   "cell_type": "code",
   "execution_count": 101,
   "metadata": {},
   "outputs": [
    {
     "name": "stderr",
     "output_type": "stream",
     "text": [
      "C:\\Data\\envs\\py37\\lib\\site-packages\\ipykernel\\ipkernel.py:287: DeprecationWarning: `should_run_async` will not call `transform_cell` automatically in the future. Please pass the result to `transformed_cell` argument and any exception that happen during thetransform in `preprocessing_exc_tuple` in IPython 7.17 and above.\n",
      "  and should_run_async(code)\n"
     ]
    },
    {
     "data": {
      "text/plain": [
       "['후불', '정산', '비트코인', '가상', '통화', '광풍', '클라우드', '비트코인', '채굴', '과정', '그래픽']"
      ]
     },
     "execution_count": 101,
     "metadata": {},
     "output_type": "execute_result"
    }
   ],
   "source": [
    "token_mecab('후불정산 비트코인 가상통화 광풍으로 클라우드 받고있다 비트코인의 채굴과정에서 그래픽')"
   ]
  },
  {
   "cell_type": "code",
   "execution_count": 102,
   "metadata": {},
   "outputs": [
    {
     "name": "stderr",
     "output_type": "stream",
     "text": [
      "C:\\Data\\envs\\py37\\lib\\site-packages\\ipykernel\\ipkernel.py:287: DeprecationWarning: `should_run_async` will not call `transform_cell` automatically in the future. Please pass the result to `transformed_cell` argument and any exception that happen during thetransform in `preprocessing_exc_tuple` in IPython 7.17 and above.\n",
      "  and should_run_async(code)\n"
     ]
    }
   ],
   "source": [
    "def make_tokens(df):\n",
    "    df['tokens'] = ''\n",
    "    tokens_list=[]\n",
    "    for i in range(len(df)):\n",
    "        token = token_mecab(df['content'][i])\n",
    "        df['tokens'][i] = ' '.join(token)\n",
    "    return df\n",
    "\n",
    "df = make_tokens(df)"
   ]
  },
  {
   "cell_type": "code",
   "execution_count": 103,
   "metadata": {
    "scrolled": true
   },
   "outputs": [
    {
     "name": "stderr",
     "output_type": "stream",
     "text": [
      "C:\\Data\\envs\\py37\\lib\\site-packages\\ipykernel\\ipkernel.py:287: DeprecationWarning: `should_run_async` will not call `transform_cell` automatically in the future. Please pass the result to `transformed_cell` argument and any exception that happen during thetransform in `preprocessing_exc_tuple` in IPython 7.17 and above.\n",
      "  and should_run_async(code)\n"
     ]
    },
    {
     "data": {
      "text/html": [
       "<div>\n",
       "<style scoped>\n",
       "    .dataframe tbody tr th:only-of-type {\n",
       "        vertical-align: middle;\n",
       "    }\n",
       "\n",
       "    .dataframe tbody tr th {\n",
       "        vertical-align: top;\n",
       "    }\n",
       "\n",
       "    .dataframe thead th {\n",
       "        text-align: right;\n",
       "    }\n",
       "</style>\n",
       "<table border=\"1\" class=\"dataframe\">\n",
       "  <thead>\n",
       "    <tr style=\"text-align: right;\">\n",
       "      <th></th>\n",
       "      <th>content</th>\n",
       "      <th>tokens</th>\n",
       "    </tr>\n",
       "  </thead>\n",
       "  <tbody>\n",
       "    <tr>\n",
       "      <th>0</th>\n",
       "      <td>후불정산 비트코인 가상통화 광풍으로 클라우드 받고있다 비트코인의 채굴과정에서 그래픽...</td>\n",
       "      <td>후불 정산 비트코인 가상 통화 광풍 클라우드 비트코인 채굴 과정 그래픽 카드 하드웨...</td>\n",
       "    </tr>\n",
       "    <tr>\n",
       "      <th>1</th>\n",
       "      <td>개인정보 이메일로 가상화폐 악성코드 나타났다 오프라인 가상화폐 탈취하는 발견됐다 가...</td>\n",
       "      <td>개인 정보 이메일 가상 화폐 코드 나타났 오프라인 가상 화폐 탈취 발견 가상 화폐 ...</td>\n",
       "    </tr>\n",
       "    <tr>\n",
       "      <th>2</th>\n",
       "      <td>행정안전부 국가기록원은 지적원도 공공누리 표시하고 내려받기 제공한다고 공공누리는 지...</td>\n",
       "      <td>행정 국가 기록원 지적 원도 공공누리 표시 내려받기 제공 한다고 공공누리 지방 자치...</td>\n",
       "    </tr>\n",
       "    <tr>\n",
       "      <th>3</th>\n",
       "      <td>소비자잡지 추천제품 건조기가 소비자잡지 초이스가 추천제품으로 선정했다고 초이스는 건...</td>\n",
       "      <td>소비자 잡지 추천 제품 건조기 소비자 잡지 초이스 추천 제품 선정 다고 초이스 건조...</td>\n",
       "    </tr>\n",
       "    <tr>\n",
       "      <th>4</th>\n",
       "      <td>스타크래프트 위데이비드 메모리얼대학교 컴퓨터공학과 스타크래프트 대회에서 발표하고 사...</td>\n",
       "      <td>스타크래프트 데이비드 메모리얼 대학교 컴퓨터 공학 스타크래프트 대회 발표 사진 제공...</td>\n",
       "    </tr>\n",
       "  </tbody>\n",
       "</table>\n",
       "</div>"
      ],
      "text/plain": [
       "                                             content  \\\n",
       "0  후불정산 비트코인 가상통화 광풍으로 클라우드 받고있다 비트코인의 채굴과정에서 그래픽...   \n",
       "1  개인정보 이메일로 가상화폐 악성코드 나타났다 오프라인 가상화폐 탈취하는 발견됐다 가...   \n",
       "2  행정안전부 국가기록원은 지적원도 공공누리 표시하고 내려받기 제공한다고 공공누리는 지...   \n",
       "3  소비자잡지 추천제품 건조기가 소비자잡지 초이스가 추천제품으로 선정했다고 초이스는 건...   \n",
       "4  스타크래프트 위데이비드 메모리얼대학교 컴퓨터공학과 스타크래프트 대회에서 발표하고 사...   \n",
       "\n",
       "                                              tokens  \n",
       "0  후불 정산 비트코인 가상 통화 광풍 클라우드 비트코인 채굴 과정 그래픽 카드 하드웨...  \n",
       "1  개인 정보 이메일 가상 화폐 코드 나타났 오프라인 가상 화폐 탈취 발견 가상 화폐 ...  \n",
       "2  행정 국가 기록원 지적 원도 공공누리 표시 내려받기 제공 한다고 공공누리 지방 자치...  \n",
       "3  소비자 잡지 추천 제품 건조기 소비자 잡지 초이스 추천 제품 선정 다고 초이스 건조...  \n",
       "4  스타크래프트 데이비드 메모리얼 대학교 컴퓨터 공학 스타크래프트 대회 발표 사진 제공...  "
      ]
     },
     "execution_count": 103,
     "metadata": {},
     "output_type": "execute_result"
    }
   ],
   "source": [
    "df.head()"
   ]
  },
  {
   "cell_type": "code",
   "execution_count": 115,
   "metadata": {},
   "outputs": [
    {
     "name": "stderr",
     "output_type": "stream",
     "text": [
      "C:\\Data\\envs\\py37\\lib\\site-packages\\ipykernel\\ipkernel.py:287: DeprecationWarning: `should_run_async` will not call `transform_cell` automatically in the future. Please pass the result to `transformed_cell` argument and any exception that happen during thetransform in `preprocessing_exc_tuple` in IPython 7.17 and above.\n",
      "  and should_run_async(code)\n"
     ]
    }
   ],
   "source": [
    "from pandas import Series\n",
    "data = tokens\n",
    "index = [len(tokens)]\n",
    "s = Series(data=data, index=index)"
   ]
  },
  {
   "cell_type": "code",
   "execution_count": 116,
   "metadata": {},
   "outputs": [
    {
     "name": "stderr",
     "output_type": "stream",
     "text": [
      "C:\\Data\\envs\\py37\\lib\\site-packages\\ipykernel\\ipkernel.py:287: DeprecationWarning: `should_run_async` will not call `transform_cell` automatically in the future. Please pass the result to `transformed_cell` argument and any exception that happen during thetransform in `preprocessing_exc_tuple` in IPython 7.17 and above.\n",
      "  and should_run_async(code)\n"
     ]
    }
   ],
   "source": [
    "# 공백으로 토큰 분리\n",
    "def my_tokenizer(text):\n",
    "    return text.split()"
   ]
  },
  {
   "cell_type": "code",
   "execution_count": 117,
   "metadata": {},
   "outputs": [
    {
     "name": "stderr",
     "output_type": "stream",
     "text": [
      "C:\\Data\\envs\\py37\\lib\\site-packages\\ipykernel\\ipkernel.py:287: DeprecationWarning: `should_run_async` will not call `transform_cell` automatically in the future. Please pass the result to `transformed_cell` argument and any exception that happen during thetransform in `preprocessing_exc_tuple` in IPython 7.17 and above.\n",
      "  and should_run_async(code)\n"
     ]
    }
   ],
   "source": [
    "from sklearn.feature_extraction.text import TfidfVectorizer\n",
    "from sklearn.decomposition import LatentDirichletAllocation\n",
    "\n",
    "tfidf_vect = TfidfVectorizer(tokenizer = my_tokenizer)\n",
    "tfidf = tfidf_vect.fit_transform(s)\n",
    "\n",
    "#모델 선언\n",
    "lda = LatentDirichletAllocation(n_components=3)\n",
    "lda_output = lda.fit_transform(tfidf)"
   ]
  },
  {
   "cell_type": "code",
   "execution_count": 118,
   "metadata": {},
   "outputs": [
    {
     "name": "stderr",
     "output_type": "stream",
     "text": [
      "C:\\Data\\envs\\py37\\lib\\site-packages\\ipykernel\\ipkernel.py:287: DeprecationWarning: `should_run_async` will not call `transform_cell` automatically in the future. Please pass the result to `transformed_cell` argument and any exception that happen during thetransform in `preprocessing_exc_tuple` in IPython 7.17 and above.\n",
      "  and should_run_async(code)\n"
     ]
    },
    {
     "data": {
      "text/html": [
       "\n",
       "<link rel=\"stylesheet\" type=\"text/css\" href=\"https://cdn.rawgit.com/bmabey/pyLDAvis/files/ldavis.v1.0.0.css\">\n",
       "\n",
       "\n",
       "<div id=\"ldavis_el1392424157463670488795852175\"></div>\n",
       "<script type=\"text/javascript\">\n",
       "\n",
       "var ldavis_el1392424157463670488795852175_data = {\"mdsDat\": {\"x\": [-1015.7005615234375, -387.9960021972656, -2184.74560546875], \"y\": [1338.981201171875, -373.316162109375, -60.565799713134766], \"topics\": [1, 2, 3], \"cluster\": [1, 1, 1], \"Freq\": [94.09489564155238, 2.952552432417184, 2.9525519260304347]}, \"tinfo\": {\"Term\": [\"\\ud074\\ub77c\\uc6b0\\ub4dc\", \"\\uac00\\uc0c1\\ud1b5\\ud654\", \"\\uc804\\uc0b0\", \"\\ub4f1\", \"\\uace0\\uc131\\ub2a5\", \"\\ucc44\\uad74\\ud558\\ub294\", \"\\ucc44\\uad74\", \"\\uc788\\ub294\", \"\\uc774\", \"\\uc545\\uc6a9\\ud574\", \"\\uc218\", \"\\uc11c\\ubc84\\ub97c\", \"\\uad6d\\ub0b4\", \"\\ud6c4\\ubd88\\uc815\\uc0b0\", \"\\uac00\\uc0c1\\ud1b5\\ud654\\ub97c\", \"\\uac83\\uc73c\\ub85c\", \"\\uad00\\ub828\\uc5c5\\uacc4\\uc5d0\", \"\\uc804\\ub9dd\\ud558\\uace0\\uc788\\ub2e4\", \"\\uc77c\\uc815\\ub7c9\\uc758\", \"\\uc788\\uae30\", \"\\uac1c\\uc815\\ud574\", \"\\uc790\\uc6d0\\uc744\", \"\\uc7a0\\uc801\", \"\\uc7a0\\uc801\\ud558\\ub294\", \"\\uc804\\uba74\", \"\\uc778\\uc99d\", \"\\uac1c\\uc778\\uc758\", \"\\uc804\\ud574\\uc9c4\\ub2e4\", \"\\uc808\\ucc28\", \"\\uc810\\uc744\", \"\\ud074\\ub77c\\uc6b0\\ub4dc\", \"\\uac00\\uc0c1\\ud1b5\\ud654\", \"\\ub4f1\", \"\\uc804\\uc0b0\", \"\\uac00\\uc0c1\\ud1b5\\ud654\\ub97c\", \"\\uac83\\uc73c\\ub85c\", \"\\uace0\\uc131\\ub2a5\", \"\\uad6d\\ub0b4\", \"\\uc11c\\ubc84\\ub97c\", \"\\uc218\", \"\\uc545\\uc6a9\\ud574\", \"\\uc774\", \"\\uc788\\ub294\", \"\\ucc44\\uad74\", \"\\ucc44\\uad74\\ud558\\ub294\", \"\\ud6c4\\ubd88\\uc815\\uc0b0\", \"\\ud310\\ucd09\\uc6a9\", \"\\ubc29\\uc2dd\\uc774\\ub77c\\ub294\", \"\\ubc1c\\uae09\", \"\\ubc1b\\ub294\\ub2e4\", \"\\ubc1b\\uace0\\uc788\\ub2e4\", \"\\ubb38\\uc81c\\uac00\", \"\\ubb34\\ub8cc\", \"\\ub9e4\\uc6b0\", \"\\ub9ce\\uc740\", \"\\ub9cc\\ud07c\", \"\\ub9cc\\uac1c\\ub85c\", \"\\ub9c8\\ub828\\ud558\\ub294\", \"\\ub97c\", \"\\ub85c\", \"\\uc4f0\\ub294\", \"\\uc0ac\\uc774\\ubc84\", \"\\uc0ac\\uc2e4\\uc774\", \"\\uc0ac\\ub840\\ub3c4\", \"\\uc0ac\\ub840\\uac00\", \"\\ube7c\\ub3cc\\ub824\", \"\\ube44\\ud2b8\\ucf54\\uc778\\uc758\", \"\\ube44\\ud2b8\\ucf54\\uc778\\uc740\", \"\\ube44\\ud2b8\\ucf54\\uc778\", \"\\ube44\\uc6a9\\uc774\", \"\\ube44\\uc2fc\", \"\\ubd80\\ub2f4\\uc744\", \"\\ubcf4\\uae30\", \"\\ubcc0\\uce59\\uc0ac\\ub840\\uac00\", \"\\ubc29\\uc2dd\\uc774\\ub77c\\ub294\", \"\\ubc29\\uc2dd\", \"\\ubc1c\\uae09\", \"\\uc0ac\\uc6a9\", \"\\uc11c\\ubc84\", \"\\uacc4\\uc815\\uc744\", \"\\uac83\\uc774\", \"\\uc55e\\uc73c\\ub85c\\ub3c4\", \"\\uc554\\ud638\", \"\\uac70\\ub798\", \"\\uc545\\uc6a9\\ud55c\", \"\\uc544\\ub9c8\\uc874\", \"\\ud6a8\\uc728\\uc774\", \"\\uc368\\uc11c\", \"\\uc2fc\", \"\\uc2e4\\uc81c\", \"\\ud074\\ub77c\\uc6b0\\ub4dc\", \"\\uac00\\uc0c1\\ud1b5\\ud654\", \"\\ub4f1\", \"\\uc804\\uc0b0\", \"\\uac00\\uc0c1\\ud1b5\\ud654\\ub97c\", \"\\uac83\\uc73c\\ub85c\", \"\\uace0\\uc131\\ub2a5\", \"\\uad6d\\ub0b4\", \"\\uc11c\\ubc84\\ub97c\", \"\\uc218\", \"\\uc545\\uc6a9\\ud574\", \"\\uc774\", \"\\uc788\\ub294\", \"\\ucc44\\uad74\", \"\\ucc44\\uad74\\ud558\\ub294\", \"\\ud6c4\\ubd88\\uc815\\uc0b0\", \"\\ud310\\ucd09\\uc6a9\", \"\\ubc1b\\ub294\\ub2e4\", \"\\ubc1b\\uace0\\uc788\\ub2e4\", \"\\ubb38\\uc81c\\uac00\", \"\\ubb34\\ub8cc\", \"\\ub9e4\\uc6b0\", \"\\ub9ce\\uc740\", \"\\ub9cc\\ud07c\", \"\\ub9cc\\uac1c\\ub85c\", \"\\ub9c8\\ub828\\ud558\\ub294\", \"\\ub97c\", \"\\ub85c\", \"\\uc4f0\\ub294\", \"\\uc0ac\\uc774\\ubc84\", \"\\uc0ac\\uc2e4\\uc774\", \"\\uc0ac\\ub840\\ub3c4\", \"\\uc0ac\\ub840\\uac00\", \"\\ube7c\\ub3cc\\ub824\", \"\\ube44\\ud2b8\\ucf54\\uc778\\uc758\", \"\\ube44\\ud2b8\\ucf54\\uc778\\uc740\", \"\\ube44\\ud2b8\\ucf54\\uc778\", \"\\ube44\\uc6a9\\uc774\", \"\\ube44\\uc2fc\", \"\\ubd80\\ub2f4\\uc744\", \"\\ubcf4\\uae30\", \"\\ubcc0\\uce59\\uc0ac\\ub840\\uac00\", \"\\ubc29\\uc2dd\\uc774\\ub77c\\ub294\", \"\\ubc29\\uc2dd\", \"\\ubc1c\\uae09\", \"\\uc0ac\\uc6a9\", \"\\uc11c\\ubc84\", \"\\uacc4\\uc815\\uc744\", \"\\uac83\\uc774\", \"\\uc55e\\uc73c\\ub85c\\ub3c4\", \"\\uc554\\ud638\", \"\\uac70\\ub798\", \"\\uc545\\uc6a9\\ud55c\", \"\\uc544\\ub9c8\\uc874\", \"\\ud6a8\\uc728\\uc774\", \"\\uc368\\uc11c\", \"\\uc2fc\", \"\\uc2e4\\uc81c\", \"\\ud074\\ub77c\\uc6b0\\ub4dc\", \"\\uac00\\uc0c1\\ud1b5\\ud654\", \"\\ub4f1\", \"\\uc804\\uc0b0\", \"\\uac00\\uc0c1\\ud1b5\\ud654\\ub97c\", \"\\uac83\\uc73c\\ub85c\", \"\\uace0\\uc131\\ub2a5\", \"\\uad6d\\ub0b4\", \"\\uc11c\\ubc84\\ub97c\", \"\\uc218\", \"\\uc545\\uc6a9\\ud574\", \"\\uc774\", \"\\uc788\\ub294\", \"\\ucc44\\uad74\", \"\\ucc44\\uad74\\ud558\\ub294\", \"\\ud6c4\\ubd88\\uc815\\uc0b0\", \"\\ud310\\ucd09\\uc6a9\", \"\\ubc1b\\ub294\\ub2e4\", \"\\ubc1b\\uace0\\uc788\\ub2e4\", \"\\ubb38\\uc81c\\uac00\", \"\\ubb34\\ub8cc\", \"\\ub9e4\\uc6b0\", \"\\ub9ce\\uc740\", \"\\ub9cc\\ud07c\", \"\\ub9cc\\uac1c\\ub85c\", \"\\ub9c8\\ub828\\ud558\\ub294\", \"\\ub97c\", \"\\ub85c\"], \"Freq\": [0.0, 0.0, 0.0, 0.0, 0.0, 0.0, 0.0, 0.0, 0.0, 0.0, 0.0, 0.0, 0.0, 0.0, 0.0, 0.0, 0.0, 0.0, 0.0, 0.0, 0.0, 0.0, 0.0, 0.0, 0.0, 0.0, 0.0, 0.0, 0.0, 0.0, 0.1073254317559408, 0.0969172541813414, 0.08651173594341635, 0.08651173594341635, 0.07611279450311692, 0.07611279450311692, 0.07611279450311692, 0.07611279450311692, 0.07611279450311692, 0.07611279450311692, 0.07611279450311692, 0.07611279450311692, 0.07611279450311692, 0.07611279450311692, 0.07611279450311692, 0.07611279450311692, 0.06573151047688328, 0.06573151047688328, 0.06573151047688328, 0.06573151047688328, 0.06573151047688328, 0.06573151047688328, 0.06573151047688328, 0.06573151047688328, 0.06573151047688328, 0.06573151047688328, 0.06573151047688328, 0.06573151047688328, 0.06573151047688328, 0.06573151047688328, 0.0021082092349150616, 0.0021082092349150616, 0.0021082092349150616, 0.0021082092349150616, 0.0021082092349150616, 0.0021082092349150616, 0.0021082092349150616, 0.0021082092349150616, 0.0021082092349150616, 0.0021082092349150616, 0.0021082092349150616, 0.0021082092349150616, 0.0021082092349150616, 0.0021082092349150616, 0.0021082092349150616, 0.0021082092349150616, 0.0021082092349150616, 0.0021082092349150616, 0.0021082092349150616, 0.0021082092349150616, 0.0021082092349150616, 0.0021082092349150616, 0.0021082092349150616, 0.0021082092349150616, 0.0021082092349150616, 0.0021082092349150616, 0.0021082092349150616, 0.0021082092349150616, 0.0021082092349150616, 0.0021082092349150616, 0.0021089867147941516, 0.0021089767520303675, 0.002108916218181005, 0.002108916218181005, 0.0021087306171127473, 0.0021087306171127473, 0.0021087306171127473, 0.0021087306171127473, 0.0021087306171127473, 0.0021087306171127473, 0.0021087306171127473, 0.0021087306171127473, 0.0021087306171127473, 0.0021087306171127473, 0.0021087306171127473, 0.0021087306171127473, 0.0021082092349150616, 0.0021082092349150616, 0.0021082092349150616, 0.0021082092349150616, 0.0021082092349150616, 0.0021082092349150616, 0.0021082092349150616, 0.0021082092349150616, 0.0021082092349150616, 0.0021082092349150616, 0.0021082092349150616, 0.0021082092349150616, 0.002108208902061002, 0.002108208902061002, 0.002108208902061002, 0.002108208902061002, 0.002108208902061002, 0.002108208902061002, 0.002108208902061002, 0.002108208902061002, 0.002108208902061002, 0.002108208902061002, 0.002108208902061002, 0.002108208902061002, 0.002108208902061002, 0.002108208902061002, 0.002108208902061002, 0.002108208902061002, 0.002108208902061002, 0.002108208902061002, 0.002108208902061002, 0.002108208902061002, 0.002108208902061002, 0.002108208902061002, 0.002108208902061002, 0.002108208902061002, 0.002108208902061002, 0.002108208902061002, 0.002108208902061002, 0.002108208902061002, 0.002108208902061002, 0.002108208902061002, 0.002108985984537571, 0.0021089760268600765, 0.002108915523918443, 0.002108915523918443, 0.002108730017651749, 0.002108730017651749, 0.002108730017651749, 0.002108730017651749, 0.002108730017651749, 0.002108730017651749, 0.002108730017651749, 0.002108730017651749, 0.002108730017651749, 0.002108730017651749, 0.002108730017651749, 0.002108730017651749, 0.002108208902061002, 0.002108208902061002, 0.002108208902061002, 0.002108208902061002, 0.002108208902061002, 0.002108208902061002, 0.002108208902061002, 0.002108208902061002, 0.002108208902061002, 0.002108208902061002, 0.002108208902061002, 0.002108208902061002], \"Total\": [0.0, 0.0, 0.0, 0.0, 0.0, 0.0, 0.0, 0.0, 0.0, 0.0, 0.0, 0.0, 0.0, 0.0, 0.0, 0.0, 0.0, 0.0, 0.0, 0.0, 0.0, 0.0, 0.0, 0.0, 0.0, 0.0, 0.0, 0.0, 0.0, 0.0, 0.11154340445527251, 0.10113520696023184, 0.0907295676855158, 0.0907295676855158, 0.08033025513788142, 0.08033025513788142, 0.08033025513788142, 0.08033025513788142, 0.08033025513788142, 0.08033025513788142, 0.08033025513788142, 0.08033025513788142, 0.08033025513788142, 0.08033025513788142, 0.08033025513788142, 0.08033025513788142, 0.06994792861385933, 0.06994792861385933, 0.06994792861385933, 0.06994792861385933, 0.06994792861385933, 0.06994792861385933, 0.06994792861385933, 0.06994792861385933, 0.06994792861385933, 0.06994792861385933, 0.06994792861385933, 0.06994792861385933, 0.06994792861385933, 0.06994792861385933, 0.06994792861385933, 0.06994792861385933, 0.06994792861385933, 0.06994792861385933, 0.06994792861385933, 0.06994792861385933, 0.06994792861385933, 0.06994792861385933, 0.06994792861385933, 0.06994792861385933, 0.06994792861385933, 0.06994792861385933, 0.06994792861385933, 0.06994792861385933, 0.06994792861385933, 0.06994792861385933, 0.06994792861385933, 0.06994792861385933, 0.06994792861385933, 0.06994792861385933, 0.06994792861385933, 0.06994792861385933, 0.06994792861385933, 0.06994792861385933, 0.06994792861385933, 0.06994792861385933, 0.06994792861385933, 0.06994792861385933, 0.06994792861385933, 0.06994792861385933, 0.11154340445527251, 0.10113520696023184, 0.0907295676855158, 0.0907295676855158, 0.08033025513788142, 0.08033025513788142, 0.08033025513788142, 0.08033025513788142, 0.08033025513788142, 0.08033025513788142, 0.08033025513788142, 0.08033025513788142, 0.08033025513788142, 0.08033025513788142, 0.08033025513788142, 0.08033025513788142, 0.06994792861385933, 0.06994792861385933, 0.06994792861385933, 0.06994792861385933, 0.06994792861385933, 0.06994792861385933, 0.06994792861385933, 0.06994792861385933, 0.06994792861385933, 0.06994792861385933, 0.06994792861385933, 0.06994792861385933, 0.06994792861385933, 0.06994792861385933, 0.06994792861385933, 0.06994792861385933, 0.06994792861385933, 0.06994792861385933, 0.06994792861385933, 0.06994792861385933, 0.06994792861385933, 0.06994792861385933, 0.06994792861385933, 0.06994792861385933, 0.06994792861385933, 0.06994792861385933, 0.06994792861385933, 0.06994792861385933, 0.06994792861385933, 0.06994792861385933, 0.06994792861385933, 0.06994792861385933, 0.06994792861385933, 0.06994792861385933, 0.06994792861385933, 0.06994792861385933, 0.06994792861385933, 0.06994792861385933, 0.06994792861385933, 0.06994792861385933, 0.06994792861385933, 0.06994792861385933, 0.11154340445527251, 0.10113520696023184, 0.0907295676855158, 0.0907295676855158, 0.08033025513788142, 0.08033025513788142, 0.08033025513788142, 0.08033025513788142, 0.08033025513788142, 0.08033025513788142, 0.08033025513788142, 0.08033025513788142, 0.08033025513788142, 0.08033025513788142, 0.08033025513788142, 0.08033025513788142, 0.06994792861385933, 0.06994792861385933, 0.06994792861385933, 0.06994792861385933, 0.06994792861385933, 0.06994792861385933, 0.06994792861385933, 0.06994792861385933, 0.06994792861385933, 0.06994792861385933, 0.06994792861385933, 0.06994792861385933], \"Category\": [\"Default\", \"Default\", \"Default\", \"Default\", \"Default\", \"Default\", \"Default\", \"Default\", \"Default\", \"Default\", \"Default\", \"Default\", \"Default\", \"Default\", \"Default\", \"Default\", \"Default\", \"Default\", \"Default\", \"Default\", \"Default\", \"Default\", \"Default\", \"Default\", \"Default\", \"Default\", \"Default\", \"Default\", \"Default\", \"Default\", \"Topic1\", \"Topic1\", \"Topic1\", \"Topic1\", \"Topic1\", \"Topic1\", \"Topic1\", \"Topic1\", \"Topic1\", \"Topic1\", \"Topic1\", \"Topic1\", \"Topic1\", \"Topic1\", \"Topic1\", \"Topic1\", \"Topic1\", \"Topic1\", \"Topic1\", \"Topic1\", \"Topic1\", \"Topic1\", \"Topic1\", \"Topic1\", \"Topic1\", \"Topic1\", \"Topic1\", \"Topic1\", \"Topic1\", \"Topic1\", \"Topic2\", \"Topic2\", \"Topic2\", \"Topic2\", \"Topic2\", \"Topic2\", \"Topic2\", \"Topic2\", \"Topic2\", \"Topic2\", \"Topic2\", \"Topic2\", \"Topic2\", \"Topic2\", \"Topic2\", \"Topic2\", \"Topic2\", \"Topic2\", \"Topic2\", \"Topic2\", \"Topic2\", \"Topic2\", \"Topic2\", \"Topic2\", \"Topic2\", \"Topic2\", \"Topic2\", \"Topic2\", \"Topic2\", \"Topic2\", \"Topic2\", \"Topic2\", \"Topic2\", \"Topic2\", \"Topic2\", \"Topic2\", \"Topic2\", \"Topic2\", \"Topic2\", \"Topic2\", \"Topic2\", \"Topic2\", \"Topic2\", \"Topic2\", \"Topic2\", \"Topic2\", \"Topic2\", \"Topic2\", \"Topic2\", \"Topic2\", \"Topic2\", \"Topic2\", \"Topic2\", \"Topic2\", \"Topic2\", \"Topic2\", \"Topic2\", \"Topic2\", \"Topic3\", \"Topic3\", \"Topic3\", \"Topic3\", \"Topic3\", \"Topic3\", \"Topic3\", \"Topic3\", \"Topic3\", \"Topic3\", \"Topic3\", \"Topic3\", \"Topic3\", \"Topic3\", \"Topic3\", \"Topic3\", \"Topic3\", \"Topic3\", \"Topic3\", \"Topic3\", \"Topic3\", \"Topic3\", \"Topic3\", \"Topic3\", \"Topic3\", \"Topic3\", \"Topic3\", \"Topic3\", \"Topic3\", \"Topic3\", \"Topic3\", \"Topic3\", \"Topic3\", \"Topic3\", \"Topic3\", \"Topic3\", \"Topic3\", \"Topic3\", \"Topic3\", \"Topic3\", \"Topic3\", \"Topic3\", \"Topic3\", \"Topic3\", \"Topic3\", \"Topic3\", \"Topic3\", \"Topic3\", \"Topic3\", \"Topic3\", \"Topic3\", \"Topic3\", \"Topic3\", \"Topic3\", \"Topic3\", \"Topic3\", \"Topic3\", \"Topic3\"], \"logprob\": [30.0, 29.0, 28.0, 27.0, 26.0, 25.0, 24.0, 23.0, 22.0, 21.0, 20.0, 19.0, 18.0, 17.0, 16.0, 15.0, 14.0, 13.0, 12.0, 11.0, 10.0, 9.0, 8.0, 7.0, 6.0, 5.0, 4.0, 3.0, 2.0, 1.0, -4.6315, -4.7335, -4.8471, -4.8471, -4.9751, -4.9751, -4.9751, -4.9751, -4.9751, -4.9751, -4.9751, -4.9751, -4.9751, -4.9751, -4.9751, -4.9751, -5.1218, -5.1218, -5.1218, -5.1218, -5.1218, -5.1218, -5.1218, -5.1218, -5.1218, -5.1218, -5.1218, -5.1218, -5.1218, -5.1218, -5.0999, -5.0999, -5.0999, -5.0999, -5.0999, -5.0999, -5.0999, -5.0999, -5.0999, -5.0999, -5.0999, -5.0999, -5.0999, -5.0999, -5.0999, -5.0999, -5.0999, -5.0999, -5.0999, -5.0999, -5.0999, -5.0999, -5.0999, -5.0999, -5.0999, -5.0999, -5.0999, -5.0999, -5.0999, -5.0999, -5.0995, -5.0995, -5.0996, -5.0996, -5.0996, -5.0996, -5.0996, -5.0996, -5.0996, -5.0996, -5.0996, -5.0996, -5.0996, -5.0996, -5.0996, -5.0996, -5.0999, -5.0999, -5.0999, -5.0999, -5.0999, -5.0999, -5.0999, -5.0999, -5.0999, -5.0999, -5.0999, -5.0999, -5.0999, -5.0999, -5.0999, -5.0999, -5.0999, -5.0999, -5.0999, -5.0999, -5.0999, -5.0999, -5.0999, -5.0999, -5.0999, -5.0999, -5.0999, -5.0999, -5.0999, -5.0999, -5.0999, -5.0999, -5.0999, -5.0999, -5.0999, -5.0999, -5.0999, -5.0999, -5.0999, -5.0999, -5.0999, -5.0999, -5.0995, -5.0995, -5.0996, -5.0996, -5.0996, -5.0996, -5.0996, -5.0996, -5.0996, -5.0996, -5.0996, -5.0996, -5.0996, -5.0996, -5.0996, -5.0996, -5.0999, -5.0999, -5.0999, -5.0999, -5.0999, -5.0999, -5.0999, -5.0999, -5.0999, -5.0999, -5.0999, -5.0999], \"loglift\": [30.0, 29.0, 28.0, 27.0, 26.0, 25.0, 24.0, 23.0, 22.0, 21.0, 20.0, 19.0, 18.0, 17.0, 16.0, 15.0, 14.0, 13.0, 12.0, 11.0, 10.0, 9.0, 8.0, 7.0, 6.0, 5.0, 4.0, 3.0, 2.0, 1.0, 0.0223, 0.0183, 0.0133, 0.0133, 0.0069, 0.0069, 0.0069, 0.0069, 0.0069, 0.0069, 0.0069, 0.0069, 0.0069, 0.0069, 0.0069, 0.0069, -0.0013, -0.0013, -0.0013, -0.0013, -0.0013, -0.0013, -0.0013, -0.0013, -0.0013, -0.0013, -0.0013, -0.0013, -0.0013, -0.0013, 0.0206, 0.0206, 0.0206, 0.0206, 0.0206, 0.0206, 0.0206, 0.0206, 0.0206, 0.0206, 0.0206, 0.0206, 0.0206, 0.0206, 0.0206, 0.0206, 0.0206, 0.0206, 0.0206, 0.0206, 0.0206, 0.0206, 0.0206, 0.0206, 0.0206, 0.0206, 0.0206, 0.0206, 0.0206, 0.0206, -0.4457, -0.3478, -0.2392, -0.2392, -0.1176, -0.1176, -0.1176, -0.1176, -0.1176, -0.1176, -0.1176, -0.1176, -0.1176, -0.1176, -0.1176, -0.1176, 0.0206, 0.0206, 0.0206, 0.0206, 0.0206, 0.0206, 0.0206, 0.0206, 0.0206, 0.0206, 0.0206, 0.0206, 0.0206, 0.0206, 0.0206, 0.0206, 0.0206, 0.0206, 0.0206, 0.0206, 0.0206, 0.0206, 0.0206, 0.0206, 0.0206, 0.0206, 0.0206, 0.0206, 0.0206, 0.0206, 0.0206, 0.0206, 0.0206, 0.0206, 0.0206, 0.0206, 0.0206, 0.0206, 0.0206, 0.0206, 0.0206, 0.0206, -0.4457, -0.3478, -0.2392, -0.2392, -0.1176, -0.1176, -0.1176, -0.1176, -0.1176, -0.1176, -0.1176, -0.1176, -0.1176, -0.1176, -0.1176, -0.1176, 0.0206, 0.0206, 0.0206, 0.0206, 0.0206, 0.0206, 0.0206, 0.0206, 0.0206, 0.0206, 0.0206, 0.0206]}, \"token.table\": {\"Topic\": [], \"Freq\": [], \"Term\": []}, \"R\": 30, \"lambda.step\": 0.01, \"plot.opts\": {\"xlab\": \"PC1\", \"ylab\": \"PC2\"}, \"topic.order\": [1, 3, 2]};\n",
       "\n",
       "function LDAvis_load_lib(url, callback){\n",
       "  var s = document.createElement('script');\n",
       "  s.src = url;\n",
       "  s.async = true;\n",
       "  s.onreadystatechange = s.onload = callback;\n",
       "  s.onerror = function(){console.warn(\"failed to load library \" + url);};\n",
       "  document.getElementsByTagName(\"head\")[0].appendChild(s);\n",
       "}\n",
       "\n",
       "if(typeof(LDAvis) !== \"undefined\"){\n",
       "   // already loaded: just create the visualization\n",
       "   !function(LDAvis){\n",
       "       new LDAvis(\"#\" + \"ldavis_el1392424157463670488795852175\", ldavis_el1392424157463670488795852175_data);\n",
       "   }(LDAvis);\n",
       "}else if(typeof define === \"function\" && define.amd){\n",
       "   // require.js is available: use it to load d3/LDAvis\n",
       "   require.config({paths: {d3: \"https://cdnjs.cloudflare.com/ajax/libs/d3/3.5.5/d3.min\"}});\n",
       "   require([\"d3\"], function(d3){\n",
       "      window.d3 = d3;\n",
       "      LDAvis_load_lib(\"https://cdn.rawgit.com/bmabey/pyLDAvis/files/ldavis.v1.0.0.js\", function(){\n",
       "        new LDAvis(\"#\" + \"ldavis_el1392424157463670488795852175\", ldavis_el1392424157463670488795852175_data);\n",
       "      });\n",
       "    });\n",
       "}else{\n",
       "    // require.js not available: dynamically load d3 & LDAvis\n",
       "    LDAvis_load_lib(\"https://cdnjs.cloudflare.com/ajax/libs/d3/3.5.5/d3.min.js\", function(){\n",
       "         LDAvis_load_lib(\"https://cdn.rawgit.com/bmabey/pyLDAvis/files/ldavis.v1.0.0.js\", function(){\n",
       "                 new LDAvis(\"#\" + \"ldavis_el1392424157463670488795852175\", ldavis_el1392424157463670488795852175_data);\n",
       "            })\n",
       "         });\n",
       "}\n",
       "</script>"
      ],
      "text/plain": [
       "<IPython.core.display.HTML object>"
      ]
     },
     "execution_count": 118,
     "metadata": {},
     "output_type": "execute_result"
    }
   ],
   "source": [
    "import pyLDAvis\n",
    "import pyLDAvis.sklearn\n",
    "\n",
    "pyLDAvis.enable_notebook()\n",
    "vis = pyLDAvis.sklearn.prepare(lda, tfidf, tfidf_vect, mds='tsne')\n",
    "pyLDAvis.display(vis)"
   ]
  },
  {
   "cell_type": "code",
   "execution_count": null,
   "metadata": {},
   "outputs": [],
   "source": []
  },
  {
   "cell_type": "code",
   "execution_count": null,
   "metadata": {},
   "outputs": [],
   "source": []
  }
 ],
 "metadata": {
  "kernelspec": {
   "display_name": "Python 3",
   "language": "python",
   "name": "python3"
  },
  "language_info": {
   "codemirror_mode": {
    "name": "ipython",
    "version": 3
   },
   "file_extension": ".py",
   "mimetype": "text/x-python",
   "name": "python",
   "nbconvert_exporter": "python",
   "pygments_lexer": "ipython3",
   "version": "3.7.7"
  }
 },
 "nbformat": 4,
 "nbformat_minor": 4
}
