{
  "nbformat": 4,
  "nbformat_minor": 0,
  "metadata": {
    "kernelspec": {
      "display_name": "Python 3",
      "language": "python",
      "name": "python3"
    },
    "language_info": {
      "codemirror_mode": {
        "name": "ipython",
        "version": 3
      },
      "file_extension": ".py",
      "mimetype": "text/x-python",
      "name": "python",
      "nbconvert_exporter": "python",
      "pygments_lexer": "ipython3",
      "version": "3.7.7"
    },
    "colab": {
      "name": "3.7환경에서 MeCab 설정하기.ipynb",
      "provenance": [],
      "include_colab_link": true
    }
  },
  "cells": [
    {
      "cell_type": "markdown",
      "metadata": {
        "id": "view-in-github",
        "colab_type": "text"
      },
      "source": [
        "<a href=\"https://colab.research.google.com/github/jmins33/ml_edu/blob/master/text_mining/python%203.7%ED%99%98%EA%B2%BD%EC%97%90%EC%84%9C_MeCab_%EC%84%A4%EC%A0%95%ED%95%98%EA%B8%B0.ipynb\" target=\"_parent\"><img src=\"https://colab.research.google.com/assets/colab-badge.svg\" alt=\"Open In Colab\"/></a>"
      ]
    },
    {
      "cell_type": "code",
      "metadata": {
        "id": "hUDIaqd7B0QP",
        "colab_type": "code",
        "colab": {},
        "outputId": "a2510ec7-e410-475e-9370-fbd0d31e8cd6"
      },
      "source": [
        "import sys\n",
        "print(sys.version)"
      ],
      "execution_count": null,
      "outputs": [
        {
          "output_type": "stream",
          "text": [
            "3.7.7 (default, May  6 2020, 11:45:54) [MSC v.1916 64 bit (AMD64)]\n"
          ],
          "name": "stdout"
        }
      ]
    },
    {
      "cell_type": "code",
      "metadata": {
        "id": "MW2R8__TB0QV",
        "colab_type": "code",
        "colab": {},
        "outputId": "698afddf-57cf-479e-dc79-471a3276c125"
      },
      "source": [
        "!pip install mecab_python-0.996_ko_0.9.2_msvc-cp37-cp37m-win_amd64.whl"
      ],
      "execution_count": null,
      "outputs": [
        {
          "output_type": "stream",
          "text": [
            "Requirement already satisfied: mecab-python==0.996-ko-0.9.2-msvc from file:///C:/Users/jminw/Untitled%20Folder/mecab_python-0.996_ko_0.9.2_msvc-cp37-cp37m-win_amd64.whl in c:\\data\\envs\\py37\\lib\\site-packages (0.996-ko-0.9.2-msvc)\n"
          ],
          "name": "stdout"
        }
      ]
    },
    {
      "cell_type": "code",
      "metadata": {
        "id": "KRj2Hn74B0QY",
        "colab_type": "code",
        "colab": {},
        "outputId": "3abd3af2-3b8f-436f-c303-046fec1c0e48"
      },
      "source": [
        "import MeCab\n",
        "m = MeCab.Tagger()\n",
        "out = m.parse('MeCab이 잘 설치 되었는지 확인중입니다.')\n",
        "print(out)"
      ],
      "execution_count": null,
      "outputs": [
        {
          "output_type": "stream",
          "text": [
            "MeCab\tSL,*,*,*,*,*,*,*\n",
            "이\tJKS,*,F,이,*,*,*,*\n",
            "잘\tMAG,*,T,잘,*,*,*,*\n",
            "설치\tNNG,행위,F,설치,*,*,*,*\n",
            "되\tXSV,*,F,되,*,*,*,*\n",
            "었\tEP,*,T,었,*,*,*,*\n",
            "는지\tEC,*,F,는지,*,*,*,*\n",
            "확인\tNNG,행위,T,확인,*,*,*,*\n",
            "중\tNNB,*,T,중,*,*,*,*\n",
            "입니다\tVCP+EF,*,F,입니다,Inflect,VCP,EF,이/VCP/*+ᄇ니다/EF/*\n",
            ".\tSF,*,*,*,*,*,*,*\n",
            "EOS\n",
            "\n"
          ],
          "name": "stdout"
        }
      ]
    },
    {
      "cell_type": "code",
      "metadata": {
        "id": "1FKYUQ42B0Qb",
        "colab_type": "code",
        "colab": {}
      },
      "source": [
        ""
      ],
      "execution_count": null,
      "outputs": []
    }
  ]
}