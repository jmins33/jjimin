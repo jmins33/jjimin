{
 "cells": [
  {
   "cell_type": "markdown",
   "metadata": {},
   "source": [
    "## 코로나와_온라인쇼핑_네이버_뉴스_감정분석\n",
    "\n",
    "- 감성사전 출처 : https://github.com/park1200656/KnuSentiLex\n",
    "- 네이버뉴스_코로나온라인쇼핑_뉴스크롤링 파일위치 (C:/Users/jminw/Untitled Folder/coron)\n",
    "- 2020.09.01 ~ 2020.09.10 뉴스"
   ]
  },
  {
   "cell_type": "code",
   "execution_count": 1,
   "metadata": {},
   "outputs": [],
   "source": [
    "import pandas as pd\n",
    "import numpy as np"
   ]
  },
  {
   "cell_type": "code",
   "execution_count": 2,
   "metadata": {},
   "outputs": [],
   "source": [
    "pos = pd.read_csv('pos_pol_word.csv')\n",
    "neg = pd.read_csv('neg_pol_word.csv')"
   ]
  },
  {
   "cell_type": "code",
   "execution_count": 3,
   "metadata": {},
   "outputs": [],
   "source": [
    "pos=list(pos['word'])"
   ]
  },
  {
   "cell_type": "code",
   "execution_count": 4,
   "metadata": {},
   "outputs": [],
   "source": [
    "neg=list(neg['word'])"
   ]
  },
  {
   "cell_type": "code",
   "execution_count": 5,
   "metadata": {},
   "outputs": [],
   "source": [
    "df= pd.DataFrame(pd.read_csv('coron.csv', encoding='cp949'))"
   ]
  },
  {
   "cell_type": "code",
   "execution_count": 6,
   "metadata": {},
   "outputs": [
    {
     "data": {
      "text/html": [
       "<div>\n",
       "<style scoped>\n",
       "    .dataframe tbody tr th:only-of-type {\n",
       "        vertical-align: middle;\n",
       "    }\n",
       "\n",
       "    .dataframe tbody tr th {\n",
       "        vertical-align: top;\n",
       "    }\n",
       "\n",
       "    .dataframe thead th {\n",
       "        text-align: right;\n",
       "    }\n",
       "</style>\n",
       "<table border=\"1\" class=\"dataframe\">\n",
       "  <thead>\n",
       "    <tr style=\"text-align: right;\">\n",
       "      <th></th>\n",
       "      <th>Unnamed: 0</th>\n",
       "      <th>years</th>\n",
       "      <th>company</th>\n",
       "      <th>title</th>\n",
       "      <th>contents</th>\n",
       "      <th>link</th>\n",
       "    </tr>\n",
       "  </thead>\n",
       "  <tbody>\n",
       "    <tr>\n",
       "      <th>19</th>\n",
       "      <td>20</td>\n",
       "      <td>2020.09.09.</td>\n",
       "      <td>KBS</td>\n",
       "      <td>명절 준비도 ‘비대면’으로…“온라인·배송 확대”</td>\n",
       "      <td>코로나  가 다시 확산하고 있는 가운데 추석이 한 달 앞으로 다가왔습니다  유통업계...</td>\n",
       "      <td>https://news.naver.com/main/read.nhn?mode=LSD&amp;...</td>\n",
       "    </tr>\n",
       "    <tr>\n",
       "      <th>20</th>\n",
       "      <td>21</td>\n",
       "      <td>2020.09.08.</td>\n",
       "      <td>연합뉴스</td>\n",
       "      <td>횡성군 중소기업 쇼핑몰 오픈…코로나19 극복 지원</td>\n",
       "      <td>강원 횡성군이 중소기업 전용 쇼핑몰        횡성몰      을 오픈하고 신종 ...</td>\n",
       "      <td>https://news.naver.com/main/read.nhn?mode=LSD&amp;...</td>\n",
       "    </tr>\n",
       "    <tr>\n",
       "      <th>21</th>\n",
       "      <td>22</td>\n",
       "      <td>2020.09.10</td>\n",
       "      <td>한국정책신문</td>\n",
       "      <td>코로나19에 온라인쇼핑 증가, 소비자 사로잡으려면..</td>\n",
       "      <td>마켓  옥션  인터파크    번가  쿠팡  마켓컬리  위메프  티몬 등 온라인쇼핑 ...</td>\n",
       "      <td>http://www.kpinews.co.kr/news/articleView.html...</td>\n",
       "    </tr>\n",
       "    <tr>\n",
       "      <th>22</th>\n",
       "      <td>23</td>\n",
       "      <td>2020.09.03</td>\n",
       "      <td>한국경제</td>\n",
       "      <td>코로나·장마에 7월 온라인쇼핑 거래액 '최대'…식품 배달 크게 늘어</td>\n",
       "      <td>지난  월 온라인쇼핑 거래액이     년 관련 통계 작성 이후 최대치를 기록했다  ...</td>\n",
       "      <td>https://www.hankyung.com/life/article/20200903...</td>\n",
       "    </tr>\n",
       "    <tr>\n",
       "      <th>23</th>\n",
       "      <td>24</td>\n",
       "      <td>2020.09.03</td>\n",
       "      <td>아이뉴스24</td>\n",
       "      <td>코로나에 장마 덮친 7월 '집콕'…온라인쇼핑 거래액 13조</td>\n",
       "      <td>코로나  와 장마 등으로  집콕  상황이 이어지면서 지난  월 온라인쇼핑 거래액이 ...</td>\n",
       "      <td>http://www.inews24.com/view/1296201</td>\n",
       "    </tr>\n",
       "  </tbody>\n",
       "</table>\n",
       "</div>"
      ],
      "text/plain": [
       "    Unnamed: 0        years company                                  title  \\\n",
       "19          20  2020.09.09.     KBS             명절 준비도 ‘비대면’으로…“온라인·배송 확대”   \n",
       "20          21  2020.09.08.    연합뉴스            횡성군 중소기업 쇼핑몰 오픈…코로나19 극복 지원   \n",
       "21          22   2020.09.10  한국정책신문          코로나19에 온라인쇼핑 증가, 소비자 사로잡으려면..   \n",
       "22          23   2020.09.03    한국경제  코로나·장마에 7월 온라인쇼핑 거래액 '최대'…식품 배달 크게 늘어   \n",
       "23          24   2020.09.03  아이뉴스24       코로나에 장마 덮친 7월 '집콕'…온라인쇼핑 거래액 13조   \n",
       "\n",
       "                                             contents  \\\n",
       "19  코로나  가 다시 확산하고 있는 가운데 추석이 한 달 앞으로 다가왔습니다  유통업계...   \n",
       "20  강원 횡성군이 중소기업 전용 쇼핑몰        횡성몰      을 오픈하고 신종 ...   \n",
       "21  마켓  옥션  인터파크    번가  쿠팡  마켓컬리  위메프  티몬 등 온라인쇼핑 ...   \n",
       "22  지난  월 온라인쇼핑 거래액이     년 관련 통계 작성 이후 최대치를 기록했다  ...   \n",
       "23  코로나  와 장마 등으로  집콕  상황이 이어지면서 지난  월 온라인쇼핑 거래액이 ...   \n",
       "\n",
       "                                                 link  \n",
       "19  https://news.naver.com/main/read.nhn?mode=LSD&...  \n",
       "20  https://news.naver.com/main/read.nhn?mode=LSD&...  \n",
       "21  http://www.kpinews.co.kr/news/articleView.html...  \n",
       "22  https://www.hankyung.com/life/article/20200903...  \n",
       "23                http://www.inews24.com/view/1296201  "
      ]
     },
     "execution_count": 6,
     "metadata": {},
     "output_type": "execute_result"
    }
   ],
   "source": [
    "import re \n",
    "# '한글'을 제외한 다른 문자 모두 제거\n",
    "remove_except_ko = re.compile(r\"[^가-힣ㄱ-ㅎㅏ-ㅣ\\\\s]\")\n",
    "def preprocess(text):\n",
    "    text = re.sub(remove_except_ko,' ',text).strip()\n",
    "    return text\n",
    "\n",
    "df['contents'] = df['contents'].map(lambda x : preprocess(x))\n",
    "df.tail()"
   ]
  },
  {
   "cell_type": "code",
   "execution_count": 7,
   "metadata": {},
   "outputs": [],
   "source": [
    "# Mecab\n",
    "from konlpy.tag import Mecab\n",
    "# 선언\n",
    "mecab= Mecab()"
   ]
  },
  {
   "cell_type": "code",
   "execution_count": 8,
   "metadata": {},
   "outputs": [],
   "source": [
    "stop_words = ['은','는','이','가','을','를','께서','에서','이다','에게','으로','이랑','까지','부터','하다',\n",
    "             '기자','뉴스','무단','전재','및','재배포','금지','저작권','사진','김병기','앵커','이연춘','연합뉴스',\n",
    "             '파이낸셜뉴스','습니다','입니다']\n",
    "stopPos = ['JKS','JKC','JKG','JKO','JKB','JKV','JKQ','JC','JX',\n",
    "           'SF','SE','SS','SP','SSO','SSC','SC','SY','SH','SL','SN',\n",
    "           'MM','MAG','MAJ']\n",
    "def token_mecab(text):\n",
    "    text = mecab.pos(text)\n",
    "    text = [i for i in text if len(i[0])>1]\n",
    "    text = [i for i in text if i[0] not in stop_words]\n",
    "    text = [i[0] for i in text if i[1] not in stopPos]\n",
    "    return text"
   ]
  },
  {
   "cell_type": "code",
   "execution_count": 9,
   "metadata": {},
   "outputs": [
    {
     "data": {
      "text/plain": [
       "['쿠팡',\n",
       " '코로나',\n",
       " '판로',\n",
       " '어려움',\n",
       " '소상',\n",
       " '공인',\n",
       " '지역',\n",
       " '농가',\n",
       " '위해',\n",
       " '나섰',\n",
       " '쿠팡',\n",
       " '중소',\n",
       " '상공',\n",
       " '희망',\n",
       " '재단',\n",
       " '서울시',\n",
       " '손잡']"
      ]
     },
     "execution_count": 9,
     "metadata": {},
     "output_type": "execute_result"
    }
   ],
   "source": [
    "token_mecab('쿠팡이 코로나19로 판로를 잃고 어려움을 겪고 있는 소상공인과 지역농가를 위해 발 벗고 나섰다.쿠팡은 중소상공인희망재단, 서울시와 손잡고')"
   ]
  },
  {
   "cell_type": "code",
   "execution_count": 10,
   "metadata": {},
   "outputs": [
    {
     "name": "stderr",
     "output_type": "stream",
     "text": [
      "C:\\Data\\envs\\py37\\lib\\site-packages\\ipykernel_launcher.py:6: SettingWithCopyWarning: \n",
      "A value is trying to be set on a copy of a slice from a DataFrame\n",
      "\n",
      "See the caveats in the documentation: https://pandas.pydata.org/pandas-docs/stable/user_guide/indexing.html#returning-a-view-versus-a-copy\n",
      "  \n"
     ]
    }
   ],
   "source": [
    "def make_tokens(df):\n",
    "    df['tokens'] = ''\n",
    "    tokens_list=[]\n",
    "    for i in range(len(df)):\n",
    "        token = token_mecab(df['contents'][i])\n",
    "        df['tokens'][i] = ' '.join(token)\n",
    "    return df\n",
    "\n",
    "df = make_tokens(df)"
   ]
  },
  {
   "cell_type": "code",
   "execution_count": 11,
   "metadata": {},
   "outputs": [],
   "source": [
    "# 공백으로 토큰 분리\n",
    "def my_tokenizer(text):\n",
    "    return text.split()"
   ]
  },
  {
   "cell_type": "code",
   "execution_count": 12,
   "metadata": {
    "scrolled": true
   },
   "outputs": [
    {
     "data": {
      "text/plain": [
       "0     공대 마트 운영 녹색 온라인 인터 파크 열렸 올해 코로나 인해 온라인 쇼핑몰 이용자...\n",
       "1     환경 산업 기술원 녹색 제품 기획 전환 경부 산하 한국 환경 산업 기술원 원장 유제...\n",
       "2     농림 축산 식품 한국 농수산 식품 유통 공사 농공 기업 기획 진행 쿠팡 코로나 판로...\n",
       "3     서울시 온라인 쇼핑 운영 경험 소상 공인 전통 시장 상인 대상 온라인 시장 진출 지...\n",
       "4     상공 쿠팡 입점 지원 판매 수수료 인하 전통 시장 온라인 시장 진입 는다 온라인 장...\n",
       "5     모바일 홈쇼핑 포털 애플리케이션 쇼핑 모아 운영 버즈 공동 대표 남상협 김성국 쇼핑...\n",
       "6     광복 자갈치시장 송관 만들 전통 시장 온라인 판매 롯데 백화점 광복 부산 자갈치 시...\n",
       "7     부산 지역 최대 수산물 시장 자갈치 시장 롯데 백화점 광복 코로나 불황 이겨 고자 ...\n",
       "8     라이브 공연 커머스 결합 라이브 라떼 출시 공연 면서 아이돌 판매 가능 서울시 지역...\n",
       "9     미래학자 제이슨 초대 세계 변화 농업 미래 전략 대담 농림 축산 식품 대한민국 농업...\n",
       "10    대구시 사회 경제 기업 판로 지원 위해 온라인 쇼핑 마켓 개설 구시 동구 사회 경제...\n",
       "11    프레시 지역 농가 지원 온라인 유통 업계 최근 신종 코로나 바이러스 감염증 코로나 ...\n",
       "12    특산물 판매 문화 행사 영동군 주최 프로젝트 충북 영동군 신종 코로나 바이러스 감염...\n",
       "13    삼성 직원 겨냥 이벤트 다음 중순 운영 협력 업체 물품 대금 조기 지급 삼성전자 직...\n",
       "14    농축 수산물 음식 서비스 지난 오후 서울 노원구 롯데마트 중계 직원 온라인 주문 상...\n",
       "15    오전 서울 중구 북창동 순두부 관계자 배달 코로나 확산 음식 조리 거나 배달 경우 ...\n",
       "16    국내 코로나 사태 지속 가운데 악천후 겹치 면서 온라인 생필품 구매 사람 늘어났 악...\n",
       "17    면역력 관심 반영 수출 내수 급증 투입 집중 육성 북도 최근 면역 강화식품 주목 김...\n",
       "18    롯데 백화점 고객 주방 상품 둘러보 롯데 백화점 올해 추석 이색 선물 리빙 품목 선...\n",
       "19    코로나 확산 가운데 추석 다가왔 유통 업계 추석 대목 온라인 예약 비대 판매 주력 ...\n",
       "20    강원 횡성군 중소기업 전용 쇼핑몰 오픈 신종 코로나 바이러스 감염증 코로나 여파 어...\n",
       "21    마켓 옥션 인터 파크 번가 쿠팡 마켓 컬리 티몬 온라인 쇼핑 전자 상거래 사이트 통...\n",
       "22    지난 온라인 쇼핑 거래 관련 통계 작성 이후 최대치 기록 신종 코로나 바이러스 감염...\n",
       "23    코로나 장마 상황 이어지 면서 지난 온라인 쇼핑 거래 기록 역대 최대 금액 음식 서...\n",
       "Name: tokens, dtype: object"
      ]
     },
     "execution_count": 12,
     "metadata": {},
     "output_type": "execute_result"
    }
   ],
   "source": [
    "df['tokens']"
   ]
  },
  {
   "cell_type": "code",
   "execution_count": 14,
   "metadata": {},
   "outputs": [],
   "source": [
    "s = df['tokens']"
   ]
  },
  {
   "cell_type": "code",
   "execution_count": 15,
   "metadata": {},
   "outputs": [],
   "source": [
    "#s = np.array(s)\n",
    "#s[0].split()"
   ]
  },
  {
   "cell_type": "code",
   "execution_count": 16,
   "metadata": {},
   "outputs": [
    {
     "data": {
      "text/html": [
       "<div>\n",
       "<style scoped>\n",
       "    .dataframe tbody tr th:only-of-type {\n",
       "        vertical-align: middle;\n",
       "    }\n",
       "\n",
       "    .dataframe tbody tr th {\n",
       "        vertical-align: top;\n",
       "    }\n",
       "\n",
       "    .dataframe thead th {\n",
       "        text-align: right;\n",
       "    }\n",
       "</style>\n",
       "<table border=\"1\" class=\"dataframe\">\n",
       "  <thead>\n",
       "    <tr style=\"text-align: right;\">\n",
       "      <th></th>\n",
       "      <th>Unnamed: 0</th>\n",
       "      <th>years</th>\n",
       "      <th>company</th>\n",
       "      <th>title</th>\n",
       "      <th>contents</th>\n",
       "      <th>link</th>\n",
       "      <th>tokens</th>\n",
       "    </tr>\n",
       "  </thead>\n",
       "  <tbody>\n",
       "    <tr>\n",
       "      <th>0</th>\n",
       "      <td>1</td>\n",
       "      <td>2020.09.09.</td>\n",
       "      <td>OhmyNews</td>\n",
       "      <td>코로나19 시대, 친환경 '온라인 녹색매장' 열린다</td>\n",
       "      <td>제공대형마트 등에서 운영하던  녹색매장 이 온라인 인터파크              ...</td>\n",
       "      <td>https://news.naver.com/main/read.nhn?mode=LSD&amp;...</td>\n",
       "      <td>공대 마트 운영 녹색 온라인 인터 파크 열렸 올해 코로나 인해 온라인 쇼핑몰 이용자...</td>\n",
       "    </tr>\n",
       "  </tbody>\n",
       "</table>\n",
       "</div>"
      ],
      "text/plain": [
       "   Unnamed: 0        years   company                         title  \\\n",
       "0           1  2020.09.09.  OhmyNews  코로나19 시대, 친환경 '온라인 녹색매장' 열린다   \n",
       "\n",
       "                                            contents  \\\n",
       "0  제공대형마트 등에서 운영하던  녹색매장 이 온라인 인터파크              ...   \n",
       "\n",
       "                                                link  \\\n",
       "0  https://news.naver.com/main/read.nhn?mode=LSD&...   \n",
       "\n",
       "                                              tokens  \n",
       "0  공대 마트 운영 녹색 온라인 인터 파크 열렸 올해 코로나 인해 온라인 쇼핑몰 이용자...  "
      ]
     },
     "execution_count": 16,
     "metadata": {},
     "output_type": "execute_result"
    }
   ],
   "source": [
    "df.head(1)"
   ]
  },
  {
   "cell_type": "code",
   "execution_count": 17,
   "metadata": {},
   "outputs": [],
   "source": [
    "긍정ls=[]\n",
    "부정ls=[]\n",
    "for i in range(len(s)):\n",
    "    긍정= 부정=0\n",
    "    for token in s[i].split():\n",
    "        if token in pos:\n",
    "            긍정+= 1\n",
    "        if token in neg: \n",
    "            부정+= 1\n",
    "    긍정ls.append(긍정)\n",
    "    부정ls.append(부정)"
   ]
  },
  {
   "cell_type": "code",
   "execution_count": 18,
   "metadata": {},
   "outputs": [
    {
     "data": {
      "text/plain": [
       "[1, 1, 15, 5, 7, 2, 2, 3, 1, 12, 3, 11, 9, 3, 0, 1, 4, 9, 5, 3, 1, 3, 0, 0]"
      ]
     },
     "execution_count": 18,
     "metadata": {},
     "output_type": "execute_result"
    }
   ],
   "source": [
    "긍정ls"
   ]
  },
  {
   "cell_type": "code",
   "execution_count": 19,
   "metadata": {},
   "outputs": [
    {
     "data": {
      "text/plain": [
       "[1, 1, 5, 1, 2, 0, 2, 2, 0, 0, 1, 2, 5, 1, 0, 0, 1, 1, 2, 1, 2, 3, 1, 0]"
      ]
     },
     "execution_count": 19,
     "metadata": {},
     "output_type": "execute_result"
    }
   ],
   "source": [
    "부정ls"
   ]
  },
  {
   "cell_type": "code",
   "execution_count": 20,
   "metadata": {},
   "outputs": [],
   "source": [
    "df['positive']=긍정ls"
   ]
  },
  {
   "cell_type": "code",
   "execution_count": 21,
   "metadata": {},
   "outputs": [],
   "source": [
    "df['negative']=부정ls"
   ]
  },
  {
   "cell_type": "code",
   "execution_count": 88,
   "metadata": {},
   "outputs": [
    {
     "data": {
      "text/html": [
       "<div>\n",
       "<style scoped>\n",
       "    .dataframe tbody tr th:only-of-type {\n",
       "        vertical-align: middle;\n",
       "    }\n",
       "\n",
       "    .dataframe tbody tr th {\n",
       "        vertical-align: top;\n",
       "    }\n",
       "\n",
       "    .dataframe thead th {\n",
       "        text-align: right;\n",
       "    }\n",
       "</style>\n",
       "<table border=\"1\" class=\"dataframe\">\n",
       "  <thead>\n",
       "    <tr style=\"text-align: right;\">\n",
       "      <th></th>\n",
       "      <th>Unnamed: 0</th>\n",
       "      <th>years</th>\n",
       "      <th>company</th>\n",
       "      <th>title</th>\n",
       "      <th>contents</th>\n",
       "      <th>link</th>\n",
       "      <th>tokens</th>\n",
       "      <th>positive</th>\n",
       "      <th>negative</th>\n",
       "      <th>tone</th>\n",
       "    </tr>\n",
       "  </thead>\n",
       "  <tbody>\n",
       "    <tr>\n",
       "      <th>0</th>\n",
       "      <td>1</td>\n",
       "      <td>2020.09.09.</td>\n",
       "      <td>OhmyNews</td>\n",
       "      <td>코로나19 시대, 친환경 '온라인 녹색매장' 열린다</td>\n",
       "      <td>제공대형마트 등에서 운영하던  녹색매장 이 온라인 인터파크              ...</td>\n",
       "      <td>https://news.naver.com/main/read.nhn?mode=LSD&amp;...</td>\n",
       "      <td>공대 마트 운영 녹색 온라인 인터 파크 열렸 올해 코로나 인해 온라인 쇼핑몰 이용자...</td>\n",
       "      <td>1</td>\n",
       "      <td>1</td>\n",
       "      <td>0.000000</td>\n",
       "    </tr>\n",
       "    <tr>\n",
       "      <th>1</th>\n",
       "      <td>2</td>\n",
       "      <td>2020.09.09.</td>\n",
       "      <td>헤럴드경제</td>\n",
       "      <td>“친환경 제품, 온라인 녹색매장서 구매하세요”</td>\n",
       "      <td>환경산업기술원 녹색제품 기획전환경부 산하 한국환경산업기술원 원장 유제철 사진 은  ...</td>\n",
       "      <td>https://news.naver.com/main/read.nhn?mode=LSD&amp;...</td>\n",
       "      <td>환경 산업 기술원 녹색 제품 기획 전환 경부 산하 한국 환경 산업 기술원 원장 유제...</td>\n",
       "      <td>1</td>\n",
       "      <td>1</td>\n",
       "      <td>0.000000</td>\n",
       "    </tr>\n",
       "    <tr>\n",
       "      <th>2</th>\n",
       "      <td>3</td>\n",
       "      <td>2020.09.10.</td>\n",
       "      <td>ZDNet Korea</td>\n",
       "      <td>쿠팡, 소상공인 온라인 판로 지원</td>\n",
       "      <td>농림축산식품부  한국농수산식품유통공사와 농공상기업 돕는 기획전 진행  쿠팡이 코로나...</td>\n",
       "      <td>https://news.naver.com/main/read.nhn?mode=LSD&amp;...</td>\n",
       "      <td>농림 축산 식품 한국 농수산 식품 유통 공사 농공 기업 기획 진행 쿠팡 코로나 판로...</td>\n",
       "      <td>15</td>\n",
       "      <td>5</td>\n",
       "      <td>19.666667</td>\n",
       "    </tr>\n",
       "    <tr>\n",
       "      <th>3</th>\n",
       "      <td>4</td>\n",
       "      <td>2020.09.09.</td>\n",
       "      <td>financial news</td>\n",
       "      <td>서울시, 소상공인·전통시장 온라인 진출 지원한다</td>\n",
       "      <td>서울시는 온라인쇼핑 운영 경험이 많지 않은 소상공인과 전통시장 상인을 대상으로 온라...</td>\n",
       "      <td>https://news.naver.com/main/read.nhn?mode=LSD&amp;...</td>\n",
       "      <td>서울시 온라인 쇼핑 운영 경험 소상 공인 전통 시장 상인 대상 온라인 시장 진출 지...</td>\n",
       "      <td>5</td>\n",
       "      <td>1</td>\n",
       "      <td>5.800000</td>\n",
       "    </tr>\n",
       "    <tr>\n",
       "      <th>4</th>\n",
       "      <td>5</td>\n",
       "      <td>2020.09.09.</td>\n",
       "      <td>뉴스1</td>\n",
       "      <td>서울시, '언택트 시대' 소상공인·전통시장 상인 온라인 진출 지원</td>\n",
       "      <td>소상공인    곳 쿠팡 등 입점 지원 판매수수료       인하전통시장 온라인시장 ...</td>\n",
       "      <td>https://news.naver.com/main/read.nhn?mode=LSD&amp;...</td>\n",
       "      <td>상공 쿠팡 입점 지원 판매 수수료 인하 전통 시장 온라인 시장 진입 는다 온라인 장...</td>\n",
       "      <td>7</td>\n",
       "      <td>2</td>\n",
       "      <td>8.714286</td>\n",
       "    </tr>\n",
       "  </tbody>\n",
       "</table>\n",
       "</div>"
      ],
      "text/plain": [
       "   Unnamed: 0        years         company  \\\n",
       "0           1  2020.09.09.        OhmyNews   \n",
       "1           2  2020.09.09.           헤럴드경제   \n",
       "2           3  2020.09.10.     ZDNet Korea   \n",
       "3           4  2020.09.09.  financial news   \n",
       "4           5  2020.09.09.             뉴스1   \n",
       "\n",
       "                                  title  \\\n",
       "0          코로나19 시대, 친환경 '온라인 녹색매장' 열린다   \n",
       "1             “친환경 제품, 온라인 녹색매장서 구매하세요”   \n",
       "2                    쿠팡, 소상공인 온라인 판로 지원   \n",
       "3            서울시, 소상공인·전통시장 온라인 진출 지원한다   \n",
       "4  서울시, '언택트 시대' 소상공인·전통시장 상인 온라인 진출 지원   \n",
       "\n",
       "                                            contents  \\\n",
       "0  제공대형마트 등에서 운영하던  녹색매장 이 온라인 인터파크              ...   \n",
       "1  환경산업기술원 녹색제품 기획전환경부 산하 한국환경산업기술원 원장 유제철 사진 은  ...   \n",
       "2  농림축산식품부  한국농수산식품유통공사와 농공상기업 돕는 기획전 진행  쿠팡이 코로나...   \n",
       "3  서울시는 온라인쇼핑 운영 경험이 많지 않은 소상공인과 전통시장 상인을 대상으로 온라...   \n",
       "4  소상공인    곳 쿠팡 등 입점 지원 판매수수료       인하전통시장 온라인시장 ...   \n",
       "\n",
       "                                                link  \\\n",
       "0  https://news.naver.com/main/read.nhn?mode=LSD&...   \n",
       "1  https://news.naver.com/main/read.nhn?mode=LSD&...   \n",
       "2  https://news.naver.com/main/read.nhn?mode=LSD&...   \n",
       "3  https://news.naver.com/main/read.nhn?mode=LSD&...   \n",
       "4  https://news.naver.com/main/read.nhn?mode=LSD&...   \n",
       "\n",
       "                                              tokens  positive  negative  \\\n",
       "0  공대 마트 운영 녹색 온라인 인터 파크 열렸 올해 코로나 인해 온라인 쇼핑몰 이용자...         1         1   \n",
       "1  환경 산업 기술원 녹색 제품 기획 전환 경부 산하 한국 환경 산업 기술원 원장 유제...         1         1   \n",
       "2  농림 축산 식품 한국 농수산 식품 유통 공사 농공 기업 기획 진행 쿠팡 코로나 판로...        15         5   \n",
       "3  서울시 온라인 쇼핑 운영 경험 소상 공인 전통 시장 상인 대상 온라인 시장 진출 지...         5         1   \n",
       "4  상공 쿠팡 입점 지원 판매 수수료 인하 전통 시장 온라인 시장 진입 는다 온라인 장...         7         2   \n",
       "\n",
       "        tone  \n",
       "0   0.000000  \n",
       "1   0.000000  \n",
       "2  19.666667  \n",
       "3   5.800000  \n",
       "4   8.714286  "
      ]
     },
     "execution_count": 88,
     "metadata": {},
     "output_type": "execute_result"
    }
   ],
   "source": [
    "df.head()"
   ]
  },
  {
   "cell_type": "code",
   "execution_count": 31,
   "metadata": {},
   "outputs": [],
   "source": [
    "tone=[]\n",
    "\n",
    "for i in range(len(df)):\n",
    "    if df['positive'][i]-df['negative'][i] and df['positive'][i]-df['negative'][i] > 0 :\n",
    "        to = (df['positive'][i]-df['negative'][i] / df['positive'][i] + df['negative'][i])\n",
    "    else:\n",
    "        to = 0\n",
    "    tone.append(to)"
   ]
  },
  {
   "cell_type": "code",
   "execution_count": 32,
   "metadata": {},
   "outputs": [],
   "source": [
    "df['tone'] = tone"
   ]
  },
  {
   "cell_type": "markdown",
   "metadata": {},
   "source": [
    "### 시각화"
   ]
  },
  {
   "cell_type": "code",
   "execution_count": 37,
   "metadata": {},
   "outputs": [],
   "source": [
    "import seaborn as sns\n",
    "import matplotlib.pyplot as plt\n",
    "%matplotlib inline"
   ]
  },
  {
   "cell_type": "code",
   "execution_count": 61,
   "metadata": {},
   "outputs": [
    {
     "data": {
      "text/plain": [
       "0.25"
      ]
     },
     "execution_count": 61,
     "metadata": {},
     "output_type": "execute_result"
    }
   ],
   "source": [
    "# 20200903 평균\n",
    "s20200903 = df.loc[[14, 15, 22, 23]]\n",
    "s20200903_mean = s20200903['tone'].mean()\n",
    "s20200903_mean"
   ]
  },
  {
   "cell_type": "code",
   "execution_count": 62,
   "metadata": {},
   "outputs": [
    {
     "data": {
      "text/plain": [
       "2.375"
      ]
     },
     "execution_count": 62,
     "metadata": {},
     "output_type": "execute_result"
    }
   ],
   "source": [
    "# 20200908 평균\n",
    "s20200908 = df[df['years'] == '2020.09.08.']\n",
    "s20200908_mean = s20200908['tone'].mean()\n",
    "s20200908_mean"
   ]
  },
  {
   "cell_type": "code",
   "execution_count": 63,
   "metadata": {},
   "outputs": [
    {
     "data": {
      "text/plain": [
       "4.535642135642136"
      ]
     },
     "execution_count": 63,
     "metadata": {},
     "output_type": "execute_result"
    }
   ],
   "source": [
    "# 20200909 평균\n",
    "s20200909 = df[df['years'] == '2020.09.09.']\n",
    "s20200909_mean = s20200909['tone'].mean()\n",
    "s20200909_mean"
   ]
  },
  {
   "cell_type": "code",
   "execution_count": 64,
   "metadata": {},
   "outputs": [
    {
     "data": {
      "text/plain": [
       "8.196248196248195"
      ]
     },
     "execution_count": 64,
     "metadata": {},
     "output_type": "execute_result"
    }
   ],
   "source": [
    "# 20200910 평균\n",
    "s20200910 = df.loc[[2, 5, 8, 9, 11, 17, 21]]\n",
    "s20200910_mean = s20200910['tone'].mean()\n",
    "s20200910_mean"
   ]
  },
  {
   "cell_type": "code",
   "execution_count": 71,
   "metadata": {},
   "outputs": [],
   "source": [
    "df1 = pd.DataFrame({'20200903':[s20200903_mean],'20200908' : [s20200908_mean],'20200909' :[s20200909_mean],'20200910' :[s20200910_mean]}, index=['importance'])"
   ]
  },
  {
   "cell_type": "code",
   "execution_count": 72,
   "metadata": {},
   "outputs": [
    {
     "data": {
      "text/html": [
       "<div>\n",
       "<style scoped>\n",
       "    .dataframe tbody tr th:only-of-type {\n",
       "        vertical-align: middle;\n",
       "    }\n",
       "\n",
       "    .dataframe tbody tr th {\n",
       "        vertical-align: top;\n",
       "    }\n",
       "\n",
       "    .dataframe thead th {\n",
       "        text-align: right;\n",
       "    }\n",
       "</style>\n",
       "<table border=\"1\" class=\"dataframe\">\n",
       "  <thead>\n",
       "    <tr style=\"text-align: right;\">\n",
       "      <th></th>\n",
       "      <th>20200903</th>\n",
       "      <th>20200908</th>\n",
       "      <th>20200909</th>\n",
       "      <th>20200910</th>\n",
       "    </tr>\n",
       "  </thead>\n",
       "  <tbody>\n",
       "    <tr>\n",
       "      <th>importance</th>\n",
       "      <td>0.25</td>\n",
       "      <td>2.375</td>\n",
       "      <td>4.535642</td>\n",
       "      <td>8.196248</td>\n",
       "    </tr>\n",
       "  </tbody>\n",
       "</table>\n",
       "</div>"
      ],
      "text/plain": [
       "            20200903  20200908  20200909  20200910\n",
       "importance      0.25     2.375  4.535642  8.196248"
      ]
     },
     "execution_count": 72,
     "metadata": {},
     "output_type": "execute_result"
    }
   ],
   "source": [
    "df1"
   ]
  },
  {
   "cell_type": "code",
   "execution_count": 86,
   "metadata": {},
   "outputs": [],
   "source": [
    "import seaborn as sns\n",
    "sns.set_theme(style=\"whitegrid\")"
   ]
  },
  {
   "cell_type": "code",
   "execution_count": 87,
   "metadata": {},
   "outputs": [
    {
     "data": {
      "text/plain": [
       "<AxesSubplot:>"
      ]
     },
     "execution_count": 87,
     "metadata": {},
     "output_type": "execute_result"
    },
    {
     "data": {
      "image/png": "[encoded data removed]",
      "text/plain": [
       "<Figure size 432x288 with 1 Axes>"
      ]
     },
     "metadata": {},
     "output_type": "display_data"
    }
   ],
   "source": [
    "sns.lineplot(data=df1.T, linewidth=2.5, markers=True)"
   ]
  },
  {
   "cell_type": "code",
   "execution_count": null,
   "metadata": {},
   "outputs": [],
   "source": []
  },
  {
   "cell_type": "code",
   "execution_count": null,
   "metadata": {},
   "outputs": [],
   "source": []
  },
  {
   "cell_type": "code",
   "execution_count": null,
   "metadata": {},
   "outputs": [],
   "source": []
  }
 ],
 "metadata": {
  "kernelspec": {
   "display_name": "Python 3",
   "language": "python",
   "name": "python3"
  },
  "language_info": {
   "codemirror_mode": {
    "name": "ipython",
    "version": 3
   },
   "file_extension": ".py",
   "mimetype": "text/x-python",
   "name": "python",
   "nbconvert_exporter": "python",
   "pygments_lexer": "ipython3",
   "version": "3.7.7"
  }
 },
 "nbformat": 4,
 "nbformat_minor": 4
}
