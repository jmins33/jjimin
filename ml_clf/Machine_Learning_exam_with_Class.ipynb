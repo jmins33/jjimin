{
  "nbformat": 4,
  "nbformat_minor": 0,
  "metadata": {
    "colab": {
      "name": "Machine Learning exam with Class.ipynb",
      "provenance": [],
      "authorship_tag": "ABX9TyPNByk9DBEv0pjug9R4eHx1",
      "include_colab_link": true
    },
    "kernelspec": {
      "name": "python3",
      "display_name": "Python 3"
    }
  },
  "cells": [
    {
      "cell_type": "markdown",
      "metadata": {
        "id": "view-in-github",
        "colab_type": "text"
      },
      "source": [
        "<a href=\"https://colab.research.google.com/github/jmins33/ml_edu/blob/master/ml_clf/Machine_Learning_exam_with_Class.ipynb\" target=\"_parent\"><img src=\"https://colab.research.google.com/assets/colab-badge.svg\" alt=\"Open In Colab\"/></a>"
      ]
    },
    {
      "cell_type": "code",
      "metadata": {
        "id": "krqYTp__KaEJ",
        "colab_type": "code",
        "colab": {
          "base_uri": "https://localhost:8080/",
          "height": 35
        },
        "outputId": "ec2e2a05-58ab-421b-e67e-a88d90ce90d1"
      },
      "source": [
        "result1 = 0\n",
        "result2 = 0\n",
        "\n",
        "def add(num):\n",
        "  global result1\n",
        "  result1 += num\n",
        "  return result1\n",
        "\n",
        "print(add(4))"
      ],
      "execution_count": 3,
      "outputs": [
        {
          "output_type": "stream",
          "text": [
            "4\n"
          ],
          "name": "stdout"
        }
      ]
    },
    {
      "cell_type": "code",
      "metadata": {
        "id": "sIBt7AVDL2Vv",
        "colab_type": "code",
        "colab": {
          "base_uri": "https://localhost:8080/",
          "height": 71
        },
        "outputId": "58442575-61a0-4e64-dae6-be28df491b29"
      },
      "source": [
        "result1 = 0\n",
        "result2 = 0\n",
        "\n",
        "def add1(num):\n",
        "  global result1\n",
        "  result1 += num\n",
        "  return result1\n",
        "\n",
        "def add2(num):\n",
        "  global result2\n",
        "  result2 += num\n",
        "  return result2\n",
        "\n",
        "print(add1(4)), print(add2(44))"
      ],
      "execution_count": 6,
      "outputs": [
        {
          "output_type": "stream",
          "text": [
            "4\n",
            "44\n"
          ],
          "name": "stdout"
        },
        {
          "output_type": "execute_result",
          "data": {
            "text/plain": [
              "(None, None)"
            ]
          },
          "metadata": {
            "tags": []
          },
          "execution_count": 6
        }
      ]
    },
    {
      "cell_type": "markdown",
      "metadata": {
        "id": "8By5r40xM6yX",
        "colab_type": "text"
      },
      "source": [
        "- 사람 클래스 만들기\n",
        " + 사람의 특징\n",
        "   + 이름, 나이, 취미, etc\n",
        " + 사람의 행동\n",
        "   + 잠자는 행동, 밥 먹는 행동, etc\n",
        "\n",
        "- 프로그래밍\n",
        " + 사람에 대한 변수\n",
        "   + name='' & age= , familiy= '', etc\n",
        " + 사람이 하는 행동\n",
        "   + def sleep():, def eat():, etc"
      ]
    },
    {
      "cell_type": "code",
      "metadata": {
        "id": "4Y89rmkkL2s2",
        "colab_type": "code",
        "colab": {}
      },
      "source": [
        "class human:\n",
        "  # 사람의 특징\n",
        "  name = 'jessy'\n",
        "  age = 25\n",
        "\n",
        "  # 사람에 대한 행동\n",
        "  def exercise(self):\n",
        "    print('운동합시다.')"
      ],
      "execution_count": 7,
      "outputs": []
    },
    {
      "cell_type": "code",
      "metadata": {
        "id": "Zo4dcrKYL2qF",
        "colab_type": "code",
        "colab": {
          "base_uri": "https://localhost:8080/",
          "height": 71
        },
        "outputId": "a390b0a5-15d4-4882-bde5-418d711a3569"
      },
      "source": [
        "rain = human()\n",
        "print(rain.name)\n",
        "print(rain.age)\n",
        "rain.exercise()"
      ],
      "execution_count": 8,
      "outputs": [
        {
          "output_type": "stream",
          "text": [
            "jessy\n",
            "25\n",
            "운동합시다.\n"
          ],
          "name": "stdout"
        }
      ]
    },
    {
      "cell_type": "markdown",
      "metadata": {
        "id": "iAM1UylBO8MB",
        "colab_type": "text"
      },
      "source": [
        "- 일반적인 형태의 클래스"
      ]
    },
    {
      "cell_type": "code",
      "metadata": {
        "id": "HSBeIYJ4L2nW",
        "colab_type": "code",
        "colab": {
          "base_uri": "https://localhost:8080/",
          "height": 53
        },
        "outputId": "9faea784-b038-49fe-89a5-0d09aa9a8d83"
      },
      "source": [
        "class human:\n",
        "  def __init__(self,name,age):\n",
        "    self.name = name\n",
        "    self.age= age\n",
        "\n",
        "  def describe(self):\n",
        "    return f'{self.name}의 나이는 {self.age}입니다.'\n",
        "\n",
        "jessy = human('jessy', 25)\n",
        "hanna = human('hanna', 20)\n",
        "\n",
        "print(jessy.name, jessy.describe())\n",
        "print(hanna.name, hanna.describe())"
      ],
      "execution_count": 19,
      "outputs": [
        {
          "output_type": "stream",
          "text": [
            "jessy jessy의 나이는 25입니다.\n",
            "hanna hanna의 나이는 20입니다.\n"
          ],
          "name": "stdout"
        }
      ]
    },
    {
      "cell_type": "code",
      "metadata": {
        "id": "Q0Dn10_IOK6F",
        "colab_type": "code",
        "colab": {
          "base_uri": "https://localhost:8080/",
          "height": 35
        },
        "outputId": "3e205267-1daa-4c78-a811-090af8b7b7aa"
      },
      "source": [
        "class human:\n",
        "  def __init__(self,name,age):\n",
        "    self.name = name\n",
        "    self.age= age\n",
        "\n",
        "  def describe(self):\n",
        "    return f'{self.name}의 나이는 {self.age}입니다.'\n",
        "\n",
        "  def skincolor(self, color):\n",
        "    return f'{self.name}의 피부 색은 {color}입니다.'\n",
        "  \n",
        "class Asian(human):\n",
        "  pass\n",
        "\n",
        "jessy = Asian('jessica',27)\n",
        "print(jessy.skincolor('yellow'))\n"
      ],
      "execution_count": 20,
      "outputs": [
        {
          "output_type": "stream",
          "text": [
            "jessica의 피부 색은 yellow입니다.\n"
          ],
          "name": "stdout"
        }
      ]
    },
    {
      "cell_type": "markdown",
      "metadata": {
        "id": "-aENv_ifZc0j",
        "colab_type": "text"
      },
      "source": [
        "# 머신러닝 클래스\n",
        "- https://chloevan.github.io/python/python_edu/01_basic/chapter_3_7_class/"
      ]
    },
    {
      "cell_type": "code",
      "metadata": {
        "id": "OHTRxaMUOLCG",
        "colab_type": "code",
        "colab": {
          "base_uri": "https://localhost:8080/",
          "height": 145
        },
        "outputId": "7cb4c9b9-6b49-4ecb-cb1f-20e1443f033f"
      },
      "source": [
        "# Mount Google Drive\n",
        "from google.colab import drive # import drive from google colab\n",
        "\n",
        "ROOT = \"/content/drive\"     # default location for the drive\n",
        "print(ROOT)                 # print content of ROOT (Optional)\n",
        "drive.mount(ROOT)           # we mount the google drive at /content/drive"
      ],
      "execution_count": 21,
      "outputs": [
        {
          "output_type": "stream",
          "text": [
            "/content/drive\n",
            "Go to this URL in a browser: https://accounts.google.com/o/oauth2/auth?client_id=947318989803-6bn6qk8qdgf4n4g3pfee6491hc0brc4i.apps.googleusercontent.com&redirect_uri=urn%3aietf%3awg%3aoauth%3a2.0%3aoob&scope=email%20https%3a%2f%2fwww.googleapis.com%2fauth%2fdocs.test%20https%3a%2f%2fwww.googleapis.com%2fauth%2fdrive%20https%3a%2f%2fwww.googleapis.com%2fauth%2fdrive.photos.readonly%20https%3a%2f%2fwww.googleapis.com%2fauth%2fpeopleapi.readonly&response_type=code\n",
            "\n",
            "Enter your authorization code:\n",
            "··········\n",
            "Mounted at /content/drive\n"
          ],
          "name": "stdout"
        }
      ]
    },
    {
      "cell_type": "code",
      "metadata": {
        "id": "k_S5MsjnOLF2",
        "colab_type": "code",
        "colab": {}
      },
      "source": [
        "# import join used to join ROOT path and MY_GOOGLE_DRIVE_PATH\n",
        "from os.path import join  \n",
        "\n",
        "# path to your project on Google Drive\n",
        "MY_GOOGLE_DRIVE_PATH = 'My Drive/Colab Notebooks/data-20200826T055710Z-001'\n",
        "PROJECT_PATH = join(ROOT, MY_GOOGLE_DRIVE_PATH)"
      ],
      "execution_count": 22,
      "outputs": []
    },
    {
      "cell_type": "code",
      "metadata": {
        "id": "Y4CNaah9OK-P",
        "colab_type": "code",
        "colab": {
          "base_uri": "https://localhost:8080/",
          "height": 53
        },
        "outputId": "3e5e5f12-427e-4347-b339-f555af8b5b52"
      },
      "source": [
        "%cd \"{PROJECT_PATH}\"\n",
        "!ls"
      ],
      "execution_count": 23,
      "outputs": [
        {
          "output_type": "stream",
          "text": [
            "/content/drive/My Drive/Colab Notebooks/data-20200826T055710Z-001\n",
            "weather2.csv  weather.csv\n"
          ],
          "name": "stdout"
        }
      ]
    },
    {
      "cell_type": "markdown",
      "metadata": {
        "id": "R8wof59ra01G",
        "colab_type": "text"
      },
      "source": [
        "## 두 개의 데이터가 다른 것 확인\n",
        "- 변수 명이 다름"
      ]
    },
    {
      "cell_type": "code",
      "metadata": {
        "id": "vUhgpfSNaag2",
        "colab_type": "code",
        "colab": {
          "base_uri": "https://localhost:8080/",
          "height": 359
        },
        "outputId": "5a652d92-c70d-49e2-bf83-5304e6da279c"
      },
      "source": [
        "import pandas as pd \n",
        "data = pd.read_csv(\"weather.csv\")\n",
        "data.info()"
      ],
      "execution_count": 25,
      "outputs": [
        {
          "output_type": "stream",
          "text": [
            "<class 'pandas.core.frame.DataFrame'>\n",
            "RangeIndex: 96453 entries, 0 to 96452\n",
            "Data columns (total 12 columns):\n",
            " #   Column                    Non-Null Count  Dtype  \n",
            "---  ------                    --------------  -----  \n",
            " 0   Formatted Date            96453 non-null  object \n",
            " 1   Summary                   96453 non-null  object \n",
            " 2   Precip Type               95936 non-null  object \n",
            " 3   Temperature (C)           96453 non-null  float64\n",
            " 4   Apparent Temperature (C)  96453 non-null  float64\n",
            " 5   Humidity                  96453 non-null  float64\n",
            " 6   Wind Speed (km/h)         96453 non-null  float64\n",
            " 7   Wind Bearing (degrees)    96453 non-null  float64\n",
            " 8   Visibility (km)           96453 non-null  float64\n",
            " 9   Loud Cover                96453 non-null  float64\n",
            " 10  Pressure (millibars)      96453 non-null  float64\n",
            " 11  Daily Summary             96453 non-null  object \n",
            "dtypes: float64(8), object(4)\n",
            "memory usage: 8.8+ MB\n"
          ],
          "name": "stdout"
        }
      ]
    },
    {
      "cell_type": "code",
      "metadata": {
        "id": "_gNlQeiiaapf",
        "colab_type": "code",
        "colab": {
          "base_uri": "https://localhost:8080/",
          "height": 359
        },
        "outputId": "68bd08e1-ef15-47e8-ff93-f145bb69f66b"
      },
      "source": [
        "data2 = pd.read_csv(\"weather2.csv\")\n",
        "data2.info()"
      ],
      "execution_count": 26,
      "outputs": [
        {
          "output_type": "stream",
          "text": [
            "<class 'pandas.core.frame.DataFrame'>\n",
            "RangeIndex: 10000 entries, 0 to 9999\n",
            "Data columns (total 12 columns):\n",
            " #   Column                    Non-Null Count  Dtype  \n",
            "---  ------                    --------------  -----  \n",
            " 0   Formatted.Date            10000 non-null  object \n",
            " 1   Summary                   10000 non-null  object \n",
            " 2   Precip.Type               10000 non-null  object \n",
            " 3   Temperature..C.           10000 non-null  float64\n",
            " 4   Apparent.Temperature..C.  10000 non-null  float64\n",
            " 5   Humidity                  10000 non-null  float64\n",
            " 6   Wind.Speed..km.h.         10000 non-null  float64\n",
            " 7   Wind.Bearing..degrees.    10000 non-null  int64  \n",
            " 8   Visibility..km.           10000 non-null  float64\n",
            " 9   Loud.Cover                10000 non-null  int64  \n",
            " 10  Pressure..millibars.      10000 non-null  float64\n",
            " 11  Daily.Summary             10000 non-null  object \n",
            "dtypes: float64(6), int64(2), object(4)\n",
            "memory usage: 937.6+ KB\n"
          ],
          "name": "stdout"
        }
      ]
    },
    {
      "cell_type": "markdown",
      "metadata": {
        "id": "MhEbBQg-bRwz",
        "colab_type": "text"
      },
      "source": [
        "- columns 명이 다르다."
      ]
    },
    {
      "cell_type": "code",
      "metadata": {
        "id": "mndhFw_XaavL",
        "colab_type": "code",
        "colab": {}
      },
      "source": [
        "from sklearn.ensemble import RandomForestRegressor\n",
        "from sklearn.linear_model import LinearRegression\n",
        "from sklearn.model_selection import train_test_split\n",
        "import numpy as np\n",
        "import pandas as pd\n",
        "\n",
        "\n",
        "class Model:\n",
        "    def __init__(self, datafile, model_type = None):\n",
        "       self.datafile = datafile\n",
        "       self.df = pd.read_csv(datafile)\n",
        "       data_columns = ['Formatted Date', 'Summary', 'Precip Type', \n",
        "                       'Temperature (C)', 'Apparent Temperature (C)', \n",
        "                       'Humidity', 'Wind Speed (km/h)', 'Wind Bearing (degrees)',\n",
        "                       'Visibility (km)', 'Loud Cover', 'Pressure (millibars)','Daily Summary']\n",
        "       self.df.columns = data_columns\n",
        "\n",
        "       if model_type == 'rf':\n",
        "            self.user_defined_model = RandomForestRegressor() \n",
        "       else:\n",
        "            self.user_defined_model = LinearRegression()\n",
        "\n",
        "    # 데이터셋 분리        \n",
        "    def split(self, test_size):\n",
        "        X = np.array(self.df[['Humidity', 'Pressure (millibars)']])\n",
        "        y = np.array(self.df['Temperature (C)'])\n",
        "        self.X_train, self.X_test, self.y_train, self.y_test = train_test_split(X, y, test_size = test_size, random_state = 42)\n",
        "    \n",
        "    def fit(self):\n",
        "        self.model = self.user_defined_model.fit(self.X_train, self.y_train)\n",
        "    \n",
        "    def predict(self, input_value):\n",
        "        if input_value == None:\n",
        "            result = self.user_defined_model.predict(self.X_test)\n",
        "        else: \n",
        "            result = self.user_defined_model.predict(np.array([input_value]))\n",
        "        return result"
      ],
      "execution_count": 27,
      "outputs": []
    },
    {
      "cell_type": "markdown",
      "metadata": {
        "id": "d_UX7Wcgdutv",
        "colab_type": "text"
      },
      "source": [
        "- 위 클래스는 4개의 함수로 구성되어 있다.\n",
        " + __init__: 데이터를 불러오고 간단한 Column명 처리를 진행했다.\n",
        " + split: 데이터 셋을 나누는 함수이다.\n",
        " + fit: 모형을 적합하는 함수이다.\n",
        " + predict: 예측 후 결과를 보여준다."
      ]
    },
    {
      "cell_type": "markdown",
      "metadata": {
        "id": "HDhcPl4RdkPS",
        "colab_type": "text"
      },
      "source": [
        "- 클래스 재사용"
      ]
    },
    {
      "cell_type": "code",
      "metadata": {
        "id": "EbrAqtG1aa02",
        "colab_type": "code",
        "colab": {
          "base_uri": "https://localhost:8080/",
          "height": 53
        },
        "outputId": "d7a63b79-4618-4f26-fc52-035d6a950fd0"
      },
      "source": [
        "if __name__ == '__main__':\n",
        "    a_model = Model(datafile=\"weather.csv\", model_type=None)\n",
        "    a_model.split(0.2)\n",
        "    a_model.fit()    \n",
        "    print(a_model.predict([.9, 1000]))\n",
        "    print(\"Accuracy: \", a_model.model.score(a_model.X_test, a_model.y_test))"
      ],
      "execution_count": 28,
      "outputs": [
        {
          "output_type": "stream",
          "text": [
            "[6.83625473]\n",
            "Accuracy:  0.39578560465686424\n"
          ],
          "name": "stdout"
        }
      ]
    },
    {
      "cell_type": "code",
      "metadata": {
        "id": "LEcxE-F4aa3v",
        "colab_type": "code",
        "colab": {
          "base_uri": "https://localhost:8080/",
          "height": 53
        },
        "outputId": "0f61856f-569e-42da-b03d-6bf6542f762b"
      },
      "source": [
        "if __name__ == '__main__':\n",
        "    b_model = Model(datafile=\"weather2.csv\", model_type=None)\n",
        "    b_model.split(0.3)\n",
        "    b_model.fit()\n",
        "    print(b_model.predict([.9, 1000]))\n",
        "    print(\"Accuracy: \", b_model.model.score(b_model.X_test, b_model.y_test))"
      ],
      "execution_count": 29,
      "outputs": [
        {
          "output_type": "stream",
          "text": [
            "[7.15581866]\n",
            "Accuracy:  0.35698882811391797\n"
          ],
          "name": "stdout"
        }
      ]
    },
    {
      "cell_type": "code",
      "metadata": {
        "id": "XpQSe05paayA",
        "colab_type": "code",
        "colab": {}
      },
      "source": [
        ""
      ],
      "execution_count": null,
      "outputs": []
    }
  ]
}