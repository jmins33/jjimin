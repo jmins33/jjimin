{
 "cells": [
  {
   "cell_type": "code",
   "execution_count": 2,
   "metadata": {},
   "outputs": [],
   "source": [
    "temp = 2"
   ]
  },
  {
   "cell_type": "code",
   "execution_count": 3,
   "metadata": {},
   "outputs": [
    {
     "name": "stdout",
     "output_type": "stream",
     "text": [
      "2\n"
     ]
    }
   ],
   "source": [
    "print(temp)"
   ]
  },
  {
   "cell_type": "code",
   "execution_count": 4,
   "metadata": {},
   "outputs": [
    {
     "data": {
      "text/plain": [
       "2"
      ]
     },
     "execution_count": 4,
     "metadata": {},
     "output_type": "execute_result"
    }
   ],
   "source": [
    "temp"
   ]
  },
  {
   "cell_type": "code",
   "execution_count": 5,
   "metadata": {},
   "outputs": [
    {
     "ename": "NameError",
     "evalue": "name 'tempa' is not defined",
     "output_type": "error",
     "traceback": [
      "\u001b[1;31m---------------------------------------------------------------------------\u001b[0m",
      "\u001b[1;31mNameError\u001b[0m                                 Traceback (most recent call last)",
      "\u001b[1;32m<ipython-input-5-e4a04d835d6c>\u001b[0m in \u001b[0;36m<module>\u001b[1;34m\u001b[0m\n\u001b[1;32m----> 1\u001b[1;33m \u001b[0mtempa\u001b[0m\u001b[1;33m\u001b[0m\u001b[1;33m\u001b[0m\u001b[0m\n\u001b[0m",
      "\u001b[1;31mNameError\u001b[0m: name 'tempa' is not defined"
     ]
    }
   ],
   "source": [
    "tempa"
   ]
  },
  {
   "cell_type": "code",
   "execution_count": 6,
   "metadata": {},
   "outputs": [
    {
     "name": "stdout",
     "output_type": "stream",
     "text": [
      "10\n",
      "4\n",
      "21\n",
      "2.3333333333333335\n"
     ]
    }
   ],
   "source": [
    "a = 7\n",
    "b = 3\n",
    "print(a+b)\n",
    "print(a-b)\n",
    "print(a*b)\n",
    "print(a/b)"
   ]
  },
  {
   "cell_type": "code",
   "execution_count": 7,
   "metadata": {},
   "outputs": [],
   "source": [
    "a = 2"
   ]
  },
  {
   "cell_type": "code",
   "execution_count": 8,
   "metadata": {},
   "outputs": [
    {
     "data": {
      "text/plain": [
       "int"
      ]
     },
     "execution_count": 8,
     "metadata": {},
     "output_type": "execute_result"
    }
   ],
   "source": [
    "type(a)"
   ]
  },
  {
   "cell_type": "code",
   "execution_count": 9,
   "metadata": {},
   "outputs": [],
   "source": [
    "a = 2.0"
   ]
  },
  {
   "cell_type": "code",
   "execution_count": 10,
   "metadata": {},
   "outputs": [
    {
     "data": {
      "text/plain": [
       "float"
      ]
     },
     "execution_count": 10,
     "metadata": {},
     "output_type": "execute_result"
    }
   ],
   "source": [
    "type(a)"
   ]
  },
  {
   "cell_type": "code",
   "execution_count": 13,
   "metadata": {},
   "outputs": [
    {
     "name": "stdout",
     "output_type": "stream",
     "text": [
      "2\n"
     ]
    }
   ],
   "source": [
    "a = 7 ; b = 3\n",
    "print(a//b)    ###몫 구하기"
   ]
  },
  {
   "cell_type": "code",
   "execution_count": 14,
   "metadata": {},
   "outputs": [
    {
     "name": "stdout",
     "output_type": "stream",
     "text": [
      "1\n"
     ]
    }
   ],
   "source": [
    "### 나머지\n",
    "print(a%b)"
   ]
  },
  {
   "cell_type": "code",
   "execution_count": 15,
   "metadata": {},
   "outputs": [
    {
     "name": "stdout",
     "output_type": "stream",
     "text": [
      "343\n"
     ]
    }
   ],
   "source": [
    "###제곱\n",
    "print(a**b)"
   ]
  },
  {
   "cell_type": "code",
   "execution_count": 16,
   "metadata": {},
   "outputs": [
    {
     "data": {
      "text/plain": [
       "'python is easy'"
      ]
     },
     "execution_count": 16,
     "metadata": {},
     "output_type": "execute_result"
    }
   ],
   "source": [
    "### 문자열 할당\n",
    "temp = 'python is easy'\n",
    "temp"
   ]
  },
  {
   "cell_type": "code",
   "execution_count": 17,
   "metadata": {},
   "outputs": [
    {
     "name": "stdout",
     "output_type": "stream",
     "text": [
      "python is easy\n"
     ]
    }
   ],
   "source": [
    "print(temp)"
   ]
  },
  {
   "cell_type": "code",
   "execution_count": 18,
   "metadata": {},
   "outputs": [],
   "source": [
    "a=7"
   ]
  },
  {
   "cell_type": "code",
   "execution_count": 19,
   "metadata": {},
   "outputs": [
    {
     "ename": "SyntaxError",
     "evalue": "invalid syntax (<ipython-input-19-b4ce96ddcee0>, line 1)",
     "output_type": "error",
     "traceback": [
      "\u001b[1;36m  File \u001b[1;32m\"<ipython-input-19-b4ce96ddcee0>\"\u001b[1;36m, line \u001b[1;32m1\u001b[0m\n\u001b[1;33m    a.\u001b[0m\n\u001b[1;37m      ^\u001b[0m\n\u001b[1;31mSyntaxError\u001b[0m\u001b[1;31m:\u001b[0m invalid syntax\n"
     ]
    }
   ],
   "source": [
    "a."
   ]
  },
  {
   "cell_type": "code",
   "execution_count": 20,
   "metadata": {},
   "outputs": [],
   "source": [
    "b ='7'"
   ]
  },
  {
   "cell_type": "code",
   "execution_count": 21,
   "metadata": {},
   "outputs": [
    {
     "data": {
      "text/plain": [
       "'7'"
      ]
     },
     "execution_count": 21,
     "metadata": {},
     "output_type": "execute_result"
    }
   ],
   "source": [
    "b"
   ]
  },
  {
   "cell_type": "code",
   "execution_count": 22,
   "metadata": {},
   "outputs": [
    {
     "data": {
      "text/plain": [
       "14"
      ]
     },
     "execution_count": 22,
     "metadata": {},
     "output_type": "execute_result"
    }
   ],
   "source": [
    "temp = 'python is easy'\n",
    "len(temp)"
   ]
  },
  {
   "cell_type": "code",
   "execution_count": 23,
   "metadata": {},
   "outputs": [
    {
     "data": {
      "text/plain": [
       "'pythonis easy'"
      ]
     },
     "execution_count": 23,
     "metadata": {},
     "output_type": "execute_result"
    }
   ],
   "source": [
    "'python'+'is easy'"
   ]
  },
  {
   "cell_type": "code",
   "execution_count": 24,
   "metadata": {},
   "outputs": [
    {
     "data": {
      "text/plain": [
       "'python is easy'"
      ]
     },
     "execution_count": 24,
     "metadata": {},
     "output_type": "execute_result"
    }
   ],
   "source": [
    "'python '+'is easy'"
   ]
  },
  {
   "cell_type": "code",
   "execution_count": 25,
   "metadata": {},
   "outputs": [
    {
     "name": "stdout",
     "output_type": "stream",
     "text": [
      "pythonis easy\n"
     ]
    }
   ],
   "source": [
    "a = 'python' ; b = 'is easy'\n",
    "print(a + b)"
   ]
  },
  {
   "cell_type": "code",
   "execution_count": 29,
   "metadata": {},
   "outputs": [
    {
     "data": {
      "text/plain": [
       "'h'"
      ]
     },
     "execution_count": 29,
     "metadata": {},
     "output_type": "execute_result"
    }
   ],
   "source": [
    "temp = 'python is easy'\n",
    "temp[3]"
   ]
  },
  {
   "cell_type": "code",
   "execution_count": 30,
   "metadata": {},
   "outputs": [
    {
     "data": {
      "text/plain": [
       "'pytho'"
      ]
     },
     "execution_count": 30,
     "metadata": {},
     "output_type": "execute_result"
    }
   ],
   "source": [
    "temp[0:5]"
   ]
  },
  {
   "cell_type": "code",
   "execution_count": 31,
   "metadata": {},
   "outputs": [
    {
     "data": {
      "text/plain": [
       "'is'"
      ]
     },
     "execution_count": 31,
     "metadata": {},
     "output_type": "execute_result"
    }
   ],
   "source": [
    "temp[7:9]"
   ]
  },
  {
   "cell_type": "code",
   "execution_count": 34,
   "metadata": {},
   "outputs": [
    {
     "data": {
      "text/plain": [
       "'easy'"
      ]
     },
     "execution_count": 34,
     "metadata": {},
     "output_type": "execute_result"
    }
   ],
   "source": [
    "temp[10:14]"
   ]
  },
  {
   "cell_type": "code",
   "execution_count": 35,
   "metadata": {},
   "outputs": [
    {
     "data": {
      "text/plain": [
       "'hon is e'"
      ]
     },
     "execution_count": 35,
     "metadata": {},
     "output_type": "execute_result"
    }
   ],
   "source": [
    "temp[3:-3]  ## -3은 맨뒤에서부터 마이너스해서, 뒤부터는 0부터 시작하지 않음, 디만 -3번째 문자는 출력하지않음."
   ]
  },
  {
   "cell_type": "code",
   "execution_count": 37,
   "metadata": {},
   "outputs": [
    {
     "name": "stdout",
     "output_type": "stream",
     "text": [
      "yes\n"
     ]
    }
   ],
   "source": [
    "i = 200\n",
    "if(i%100==0):   ## if(i%100)==0: 이라고 적어도 됨\n",
    "    print('yes')"
   ]
  },
  {
   "cell_type": "code",
   "execution_count": 38,
   "metadata": {},
   "outputs": [],
   "source": [
    "temp = 'python is easy'"
   ]
  },
  {
   "cell_type": "code",
   "execution_count": 39,
   "metadata": {},
   "outputs": [
    {
     "data": {
      "text/plain": [
       "['python', 'is', 'easy']"
      ]
     },
     "execution_count": 39,
     "metadata": {},
     "output_type": "execute_result"
    }
   ],
   "source": [
    "temp.split()"
   ]
  },
  {
   "cell_type": "code",
   "execution_count": 40,
   "metadata": {},
   "outputs": [
    {
     "data": {
      "text/plain": [
       "['python i', ' ea', 'y']"
      ]
     },
     "execution_count": 40,
     "metadata": {},
     "output_type": "execute_result"
    }
   ],
   "source": [
    "temp.split('s')   ###s가 빠짐"
   ]
  },
  {
   "cell_type": "code",
   "execution_count": 41,
   "metadata": {},
   "outputs": [],
   "source": [
    "temp2 = 'python,java,R,SAS'"
   ]
  },
  {
   "cell_type": "code",
   "execution_count": 42,
   "metadata": {},
   "outputs": [
    {
     "data": {
      "text/plain": [
       "['python', 'java', 'R', 'SAS']"
      ]
     },
     "execution_count": 42,
     "metadata": {},
     "output_type": "execute_result"
    }
   ],
   "source": [
    "temp2.split(',')"
   ]
  },
  {
   "cell_type": "code",
   "execution_count": 43,
   "metadata": {},
   "outputs": [
    {
     "name": "stdout",
     "output_type": "stream",
     "text": [
      "['python', 'java', 'R', 'SAS']\n"
     ]
    }
   ],
   "source": [
    "temp3 = temp2.split(',')\n",
    "print(temp3)"
   ]
  },
  {
   "cell_type": "code",
   "execution_count": 44,
   "metadata": {},
   "outputs": [
    {
     "data": {
      "text/plain": [
       "'python,java,R,SAS'"
      ]
     },
     "execution_count": 44,
     "metadata": {},
     "output_type": "execute_result"
    }
   ],
   "source": [
    "','.join(temp3)"
   ]
  },
  {
   "cell_type": "code",
   "execution_count": 45,
   "metadata": {},
   "outputs": [
    {
     "name": "stdout",
     "output_type": "stream",
     "text": [
      "python,java,R,SAS\n"
     ]
    }
   ],
   "source": [
    "temp4 = ','.join(temp3)\n",
    "print(temp4)"
   ]
  },
  {
   "cell_type": "code",
   "execution_count": 46,
   "metadata": {},
   "outputs": [
    {
     "name": "stdout",
     "output_type": "stream",
     "text": [
      "temp3 =  4\n",
      "temp4 =  17\n"
     ]
    }
   ],
   "source": [
    "print('temp3 = ', len(temp3))\n",
    "print('temp4 = ', len(temp4))"
   ]
  },
  {
   "cell_type": "code",
   "execution_count": 47,
   "metadata": {},
   "outputs": [
    {
     "name": "stdout",
     "output_type": "stream",
     "text": [
      "['one', 'two', 'three', 'four']\n"
     ]
    }
   ],
   "source": [
    "number = ['one','two','three','four']\n",
    "print(number)"
   ]
  },
  {
   "cell_type": "code",
   "execution_count": 48,
   "metadata": {},
   "outputs": [
    {
     "name": "stdout",
     "output_type": "stream",
     "text": [
      "('one', 'two', 'three', 'four')\n"
     ]
    }
   ],
   "source": [
    "number_tuple=('one','two','three','four')\n",
    "print(number_tuple)"
   ]
  },
  {
   "cell_type": "code",
   "execution_count": 50,
   "metadata": {},
   "outputs": [
    {
     "data": {
      "text/plain": [
       "['one', 'two', 'three', 'four']"
      ]
     },
     "execution_count": 50,
     "metadata": {},
     "output_type": "execute_result"
    }
   ],
   "source": [
    "list(number_tuple)"
   ]
  },
  {
   "cell_type": "code",
   "execution_count": 53,
   "metadata": {},
   "outputs": [
    {
     "data": {
      "text/plain": [
       "'two'"
      ]
     },
     "execution_count": 53,
     "metadata": {},
     "output_type": "execute_result"
    }
   ],
   "source": [
    "number[1]"
   ]
  },
  {
   "cell_type": "code",
   "execution_count": 54,
   "metadata": {},
   "outputs": [
    {
     "data": {
      "text/plain": [
       "['three', 'four']"
      ]
     },
     "execution_count": 54,
     "metadata": {},
     "output_type": "execute_result"
    }
   ],
   "source": [
    "number[2:4]"
   ]
  },
  {
   "cell_type": "code",
   "execution_count": 55,
   "metadata": {},
   "outputs": [
    {
     "data": {
      "text/plain": [
       "['one', 'three']"
      ]
     },
     "execution_count": 55,
     "metadata": {},
     "output_type": "execute_result"
    }
   ],
   "source": [
    "number[::2]  ##두칸씩 추출"
   ]
  },
  {
   "cell_type": "code",
   "execution_count": 56,
   "metadata": {},
   "outputs": [
    {
     "name": "stdout",
     "output_type": "stream",
     "text": [
      "['first', 'two', 'three', 'four']\n"
     ]
    }
   ],
   "source": [
    "number[0] = 'first'\n",
    "print(number)"
   ]
  },
  {
   "cell_type": "code",
   "execution_count": 57,
   "metadata": {},
   "outputs": [
    {
     "name": "stdout",
     "output_type": "stream",
     "text": [
      "['first', 'two', 'three', '4']\n"
     ]
    }
   ],
   "source": [
    "number[3] = '4'\n",
    "print(number)"
   ]
  },
  {
   "cell_type": "code",
   "execution_count": 58,
   "metadata": {},
   "outputs": [
    {
     "name": "stdout",
     "output_type": "stream",
     "text": [
      "['one', 'two', 'three', 'four', 'five']\n"
     ]
    }
   ],
   "source": [
    "number[0] = 'one'\n",
    "number[3] = 'four'\n",
    "number.append('five')\n",
    "print(number)"
   ]
  },
  {
   "cell_type": "code",
   "execution_count": 60,
   "metadata": {},
   "outputs": [
    {
     "name": "stdout",
     "output_type": "stream",
     "text": [
      "['one', 'two', 'three', 'four', 'five', 'six', 'six']\n"
     ]
    }
   ],
   "source": [
    "number.append('six')\n",
    "print(number)"
   ]
  },
  {
   "cell_type": "code",
   "execution_count": 61,
   "metadata": {},
   "outputs": [
    {
     "name": "stdout",
     "output_type": "stream",
     "text": [
      "['one', 'two', 'three', 'four', 'five', 'six']\n"
     ]
    }
   ],
   "source": [
    "del number[5]\n",
    "print(number)"
   ]
  },
  {
   "cell_type": "code",
   "execution_count": 64,
   "metadata": {},
   "outputs": [
    {
     "name": "stdout",
     "output_type": "stream",
     "text": [
      "['one', 'two', 'three', 'four', 'five']\n"
     ]
    }
   ],
   "source": [
    "number.remove('six')\n",
    "print(number)"
   ]
  },
  {
   "cell_type": "code",
   "execution_count": 65,
   "metadata": {},
   "outputs": [
    {
     "name": "stdout",
     "output_type": "stream",
     "text": [
      "['one', 'two', 'three', 'four', 'five', 'six', 'seven', 'eight']\n"
     ]
    }
   ],
   "source": [
    "number1 = ['one', 'two', 'three', 'four']\n",
    "number2 = ['five', 'six', 'seven', 'eight']\n",
    "number1.extend(number2)\n",
    "print(number1)"
   ]
  },
  {
   "cell_type": "code",
   "execution_count": 67,
   "metadata": {},
   "outputs": [
    {
     "name": "stdout",
     "output_type": "stream",
     "text": [
      "['five', 'four', 'one', 'three', 'two']\n"
     ]
    }
   ],
   "source": [
    "number.sort()\n",
    "print(number)"
   ]
  },
  {
   "cell_type": "code",
   "execution_count": 71,
   "metadata": {},
   "outputs": [
    {
     "name": "stdout",
     "output_type": "stream",
     "text": [
      "[1, 2, 3, 4]\n"
     ]
    }
   ],
   "source": [
    "number=[1,2,3,4]\n",
    "number.sort(reverse=False)   ###True, False는 꼭 작성해야함\n",
    "print(number)"
   ]
  },
  {
   "cell_type": "code",
   "execution_count": 72,
   "metadata": {},
   "outputs": [
    {
     "name": "stdout",
     "output_type": "stream",
     "text": [
      "(1, 2, 3, 4)\n"
     ]
    },
    {
     "data": {
      "text/plain": [
       "tuple"
      ]
     },
     "execution_count": 72,
     "metadata": {},
     "output_type": "execute_result"
    }
   ],
   "source": [
    "number=(1,2,3,4)\n",
    "print(number)\n",
    "type(number)"
   ]
  },
  {
   "cell_type": "code",
   "execution_count": 73,
   "metadata": {},
   "outputs": [
    {
     "ename": "TypeError",
     "evalue": "'tuple' object does not support item assignment",
     "output_type": "error",
     "traceback": [
      "\u001b[1;31m---------------------------------------------------------------------------\u001b[0m",
      "\u001b[1;31mTypeError\u001b[0m                                 Traceback (most recent call last)",
      "\u001b[1;32m<ipython-input-73-43f54f9768bb>\u001b[0m in \u001b[0;36m<module>\u001b[1;34m\u001b[0m\n\u001b[1;32m----> 1\u001b[1;33m \u001b[0mnumber\u001b[0m\u001b[1;33m[\u001b[0m\u001b[1;36m1\u001b[0m\u001b[1;33m]\u001b[0m\u001b[1;33m=\u001b[0m\u001b[1;36m4\u001b[0m\u001b[1;33m\u001b[0m\u001b[1;33m\u001b[0m\u001b[0m\n\u001b[0m",
      "\u001b[1;31mTypeError\u001b[0m: 'tuple' object does not support item assignment"
     ]
    }
   ],
   "source": [
    "number[1]=4"
   ]
  },
  {
   "cell_type": "code",
   "execution_count": 74,
   "metadata": {},
   "outputs": [
    {
     "name": "stdout",
     "output_type": "stream",
     "text": [
      "{'apple': 3500, 'peer': 2500, 'cherry': 5000}\n"
     ]
    }
   ],
   "source": [
    "fruit_price = [['apple',3500],['peer',2500],['cherry',5000]]\n",
    "fruit_price=dict(fruit_price)\n",
    "print(fruit_price)"
   ]
  },
  {
   "cell_type": "code",
   "execution_count": 75,
   "metadata": {},
   "outputs": [
    {
     "data": {
      "text/plain": [
       "dict_keys(['apple', 'peer', 'cherry'])"
      ]
     },
     "execution_count": 75,
     "metadata": {},
     "output_type": "execute_result"
    }
   ],
   "source": [
    "fruit_price.keys()"
   ]
  },
  {
   "cell_type": "code",
   "execution_count": 76,
   "metadata": {},
   "outputs": [
    {
     "data": {
      "text/plain": [
       "5000"
      ]
     },
     "execution_count": 76,
     "metadata": {},
     "output_type": "execute_result"
    }
   ],
   "source": [
    "fruit_price['cherry']"
   ]
  },
  {
   "cell_type": "code",
   "execution_count": 77,
   "metadata": {},
   "outputs": [],
   "source": [
    "school_class = {1: ['mina','jane','mark'],\n",
    "                2 : ['peter','pay','parker'],\n",
    "                3 : ['pay','joy','conan'] }"
   ]
  },
  {
   "cell_type": "code",
   "execution_count": 78,
   "metadata": {},
   "outputs": [
    {
     "data": {
      "text/plain": [
       "dict_keys([1, 2, 3])"
      ]
     },
     "execution_count": 78,
     "metadata": {},
     "output_type": "execute_result"
    }
   ],
   "source": [
    "school_class.keys()"
   ]
  },
  {
   "cell_type": "code",
   "execution_count": 79,
   "metadata": {},
   "outputs": [
    {
     "data": {
      "text/plain": [
       "['peter', 'pay', 'parker']"
      ]
     },
     "execution_count": 79,
     "metadata": {},
     "output_type": "execute_result"
    }
   ],
   "source": [
    "school_class.get(2)  ### key 2 값만 가져옴"
   ]
  },
  {
   "cell_type": "code",
   "execution_count": 80,
   "metadata": {},
   "outputs": [
    {
     "data": {
      "text/plain": [
       "['peter', 'pay', 'parker']"
      ]
     },
     "execution_count": 80,
     "metadata": {},
     "output_type": "execute_result"
    }
   ],
   "source": [
    "school_class[2]   ### key 2 값만 가져옴"
   ]
  },
  {
   "cell_type": "code",
   "execution_count": 81,
   "metadata": {},
   "outputs": [
    {
     "data": {
      "text/plain": [
       "dict_values([['mina', 'jane', 'mark'], ['peter', 'pay', 'parker'], ['pay', 'joy', 'conan']])"
      ]
     },
     "execution_count": 81,
     "metadata": {},
     "output_type": "execute_result"
    }
   ],
   "source": [
    "school_class.values()   ### value값만 가져옴"
   ]
  },
  {
   "cell_type": "code",
   "execution_count": 82,
   "metadata": {},
   "outputs": [
    {
     "data": {
      "text/plain": [
       "dict_items([(1, ['mina', 'jane', 'mark']), (2, ['peter', 'pay', 'parker']), (3, ['pay', 'joy', 'conan'])])"
      ]
     },
     "execution_count": 82,
     "metadata": {},
     "output_type": "execute_result"
    }
   ],
   "source": [
    "school_class.items()   ###전체를 다 가져옴"
   ]
  },
  {
   "cell_type": "code",
   "execution_count": 84,
   "metadata": {},
   "outputs": [
    {
     "name": "stdout",
     "output_type": "stream",
     "text": [
      "{'apple': 3500, 'peer': 2500, 'cherry': 5000, 'banana': 3200, 'grape': 2000}\n"
     ]
    }
   ],
   "source": [
    "others = {'banana':3200, 'grape':2000}\n",
    "fruit_price.update(others)     ### update는 추가\n",
    "print(fruit_price)"
   ]
  },
  {
   "cell_type": "code",
   "execution_count": 86,
   "metadata": {},
   "outputs": [
    {
     "name": "stdout",
     "output_type": "stream",
     "text": [
      "{1: ['mina', 'jane', 'mark'], 2: ['peter', 'pay', 'parker'], 3: ['pay', 'joy', 'conan'], 4: ['jessica', 'john', 'peter']}\n"
     ]
    }
   ],
   "source": [
    "other_class = {4: ['jessica', 'john', 'peter']}\n",
    "school_class.update(other_class)   ### update는 추가\n",
    "print(school_class)"
   ]
  },
  {
   "cell_type": "code",
   "execution_count": 87,
   "metadata": {},
   "outputs": [],
   "source": [
    "a=10 ; b=20 ; c=30"
   ]
  },
  {
   "cell_type": "code",
   "execution_count": 88,
   "metadata": {},
   "outputs": [
    {
     "data": {
      "text/plain": [
       "False"
      ]
     },
     "execution_count": 88,
     "metadata": {},
     "output_type": "execute_result"
    }
   ],
   "source": [
    "a==b"
   ]
  },
  {
   "cell_type": "code",
   "execution_count": 89,
   "metadata": {},
   "outputs": [
    {
     "data": {
      "text/plain": [
       "True"
      ]
     },
     "execution_count": 89,
     "metadata": {},
     "output_type": "execute_result"
    }
   ],
   "source": [
    "a!=b"
   ]
  },
  {
   "cell_type": "code",
   "execution_count": 90,
   "metadata": {},
   "outputs": [
    {
     "data": {
      "text/plain": [
       "True"
      ]
     },
     "execution_count": 90,
     "metadata": {},
     "output_type": "execute_result"
    }
   ],
   "source": [
    "a<b"
   ]
  },
  {
   "cell_type": "code",
   "execution_count": 91,
   "metadata": {},
   "outputs": [
    {
     "data": {
      "text/plain": [
       "False"
      ]
     },
     "execution_count": 91,
     "metadata": {},
     "output_type": "execute_result"
    }
   ],
   "source": [
    "a>b"
   ]
  },
  {
   "cell_type": "code",
   "execution_count": 92,
   "metadata": {},
   "outputs": [
    {
     "data": {
      "text/plain": [
       "True"
      ]
     },
     "execution_count": 92,
     "metadata": {},
     "output_type": "execute_result"
    }
   ],
   "source": [
    "a in (10, 20, 30)"
   ]
  },
  {
   "cell_type": "code",
   "execution_count": 93,
   "metadata": {},
   "outputs": [
    {
     "data": {
      "text/plain": [
       "False"
      ]
     },
     "execution_count": 93,
     "metadata": {},
     "output_type": "execute_result"
    }
   ],
   "source": [
    "(a==b and a==c)"
   ]
  },
  {
   "cell_type": "code",
   "execution_count": 94,
   "metadata": {},
   "outputs": [
    {
     "data": {
      "text/plain": [
       "False"
      ]
     },
     "execution_count": 94,
     "metadata": {},
     "output_type": "execute_result"
    }
   ],
   "source": [
    "(a==b) & (a==c)  ###and와 &는 조금 다르다. &는 앞 가로의 값이 거짓이면 뒤 가로값을 계산하지 않고 결론낸다."
   ]
  },
  {
   "cell_type": "code",
   "execution_count": 95,
   "metadata": {},
   "outputs": [
    {
     "data": {
      "text/plain": [
       "False"
      ]
     },
     "execution_count": 95,
     "metadata": {},
     "output_type": "execute_result"
    }
   ],
   "source": [
    "(a==b) or (a==c)"
   ]
  },
  {
   "cell_type": "code",
   "execution_count": 96,
   "metadata": {},
   "outputs": [
    {
     "data": {
      "text/plain": [
       "True"
      ]
     },
     "execution_count": 96,
     "metadata": {},
     "output_type": "execute_result"
    }
   ],
   "source": [
    "not(a==b)"
   ]
  },
  {
   "cell_type": "code",
   "execution_count": 97,
   "metadata": {},
   "outputs": [
    {
     "data": {
      "text/plain": [
       "False"
      ]
     },
     "execution_count": 97,
     "metadata": {},
     "output_type": "execute_result"
    }
   ],
   "source": [
    "not(a!=b)"
   ]
  },
  {
   "cell_type": "code",
   "execution_count": 98,
   "metadata": {},
   "outputs": [
    {
     "name": "stdout",
     "output_type": "stream",
     "text": [
      "조건문이 참입니다.\n"
     ]
    }
   ],
   "source": [
    "python = True\n",
    "if(python):\n",
    "    print('조건문이 참입니다.')"
   ]
  },
  {
   "cell_type": "code",
   "execution_count": 100,
   "metadata": {},
   "outputs": [
    {
     "name": "stdout",
     "output_type": "stream",
     "text": [
      "조건문이 참이 아닙니다.\n"
     ]
    }
   ],
   "source": [
    "python = False      ### 값이 0이면 False로 인식\n",
    "if(python):\n",
    "    print('조건문이 참입니다.')\n",
    "else:\n",
    "    print('조건문이 참이 아닙니다.')"
   ]
  },
  {
   "cell_type": "code",
   "execution_count": 101,
   "metadata": {},
   "outputs": [
    {
     "name": "stdout",
     "output_type": "stream",
     "text": [
      "첫번째 조건문은 참이 아니고 두번째 조건문은 참입니다.\n"
     ]
    }
   ],
   "source": [
    "python = False\n",
    "pycharm = True\n",
    "if(python) : \n",
    "    print(\"첫번째 조건문이 참입니다.\") \n",
    "elif (pycharm) : \n",
    "    print(\"첫번째 조건문은 참이 아니고 두번째 조건문은 참입니다.\")\n",
    "else : \n",
    "    print(\"조건문이 참이 아닙니다.\")"
   ]
  },
  {
   "cell_type": "code",
   "execution_count": 102,
   "metadata": {},
   "outputs": [
    {
     "name": "stdout",
     "output_type": "stream",
     "text": [
      "조건문이 참이 아닙니다.\n"
     ]
    }
   ],
   "source": [
    "python = False\n",
    "pycharm = False\n",
    "if(python) : \n",
    "    print(\"첫번째 조건문이 참입니다.\") \n",
    "elif (pycharm) : \n",
    "    print(\"첫번째 조건문은 참이 아니고 두번째 조건문은 참입니다.\")\n",
    "else : \n",
    "    print(\"조건문이 참이 아닙니다.\")"
   ]
  },
  {
   "cell_type": "code",
   "execution_count": 103,
   "metadata": {},
   "outputs": [
    {
     "name": "stdout",
     "output_type": "stream",
     "text": [
      "숫자를 입력하세요?123\n"
     ]
    },
    {
     "data": {
      "text/plain": [
       "'123'"
      ]
     },
     "execution_count": 103,
     "metadata": {},
     "output_type": "execute_result"
    }
   ],
   "source": [
    "input('숫자를 입력하세요?')   #변수에 데이터를 받아 처리  input()함수"
   ]
  },
  {
   "cell_type": "code",
   "execution_count": 104,
   "metadata": {},
   "outputs": [
    {
     "name": "stdout",
     "output_type": "stream",
     "text": [
      "숫자를 입력하세요?123\n"
     ]
    },
    {
     "data": {
      "text/plain": [
       "123"
      ]
     },
     "execution_count": 104,
     "metadata": {},
     "output_type": "execute_result"
    }
   ],
   "source": [
    "int(input('숫자를 입력하세요?'))  #문자열을 숫자열로 바꾸려면 앞에 int"
   ]
  },
  {
   "cell_type": "code",
   "execution_count": 117,
   "metadata": {
    "scrolled": true
   },
   "outputs": [
    {
     "name": "stdout",
     "output_type": "stream",
     "text": [
      "숫자를 입력하세요?123\n",
      "홀수!!\n"
     ]
    }
   ],
   "source": [
    "x = int(input('숫자를 입력하세요?'))\n",
    "if(x%2==0):\n",
    "    print('짝수@@')\n",
    "else:\n",
    "    print('홀수!!')      ###내가 해냄!!!!"
   ]
  },
  {
   "cell_type": "code",
   "execution_count": 12,
   "metadata": {},
   "outputs": [
    {
     "name": "stdout",
     "output_type": "stream",
     "text": [
      "점수를 입력하십시오.80\n",
      "등급= B\n",
      "점수= 80\n"
     ]
    }
   ],
   "source": [
    "x = int(input('점수를 입력하십시오.'))\n",
    "if(x>80):\n",
    "    print('등급= A')\n",
    "elif(70<x<=80):\n",
    "    print('등급= B')\n",
    "elif(60<x<=70):\n",
    "    print('등급= c')\n",
    "else:\n",
    "    print('등급= D')           ##내가 해냄!!!\n",
    "print('점수=', x)"
   ]
  },
  {
   "cell_type": "code",
   "execution_count": 8,
   "metadata": {},
   "outputs": [
    {
     "name": "stdout",
     "output_type": "stream",
     "text": [
      "점수를 입력하세요.80\n",
      "점수는= 80 등급은= B\n"
     ]
    }
   ],
   "source": [
    "### 선생님 답\n",
    "score = int(input('점수를 입력하세요.'))\n",
    "if score > 80:\n",
    "    degree = 'A'\n",
    "elif (score> 70 and score <=80):\n",
    "    degree = 'B'\n",
    "elif (score< 60 and score <=70):\n",
    "    degree = 'C'\n",
    "else:\n",
    "    degree = 'D'\n",
    "print('점수는=',score, '등급은=',degree)"
   ]
  },
  {
   "cell_type": "code",
   "execution_count": 10,
   "metadata": {},
   "outputs": [
    {
     "name": "stdout",
     "output_type": "stream",
     "text": [
      "1\n",
      "2\n",
      "3\n",
      "4\n",
      "5\n",
      "6\n",
      "7\n",
      "8\n",
      "9\n",
      "10\n"
     ]
    }
   ],
   "source": [
    "for i in range(1,11):\n",
    "    print(i)"
   ]
  },
  {
   "cell_type": "code",
   "execution_count": 16,
   "metadata": {},
   "outputs": [
    {
     "data": {
      "text/plain": [
       "[1, 4, 7, 10, 13, 16, 19, 22, 25, 28]"
      ]
     },
     "execution_count": 16,
     "metadata": {},
     "output_type": "execute_result"
    }
   ],
   "source": [
    "list(range(1,30,3))     ### 3씩 차이나게"
   ]
  },
  {
   "cell_type": "code",
   "execution_count": 21,
   "metadata": {},
   "outputs": [
    {
     "data": {
      "text/plain": [
       "list"
      ]
     },
     "execution_count": 21,
     "metadata": {},
     "output_type": "execute_result"
    }
   ],
   "source": [
    "fruit = ['apple', 'pear', 'cherry']\n",
    "type(fruit)"
   ]
  },
  {
   "cell_type": "code",
   "execution_count": 22,
   "metadata": {},
   "outputs": [
    {
     "name": "stdout",
     "output_type": "stream",
     "text": [
      "i= apple\n",
      "i= pear\n",
      "i= cherry\n"
     ]
    }
   ],
   "source": [
    "for i in fruit:\n",
    "    print('i=',i)"
   ]
  },
  {
   "cell_type": "code",
   "execution_count": 23,
   "metadata": {},
   "outputs": [
    {
     "name": "stdout",
     "output_type": "stream",
     "text": [
      "apple\n",
      "pear\n",
      "cherry\n"
     ]
    }
   ],
   "source": [
    "fruits = ['apple', 'pear', 'cherry']\n",
    "for fruit in fruits:\n",
    "    print(fruit)"
   ]
  },
  {
   "cell_type": "code",
   "execution_count": 24,
   "metadata": {},
   "outputs": [
    {
     "name": "stdout",
     "output_type": "stream",
     "text": [
      "apple\n",
      "pear\n",
      "cherry\n"
     ]
    }
   ],
   "source": [
    "fruit_price = {'apple':3500, 'pear':2500, 'cherry': 5000}\n",
    "for i in fruit_price.keys():\n",
    "    print(i)"
   ]
  },
  {
   "cell_type": "code",
   "execution_count": 25,
   "metadata": {},
   "outputs": [
    {
     "name": "stdout",
     "output_type": "stream",
     "text": [
      "3500\n",
      "2500\n",
      "5000\n"
     ]
    }
   ],
   "source": [
    "for i in fruit_price.values():\n",
    "    print(i)"
   ]
  },
  {
   "cell_type": "code",
   "execution_count": 30,
   "metadata": {},
   "outputs": [
    {
     "name": "stdout",
     "output_type": "stream",
     "text": [
      "('apple', 3500)\n",
      "('pear', 2500)\n",
      "('cherry', 5000)\n"
     ]
    }
   ],
   "source": [
    "for i in fruit_price.items():\n",
    "    print(i)"
   ]
  },
  {
   "cell_type": "code",
   "execution_count": 31,
   "metadata": {},
   "outputs": [
    {
     "data": {
      "text/plain": [
       "dict_items([('apple', 3500), ('pear', 2500), ('cherry', 5000)])"
      ]
     },
     "execution_count": 31,
     "metadata": {},
     "output_type": "execute_result"
    }
   ],
   "source": [
    "fruit_price.items()          ###list 구조라 for문 가능"
   ]
  },
  {
   "cell_type": "code",
   "execution_count": 32,
   "metadata": {},
   "outputs": [
    {
     "name": "stdout",
     "output_type": "stream",
     "text": [
      "1= apple 2= 3500\n",
      "1= pear 2= 2500\n",
      "1= cherry 2= 5000\n"
     ]
    }
   ],
   "source": [
    "fruit_price = {'apple':3500, 'pear':2500, 'cherry': 5000}\n",
    "for i in fruit_price.items():\n",
    "    print('1=',i[0], '2=',i[1])"
   ]
  },
  {
   "cell_type": "code",
   "execution_count": 33,
   "metadata": {},
   "outputs": [
    {
     "name": "stdout",
     "output_type": "stream",
     "text": [
      "item= ('apple', ['a1', 'a2'])\n",
      "1= apple 2= ['a1', 'a2']\n",
      "11= apple 2= a1\n",
      "11= apple 2= a2\n",
      "******************************\n",
      "item= ('pear', ['b1', 'b2'])\n",
      "1= pear 2= ['b1', 'b2']\n",
      "11= pear 2= b1\n",
      "11= pear 2= b2\n",
      "******************************\n",
      "item= ('cherry', ['c1', 'c2'])\n",
      "1= cherry 2= ['c1', 'c2']\n",
      "11= cherry 2= c1\n",
      "11= cherry 2= c2\n",
      "******************************\n"
     ]
    }
   ],
   "source": [
    "fruit_price={'apple':['a1','a2'], 'pear':['b1','b2'], 'cherry':['c1', 'c2']}\n",
    "for i in fruit_price.items():\n",
    "    print('item=', i)\n",
    "    print('1=', i[0], '2=', i[1])\n",
    "    print('11=', i[0], '2=', i[1][0])\n",
    "    print('11=', i[0], '2=', i[1][1])\n",
    "    print('*'*30)"
   ]
  },
  {
   "cell_type": "code",
   "execution_count": 36,
   "metadata": {},
   "outputs": [
    {
     "name": "stdout",
     "output_type": "stream",
     "text": [
      "3000원이상인 과일= ['apple', 'cherry']\n",
      "3000원이하인 과일= ['pear']\n"
     ]
    }
   ],
   "source": [
    "high_price=[]         ###어렵다..\n",
    "low_price=[]\n",
    "fruit_price = {'apple':3500, 'pear':2500, 'cherry': 5000}\n",
    "for i in fruit_price.items():\n",
    "    if i[1]>3000:\n",
    "        high_price.append(i[0])\n",
    "    else:\n",
    "        low_price.append(i[0])\n",
    "print('3000원이상인 과일=', high_price)\n",
    "print('3000원이하인 과일=', low_price)"
   ]
  },
  {
   "cell_type": "code",
   "execution_count": 4,
   "metadata": {},
   "outputs": [
    {
     "name": "stdout",
     "output_type": "stream",
     "text": [
      "i=  0 item=  ('apple', 3500)\n",
      "item[0]= apple item[1]= 3500\n",
      "******************************\n",
      "i=  1 item=  ('pear', 2500)\n",
      "item[0]= pear item[1]= 2500\n",
      "******************************\n",
      "i=  2 item=  ('cherry', 5000)\n",
      "item[0]= cherry item[1]= 5000\n",
      "******************************\n",
      "['apple', 'cherry']\n",
      "['pear']\n"
     ]
    }
   ],
   "source": [
    "high_price=[]         ###어렵다..2\n",
    "low_price=[]\n",
    "fruit_price = {'apple':3500, 'pear':2500, 'cherry': 5000}\n",
    "for i, item in enumerate(fruit_price.items()):\n",
    "    print('i= ', i, 'item= ', item)\n",
    "    print('item[0]=', item[0], 'item[1]=', item[1])\n",
    "    if item[1]> 3000:\n",
    "        high_price.append(item[0])\n",
    "    else:\n",
    "        low_price.append(item[0])\n",
    "    print('*'*30)\n",
    "    \n",
    "print(high_price)\n",
    "print(low_price)"
   ]
  },
  {
   "cell_type": "code",
   "execution_count": 3,
   "metadata": {},
   "outputs": [
    {
     "name": "stdout",
     "output_type": "stream",
     "text": [
      "1번: 철수\n",
      "2번: 영희\n",
      "3번: 영수\n"
     ]
    }
   ],
   "source": [
    "names = ['철수', '영희', '영수']\n",
    "for i, name in enumerate(names):\n",
    "  print('{}번: {}'.format(i + 1, name))"
   ]
  },
  {
   "cell_type": "code",
   "execution_count": 24,
   "metadata": {},
   "outputs": [
    {
     "name": "stdout",
     "output_type": "stream",
     "text": [
      "score= 50\n",
      "D\n",
      "******************************\n",
      "score= 85\n",
      "A\n",
      "******************************\n",
      "score= 97\n",
      "A\n",
      "******************************\n",
      "score= 30\n",
      "D\n",
      "******************************\n",
      "score= 88\n",
      "A\n",
      "******************************\n"
     ]
    }
   ],
   "source": [
    "score = [50, 85, 97, 30, 88]   ## 점수와 등급을 출력하시오\n",
    "### 출력-> '점수=', ??, '등급=' ,??)\n",
    "for i in score:\n",
    "    print('score=', i)\n",
    "    if(i>80):\n",
    "        print('A')\n",
    "    elif(70<i<=80):\n",
    "        print('B')\n",
    "    elif(60<i<=70):\n",
    "        print('c')\n",
    "    else:\n",
    "        print('D')\n",
    "    print('*'*30)"
   ]
  },
  {
   "cell_type": "code",
   "execution_count": 27,
   "metadata": {},
   "outputs": [],
   "source": [
    "fruit = open('C:/jms/fruit.txt','wt')\n",
    "### fruit = open('C:/\\\\jms\\\\/fruit.txt','wt') 와도 같다\n",
    "fruit_price = {'apple':3500, 'pear':2500, 'cherry': 5000}\n",
    "for item in fruit_price.items():\n",
    "    print(item,file=fruit)\n",
    "fruit.close()"
   ]
  },
  {
   "cell_type": "code",
   "execution_count": 30,
   "metadata": {},
   "outputs": [],
   "source": [
    "fruit = open('C:/jms/fruit2.txt','wt')\n",
    "fruit.write('apple 3500\\n')     ###write 함수,  n은 엔터키 의미\n",
    "fruit.write('peer 2500\\n')\n",
    "fruit.write('cherr 5000\\n')\n",
    "fruit.close()"
   ]
  },
  {
   "cell_type": "code",
   "execution_count": 31,
   "metadata": {},
   "outputs": [],
   "source": [
    "fruit = open('C:/jms/fruit2a.txt','wt')\n",
    "fruit.write('apple 3500')\n",
    "fruit.write('peer 2500')\n",
    "fruit.write('cherr 5000')\n",
    "fruit.close()       ### with 문을 쓰면 close없어도 됨."
   ]
  },
  {
   "cell_type": "code",
   "execution_count": 33,
   "metadata": {},
   "outputs": [],
   "source": [
    "import csv\n",
    "with open('C:/jms/fruit.csv','w',newline='') as fruit:\n",
    "    writer = csv.writer(fruit,delimiter=',') \n",
    "    writer.writerow(['apple']) \n",
    "    writer.writerow(['peer']) \n",
    "    writer.writerow(['cherry']) \n",
    "    writer.writerow(['banana']) \n",
    "    writer.writerow(['peach'])    ### with 문을 쓰면 close없어도 됨."
   ]
  },
  {
   "cell_type": "code",
   "execution_count": 34,
   "metadata": {},
   "outputs": [
    {
     "name": "stdout",
     "output_type": "stream",
     "text": [
      "['apple 3500\\n', 'peer 2500\\n', 'cherr 5000\\n']\n"
     ]
    }
   ],
   "source": [
    "fruit_path = open('c:/jms/fruit2.txt','rt')\n",
    "fruit_path\n",
    "\n",
    "fruit = fruit_path.readlines()\n",
    "print(fruit)"
   ]
  },
  {
   "cell_type": "code",
   "execution_count": 35,
   "metadata": {},
   "outputs": [
    {
     "name": "stdout",
     "output_type": "stream",
     "text": [
      "[\"('apple', 3500)\\n\", \"('pear', 2500)\\n\", \"('cherry', 5000)\\n\"]\n"
     ]
    }
   ],
   "source": [
    "fruit_path = open('c:/jms/fruit.txt','rt')\n",
    "fruit_path\n",
    "\n",
    "fruit = fruit_path.readlines()\n",
    "print(fruit)"
   ]
  },
  {
   "cell_type": "code",
   "execution_count": 36,
   "metadata": {},
   "outputs": [
    {
     "name": "stdout",
     "output_type": "stream",
     "text": [
      "['apple 3500peer 2500cherr 5000']\n"
     ]
    }
   ],
   "source": [
    "fruit_path = open('c:/jms/fruit2a.txt','rt')\n",
    "fruit_path\n",
    "\n",
    "fruit = fruit_path.readlines()\n",
    "print(fruit)"
   ]
  },
  {
   "cell_type": "code",
   "execution_count": 40,
   "metadata": {},
   "outputs": [
    {
     "data": {
      "text/plain": [
       "<_csv.reader at 0x21988aaa6a0>"
      ]
     },
     "execution_count": 40,
     "metadata": {},
     "output_type": "execute_result"
    }
   ],
   "source": [
    "import csv\n",
    "\n",
    "f = open('c:/jms/fruit.csv','rt')\n",
    "csvRead = csv.reader(f)\n",
    "csvRead"
   ]
  },
  {
   "cell_type": "code",
   "execution_count": 42,
   "metadata": {},
   "outputs": [
    {
     "name": "stdout",
     "output_type": "stream",
     "text": [
      "['apple']\n",
      "['peer']\n",
      "['cherry']\n",
      "['banana']\n",
      "['peach']\n",
      "fruit= [['apple'], ['peer'], ['cherry'], ['banana'], ['peach']]\n"
     ]
    }
   ],
   "source": [
    "fruit = []\n",
    "for i in csvRead:\n",
    "    fruit.append(i)\n",
    "    print(i)\n",
    "print('fruit=' ,fruit)"
   ]
  },
  {
   "cell_type": "code",
   "execution_count": 59,
   "metadata": {},
   "outputs": [
    {
     "name": "stdout",
     "output_type": "stream",
     "text": [
      "나무를 1번 찍었습니다.\n",
      "나무를 2번 찍었습니다.\n",
      "나무를 3번 찍었습니다.\n",
      "나무를 4번 찍었습니다.\n",
      "나무를 5번 찍었습니다.\n",
      "나무를 6번 찍었습니다.\n",
      "나무를 7번 찍었습니다.\n",
      "나무를 8번 찍었습니다.\n",
      "나무를 9번 찍었습니다.\n",
      "나무를 10번 찍었습니다.\n",
      "나무 넘어갑니다.\n"
     ]
    }
   ],
   "source": [
    "treehit =0\n",
    "while treehit <10:\n",
    "    treehit = treehit +1\n",
    "    print('나무를 %s번 찍었습니다.' % treehit)\n",
    "    if treehit ==10:\n",
    "        print('나무 넘어갑니다.')"
   ]
  },
  {
   "cell_type": "code",
   "execution_count": 48,
   "metadata": {},
   "outputs": [
    {
     "name": "stdout",
     "output_type": "stream",
     "text": [
      "야경 청년 아카데미\n"
     ]
    }
   ],
   "source": [
    "a = '야경'\n",
    "print('{} 청년 아카데미'. format(a))"
   ]
  },
  {
   "cell_type": "code",
   "execution_count": 61,
   "metadata": {
    "scrolled": true
   },
   "outputs": [
    {
     "name": "stdout",
     "output_type": "stream",
     "text": [
      "야경 청년 아카데미\n"
     ]
    }
   ],
   "source": [
    "a = '청년'\n",
    "print('야경 %s 아카데미' %a)"
   ]
  },
  {
   "cell_type": "code",
   "execution_count": 55,
   "metadata": {},
   "outputs": [
    {
     "name": "stdout",
     "output_type": "stream",
     "text": [
      "야경 청년 아카데미\n"
     ]
    }
   ],
   "source": [
    "a = '청년'\n",
    "b = '데미'\n",
    "print('야경 %s 아카%s' %(a,b))"
   ]
  },
  {
   "cell_type": "code",
   "execution_count": null,
   "metadata": {},
   "outputs": [],
   "source": []
  }
 ],
 "metadata": {
  "kernelspec": {
   "display_name": "Python 3",
   "language": "python",
   "name": "python3"
  },
  "language_info": {
   "codemirror_mode": {
    "name": "ipython",
    "version": 3
   },
   "file_extension": ".py",
   "mimetype": "text/x-python",
   "name": "python",
   "nbconvert_exporter": "python",
   "pygments_lexer": "ipython3",
   "version": "3.8.3"
  }
 },
 "nbformat": 4,
 "nbformat_minor": 4
}
