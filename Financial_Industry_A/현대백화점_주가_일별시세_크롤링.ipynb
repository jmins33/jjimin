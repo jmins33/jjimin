{
  "nbformat": 4,
  "nbformat_minor": 0,
  "metadata": {
    "kernelspec": {
      "display_name": "Python 3",
      "language": "python",
      "name": "python3"
    },
    "language_info": {
      "codemirror_mode": {
        "name": "ipython",
        "version": 3
      },
      "file_extension": ".py",
      "mimetype": "text/x-python",
      "name": "python",
      "nbconvert_exporter": "python",
      "pygments_lexer": "ipython3",
      "version": "3.7.7"
    },
    "colab": {
      "name": "현대백화점_주가_일별시세_크롤링.ipynb",
      "provenance": [],
      "include_colab_link": true
    }
  },
  "cells": [
    {
      "cell_type": "markdown",
      "metadata": {
        "id": "view-in-github",
        "colab_type": "text"
      },
      "source": [
        "<a href=\"https://colab.research.google.com/github/jmins33/ml_edu/blob/master/Financial_Industry_A/%ED%98%84%EB%8C%80%EB%B0%B1%ED%99%94%EC%A0%90_%EC%A3%BC%EA%B0%80_%EC%9D%BC%EB%B3%84%EC%8B%9C%EC%84%B8_%ED%81%AC%EB%A1%A4%EB%A7%81.ipynb\" target=\"_parent\"><img src=\"https://colab.research.google.com/assets/colab-badge.svg\" alt=\"Open In Colab\"/></a>"
      ]
    },
    {
      "cell_type": "markdown",
      "metadata": {
        "id": "6pPetE5fPhUO",
        "colab_type": "text"
      },
      "source": [
        "## 현대백화점 주가 일별 시세 크롤링\n",
        "\n",
        "참고 : http://blog.quantylab.com/crawling_naverfin_daycandle.html"
      ]
    },
    {
      "cell_type": "code",
      "metadata": {
        "id": "5DlZYYPXPhUT",
        "colab_type": "code",
        "colab": {}
      },
      "source": [
        "code = '069960'"
      ],
      "execution_count": null,
      "outputs": []
    },
    {
      "cell_type": "code",
      "metadata": {
        "id": "ubisbNyaPhUk",
        "colab_type": "code",
        "colab": {},
        "outputId": "30385033-51fb-4def-e06f-5e5ac00fb00f"
      },
      "source": [
        "import requests\n",
        "url = 'http://finance.naver.com/item/sise_day.nhn?code={code}'.format(code=code)\n",
        "res = requests.get(url)\n",
        "res.encoding = 'utf-8'\n",
        "res.status_code"
      ],
      "execution_count": null,
      "outputs": [
        {
          "output_type": "execute_result",
          "data": {
            "text/plain": [
              "200"
            ]
          },
          "metadata": {
            "tags": []
          },
          "execution_count": 2
        }
      ]
    },
    {
      "cell_type": "code",
      "metadata": {
        "id": "fcVd-ivUPhU7",
        "colab_type": "code",
        "colab": {},
        "outputId": "2c06f1dd-32bb-4a9a-9516-41a550357bc9"
      },
      "source": [
        "url"
      ],
      "execution_count": null,
      "outputs": [
        {
          "output_type": "execute_result",
          "data": {
            "text/plain": [
              "'http://finance.naver.com/item/sise_day.nhn?code=069960'"
            ]
          },
          "metadata": {
            "tags": []
          },
          "execution_count": 3
        }
      ]
    },
    {
      "cell_type": "code",
      "metadata": {
        "id": "983y8G74PhVN",
        "colab_type": "code",
        "colab": {}
      },
      "source": [
        "from bs4 import BeautifulSoup\n",
        "soap = BeautifulSoup(res.text, 'lxml')"
      ],
      "execution_count": null,
      "outputs": []
    },
    {
      "cell_type": "code",
      "metadata": {
        "id": "Oua_jAjGPhVZ",
        "colab_type": "code",
        "colab": {},
        "outputId": "0d64dae0-586b-4f54-d65c-86ce8ff33e7c"
      },
      "source": [
        "el_table_navi = soap.find(\"table\", class_=\"Nnavi\")\n",
        "el_td_last = el_table_navi.find(\"td\", class_=\"pgRR\")\n",
        "pg_last = el_td_last.a.get('href').rsplit('&')[1]\n",
        "pg_last = pg_last.split('=')[1]\n",
        "pg_last = int(pg_last)\n",
        "pg_last"
      ],
      "execution_count": null,
      "outputs": [
        {
          "output_type": "execute_result",
          "data": {
            "text/plain": [
              "441"
            ]
          },
          "metadata": {
            "tags": []
          },
          "execution_count": 5
        }
      ]
    },
    {
      "cell_type": "code",
      "metadata": {
        "id": "NTDj-m6mPhVl",
        "colab_type": "code",
        "colab": {}
      },
      "source": [
        "import traceback\n",
        "import pandas as pd\n",
        "\n",
        "def parse_page(code, page):\n",
        "    try:\n",
        "        url = 'http://finance.naver.com/item/sise_day.nhn?code={code}&page={page}'.format(code=code, page=page)\n",
        "        res = requests.get(url)\n",
        "        _soap = BeautifulSoup(res.text, 'lxml')\n",
        "        _df = pd.read_html(str(_soap.find(\"table\")), header=0)[0]\n",
        "        _df = _df.dropna()\n",
        "        return _df\n",
        "    except Exception as e:\n",
        "        traceback.print_exc()\n",
        "    return None"
      ],
      "execution_count": null,
      "outputs": []
    },
    {
      "cell_type": "code",
      "metadata": {
        "id": "1Vr3IJPTPhVv",
        "colab_type": "code",
        "colab": {},
        "outputId": "b6cbcddd-1582-4eef-bd28-04a74550b149"
      },
      "source": [
        "parse_page(code, 1)"
      ],
      "execution_count": null,
      "outputs": [
        {
          "output_type": "execute_result",
          "data": {
            "text/html": [
              "<div>\n",
              "<style scoped>\n",
              "    .dataframe tbody tr th:only-of-type {\n",
              "        vertical-align: middle;\n",
              "    }\n",
              "\n",
              "    .dataframe tbody tr th {\n",
              "        vertical-align: top;\n",
              "    }\n",
              "\n",
              "    .dataframe thead th {\n",
              "        text-align: right;\n",
              "    }\n",
              "</style>\n",
              "<table border=\"1\" class=\"dataframe\">\n",
              "  <thead>\n",
              "    <tr style=\"text-align: right;\">\n",
              "      <th></th>\n",
              "      <th>날짜</th>\n",
              "      <th>종가</th>\n",
              "      <th>전일비</th>\n",
              "      <th>시가</th>\n",
              "      <th>고가</th>\n",
              "      <th>저가</th>\n",
              "      <th>거래량</th>\n",
              "    </tr>\n",
              "  </thead>\n",
              "  <tbody>\n",
              "    <tr>\n",
              "      <th>1</th>\n",
              "      <td>2020.09.15</td>\n",
              "      <td>57800.0</td>\n",
              "      <td>600.0</td>\n",
              "      <td>57500.0</td>\n",
              "      <td>58000.0</td>\n",
              "      <td>56600.0</td>\n",
              "      <td>200761.0</td>\n",
              "    </tr>\n",
              "    <tr>\n",
              "      <th>2</th>\n",
              "      <td>2020.09.14</td>\n",
              "      <td>57200.0</td>\n",
              "      <td>900.0</td>\n",
              "      <td>57000.0</td>\n",
              "      <td>58400.0</td>\n",
              "      <td>56700.0</td>\n",
              "      <td>324102.0</td>\n",
              "    </tr>\n",
              "    <tr>\n",
              "      <th>3</th>\n",
              "      <td>2020.09.11</td>\n",
              "      <td>56300.0</td>\n",
              "      <td>100.0</td>\n",
              "      <td>56400.0</td>\n",
              "      <td>57400.0</td>\n",
              "      <td>56200.0</td>\n",
              "      <td>269437.0</td>\n",
              "    </tr>\n",
              "    <tr>\n",
              "      <th>4</th>\n",
              "      <td>2020.09.10</td>\n",
              "      <td>56400.0</td>\n",
              "      <td>400.0</td>\n",
              "      <td>56500.0</td>\n",
              "      <td>57200.0</td>\n",
              "      <td>55900.0</td>\n",
              "      <td>262036.0</td>\n",
              "    </tr>\n",
              "    <tr>\n",
              "      <th>5</th>\n",
              "      <td>2020.09.09</td>\n",
              "      <td>56000.0</td>\n",
              "      <td>400.0</td>\n",
              "      <td>55900.0</td>\n",
              "      <td>56600.0</td>\n",
              "      <td>55400.0</td>\n",
              "      <td>125147.0</td>\n",
              "    </tr>\n",
              "    <tr>\n",
              "      <th>9</th>\n",
              "      <td>2020.09.08</td>\n",
              "      <td>56400.0</td>\n",
              "      <td>100.0</td>\n",
              "      <td>56800.0</td>\n",
              "      <td>57100.0</td>\n",
              "      <td>56300.0</td>\n",
              "      <td>152605.0</td>\n",
              "    </tr>\n",
              "    <tr>\n",
              "      <th>10</th>\n",
              "      <td>2020.09.07</td>\n",
              "      <td>56300.0</td>\n",
              "      <td>500.0</td>\n",
              "      <td>56100.0</td>\n",
              "      <td>57100.0</td>\n",
              "      <td>55600.0</td>\n",
              "      <td>174472.0</td>\n",
              "    </tr>\n",
              "    <tr>\n",
              "      <th>11</th>\n",
              "      <td>2020.09.04</td>\n",
              "      <td>55800.0</td>\n",
              "      <td>700.0</td>\n",
              "      <td>55300.0</td>\n",
              "      <td>56200.0</td>\n",
              "      <td>55100.0</td>\n",
              "      <td>194702.0</td>\n",
              "    </tr>\n",
              "    <tr>\n",
              "      <th>12</th>\n",
              "      <td>2020.09.03</td>\n",
              "      <td>56500.0</td>\n",
              "      <td>0.0</td>\n",
              "      <td>57000.0</td>\n",
              "      <td>58000.0</td>\n",
              "      <td>56500.0</td>\n",
              "      <td>287154.0</td>\n",
              "    </tr>\n",
              "    <tr>\n",
              "      <th>13</th>\n",
              "      <td>2020.09.02</td>\n",
              "      <td>56500.0</td>\n",
              "      <td>1600.0</td>\n",
              "      <td>56100.0</td>\n",
              "      <td>57800.0</td>\n",
              "      <td>55300.0</td>\n",
              "      <td>370906.0</td>\n",
              "    </tr>\n",
              "  </tbody>\n",
              "</table>\n",
              "</div>"
            ],
            "text/plain": [
              "            날짜       종가     전일비       시가       고가       저가       거래량\n",
              "1   2020.09.15  57800.0   600.0  57500.0  58000.0  56600.0  200761.0\n",
              "2   2020.09.14  57200.0   900.0  57000.0  58400.0  56700.0  324102.0\n",
              "3   2020.09.11  56300.0   100.0  56400.0  57400.0  56200.0  269437.0\n",
              "4   2020.09.10  56400.0   400.0  56500.0  57200.0  55900.0  262036.0\n",
              "5   2020.09.09  56000.0   400.0  55900.0  56600.0  55400.0  125147.0\n",
              "9   2020.09.08  56400.0   100.0  56800.0  57100.0  56300.0  152605.0\n",
              "10  2020.09.07  56300.0   500.0  56100.0  57100.0  55600.0  174472.0\n",
              "11  2020.09.04  55800.0   700.0  55300.0  56200.0  55100.0  194702.0\n",
              "12  2020.09.03  56500.0     0.0  57000.0  58000.0  56500.0  287154.0\n",
              "13  2020.09.02  56500.0  1600.0  56100.0  57800.0  55300.0  370906.0"
            ]
          },
          "metadata": {
            "tags": []
          },
          "execution_count": 7
        }
      ]
    },
    {
      "cell_type": "code",
      "metadata": {
        "id": "16GoQOrVPhV7",
        "colab_type": "code",
        "colab": {},
        "outputId": "9a496756-b2d3-4a7e-a57c-323938c709fc"
      },
      "source": [
        "parse_page(code, 2)"
      ],
      "execution_count": null,
      "outputs": [
        {
          "output_type": "execute_result",
          "data": {
            "text/html": [
              "<div>\n",
              "<style scoped>\n",
              "    .dataframe tbody tr th:only-of-type {\n",
              "        vertical-align: middle;\n",
              "    }\n",
              "\n",
              "    .dataframe tbody tr th {\n",
              "        vertical-align: top;\n",
              "    }\n",
              "\n",
              "    .dataframe thead th {\n",
              "        text-align: right;\n",
              "    }\n",
              "</style>\n",
              "<table border=\"1\" class=\"dataframe\">\n",
              "  <thead>\n",
              "    <tr style=\"text-align: right;\">\n",
              "      <th></th>\n",
              "      <th>날짜</th>\n",
              "      <th>종가</th>\n",
              "      <th>전일비</th>\n",
              "      <th>시가</th>\n",
              "      <th>고가</th>\n",
              "      <th>저가</th>\n",
              "      <th>거래량</th>\n",
              "    </tr>\n",
              "  </thead>\n",
              "  <tbody>\n",
              "    <tr>\n",
              "      <th>1</th>\n",
              "      <td>2020.09.01</td>\n",
              "      <td>54900.0</td>\n",
              "      <td>1200.0</td>\n",
              "      <td>54300.0</td>\n",
              "      <td>55400.0</td>\n",
              "      <td>53800.0</td>\n",
              "      <td>320255.0</td>\n",
              "    </tr>\n",
              "    <tr>\n",
              "      <th>2</th>\n",
              "      <td>2020.08.31</td>\n",
              "      <td>53700.0</td>\n",
              "      <td>2000.0</td>\n",
              "      <td>56000.0</td>\n",
              "      <td>57200.0</td>\n",
              "      <td>53700.0</td>\n",
              "      <td>1731829.0</td>\n",
              "    </tr>\n",
              "    <tr>\n",
              "      <th>3</th>\n",
              "      <td>2020.08.28</td>\n",
              "      <td>55700.0</td>\n",
              "      <td>1100.0</td>\n",
              "      <td>55000.0</td>\n",
              "      <td>56700.0</td>\n",
              "      <td>54900.0</td>\n",
              "      <td>261233.0</td>\n",
              "    </tr>\n",
              "    <tr>\n",
              "      <th>4</th>\n",
              "      <td>2020.08.27</td>\n",
              "      <td>54600.0</td>\n",
              "      <td>2000.0</td>\n",
              "      <td>56300.0</td>\n",
              "      <td>56300.0</td>\n",
              "      <td>54400.0</td>\n",
              "      <td>319492.0</td>\n",
              "    </tr>\n",
              "    <tr>\n",
              "      <th>5</th>\n",
              "      <td>2020.08.26</td>\n",
              "      <td>56600.0</td>\n",
              "      <td>800.0</td>\n",
              "      <td>57100.0</td>\n",
              "      <td>57200.0</td>\n",
              "      <td>56100.0</td>\n",
              "      <td>179178.0</td>\n",
              "    </tr>\n",
              "    <tr>\n",
              "      <th>9</th>\n",
              "      <td>2020.08.25</td>\n",
              "      <td>57400.0</td>\n",
              "      <td>900.0</td>\n",
              "      <td>56900.0</td>\n",
              "      <td>58100.0</td>\n",
              "      <td>56800.0</td>\n",
              "      <td>170652.0</td>\n",
              "    </tr>\n",
              "    <tr>\n",
              "      <th>10</th>\n",
              "      <td>2020.08.24</td>\n",
              "      <td>56500.0</td>\n",
              "      <td>1200.0</td>\n",
              "      <td>57500.0</td>\n",
              "      <td>57800.0</td>\n",
              "      <td>56000.0</td>\n",
              "      <td>157000.0</td>\n",
              "    </tr>\n",
              "    <tr>\n",
              "      <th>11</th>\n",
              "      <td>2020.08.21</td>\n",
              "      <td>57700.0</td>\n",
              "      <td>600.0</td>\n",
              "      <td>58300.0</td>\n",
              "      <td>59200.0</td>\n",
              "      <td>57400.0</td>\n",
              "      <td>120640.0</td>\n",
              "    </tr>\n",
              "    <tr>\n",
              "      <th>12</th>\n",
              "      <td>2020.08.20</td>\n",
              "      <td>58300.0</td>\n",
              "      <td>2000.0</td>\n",
              "      <td>59900.0</td>\n",
              "      <td>60400.0</td>\n",
              "      <td>57900.0</td>\n",
              "      <td>155463.0</td>\n",
              "    </tr>\n",
              "    <tr>\n",
              "      <th>13</th>\n",
              "      <td>2020.08.19</td>\n",
              "      <td>60300.0</td>\n",
              "      <td>400.0</td>\n",
              "      <td>60200.0</td>\n",
              "      <td>60900.0</td>\n",
              "      <td>59500.0</td>\n",
              "      <td>90116.0</td>\n",
              "    </tr>\n",
              "  </tbody>\n",
              "</table>\n",
              "</div>"
            ],
            "text/plain": [
              "            날짜       종가     전일비       시가       고가       저가        거래량\n",
              "1   2020.09.01  54900.0  1200.0  54300.0  55400.0  53800.0   320255.0\n",
              "2   2020.08.31  53700.0  2000.0  56000.0  57200.0  53700.0  1731829.0\n",
              "3   2020.08.28  55700.0  1100.0  55000.0  56700.0  54900.0   261233.0\n",
              "4   2020.08.27  54600.0  2000.0  56300.0  56300.0  54400.0   319492.0\n",
              "5   2020.08.26  56600.0   800.0  57100.0  57200.0  56100.0   179178.0\n",
              "9   2020.08.25  57400.0   900.0  56900.0  58100.0  56800.0   170652.0\n",
              "10  2020.08.24  56500.0  1200.0  57500.0  57800.0  56000.0   157000.0\n",
              "11  2020.08.21  57700.0   600.0  58300.0  59200.0  57400.0   120640.0\n",
              "12  2020.08.20  58300.0  2000.0  59900.0  60400.0  57900.0   155463.0\n",
              "13  2020.08.19  60300.0   400.0  60200.0  60900.0  59500.0    90116.0"
            ]
          },
          "metadata": {
            "tags": []
          },
          "execution_count": 8
        }
      ]
    },
    {
      "cell_type": "code",
      "metadata": {
        "id": "aYS8CfrAPhWD",
        "colab_type": "code",
        "colab": {},
        "outputId": "fe109e31-0381-4cf4-ce49-902f893a18b3"
      },
      "source": [
        "import datetime\n",
        "str_datefrom = datetime.datetime.strftime(datetime.datetime(year=2020, month=1, day=1), '%Y.%m.%d')\n",
        "str_datefrom"
      ],
      "execution_count": null,
      "outputs": [
        {
          "output_type": "execute_result",
          "data": {
            "text/plain": [
              "'2020.01.01'"
            ]
          },
          "metadata": {
            "tags": []
          },
          "execution_count": 9
        }
      ]
    },
    {
      "cell_type": "code",
      "metadata": {
        "id": "cNoKGsj9PhWK",
        "colab_type": "code",
        "colab": {},
        "outputId": "b2400afa-38d0-4906-b83c-c937c183eeeb"
      },
      "source": [
        "str_dateto = datetime.datetime.strftime(datetime.datetime.today(), '%Y.%m.%d')\n",
        "str_dateto"
      ],
      "execution_count": null,
      "outputs": [
        {
          "output_type": "execute_result",
          "data": {
            "text/plain": [
              "'2020.09.15'"
            ]
          },
          "metadata": {
            "tags": []
          },
          "execution_count": 10
        }
      ]
    },
    {
      "cell_type": "code",
      "metadata": {
        "id": "TtnXvCPWPhWS",
        "colab_type": "code",
        "colab": {},
        "outputId": "21b16bb8-3d01-469b-82b9-8f8103f601f0"
      },
      "source": [
        "#!pip install html5lib"
      ],
      "execution_count": null,
      "outputs": [
        {
          "output_type": "stream",
          "text": [
            "Requirement already satisfied: html5lib in c:\\data\\envs\\py37\\lib\\site-packages (1.1)\n",
            "Requirement already satisfied: six>=1.9 in c:\\data\\envs\\py37\\lib\\site-packages (from html5lib) (1.15.0)\n",
            "Requirement already satisfied: webencodings in c:\\data\\envs\\py37\\lib\\site-packages (from html5lib) (0.5.1)\n"
          ],
          "name": "stdout"
        }
      ]
    },
    {
      "cell_type": "code",
      "metadata": {
        "id": "mECIFK2tPhWZ",
        "colab_type": "code",
        "colab": {}
      },
      "source": [
        "df = None\n",
        "for page in range(1, pg_last+1):\n",
        "    _df = parse_page(code, page)\n",
        "    _df_filtered = _df[_df['날짜'] > str_datefrom]\n",
        "    if df is None:\n",
        "        df = _df_filtered\n",
        "    else:\n",
        "        df = pd.concat([df, _df_filtered])\n",
        "    if len(_df) > len(_df_filtered):\n",
        "        break"
      ],
      "execution_count": null,
      "outputs": []
    },
    {
      "cell_type": "code",
      "metadata": {
        "id": "SaQfEDF2PhWh",
        "colab_type": "code",
        "colab": {},
        "outputId": "9adc42b3-dd20-4acc-c3b7-254585ec30da"
      },
      "source": [
        "df = df.reset_index(drop=True)\n",
        "df"
      ],
      "execution_count": null,
      "outputs": [
        {
          "output_type": "execute_result",
          "data": {
            "text/html": [
              "<div>\n",
              "<style scoped>\n",
              "    .dataframe tbody tr th:only-of-type {\n",
              "        vertical-align: middle;\n",
              "    }\n",
              "\n",
              "    .dataframe tbody tr th {\n",
              "        vertical-align: top;\n",
              "    }\n",
              "\n",
              "    .dataframe thead th {\n",
              "        text-align: right;\n",
              "    }\n",
              "</style>\n",
              "<table border=\"1\" class=\"dataframe\">\n",
              "  <thead>\n",
              "    <tr style=\"text-align: right;\">\n",
              "      <th></th>\n",
              "      <th>날짜</th>\n",
              "      <th>종가</th>\n",
              "      <th>전일비</th>\n",
              "      <th>시가</th>\n",
              "      <th>고가</th>\n",
              "      <th>저가</th>\n",
              "      <th>거래량</th>\n",
              "    </tr>\n",
              "  </thead>\n",
              "  <tbody>\n",
              "    <tr>\n",
              "      <th>0</th>\n",
              "      <td>2020.09.15</td>\n",
              "      <td>57700.0</td>\n",
              "      <td>500.0</td>\n",
              "      <td>57500.0</td>\n",
              "      <td>58000.0</td>\n",
              "      <td>56600.0</td>\n",
              "      <td>204615.0</td>\n",
              "    </tr>\n",
              "    <tr>\n",
              "      <th>1</th>\n",
              "      <td>2020.09.14</td>\n",
              "      <td>57200.0</td>\n",
              "      <td>900.0</td>\n",
              "      <td>57000.0</td>\n",
              "      <td>58400.0</td>\n",
              "      <td>56700.0</td>\n",
              "      <td>324102.0</td>\n",
              "    </tr>\n",
              "    <tr>\n",
              "      <th>2</th>\n",
              "      <td>2020.09.11</td>\n",
              "      <td>56300.0</td>\n",
              "      <td>100.0</td>\n",
              "      <td>56400.0</td>\n",
              "      <td>57400.0</td>\n",
              "      <td>56200.0</td>\n",
              "      <td>269437.0</td>\n",
              "    </tr>\n",
              "    <tr>\n",
              "      <th>3</th>\n",
              "      <td>2020.09.10</td>\n",
              "      <td>56400.0</td>\n",
              "      <td>400.0</td>\n",
              "      <td>56500.0</td>\n",
              "      <td>57200.0</td>\n",
              "      <td>55900.0</td>\n",
              "      <td>262036.0</td>\n",
              "    </tr>\n",
              "    <tr>\n",
              "      <th>4</th>\n",
              "      <td>2020.09.09</td>\n",
              "      <td>56000.0</td>\n",
              "      <td>400.0</td>\n",
              "      <td>55900.0</td>\n",
              "      <td>56600.0</td>\n",
              "      <td>55400.0</td>\n",
              "      <td>125147.0</td>\n",
              "    </tr>\n",
              "    <tr>\n",
              "      <th>...</th>\n",
              "      <td>...</td>\n",
              "      <td>...</td>\n",
              "      <td>...</td>\n",
              "      <td>...</td>\n",
              "      <td>...</td>\n",
              "      <td>...</td>\n",
              "      <td>...</td>\n",
              "    </tr>\n",
              "    <tr>\n",
              "      <th>172</th>\n",
              "      <td>2020.01.08</td>\n",
              "      <td>87300.0</td>\n",
              "      <td>1600.0</td>\n",
              "      <td>87800.0</td>\n",
              "      <td>89400.0</td>\n",
              "      <td>86500.0</td>\n",
              "      <td>105155.0</td>\n",
              "    </tr>\n",
              "    <tr>\n",
              "      <th>173</th>\n",
              "      <td>2020.01.07</td>\n",
              "      <td>88900.0</td>\n",
              "      <td>4900.0</td>\n",
              "      <td>84300.0</td>\n",
              "      <td>89900.0</td>\n",
              "      <td>84100.0</td>\n",
              "      <td>183531.0</td>\n",
              "    </tr>\n",
              "    <tr>\n",
              "      <th>174</th>\n",
              "      <td>2020.01.06</td>\n",
              "      <td>84000.0</td>\n",
              "      <td>1600.0</td>\n",
              "      <td>84400.0</td>\n",
              "      <td>85600.0</td>\n",
              "      <td>83300.0</td>\n",
              "      <td>68657.0</td>\n",
              "    </tr>\n",
              "    <tr>\n",
              "      <th>175</th>\n",
              "      <td>2020.01.03</td>\n",
              "      <td>85600.0</td>\n",
              "      <td>300.0</td>\n",
              "      <td>85900.0</td>\n",
              "      <td>86500.0</td>\n",
              "      <td>83900.0</td>\n",
              "      <td>95600.0</td>\n",
              "    </tr>\n",
              "    <tr>\n",
              "      <th>176</th>\n",
              "      <td>2020.01.02</td>\n",
              "      <td>85900.0</td>\n",
              "      <td>2800.0</td>\n",
              "      <td>82900.0</td>\n",
              "      <td>87200.0</td>\n",
              "      <td>81800.0</td>\n",
              "      <td>114989.0</td>\n",
              "    </tr>\n",
              "  </tbody>\n",
              "</table>\n",
              "<p>177 rows × 7 columns</p>\n",
              "</div>"
            ],
            "text/plain": [
              "             날짜       종가     전일비       시가       고가       저가       거래량\n",
              "0    2020.09.15  57700.0   500.0  57500.0  58000.0  56600.0  204615.0\n",
              "1    2020.09.14  57200.0   900.0  57000.0  58400.0  56700.0  324102.0\n",
              "2    2020.09.11  56300.0   100.0  56400.0  57400.0  56200.0  269437.0\n",
              "3    2020.09.10  56400.0   400.0  56500.0  57200.0  55900.0  262036.0\n",
              "4    2020.09.09  56000.0   400.0  55900.0  56600.0  55400.0  125147.0\n",
              "..          ...      ...     ...      ...      ...      ...       ...\n",
              "172  2020.01.08  87300.0  1600.0  87800.0  89400.0  86500.0  105155.0\n",
              "173  2020.01.07  88900.0  4900.0  84300.0  89900.0  84100.0  183531.0\n",
              "174  2020.01.06  84000.0  1600.0  84400.0  85600.0  83300.0   68657.0\n",
              "175  2020.01.03  85600.0   300.0  85900.0  86500.0  83900.0   95600.0\n",
              "176  2020.01.02  85900.0  2800.0  82900.0  87200.0  81800.0  114989.0\n",
              "\n",
              "[177 rows x 7 columns]"
            ]
          },
          "metadata": {
            "tags": []
          },
          "execution_count": 18
        }
      ]
    },
    {
      "cell_type": "code",
      "metadata": {
        "id": "0xTPUVtfPhWq",
        "colab_type": "code",
        "colab": {},
        "outputId": "d5571488-3f59-4940-f75b-6d189907da5b"
      },
      "source": [
        "df.drop(['전일비'], axis='columns', inplace=True)\n",
        "df.head()"
      ],
      "execution_count": null,
      "outputs": [
        {
          "output_type": "execute_result",
          "data": {
            "text/html": [
              "<div>\n",
              "<style scoped>\n",
              "    .dataframe tbody tr th:only-of-type {\n",
              "        vertical-align: middle;\n",
              "    }\n",
              "\n",
              "    .dataframe tbody tr th {\n",
              "        vertical-align: top;\n",
              "    }\n",
              "\n",
              "    .dataframe thead th {\n",
              "        text-align: right;\n",
              "    }\n",
              "</style>\n",
              "<table border=\"1\" class=\"dataframe\">\n",
              "  <thead>\n",
              "    <tr style=\"text-align: right;\">\n",
              "      <th></th>\n",
              "      <th>날짜</th>\n",
              "      <th>종가</th>\n",
              "      <th>시가</th>\n",
              "      <th>고가</th>\n",
              "      <th>저가</th>\n",
              "      <th>거래량</th>\n",
              "    </tr>\n",
              "  </thead>\n",
              "  <tbody>\n",
              "    <tr>\n",
              "      <th>0</th>\n",
              "      <td>2020.09.15</td>\n",
              "      <td>57700.0</td>\n",
              "      <td>57500.0</td>\n",
              "      <td>58000.0</td>\n",
              "      <td>56600.0</td>\n",
              "      <td>204615.0</td>\n",
              "    </tr>\n",
              "    <tr>\n",
              "      <th>1</th>\n",
              "      <td>2020.09.14</td>\n",
              "      <td>57200.0</td>\n",
              "      <td>57000.0</td>\n",
              "      <td>58400.0</td>\n",
              "      <td>56700.0</td>\n",
              "      <td>324102.0</td>\n",
              "    </tr>\n",
              "    <tr>\n",
              "      <th>2</th>\n",
              "      <td>2020.09.11</td>\n",
              "      <td>56300.0</td>\n",
              "      <td>56400.0</td>\n",
              "      <td>57400.0</td>\n",
              "      <td>56200.0</td>\n",
              "      <td>269437.0</td>\n",
              "    </tr>\n",
              "    <tr>\n",
              "      <th>3</th>\n",
              "      <td>2020.09.10</td>\n",
              "      <td>56400.0</td>\n",
              "      <td>56500.0</td>\n",
              "      <td>57200.0</td>\n",
              "      <td>55900.0</td>\n",
              "      <td>262036.0</td>\n",
              "    </tr>\n",
              "    <tr>\n",
              "      <th>4</th>\n",
              "      <td>2020.09.09</td>\n",
              "      <td>56000.0</td>\n",
              "      <td>55900.0</td>\n",
              "      <td>56600.0</td>\n",
              "      <td>55400.0</td>\n",
              "      <td>125147.0</td>\n",
              "    </tr>\n",
              "  </tbody>\n",
              "</table>\n",
              "</div>"
            ],
            "text/plain": [
              "           날짜       종가       시가       고가       저가       거래량\n",
              "0  2020.09.15  57700.0  57500.0  58000.0  56600.0  204615.0\n",
              "1  2020.09.14  57200.0  57000.0  58400.0  56700.0  324102.0\n",
              "2  2020.09.11  56300.0  56400.0  57400.0  56200.0  269437.0\n",
              "3  2020.09.10  56400.0  56500.0  57200.0  55900.0  262036.0\n",
              "4  2020.09.09  56000.0  55900.0  56600.0  55400.0  125147.0"
            ]
          },
          "metadata": {
            "tags": []
          },
          "execution_count": 27
        }
      ]
    },
    {
      "cell_type": "code",
      "metadata": {
        "id": "6fLzu1h-PhWy",
        "colab_type": "code",
        "colab": {},
        "outputId": "52bebccc-5d4a-4f5b-87b7-060c86d0c4dc"
      },
      "source": [
        "df = df[['날짜', '시가', '고가', '저가', '종가', '거래량']]\n",
        "df.head()"
      ],
      "execution_count": null,
      "outputs": [
        {
          "output_type": "execute_result",
          "data": {
            "text/html": [
              "<div>\n",
              "<style scoped>\n",
              "    .dataframe tbody tr th:only-of-type {\n",
              "        vertical-align: middle;\n",
              "    }\n",
              "\n",
              "    .dataframe tbody tr th {\n",
              "        vertical-align: top;\n",
              "    }\n",
              "\n",
              "    .dataframe thead th {\n",
              "        text-align: right;\n",
              "    }\n",
              "</style>\n",
              "<table border=\"1\" class=\"dataframe\">\n",
              "  <thead>\n",
              "    <tr style=\"text-align: right;\">\n",
              "      <th></th>\n",
              "      <th>날짜</th>\n",
              "      <th>시가</th>\n",
              "      <th>고가</th>\n",
              "      <th>저가</th>\n",
              "      <th>종가</th>\n",
              "      <th>거래량</th>\n",
              "    </tr>\n",
              "  </thead>\n",
              "  <tbody>\n",
              "    <tr>\n",
              "      <th>0</th>\n",
              "      <td>2020.09.15</td>\n",
              "      <td>57500.0</td>\n",
              "      <td>58000.0</td>\n",
              "      <td>56600.0</td>\n",
              "      <td>57700.0</td>\n",
              "      <td>204615.0</td>\n",
              "    </tr>\n",
              "    <tr>\n",
              "      <th>1</th>\n",
              "      <td>2020.09.14</td>\n",
              "      <td>57000.0</td>\n",
              "      <td>58400.0</td>\n",
              "      <td>56700.0</td>\n",
              "      <td>57200.0</td>\n",
              "      <td>324102.0</td>\n",
              "    </tr>\n",
              "    <tr>\n",
              "      <th>2</th>\n",
              "      <td>2020.09.11</td>\n",
              "      <td>56400.0</td>\n",
              "      <td>57400.0</td>\n",
              "      <td>56200.0</td>\n",
              "      <td>56300.0</td>\n",
              "      <td>269437.0</td>\n",
              "    </tr>\n",
              "    <tr>\n",
              "      <th>3</th>\n",
              "      <td>2020.09.10</td>\n",
              "      <td>56500.0</td>\n",
              "      <td>57200.0</td>\n",
              "      <td>55900.0</td>\n",
              "      <td>56400.0</td>\n",
              "      <td>262036.0</td>\n",
              "    </tr>\n",
              "    <tr>\n",
              "      <th>4</th>\n",
              "      <td>2020.09.09</td>\n",
              "      <td>55900.0</td>\n",
              "      <td>56600.0</td>\n",
              "      <td>55400.0</td>\n",
              "      <td>56000.0</td>\n",
              "      <td>125147.0</td>\n",
              "    </tr>\n",
              "  </tbody>\n",
              "</table>\n",
              "</div>"
            ],
            "text/plain": [
              "           날짜       시가       고가       저가       종가       거래량\n",
              "0  2020.09.15  57500.0  58000.0  56600.0  57700.0  204615.0\n",
              "1  2020.09.14  57000.0  58400.0  56700.0  57200.0  324102.0\n",
              "2  2020.09.11  56400.0  57400.0  56200.0  56300.0  269437.0\n",
              "3  2020.09.10  56500.0  57200.0  55900.0  56400.0  262036.0\n",
              "4  2020.09.09  55900.0  56600.0  55400.0  56000.0  125147.0"
            ]
          },
          "metadata": {
            "tags": []
          },
          "execution_count": 28
        }
      ]
    },
    {
      "cell_type": "code",
      "metadata": {
        "id": "0TAWRH3DPhW5",
        "colab_type": "code",
        "colab": {}
      },
      "source": [
        "# csv 파일 저장\n",
        "#import os\n",
        "#path_dir = 'data/2018-07-05-crawling'\n",
        "#if not os.path.exists(path_dir):\n",
        "#    os.makedirs(path_dir)\n",
        "#path = os.path.join(path_dir, '{code}_{date_from}_{date_to}.csv'.format(code=code, date_from=str_datefrom, date_to=str_dateto))\n",
        "#path"
      ],
      "execution_count": null,
      "outputs": []
    },
    {
      "cell_type": "code",
      "metadata": {
        "id": "IGcBdqRTPhW_",
        "colab_type": "code",
        "colab": {}
      },
      "source": [
        "# csv 파일 저장\n",
        "df.to_csv('C:/Users/jminw/Untitled Folder 2/hyundaistock.csv', index=False)"
      ],
      "execution_count": null,
      "outputs": []
    },
    {
      "cell_type": "markdown",
      "metadata": {
        "id": "zTRoNelXPhXJ",
        "colab_type": "text"
      },
      "source": [
        "### SQLITE 연결 및 데이터 가져오기"
      ]
    },
    {
      "cell_type": "code",
      "metadata": {
        "id": "t-2xySrePhXK",
        "colab_type": "code",
        "colab": {}
      },
      "source": [
        "import sqlite3"
      ],
      "execution_count": null,
      "outputs": []
    },
    {
      "cell_type": "code",
      "metadata": {
        "id": "bFA4vYKwPhXR",
        "colab_type": "code",
        "colab": {},
        "outputId": "ae0c0967-ab7c-4b15-e88e-313f7c8e2554"
      },
      "source": [
        "dbname='hyundaiStock.db'\n",
        "with sqlite3.connect(dbname) as conn:\n",
        "    cur=conn.cursor()\n",
        "    sql='select * from StockDay'\n",
        "    result = cur.execute(sql)\n",
        "    rows=cur.fetchall()\n",
        "    cur.close()\n",
        "rows"
      ],
      "execution_count": null,
      "outputs": [
        {
          "output_type": "execute_result",
          "data": {
            "text/plain": [
              "[(1, '069960', '현대백화점', 20200900, 100, 200, 90, 150, 22000),\n",
              " (2, '069960', '현대백화점', 20200901, 50, '', '', '', '')]"
            ]
          },
          "metadata": {
            "tags": []
          },
          "execution_count": 25
        }
      ]
    },
    {
      "cell_type": "code",
      "metadata": {
        "id": "3yyvFdu-PhXa",
        "colab_type": "code",
        "colab": {}
      },
      "source": [
        "with sqlite3.connect(dbname) as conn:\n",
        "    cur=conn.cursor()\n",
        "    sql='insert into StockDay \\\n",
        "    (SIDX, SCODE, SCOMP, SDAY, OPENP, HIGHP, LOWP,CLOSEP,VOL) \\\n",
        "    values (?,?,?,?,?,?,?,?,?)'\n",
        "    data=[1001,60000,'신세계','2000830',30,60,70,50,250]\n",
        "    #실행하기\n",
        "    cur.execute(sql,data)\n",
        "    # 변경사항 저장하기\n",
        "    conn.commit()\n",
        "    cur.close()"
      ],
      "execution_count": null,
      "outputs": []
    },
    {
      "cell_type": "code",
      "metadata": {
        "id": "FrQcbpUzPhXi",
        "colab_type": "code",
        "colab": {},
        "outputId": "f658a60b-2e08-4925-80a3-30e5ff22897c"
      },
      "source": [
        "dbname='hyundaiStock.db'\n",
        "with sqlite3.connect(dbname) as conn:\n",
        "    cur=conn.cursor()\n",
        "    sql='select * from StockDay'\n",
        "    result = cur.execute(sql)\n",
        "    rows=cur.fetchall()\n",
        "    cur.close()\n",
        "rows"
      ],
      "execution_count": null,
      "outputs": [
        {
          "output_type": "execute_result",
          "data": {
            "text/plain": [
              "[(1, '069960', '현대백화점', 20200900, 100, 200, 90, 150, 22000),\n",
              " (2, '069960', '현대백화점', 20200901, 50, '', '', '', ''),\n",
              " (1001, '60000', '신세계', 2000830, 30, 60, 70, 50, 250)]"
            ]
          },
          "metadata": {
            "tags": []
          },
          "execution_count": 30
        }
      ]
    },
    {
      "cell_type": "code",
      "metadata": {
        "id": "DFu6m-cSPhXo",
        "colab_type": "code",
        "colab": {}
      },
      "source": [
        "def addData(data)\n",
        "    with sqlite3.connect(dbname) as conn:\n",
        "        cur=conn.cursor()\n",
        "        sql='insert into StockDay \\\n",
        "        (SIDX, SCODE, SCOMP, SDAY, OPENP, HIGHP, LOWP,CLOSEP,VOL) \\\n",
        "        values (?,?,?,?,?,?,?,?,?)'\n",
        "        #data=[1001,60000,'신세계','2000830',30,60,70,50,250]\n",
        "        #실행하기\n",
        "        cur.execute(sql,data)\n",
        "        # 변경사항 저장하기\n",
        "        conn.commit()\n",
        "        cur.close()"
      ],
      "execution_count": null,
      "outputs": []
    },
    {
      "cell_type": "code",
      "metadata": {
        "id": "TQqiLWohPhXu",
        "colab_type": "code",
        "colab": {}
      },
      "source": [
        ""
      ],
      "execution_count": null,
      "outputs": []
    },
    {
      "cell_type": "code",
      "metadata": {
        "id": "9S46omscPhX0",
        "colab_type": "code",
        "colab": {}
      },
      "source": [
        ""
      ],
      "execution_count": null,
      "outputs": []
    },
    {
      "cell_type": "code",
      "metadata": {
        "id": "5yN110yLPhX_",
        "colab_type": "code",
        "colab": {}
      },
      "source": [
        ""
      ],
      "execution_count": null,
      "outputs": []
    },
    {
      "cell_type": "code",
      "metadata": {
        "id": "I4GauAwVPhYJ",
        "colab_type": "code",
        "colab": {}
      },
      "source": [
        ""
      ],
      "execution_count": null,
      "outputs": []
    },
    {
      "cell_type": "code",
      "metadata": {
        "id": "A_X_4VW1PhYR",
        "colab_type": "code",
        "colab": {}
      },
      "source": [
        ""
      ],
      "execution_count": null,
      "outputs": []
    }
  ]
}