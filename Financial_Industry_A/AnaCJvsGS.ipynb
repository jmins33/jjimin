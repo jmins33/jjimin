{
 "cells": [
  {
   "cell_type": "code",
   "execution_count": 1,
   "metadata": {},
   "outputs": [],
   "source": [
    "import sqlite3 \n",
    "import numpy as np\n",
    "import pandas as pd\n",
    "import matplotlib as mpl\n",
    "import matplotlib.pyplot as plt"
   ]
  },
  {
   "cell_type": "code",
   "execution_count": 4,
   "metadata": {},
   "outputs": [],
   "source": [
    "dbname='hyundaiStock.db'\n",
    "def selData(whr='where SIDX=0'):\n",
    "    with sqlite3.connect(dbname) as conn:\n",
    "        cur=conn.cursor()\n",
    "        sql='select SDAY, OPENP, HIGHP,LOWP, CLOSEP, VOL from StockDay '+whr\n",
    "        cur.execute(sql)\n",
    "        rows=cur.fetchall()\n",
    "        cur.close()\n",
    "    return rows"
   ]
  },
  {
   "cell_type": "markdown",
   "metadata": {},
   "source": [
    "### GS"
   ]
  },
  {
   "cell_type": "code",
   "execution_count": 5,
   "metadata": {
    "scrolled": false
   },
   "outputs": [
    {
     "data": {
      "text/html": [
       "<div>\n",
       "<style scoped>\n",
       "    .dataframe tbody tr th:only-of-type {\n",
       "        vertical-align: middle;\n",
       "    }\n",
       "\n",
       "    .dataframe tbody tr th {\n",
       "        vertical-align: top;\n",
       "    }\n",
       "\n",
       "    .dataframe thead th {\n",
       "        text-align: right;\n",
       "    }\n",
       "</style>\n",
       "<table border=\"1\" class=\"dataframe\">\n",
       "  <thead>\n",
       "    <tr style=\"text-align: right;\">\n",
       "      <th></th>\n",
       "      <th>SDAY</th>\n",
       "      <th>OPENP</th>\n",
       "      <th>HIGHP</th>\n",
       "      <th>LOWP</th>\n",
       "      <th>CLOSEP</th>\n",
       "      <th>VOL</th>\n",
       "    </tr>\n",
       "  </thead>\n",
       "  <tbody>\n",
       "    <tr>\n",
       "      <th>0</th>\n",
       "      <td>20191202</td>\n",
       "      <td>150700</td>\n",
       "      <td>150800</td>\n",
       "      <td>149000</td>\n",
       "      <td>150000</td>\n",
       "      <td>6603</td>\n",
       "    </tr>\n",
       "    <tr>\n",
       "      <th>1</th>\n",
       "      <td>20191203</td>\n",
       "      <td>150000</td>\n",
       "      <td>150000</td>\n",
       "      <td>146800</td>\n",
       "      <td>148200</td>\n",
       "      <td>7967</td>\n",
       "    </tr>\n",
       "    <tr>\n",
       "      <th>2</th>\n",
       "      <td>20191204</td>\n",
       "      <td>146500</td>\n",
       "      <td>146500</td>\n",
       "      <td>145800</td>\n",
       "      <td>146000</td>\n",
       "      <td>8597</td>\n",
       "    </tr>\n",
       "    <tr>\n",
       "      <th>3</th>\n",
       "      <td>20191205</td>\n",
       "      <td>146100</td>\n",
       "      <td>147300</td>\n",
       "      <td>145800</td>\n",
       "      <td>145800</td>\n",
       "      <td>11729</td>\n",
       "    </tr>\n",
       "    <tr>\n",
       "      <th>4</th>\n",
       "      <td>20191206</td>\n",
       "      <td>145800</td>\n",
       "      <td>147800</td>\n",
       "      <td>145600</td>\n",
       "      <td>147800</td>\n",
       "      <td>7635</td>\n",
       "    </tr>\n",
       "  </tbody>\n",
       "</table>\n",
       "</div>"
      ],
      "text/plain": [
       "       SDAY   OPENP   HIGHP    LOWP  CLOSEP    VOL\n",
       "0  20191202  150700  150800  149000  150000   6603\n",
       "1  20191203  150000  150000  146800  148200   7967\n",
       "2  20191204  146500  146500  145800  146000   8597\n",
       "3  20191205  146100  147300  145800  145800  11729\n",
       "4  20191206  145800  147800  145600  147800   7635"
      ]
     },
     "execution_count": 5,
     "metadata": {},
     "output_type": "execute_result"
    }
   ],
   "source": [
    "whr='where SDAY>20191201 and SCODE=\"028150\" order by SDAY  asc limit 250'\n",
    "res=selData(whr)\n",
    "cols=['SDAY','OPENP','HIGHP','LOWP','CLOSEP','VOL']\n",
    "dfgs=pd.DataFrame(data=res,columns=cols)\n",
    "dfgs.head()"
   ]
  },
  {
   "cell_type": "markdown",
   "metadata": {},
   "source": [
    "### CJ"
   ]
  },
  {
   "cell_type": "code",
   "execution_count": 6,
   "metadata": {},
   "outputs": [
    {
     "data": {
      "text/html": [
       "<div>\n",
       "<style scoped>\n",
       "    .dataframe tbody tr th:only-of-type {\n",
       "        vertical-align: middle;\n",
       "    }\n",
       "\n",
       "    .dataframe tbody tr th {\n",
       "        vertical-align: top;\n",
       "    }\n",
       "\n",
       "    .dataframe thead th {\n",
       "        text-align: right;\n",
       "    }\n",
       "</style>\n",
       "<table border=\"1\" class=\"dataframe\">\n",
       "  <thead>\n",
       "    <tr style=\"text-align: right;\">\n",
       "      <th></th>\n",
       "      <th>SDAY</th>\n",
       "      <th>OPENP</th>\n",
       "      <th>HIGHP</th>\n",
       "      <th>LOWP</th>\n",
       "      <th>CLOSEP</th>\n",
       "      <th>VOL</th>\n",
       "    </tr>\n",
       "  </thead>\n",
       "  <tbody>\n",
       "    <tr>\n",
       "      <th>0</th>\n",
       "      <td>20191202</td>\n",
       "      <td>153000</td>\n",
       "      <td>155300</td>\n",
       "      <td>152600</td>\n",
       "      <td>153800</td>\n",
       "      <td>46450</td>\n",
       "    </tr>\n",
       "    <tr>\n",
       "      <th>1</th>\n",
       "      <td>20191203</td>\n",
       "      <td>153100</td>\n",
       "      <td>155400</td>\n",
       "      <td>151400</td>\n",
       "      <td>154500</td>\n",
       "      <td>53094</td>\n",
       "    </tr>\n",
       "    <tr>\n",
       "      <th>2</th>\n",
       "      <td>20191204</td>\n",
       "      <td>151500</td>\n",
       "      <td>154700</td>\n",
       "      <td>151500</td>\n",
       "      <td>153800</td>\n",
       "      <td>38623</td>\n",
       "    </tr>\n",
       "    <tr>\n",
       "      <th>3</th>\n",
       "      <td>20191205</td>\n",
       "      <td>154300</td>\n",
       "      <td>155700</td>\n",
       "      <td>153800</td>\n",
       "      <td>154500</td>\n",
       "      <td>60945</td>\n",
       "    </tr>\n",
       "    <tr>\n",
       "      <th>4</th>\n",
       "      <td>20191206</td>\n",
       "      <td>154500</td>\n",
       "      <td>154500</td>\n",
       "      <td>151500</td>\n",
       "      <td>151900</td>\n",
       "      <td>70037</td>\n",
       "    </tr>\n",
       "  </tbody>\n",
       "</table>\n",
       "</div>"
      ],
      "text/plain": [
       "       SDAY   OPENP   HIGHP    LOWP  CLOSEP    VOL\n",
       "0  20191202  153000  155300  152600  153800  46450\n",
       "1  20191203  153100  155400  151400  154500  53094\n",
       "2  20191204  151500  154700  151500  153800  38623\n",
       "3  20191205  154300  155700  153800  154500  60945\n",
       "4  20191206  154500  154500  151500  151900  70037"
      ]
     },
     "execution_count": 6,
     "metadata": {},
     "output_type": "execute_result"
    }
   ],
   "source": [
    "whr='where SDAY>20191201 and SCODE=\"035760\" order by SDAY  asc limit 250'\n",
    "res=selData(whr)\n",
    "cols=['SDAY','OPENP','HIGHP','LOWP','CLOSEP','VOL']\n",
    "df=pd.DataFrame(data=res,columns=cols)\n",
    "df.head()"
   ]
  },
  {
   "cell_type": "markdown",
   "metadata": {},
   "source": [
    "### 경쟁사 분석\n",
    "* 동종 유사 주가의 경쟁사 분석을 통해 시장기준 주가 분석"
   ]
  },
  {
   "cell_type": "code",
   "execution_count": 7,
   "metadata": {},
   "outputs": [
    {
     "data": {
      "image/png": "[encoded data removed]",
      "text/plain": [
       "<Figure size 432x288 with 1 Axes>"
      ]
     },
     "metadata": {
      "needs_background": "light"
     },
     "output_type": "display_data"
    }
   ],
   "source": [
    "sels=['CLOSEP','OPENP']\n",
    "df[sels].plot()\n",
    "#plt.xlim(50,75)\n",
    "#plt.ylim(50000,70000)\n",
    "plt.show()"
   ]
  },
  {
   "cell_type": "markdown",
   "metadata": {},
   "source": [
    "# 이동평균선\n",
    "* 주가 기술분석"
   ]
  },
  {
   "cell_type": "code",
   "execution_count": 8,
   "metadata": {},
   "outputs": [],
   "source": [
    "def makeMV(baseday=5,basedata=df['CLOSEP']):\n",
    "    res=[]\n",
    "    # 초기화 하기\n",
    "    for i in range(baseday-1):\n",
    "        res.append(0)\n",
    "    # 이동평균 데이터 만들기\n",
    "    n=len(basedata)-(baseday-1)\n",
    "    print(\"총 데이터수:\",len(basedata),\"초기화 안되고 채워야할 부분:\",n)\n",
    "    for i in range(n):\n",
    "        mvdata=np.average(basedata[i:i+baseday])\n",
    "        res.append(mvdata)\n",
    "    return res\n"
   ]
  },
  {
   "cell_type": "code",
   "execution_count": 9,
   "metadata": {},
   "outputs": [
    {
     "name": "stdout",
     "output_type": "stream",
     "text": [
      "총 데이터수: 198 초기화 안되고 채워야할 부분: 194\n",
      "총 데이터수: 198 초기화 안되고 채워야할 부분: 169\n"
     ]
    },
    {
     "data": {
      "text/html": [
       "<div>\n",
       "<style scoped>\n",
       "    .dataframe tbody tr th:only-of-type {\n",
       "        vertical-align: middle;\n",
       "    }\n",
       "\n",
       "    .dataframe tbody tr th {\n",
       "        vertical-align: top;\n",
       "    }\n",
       "\n",
       "    .dataframe thead th {\n",
       "        text-align: right;\n",
       "    }\n",
       "</style>\n",
       "<table border=\"1\" class=\"dataframe\">\n",
       "  <thead>\n",
       "    <tr style=\"text-align: right;\">\n",
       "      <th></th>\n",
       "      <th>SDAY</th>\n",
       "      <th>OPENP</th>\n",
       "      <th>HIGHP</th>\n",
       "      <th>LOWP</th>\n",
       "      <th>CLOSEP</th>\n",
       "      <th>VOL</th>\n",
       "      <th>MV5</th>\n",
       "      <th>MV30</th>\n",
       "      <th>gsClose</th>\n",
       "    </tr>\n",
       "  </thead>\n",
       "  <tbody>\n",
       "    <tr>\n",
       "      <th>0</th>\n",
       "      <td>20191202</td>\n",
       "      <td>153000</td>\n",
       "      <td>155300</td>\n",
       "      <td>152600</td>\n",
       "      <td>153800</td>\n",
       "      <td>46450</td>\n",
       "      <td>0.0</td>\n",
       "      <td>0.0</td>\n",
       "      <td>150000</td>\n",
       "    </tr>\n",
       "    <tr>\n",
       "      <th>1</th>\n",
       "      <td>20191203</td>\n",
       "      <td>153100</td>\n",
       "      <td>155400</td>\n",
       "      <td>151400</td>\n",
       "      <td>154500</td>\n",
       "      <td>53094</td>\n",
       "      <td>0.0</td>\n",
       "      <td>0.0</td>\n",
       "      <td>148200</td>\n",
       "    </tr>\n",
       "    <tr>\n",
       "      <th>2</th>\n",
       "      <td>20191204</td>\n",
       "      <td>151500</td>\n",
       "      <td>154700</td>\n",
       "      <td>151500</td>\n",
       "      <td>153800</td>\n",
       "      <td>38623</td>\n",
       "      <td>0.0</td>\n",
       "      <td>0.0</td>\n",
       "      <td>146000</td>\n",
       "    </tr>\n",
       "    <tr>\n",
       "      <th>3</th>\n",
       "      <td>20191205</td>\n",
       "      <td>154300</td>\n",
       "      <td>155700</td>\n",
       "      <td>153800</td>\n",
       "      <td>154500</td>\n",
       "      <td>60945</td>\n",
       "      <td>0.0</td>\n",
       "      <td>0.0</td>\n",
       "      <td>145800</td>\n",
       "    </tr>\n",
       "    <tr>\n",
       "      <th>4</th>\n",
       "      <td>20191206</td>\n",
       "      <td>154500</td>\n",
       "      <td>154500</td>\n",
       "      <td>151500</td>\n",
       "      <td>151900</td>\n",
       "      <td>70037</td>\n",
       "      <td>153700.0</td>\n",
       "      <td>0.0</td>\n",
       "      <td>147800</td>\n",
       "    </tr>\n",
       "  </tbody>\n",
       "</table>\n",
       "</div>"
      ],
      "text/plain": [
       "       SDAY   OPENP   HIGHP    LOWP  CLOSEP    VOL       MV5  MV30  gsClose\n",
       "0  20191202  153000  155300  152600  153800  46450       0.0   0.0   150000\n",
       "1  20191203  153100  155400  151400  154500  53094       0.0   0.0   148200\n",
       "2  20191204  151500  154700  151500  153800  38623       0.0   0.0   146000\n",
       "3  20191205  154300  155700  153800  154500  60945       0.0   0.0   145800\n",
       "4  20191206  154500  154500  151500  151900  70037  153700.0   0.0   147800"
      ]
     },
     "execution_count": 9,
     "metadata": {},
     "output_type": "execute_result"
    }
   ],
   "source": [
    "df['MV5']=makeMV(5)\n",
    "df['MV30']=makeMV(30)\n",
    "df['gsClose']=dfgs['CLOSEP']\n",
    "df.head()"
   ]
  },
  {
   "cell_type": "markdown",
   "metadata": {},
   "source": [
    "### CJ vs GS"
   ]
  },
  {
   "cell_type": "code",
   "execution_count": 10,
   "metadata": {},
   "outputs": [
    {
     "data": {
      "image/png": "[encoded data removed]",
      "text/plain": [
       "<Figure size 432x288 with 1 Axes>"
      ]
     },
     "metadata": {
      "needs_background": "light"
     },
     "output_type": "display_data"
    }
   ],
   "source": [
    "df[['CLOSEP','gsClose']].plot()\n",
    "#plt.xlim(0,10)\n",
    "#plt.ylim(150000,170000)\n",
    "plt.legend()\n",
    "plt.show()"
   ]
  },
  {
   "cell_type": "code",
   "execution_count": null,
   "metadata": {},
   "outputs": [],
   "source": []
  }
 ],
 "metadata": {
  "kernelspec": {
   "display_name": "Python 3",
   "language": "python",
   "name": "python3"
  },
  "language_info": {
   "codemirror_mode": {
    "name": "ipython",
    "version": 3
   },
   "file_extension": ".py",
   "mimetype": "text/x-python",
   "name": "python",
   "nbconvert_exporter": "python",
   "pygments_lexer": "ipython3",
   "version": "3.7.7"
  }
 },
 "nbformat": 4,
 "nbformat_minor": 4
}
