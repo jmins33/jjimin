{
 "cells": [
  {
   "cell_type": "markdown",
   "metadata": {},
   "source": [
    "### 네이버 데이터랩에서 검색어 트렌드 분석\n",
    "* 검색어 트렌드 분석을 통한 검색어 증가에 따른 주가 영향 분석\n",
    "* 마케팅 효과에따른 검색어 증가량 분석\n",
    "* 마케팅 수명관리\n",
    "* 경쟁사 마케팅 파급효과 분석\n"
   ]
  },
  {
   "cell_type": "code",
   "execution_count": 3,
   "metadata": {},
   "outputs": [],
   "source": [
    "nid=\n",
    "nkey="
   ]
  },
  {
   "cell_type": "markdown",
   "metadata": {},
   "source": [
    "### reference\n",
    "* 네이버 디벨로퍼 가입\n",
    "* 어플리케이션 등록\n",
    "* https://developers.naver.com/docs/datalab/search/#python"
   ]
  },
  {
   "cell_type": "code",
   "execution_count": 4,
   "metadata": {},
   "outputs": [
    {
     "name": "stdout",
     "output_type": "stream",
     "text": [
      "{\"startDate\":\"2019-01-01\",\"endDate\":\"2020-08-31\",\"timeUnit\":\"month\",\"results\":[{\"title\":\"기생충\",\"keywords\":[\"기생충\",\"봉준호\",\"짜파구리\",\"CJ ENM\"],\"data\":[{\"period\":\"2019-01-01\",\"ratio\":0.99682},{\"period\":\"2019-02-01\",\"ratio\":1.23235},{\"period\":\"2019-03-01\",\"ratio\":1.03002},{\"period\":\"2019-04-01\",\"ratio\":7.92022},{\"period\":\"2019-05-01\",\"ratio\":46.82542},{\"period\":\"2019-06-01\",\"ratio\":59.07226},{\"period\":\"2019-07-01\",\"ratio\":11.90921},{\"period\":\"2019-08-01\",\"ratio\":12.20851},{\"period\":\"2019-09-01\",\"ratio\":4.86102},{\"period\":\"2019-10-01\",\"ratio\":3.7481},{\"period\":\"2019-11-01\",\"ratio\":5.34911},{\"period\":\"2019-12-01\",\"ratio\":5.05451},{\"period\":\"2020-01-01\",\"ratio\":20.11018},{\"period\":\"2020-02-01\",\"ratio\":100},{\"period\":\"2020-03-01\",\"ratio\":9.47802},{\"period\":\"2020-04-01\",\"ratio\":5.92012},{\"period\":\"2020-05-01\",\"ratio\":4.90204},{\"period\":\"2020-06-01\",\"ratio\":4.35607},{\"period\":\"2020-07-01\",\"ratio\":4.52975},{\"period\":\"2020-08-01\",\"ratio\":4.40892}]},{\"title\":\"반도\",\"keywords\":[\"반도\",\"CJ ENM\"],\"data\":[{\"period\":\"2019-01-01\",\"ratio\":0.58554},{\"period\":\"2019-02-01\",\"ratio\":0.92131},{\"period\":\"2019-03-01\",\"ratio\":0.72932},{\"period\":\"2019-04-01\",\"ratio\":0.68014},{\"period\":\"2019-05-01\",\"ratio\":0.9013},{\"period\":\"2019-06-01\",\"ratio\":1.16414},{\"period\":\"2019-07-01\",\"ratio\":1.62319},{\"period\":\"2019-08-01\",\"ratio\":1.39311},{\"period\":\"2019-09-01\",\"ratio\":1.01937},{\"period\":\"2019-10-01\",\"ratio\":1.06439},{\"period\":\"2019-11-01\",\"ratio\":1.48633},{\"period\":\"2019-12-01\",\"ratio\":1.41145},{\"period\":\"2020-01-01\",\"ratio\":1.7403},{\"period\":\"2020-02-01\",\"ratio\":11.97264},{\"period\":\"2020-03-01\",\"ratio\":3.76826},{\"period\":\"2020-04-01\",\"ratio\":6.65963},{\"period\":\"2020-05-01\",\"ratio\":3.66451},{\"period\":\"2020-06-01\",\"ratio\":9.67148},{\"period\":\"2020-07-01\",\"ratio\":47.68963},{\"period\":\"2020-08-01\",\"ratio\":20.82201}]}]}\n"
     ]
    }
   ],
   "source": [
    "\n",
    "import json ###########################\n",
    "import os\n",
    "import sys\n",
    "import urllib.request\n",
    "\n",
    "client_id = nid ##########################\n",
    "client_secret = nkey ###########################\n",
    "url = \"https://openapi.naver.com/v1/datalab/search\";\n",
    "#body = \"{\\\"startDate\\\":\\\"2017-01-01\\\",\\\"endDate\\\":\\\"2017-04-30\\\",\\\"timeUnit\\\":\\\"month\\\",\\\"keywordGroups\\\":[{\\\"groupName\\\":\\\"한글\\\",\\\"keywords\\\":[\\\"한글\\\",\\\"korean\\\"]},{\\\"groupName\\\":\\\"영어\\\",\\\"keywords\\\":[\\\"영어\\\",\\\"english\\\"]}],\\\"device\\\":\\\"pc\\\",\\\"ages\\\":[\\\"1\\\",\\\"2\\\"],\\\"gender\\\":\\\"f\\\"}\"\n",
    "body=\"\"\"{\n",
    "    \"startDate\":\"2019-01-01\",\n",
    "    \"endDate\":\"2020-08-30\",\n",
    "    \"timeUnit\":\"month\",\n",
    "    \"keywordGroups\":[\n",
    "          {\"groupName\":\"기생충\",\"keywords\":[\"기생충\",\"봉준호\",\"짜파구리\",\"CJ ENM\"]},\n",
    "          {\"groupName\":\"반도\",\"keywords\":[\"반도\",\"CJ ENM\"]}\n",
    "    ]\n",
    "    }\"\"\"\n",
    "request = urllib.request.Request(url)\n",
    "request.add_header(\"X-Naver-Client-Id\",client_id)\n",
    "request.add_header(\"X-Naver-Client-Secret\",client_secret)\n",
    "request.add_header(\"Content-Type\",\"application/json\")\n",
    "response = urllib.request.urlopen(request, data=body.encode(\"utf-8\"))\n",
    "rescode = response.getcode()\n",
    "if(rescode==200):\n",
    "    response_body = response.read()\n",
    "    res=response_body.decode('utf-8')\n",
    "    print(res)\n",
    "else:\n",
    "    print(\"Error Code:\" + rescode)\n",
    "    "
   ]
  },
  {
   "cell_type": "code",
   "execution_count": 5,
   "metadata": {},
   "outputs": [
    {
     "name": "stdout",
     "output_type": "stream",
     "text": [
      "2\n",
      "       period     ratio\n",
      "0  2019-01-01   0.99682\n",
      "1  2019-02-01   1.23235\n",
      "2  2019-03-01   1.03002\n",
      "3  2019-04-01   7.92022\n",
      "4  2019-05-01  46.82542\n"
     ]
    },
    {
     "data": {
      "text/plain": [
       "<matplotlib.axes._subplots.AxesSubplot at 0x1b014248970>"
      ]
     },
     "execution_count": 5,
     "metadata": {},
     "output_type": "execute_result"
    },
    {
     "data": {
      "image/png": "[encoded data removed]",
      "text/plain": [
       "<Figure size 432x288 with 1 Axes>"
      ]
     },
     "metadata": {
      "needs_background": "light"
     },
     "output_type": "display_data"
    }
   ],
   "source": [
    "import pandas as pd\n",
    "import numpy as np\n",
    "import matplotlib as mpl\n",
    "import matplotlib.pyplot as plt\n",
    "import matplotlib.font_manager as fm\n",
    "fname=fm.FontProperties(fname='malgun.ttf').get_name()\n",
    "mpl.rc('font',family=fname)\n",
    "import matplotlib.gridspec as gridspec\n",
    "\n",
    "jdata=json.loads(res)\n",
    "\n",
    "print(len(jdata['results']))\n",
    "pdata=jdata['results'][0]['data']\n",
    "cjdf=pd.DataFrame.from_dict(pdata)\n",
    "print(cjdf.head())\n",
    "cjdf.plot()"
   ]
  },
  {
   "cell_type": "code",
   "execution_count": 6,
   "metadata": {},
   "outputs": [
    {
     "data": {
      "text/plain": [
       "'{\"startDate\": \"2019-01-01\", \"endDate\": \"2020-08-30\", \"timeUnit\": \"date\", \"keywordGroups\": [{\"groupName\": \"극한직업\", \"keywords\": [\"극한직업\"]}, {\"groupName\": \"사바하\", \"keywords\": [\"사바하\"]}, {\"groupName\": \"걸캅스\", \"keywords\": [\"걸캅스\"]}, {\"groupName\": \"기생충\", \"keywords\": [\"기생충\", \"봉준호\", \"짜파구리\"]}, {\"groupName\": \"나쁜녀석들\", \"keywords\": [\"나쁜녀석들\"]}, {\"groupName\": \"백두산\", \"keywords\": [\"백두산\"]}]}'"
      ]
     },
     "execution_count": 6,
     "metadata": {},
     "output_type": "execute_result"
    }
   ],
   "source": [
    "keywords=[\n",
    "['극한직업'],\n",
    "['사바하'],\n",
    "['걸캅스'],\n",
    "['기생충','봉준호','짜파구리'],\n",
    "['나쁜녀석들'],\n",
    "['백두산'],\n",
    "]\n",
    "def makeQry(keywords=[],sday='2019-01-01',eday='2020-08-30',tunit='date'):\n",
    "    res=[]\n",
    "    for words in keywords:\n",
    "        dict={'groupName':words[0],'keywords':words}\n",
    "        res.append(dict)\n",
    "    rdict={\"startDate\":sday,\n",
    "    \"endDate\":eday,\n",
    "    \"timeUnit\":tunit,\n",
    "    \"keywordGroups\":res\n",
    "          }\n",
    "    return json.dumps(rdict,ensure_ascii = False )\n",
    "\n",
    "makeQry(keywords,'2019-01-01','2020-08-30','date')"
   ]
  },
  {
   "cell_type": "code",
   "execution_count": 7,
   "metadata": {},
   "outputs": [],
   "source": [
    "def Mynsearch(keywords=[],sday='2019-01-01',eday='2020-08-30',tunit='date'):    \n",
    "    client_id = nid ##########################\n",
    "    client_secret = nkey ###########################\n",
    "    url = \"https://openapi.naver.com/v1/datalab/search\";\n",
    "    \n",
    "    body=makeQry(keywords,sday,eday,tunit)\n",
    "    \n",
    "    request = urllib.request.Request(url)\n",
    "    request.add_header(\"X-Naver-Client-Id\",client_id)\n",
    "    request.add_header(\"X-Naver-Client-Secret\",client_secret)\n",
    "    request.add_header(\"Content-Type\",\"application/json\")\n",
    "    response = urllib.request.urlopen(request, data=body.encode(\"utf-8\"))\n",
    "    rescode = response.getcode()\n",
    "    if(rescode==200):\n",
    "        response_body = response.read()\n",
    "        res=response_body.decode('utf-8')\n",
    "        #print(res)\n",
    "    else:\n",
    "        res=\"error\"\n",
    "        print(\"Error Code:\" + rescode)\n",
    "    return res"
   ]
  },
  {
   "cell_type": "code",
   "execution_count": 8,
   "metadata": {},
   "outputs": [],
   "source": [
    "\n",
    "def MyDataLab(keywords=[],sday='2019-01-01',eday='2020-08-30',tunit='date'):\n",
    "    # 네이버 데이터랩 서치\n",
    "    res=Mynsearch(keywords,sday,eday,tunit)\n",
    "    #데이터 추출을 위한 json\n",
    "    jdata=json.loads(res)\n",
    "            #print(len(jdata['results']))\n",
    "    i=0;\n",
    "    #테이블 머지를 위한 기초테이블\n",
    "    maindf=pd.DataFrame()\n",
    "    # 키워드별로 컬럼명 지정\n",
    "    for words in keywords:\n",
    "        pdata=jdata['results'][i]['data']\n",
    "        i+=1\n",
    "        df=pd.DataFrame.from_dict(pdata)\n",
    "        df.columns=[\"period\",words[0].strip()]\n",
    "        df1=df.set_index(\"period\")\n",
    "        maindf=pd.merge(maindf,df1,how=\"outer\",left_index=True,right_index=True)\n",
    "    return maindf\n"
   ]
  },
  {
   "cell_type": "code",
   "execution_count": 10,
   "metadata": {},
   "outputs": [
    {
     "name": "stdout",
     "output_type": "stream",
     "text": [
      "               극한직업      사바하      걸캅스    나쁜녀석들      백두산\n",
      "period                                                 \n",
      "2019-01-01  0.51273  0.03758  0.01178  0.15669  0.14547\n",
      "2019-01-02  0.59014  0.03655  0.01355  0.14220  0.11658\n",
      "2019-01-03  0.57528  0.02870  0.00981  0.11350  0.10892\n",
      "2019-01-04  5.09767  0.02758  0.01552  0.12453  0.10172\n",
      "2019-01-05  1.13232  0.03300  0.01299  0.14248  0.08695\n"
     ]
    },
    {
     "data": {
      "image/png": "[encoded data removed]",
      "text/plain": [
       "<Figure size 432x288 with 1 Axes>"
      ]
     },
     "metadata": {
      "needs_background": "light"
     },
     "output_type": "display_data"
    }
   ],
   "source": [
    "keywords=[\n",
    "['극한직업'],\n",
    "['사바하'],\n",
    "['걸캅스'],\n",
    "['나쁜녀석들'],\n",
    "['백두산'],\n",
    "#['기생충','봉준호','짜파구리'],\n",
    "]\n",
    "mdf=MyDataLab(keywords,'2019-01-01','2020-08-30','date')\n",
    "print(mdf.head())\n",
    "mdf.plot()\n",
    "plt.show()"
   ]
  },
  {
   "cell_type": "code",
   "execution_count": null,
   "metadata": {},
   "outputs": [],
   "source": []
  }
 ],
 "metadata": {
  "kernelspec": {
   "display_name": "Python 3",
   "language": "python",
   "name": "python3"
  },
  "language_info": {
   "codemirror_mode": {
    "name": "ipython",
    "version": 3
   },
   "file_extension": ".py",
   "mimetype": "text/x-python",
   "name": "python",
   "nbconvert_exporter": "python",
   "pygments_lexer": "ipython3",
   "version": "3.7.7"
  }
 },
 "nbformat": 4,
 "nbformat_minor": 4
}
