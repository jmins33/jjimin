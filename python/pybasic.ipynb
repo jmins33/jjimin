{
 "cells": [
  {
   "cell_type": "markdown",
   "metadata": {},
   "source": [
    "### 파이썬 기초\n",
    "* 기억장소\n",
    " - 변수\n",
    "* 연산자\n",
    " -산술 연산\n",
    " -논리 연산\n",
    " -비교 연산\n",
    "* 구문\n",
    " - 비교문\n",
    " - 반복문\n",
    "* 함수\n",
    "* 클래스\n",
    "\n",
    "### 프로그램이 하는 일\n",
    "1. 기억장소에 데이터를 넣는다. (입력)\n",
    "2. 기억장소의 데이터를 (수정/조작)한다.\n",
    "3. 기억장소의 데이터를 (판단)한다.\n",
    "4. 기억장소의 데이터를 출력(표현)한다.\n",
    "5. 반복 업무를 대행한다."
   ]
  },
  {
   "cell_type": "markdown",
   "metadata": {},
   "source": [
    "### 기억장소 만들기 : 변수 생성\n",
    "* 변수 명명 규칙\n",
    " - 알파뉴메릭(A~Za~1~9_)으로 작성\n",
    " - 시작은 숫자가 들어갈 수 없다\n",
    " - 띄어쓰기를 할 수 없다."
   ]
  },
  {
   "cell_type": "markdown",
   "metadata": {},
   "source": [
    "### 변수\n",
    "- 타입  형 지정이 없음\n",
    "- 객체형 변수 형태"
   ]
  },
  {
   "cell_type": "code",
   "execution_count": 14,
   "metadata": {},
   "outputs": [
    {
     "name": "stdout",
     "output_type": "stream",
     "text": [
      "a1 type <class 'int'>\n"
     ]
    }
   ],
   "source": [
    "a1=0\n",
    "print(\"a1 type\", type(a1))"
   ]
  },
  {
   "cell_type": "code",
   "execution_count": 15,
   "metadata": {},
   "outputs": [
    {
     "name": "stdout",
     "output_type": "stream",
     "text": [
      "a2 type <class 'str'>\n"
     ]
    }
   ],
   "source": [
    "a2='0'\n",
    "print(\"a2 type\", type(a2))"
   ]
  },
  {
   "cell_type": "code",
   "execution_count": 16,
   "metadata": {},
   "outputs": [
    {
     "name": "stdout",
     "output_type": "stream",
     "text": [
      "b1 type <class 'int'>\n"
     ]
    }
   ],
   "source": [
    "b1 = 4\n",
    "print(\"b1 type\", type(b1))"
   ]
  },
  {
   "cell_type": "code",
   "execution_count": 17,
   "metadata": {},
   "outputs": [
    {
     "name": "stdout",
     "output_type": "stream",
     "text": [
      "b2 type <class 'str'>\n"
     ]
    }
   ],
   "source": [
    "b2 = '4'\n",
    "print(\"b2 type\", type(b2))"
   ]
  },
  {
   "cell_type": "code",
   "execution_count": 18,
   "metadata": {},
   "outputs": [
    {
     "name": "stdout",
     "output_type": "stream",
     "text": [
      "4\n"
     ]
    }
   ],
   "source": [
    "c1= a1+b1\n",
    "print(c1)"
   ]
  },
  {
   "cell_type": "code",
   "execution_count": 19,
   "metadata": {},
   "outputs": [
    {
     "name": "stdout",
     "output_type": "stream",
     "text": [
      "04\n"
     ]
    }
   ],
   "source": [
    "c2 = a2+b2\n",
    "print(c2)"
   ]
  },
  {
   "cell_type": "markdown",
   "metadata": {},
   "source": [
    "### 데이터 형\n",
    "* 단순형\n",
    "    * int\n",
    "    * float\n",
    "    * str\n",
    "* 배열형\n",
    "    * 리스트 [ ]: ar[ ]  #index, a =[ ] # 리스트\n",
    "    * 튜플 () : ar[ ]  # 함수 a =() 튜플\n",
    "    * 딕셔너리 {} : {키 : 벨류} # 내부에 키 밸류 값으로 존재"
   ]
  },
  {
   "cell_type": "code",
   "execution_count": 24,
   "metadata": {},
   "outputs": [
    {
     "name": "stdout",
     "output_type": "stream",
     "text": [
      "[1, 2, 3.2, '4', [5.1, 6.2, '7.3']] <class 'list'>\n",
      "ar의 2번째 요소 (인덱스는 0부터 시작): 2\n",
      "ar의 2번째 요소 (인덱스는 0부터 시작): 2번째요소\n"
     ]
    }
   ],
   "source": [
    "# 리스트형 [ ]\n",
    "ar = [1, 2, 3.2, '4', [5.1, 6.2, '7.3']]\n",
    "print(ar, type(ar))\n",
    "print('ar의 2번째 요소 (인덱스는 0부터 시작):', ar[1])\n",
    "ar[1]= '2번째요소'\n",
    "print('ar의 2번째 요소 (인덱스는 0부터 시작):', ar[1])"
   ]
  },
  {
   "cell_type": "code",
   "execution_count": 22,
   "metadata": {},
   "outputs": [
    {
     "name": "stdout",
     "output_type": "stream",
     "text": [
      "(1, 2, 3.2, '4', [5.1, 6.2, '7.3']) <class 'tuple'>\n",
      "tr의 2번째 요소 (인덱스는 0부터 시작): 2\n"
     ]
    }
   ],
   "source": [
    "# 튜플형 [ ]\n",
    "tr = (1, 2, 3.2, '4', [5.1, 6.2, '7.3'])\n",
    "print(tr, type(tr))\n",
    "print('tr의 2번째 요소 (인덱스는 0부터 시작):', tr[1])\n",
    "# 튜플은 요소 수정 불가!!!"
   ]
  },
  {
   "cell_type": "code",
   "execution_count": 28,
   "metadata": {},
   "outputs": [
    {
     "name": "stdout",
     "output_type": "stream",
     "text": [
      "{1: 2, 2: '3.2', '3': [5.1, 6.2, '7.3']} <class 'dict'>\n",
      "dr의 인덱스1인 요소 (인덱스는 키값): 2\n",
      "dr의 인덱스\"3\": [5.1, 6.2, '7.3']\n",
      "{1: '2번째요소', 2: '3.2', '3': [5.1, 6.2, '7.3']}\n"
     ]
    }
   ],
   "source": [
    "# 딕셔너리 {}\n",
    "dr = {1: 2, 2:'3.2', '3': [5.1, 6.2, '7.3']}\n",
    "print(dr, type(dr))\n",
    "print('dr의 인덱스1인 요소 (인덱스는 키값):', dr[1])\n",
    "print('dr의 인덱스\"3\":', dr['3'])\n",
    "dr[1]= '2번째요소' # 키를 참조해서 밸류값 수정 가능\n",
    "print(dr)"
   ]
  },
  {
   "cell_type": "code",
   "execution_count": 29,
   "metadata": {},
   "outputs": [
    {
     "name": "stdout",
     "output_type": "stream",
     "text": [
      "0 번째 요소 1\n",
      "1 번째 요소 2번째요소\n",
      "2 번째 요소 3.2\n",
      "3 번째 요소 4\n",
      "4 번째 요소 [5.1, 6.2, '7.3']\n"
     ]
    }
   ],
   "source": [
    "# 요소별 출력\n",
    "i=0\n",
    "for a in ar:\n",
    "    print(i,'번째 요소',a)\n",
    "    i+=1"
   ]
  },
  {
   "cell_type": "code",
   "execution_count": 32,
   "metadata": {},
   "outputs": [
    {
     "name": "stdout",
     "output_type": "stream",
     "text": [
      "0 번째 요소 1\n",
      "1 번째 요소 2번째요소\n",
      "2 번째 요소 3.2\n",
      "3 번째 요소 4\n",
      "4 번째 요소 [5.1, 6.2, '7.3']\n"
     ]
    }
   ],
   "source": [
    "# 요소별 출력\n",
    "i=0\n",
    "for a in tr:\n",
    "    print(i,'번째 요소',a)\n",
    "    i+=1"
   ]
  },
  {
   "cell_type": "code",
   "execution_count": 31,
   "metadata": {},
   "outputs": [
    {
     "name": "stdout",
     "output_type": "stream",
     "text": [
      "0 번째 요소 1\n",
      "1 번째 요소 2\n",
      "2 번째 요소 3\n"
     ]
    }
   ],
   "source": [
    "# 요소별 출력\n",
    "i=0\n",
    "for a in dr:\n",
    "    print(i,'번째 요소',a)\n",
    "    i+=1"
   ]
  },
  {
   "cell_type": "code",
   "execution_count": 33,
   "metadata": {},
   "outputs": [
    {
     "name": "stdout",
     "output_type": "stream",
     "text": [
      "0 번째 요소 1 => 2번째요소\n",
      "1 번째 요소 2 => 3.2\n",
      "2 번째 요소 3 => [5.1, 6.2, '7.3']\n"
     ]
    }
   ],
   "source": [
    "# 요소별 출력\n",
    "i=0\n",
    "for a in dr:\n",
    "    print(i,'번째 요소',a, \"=>\", dr[a])\n",
    "    i+=1"
   ]
  },
  {
   "cell_type": "markdown",
   "metadata": {},
   "source": [
    "### 연산자\n",
    "* 산술연산 : = - * / % //\n",
    "* 비교연산 : < > <= >= == !="
   ]
  },
  {
   "cell_type": "code",
   "execution_count": 36,
   "metadata": {},
   "outputs": [
    {
     "name": "stdout",
     "output_type": "stream",
     "text": [
      "몫연산자: 1\n",
      "나머지연산자: 2\n"
     ]
    }
   ],
   "source": [
    "a1 = 5\n",
    "b1 = 3\n",
    "print('몫연산자:', a1//b1)\n",
    "print('나머지연산자:', a1%b1)"
   ]
  },
  {
   "cell_type": "code",
   "execution_count": 37,
   "metadata": {},
   "outputs": [
    {
     "name": "stdout",
     "output_type": "stream",
     "text": [
      "True\n"
     ]
    }
   ],
   "source": [
    "print(a1>b1)"
   ]
  },
  {
   "cell_type": "markdown",
   "metadata": {},
   "source": [
    "### 판단문 if\n",
    "* if"
   ]
  },
  {
   "cell_type": "code",
   "execution_count": 39,
   "metadata": {},
   "outputs": [
    {
     "name": "stdout",
     "output_type": "stream",
     "text": [
      "5 은  3 보다 큽니다.\n"
     ]
    }
   ],
   "source": [
    "if(a1>b1):\n",
    "    print(a1,\"은 \",b1, \"보다 큽니다.\")\n",
    "else:\n",
    "        print(a1,\"은 \",b1, \"보다 크지 않습니다.\")"
   ]
  },
  {
   "cell_type": "markdown",
   "metadata": {},
   "source": [
    "### 반복문 for\n",
    "for 요소 in 배열:\n",
    "\n",
    "### 반복문 while => 무한루프 조심\n",
    "while(조건식):\n",
    "    조건이 참인경우 실행"
   ]
  },
  {
   "cell_type": "markdown",
   "metadata": {},
   "source": [
    "### 이스케이프 문자열\n",
    "    *\\t :탭\n",
    "    *\\n :한줄내리기\n",
    "    *\\\\ :역슬래시 표시"
   ]
  },
  {
   "cell_type": "code",
   "execution_count": 40,
   "metadata": {},
   "outputs": [
    {
     "name": "stdout",
     "output_type": "stream",
     "text": [
      "안녕하세요 \t 여러분 \n",
      " 반갑습니다. \\ \\\n"
     ]
    }
   ],
   "source": [
    "print('안녕하세요 \\t 여러분 \\n 반갑습니다. \\\\ \\\\')"
   ]
  },
  {
   "cell_type": "markdown",
   "metadata": {},
   "source": [
    "### 구구단 표 만들기 (실습)\n",
    "* 3으로 나뉘어지는 수옆에 * 표시\n",
    "* 4로 나뉘어지는 수옆에 _ 표시"
   ]
  },
  {
   "cell_type": "code",
   "execution_count": 61,
   "metadata": {},
   "outputs": [
    {
     "name": "stdout",
     "output_type": "stream",
     "text": [
      "\n",
      "\n",
      "1\t2\t3 *\t4 _\t5\t6 *\t7\t8 _\t9 *\t\n",
      "\n",
      "2\t4 _\t6 *\t8 _\t10\t12 *\t14\t16 _\t18 *\t\n",
      "\n",
      "3 *\t6 *\t9 *\t12 *\t15 *\t18 *\t21 *\t24 *\t27 *\t\n",
      "\n",
      "4 _\t8 _\t12 *\t16 _\t20 _\t24 *\t28 _\t32 _\t36 *\t\n",
      "\n",
      "5\t10\t15 *\t20 _\t25\t30 *\t35\t40 _\t45 *\t\n",
      "\n",
      "6 *\t12 *\t18 *\t24 *\t30 *\t36 *\t42 *\t48 *\t54 *\t\n",
      "\n",
      "7\t14\t21 *\t28 _\t35\t42 *\t49\t56 _\t63 *\t\n",
      "\n",
      "8 _\t16 _\t24 *\t32 _\t40 _\t48 *\t56 _\t64 _\t72 *\t\n",
      "\n",
      "9 *\t18 *\t27 *\t36 *\t45 *\t54 *\t63 *\t72 *\t81 *\t"
     ]
    }
   ],
   "source": [
    "a= [1, 2, 3, 4, 5, 6, 7, 8, 9]\n",
    "b= [1, 2, 3, 4, 5, 6, 7, 8, 9]\n",
    "\n",
    "for i in a:\n",
    "    print('\\n')\n",
    "    for j in b:\n",
    "        if (i*j%3==0):\n",
    "            print(i*j,'*',end='\\t')\n",
    "        elif (i*j%4==0):\n",
    "            print(i*j,'_', end='\\t')\n",
    "        else:\n",
    "            print(i*j, end='\\t')"
   ]
  },
  {
   "cell_type": "code",
   "execution_count": 57,
   "metadata": {},
   "outputs": [
    {
     "name": "stdout",
     "output_type": "stream",
     "text": [
      "\n",
      "\n",
      "1\t2\t3 *\t4 _\t5\t6 *\t7\t8 _\t9 *\t\n",
      "\n",
      "2\t4 _\t6 *\t8 _\t10\t12 *\t14\t16 _\t18 *\t\n",
      "\n",
      "3 *\t6 *\t9 *\t12 *\t15 *\t18 *\t21 *\t24 *\t27 *\t\n",
      "\n",
      "4 _\t8 _\t12 *\t16 _\t20 _\t24 *\t28 _\t32 _\t36 *\t\n",
      "\n",
      "5\t10\t15 *\t20 _\t25\t30 *\t35\t40 _\t45 *\t\n",
      "\n",
      "6 *\t12 *\t18 *\t24 *\t30 *\t36 *\t42 *\t48 *\t54 *\t\n",
      "\n",
      "7\t14\t21 *\t28 _\t35\t42 *\t49\t56 _\t63 *\t\n",
      "\n",
      "8 _\t16 _\t24 *\t32 _\t40 _\t48 *\t56 _\t64 _\t72 *\t\n",
      "\n",
      "9 *\t18 *\t27 *\t36 *\t45 *\t54 *\t63 *\t72 *\t81 *\t"
     ]
    }
   ],
   "source": [
    "for i in range(1,10):\n",
    "    print('\\n')\n",
    "    for j in range(1,10):\n",
    "        c= i*j\n",
    "        if c%3==0:\n",
    "            print(c,'*', end='\\t')\n",
    "        elif c%4==0:\n",
    "            print(c,'_', end='\\t')\n",
    "        else:\n",
    "            print(c, end='\\t')"
   ]
  },
  {
   "cell_type": "code",
   "execution_count": null,
   "metadata": {},
   "outputs": [],
   "source": []
  }
 ],
 "metadata": {
  "kernelspec": {
   "display_name": "Python 3",
   "language": "python",
   "name": "python3"
  },
  "language_info": {
   "codemirror_mode": {
    "name": "ipython",
    "version": 3
   },
   "file_extension": ".py",
   "mimetype": "text/x-python",
   "name": "python",
   "nbconvert_exporter": "python",
   "pygments_lexer": "ipython3",
   "version": "3.7.7"
  }
 },
 "nbformat": 4,
 "nbformat_minor": 4
}
