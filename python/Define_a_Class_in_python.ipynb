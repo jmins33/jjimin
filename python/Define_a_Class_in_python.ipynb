{
  "nbformat": 4,
  "nbformat_minor": 0,
  "metadata": {
    "colab": {
      "name": "Define a Class in python.ipynb",
      "provenance": [],
      "authorship_tag": "ABX9TyMd6/CDdYCLFsXw6eJVe3wW",
      "include_colab_link": true
    },
    "kernelspec": {
      "name": "python3",
      "display_name": "Python 3"
    }
  },
  "cells": [
    {
      "cell_type": "markdown",
      "metadata": {
        "id": "view-in-github",
        "colab_type": "text"
      },
      "source": [
        "<a href=\"https://colab.research.google.com/github/jmins33/ml_edu/blob/master/python/Define_a_Class_in_python.ipynb\" target=\"_parent\"><img src=\"https://colab.research.google.com/assets/colab-badge.svg\" alt=\"Open In Colab\"/></a>"
      ]
    },
    {
      "cell_type": "markdown",
      "metadata": {
        "id": "DEXcWcDXHEvh",
        "colab_type": "text"
      },
      "source": [
        "# Define a Class in python"
      ]
    },
    {
      "cell_type": "markdown",
      "metadata": {
        "id": "vkfd9B4lHNyA",
        "colab_type": "text"
      },
      "source": [
        "##Check Your Understanding\n",
        "https://realpython.com/python3-object-oriented-programming/"
      ]
    },
    {
      "cell_type": "markdown",
      "metadata": {
        "id": "thcY1WXLG3bC",
        "colab_type": "text"
      },
      "source": [
        "- Create a Car class with two instance attributes:\n",
        "\n",
        " + .color, which stores the name of the car’s color as a string\n",
        " + .mileage, which stores the number of miles on the car as an integer\n",
        "\n",
        "- Then instantiate two Car objects—a blue car with 20,000 miles and a red car with 30,000 miles—and print out their colors and mileage. \n",
        "\n",
        "-Your output should look like this:\n",
        " + The blue car has 20,000 miles.\n",
        " + The red car has 30,000 miles."
      ]
    },
    {
      "cell_type": "code",
      "metadata": {
        "id": "5owbwOfBAxEG",
        "colab_type": "code",
        "colab": {}
      },
      "source": [
        "class car:\n",
        "    species = 'Driving'\n",
        "\n",
        "    def __init__(self, color, mileage):\n",
        "      self.color = color\n",
        "      self.mileage = mileage"
      ],
      "execution_count": 6,
      "outputs": []
    },
    {
      "cell_type": "code",
      "metadata": {
        "id": "WsoXx_5wCwZw",
        "colab_type": "code",
        "colab": {}
      },
      "source": [
        "blue_car = car('blue',20000)\n",
        "red_car = car('red',30000)"
      ],
      "execution_count": 13,
      "outputs": []
    },
    {
      "cell_type": "code",
      "metadata": {
        "id": "jPsn5UTOCr4S",
        "colab_type": "code",
        "colab": {
          "base_uri": "https://localhost:8080/",
          "height": 53
        },
        "outputId": "92332a78-10da-47b8-d9f1-4959365b5451"
      },
      "source": [
        "for car in (blue_car, red_car):\n",
        "    print(f\"The {car.color} car has {car.mileage} miles.\")"
      ],
      "execution_count": 14,
      "outputs": [
        {
          "output_type": "stream",
          "text": [
            "The blue car has 20000 miles.\n",
            "The red car has 30000 miles.\n"
          ],
          "name": "stdout"
        }
      ]
    },
    {
      "cell_type": "markdown",
      "metadata": {
        "id": "mRQlLdBbHV0x",
        "colab_type": "text"
      },
      "source": [
        "## Check Your Understanding\n",
        " - Create a GoldenRetriever class that inherits from the Dog class. Give the sound argument of GoldenRetriever.speak() a default value of \"Bark\". Use the following code for your parent Dog class."
      ]
    },
    {
      "cell_type": "code",
      "metadata": {
        "id": "cic9QGlBGOK9",
        "colab_type": "code",
        "colab": {}
      },
      "source": [
        "class Dog:\n",
        "    species= \"Canis familiaris\"\n",
        "\n",
        "    def __init__(self, name, age):\n",
        "        self.name = name\n",
        "        self.age = age"
      ],
      "execution_count": 27,
      "outputs": []
    },
    {
      "cell_type": "code",
      "metadata": {
        "id": "EfPD3sznIb4q",
        "colab_type": "code",
        "colab": {}
      },
      "source": [
        "miles = Dog('Miles', 4)\n",
        "buddy = Dog(\"Buddy\", 9)"
      ],
      "execution_count": 29,
      "outputs": []
    },
    {
      "cell_type": "code",
      "metadata": {
        "id": "rHuWmH-1KHJA",
        "colab_type": "code",
        "colab": {
          "base_uri": "https://localhost:8080/",
          "height": 35
        },
        "outputId": "deae3890-6a02-462d-daa9-104e46fe0081"
      },
      "source": [
        "buddy.name"
      ],
      "execution_count": 30,
      "outputs": [
        {
          "output_type": "execute_result",
          "data": {
            "application/vnd.google.colaboratory.intrinsic+json": {
              "type": "string"
            },
            "text/plain": [
              "'Buddy'"
            ]
          },
          "metadata": {
            "tags": []
          },
          "execution_count": 30
        }
      ]
    },
    {
      "cell_type": "code",
      "metadata": {
        "id": "70STG5uNJ9aJ",
        "colab_type": "code",
        "colab": {}
      },
      "source": [
        "class Dog:\n",
        "    species= \"Canis familiaris\"\n",
        "\n",
        "    def __init__(self, name, age):\n",
        "        self.name = name\n",
        "        self.age = age\n",
        "\n",
        "    def __str__(self):\n",
        "        return f'{self.name} is {self.age} years old'\n",
        "\n",
        "    def speak(self, sound):\n",
        "        return f'{self.name} says {sound}'"
      ],
      "execution_count": 59,
      "outputs": []
    },
    {
      "cell_type": "code",
      "metadata": {
        "id": "bHF9urvNKvNi",
        "colab_type": "code",
        "colab": {}
      },
      "source": [
        "class GoldenRetriever(Dog):\n",
        "    pass"
      ],
      "execution_count": 39,
      "outputs": []
    },
    {
      "cell_type": "code",
      "metadata": {
        "id": "RBp7KUSHLNkq",
        "colab_type": "code",
        "colab": {}
      },
      "source": [
        "jim = GoldenRetriever('jim',4)"
      ],
      "execution_count": 40,
      "outputs": []
    },
    {
      "cell_type": "code",
      "metadata": {
        "id": "QYDQww2PGO9Y",
        "colab_type": "code",
        "colab": {
          "base_uri": "https://localhost:8080/",
          "height": 35
        },
        "outputId": "c97f5d09-8897-4e15-f936-0029b631b405"
      },
      "source": [
        "jim.speak('Woof')"
      ],
      "execution_count": 49,
      "outputs": [
        {
          "output_type": "execute_result",
          "data": {
            "application/vnd.google.colaboratory.intrinsic+json": {
              "type": "string"
            },
            "text/plain": [
              "'jim says Woof'"
            ]
          },
          "metadata": {
            "tags": []
          },
          "execution_count": 49
        }
      ]
    },
    {
      "cell_type": "code",
      "metadata": {
        "id": "56yHe9bKIKrU",
        "colab_type": "code",
        "colab": {}
      },
      "source": [
        "class Dog:\n",
        "\n",
        "    def speak(self, sound):\n",
        "        return f'{self.name} barks: {sound}'"
      ],
      "execution_count": 50,
      "outputs": []
    },
    {
      "cell_type": "code",
      "metadata": {
        "id": "HNyfKuVtGOsJ",
        "colab_type": "code",
        "colab": {}
      },
      "source": [
        "class GoldenRetriever(Dog):\n",
        "  \n",
        "    def speak(self, sound='bark'):\n",
        "        return super().speak(sound)"
      ],
      "execution_count": 60,
      "outputs": []
    },
    {
      "cell_type": "code",
      "metadata": {
        "id": "5_EHLKYLLW4p",
        "colab_type": "code",
        "colab": {
          "base_uri": "https://localhost:8080/",
          "height": 35
        },
        "outputId": "b86264f7-e6c5-4770-bedd-c2d706b2c900"
      },
      "source": [
        "jim = GoldenRetriever('jim',4)\n",
        "jim.speak()"
      ],
      "execution_count": 63,
      "outputs": [
        {
          "output_type": "execute_result",
          "data": {
            "application/vnd.google.colaboratory.intrinsic+json": {
              "type": "string"
            },
            "text/plain": [
              "'jim says bark'"
            ]
          },
          "metadata": {
            "tags": []
          },
          "execution_count": 63
        }
      ]
    },
    {
      "cell_type": "markdown",
      "metadata": {
        "id": "CBJiQAF9RiuR",
        "colab_type": "text"
      },
      "source": [
        "- In this tutorial, you learned how to:\n",
        "\n",
        " + Define a class, which is a sort of blueprint for an object\n",
        " + Instantiate an object from a class\n",
        " + Use attributes and methods to define the properties and behaviors of an object\n",
        " + Use inheritance to create child classes from a parent class\n",
        " + Reference a method on a parent class using super()\n",
        " + Check if an object inherits from another class using isinstance()"
      ]
    }
  ]
}