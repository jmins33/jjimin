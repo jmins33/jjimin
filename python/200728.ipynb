{
  "nbformat": 4,
  "nbformat_minor": 0,
  "metadata": {
    "kernelspec": {
      "display_name": "Python 3",
      "language": "python",
      "name": "python3"
    },
    "language_info": {
      "codemirror_mode": {
        "name": "ipython",
        "version": 3
      },
      "file_extension": ".py",
      "mimetype": "text/x-python",
      "name": "python",
      "nbconvert_exporter": "python",
      "pygments_lexer": "ipython3",
      "version": "3.8.3"
    },
    "colab": {
      "name": "200728.ipynb",
      "provenance": [],
      "include_colab_link": true
    }
  },
  "cells": [
    {
      "cell_type": "markdown",
      "metadata": {
        "id": "view-in-github",
        "colab_type": "text"
      },
      "source": [
        "<a href=\"https://colab.research.google.com/github/jmins33/ml_edu/blob/master/python/200728.ipynb\" target=\"_parent\"><img src=\"https://colab.research.google.com/assets/colab-badge.svg\" alt=\"Open In Colab\"/></a>"
      ]
    },
    {
      "cell_type": "code",
      "metadata": {
        "id": "NDVamZPY0LNI",
        "colab_type": "code",
        "colab": {}
      },
      "source": [
        "temp = 2"
      ],
      "execution_count": null,
      "outputs": []
    },
    {
      "cell_type": "code",
      "metadata": {
        "id": "eKODih860LNO",
        "colab_type": "code",
        "colab": {},
        "outputId": "b69597d7-752b-4af9-dc2b-af734c979e20"
      },
      "source": [
        "print(temp)"
      ],
      "execution_count": null,
      "outputs": [
        {
          "output_type": "stream",
          "text": [
            "2\n"
          ],
          "name": "stdout"
        }
      ]
    },
    {
      "cell_type": "code",
      "metadata": {
        "id": "DrncewSM0LNU",
        "colab_type": "code",
        "colab": {},
        "outputId": "6fba3ee1-2bb0-4cd8-944a-1eaeb9050019"
      },
      "source": [
        "temp"
      ],
      "execution_count": null,
      "outputs": [
        {
          "output_type": "execute_result",
          "data": {
            "text/plain": [
              "2"
            ]
          },
          "metadata": {
            "tags": []
          },
          "execution_count": 4
        }
      ]
    },
    {
      "cell_type": "code",
      "metadata": {
        "id": "lWMW0nXK0LNY",
        "colab_type": "code",
        "colab": {},
        "outputId": "af3568db-377a-4068-a389-6facdb2d7f7e"
      },
      "source": [
        "tempa"
      ],
      "execution_count": null,
      "outputs": [
        {
          "output_type": "error",
          "ename": "NameError",
          "evalue": "name 'tempa' is not defined",
          "traceback": [
            "\u001b[1;31m---------------------------------------------------------------------------\u001b[0m",
            "\u001b[1;31mNameError\u001b[0m                                 Traceback (most recent call last)",
            "\u001b[1;32m<ipython-input-5-e4a04d835d6c>\u001b[0m in \u001b[0;36m<module>\u001b[1;34m\u001b[0m\n\u001b[1;32m----> 1\u001b[1;33m \u001b[0mtempa\u001b[0m\u001b[1;33m\u001b[0m\u001b[1;33m\u001b[0m\u001b[0m\n\u001b[0m",
            "\u001b[1;31mNameError\u001b[0m: name 'tempa' is not defined"
          ]
        }
      ]
    },
    {
      "cell_type": "code",
      "metadata": {
        "id": "84XhZ3I50LNc",
        "colab_type": "code",
        "colab": {},
        "outputId": "70fdcc15-50dd-40dc-e590-14eb8dbc3310"
      },
      "source": [
        "a = 7\n",
        "b = 3\n",
        "print(a+b)\n",
        "print(a-b)\n",
        "print(a*b)\n",
        "print(a/b)"
      ],
      "execution_count": null,
      "outputs": [
        {
          "output_type": "stream",
          "text": [
            "10\n",
            "4\n",
            "21\n",
            "2.3333333333333335\n"
          ],
          "name": "stdout"
        }
      ]
    },
    {
      "cell_type": "code",
      "metadata": {
        "id": "cUBg6PeD0LNg",
        "colab_type": "code",
        "colab": {}
      },
      "source": [
        "a = 2"
      ],
      "execution_count": null,
      "outputs": []
    },
    {
      "cell_type": "code",
      "metadata": {
        "id": "__hKbia50LNl",
        "colab_type": "code",
        "colab": {},
        "outputId": "43727451-97fe-421f-bf16-0bc0fe7bf602"
      },
      "source": [
        "type(a)"
      ],
      "execution_count": null,
      "outputs": [
        {
          "output_type": "execute_result",
          "data": {
            "text/plain": [
              "int"
            ]
          },
          "metadata": {
            "tags": []
          },
          "execution_count": 8
        }
      ]
    },
    {
      "cell_type": "code",
      "metadata": {
        "id": "wE0E5Xuq0LNo",
        "colab_type": "code",
        "colab": {}
      },
      "source": [
        "a = 2.0"
      ],
      "execution_count": null,
      "outputs": []
    },
    {
      "cell_type": "code",
      "metadata": {
        "id": "OCDrU7f20LNq",
        "colab_type": "code",
        "colab": {},
        "outputId": "1978de9c-536b-4746-9078-567e2a29887f"
      },
      "source": [
        "type(a)"
      ],
      "execution_count": null,
      "outputs": [
        {
          "output_type": "execute_result",
          "data": {
            "text/plain": [
              "float"
            ]
          },
          "metadata": {
            "tags": []
          },
          "execution_count": 10
        }
      ]
    },
    {
      "cell_type": "code",
      "metadata": {
        "id": "Grd7e9F10LNs",
        "colab_type": "code",
        "colab": {},
        "outputId": "59843318-472f-4fce-ecbb-dc1737e4c1bd"
      },
      "source": [
        "a = 7 ; b = 3\n",
        "print(a//b)    ###몫 구하기"
      ],
      "execution_count": null,
      "outputs": [
        {
          "output_type": "stream",
          "text": [
            "2\n"
          ],
          "name": "stdout"
        }
      ]
    },
    {
      "cell_type": "code",
      "metadata": {
        "id": "qKyXuQiL0LNu",
        "colab_type": "code",
        "colab": {},
        "outputId": "5de7eda4-6e67-46db-d1fb-e2865de0f2e5"
      },
      "source": [
        "### 나머지\n",
        "print(a%b)"
      ],
      "execution_count": null,
      "outputs": [
        {
          "output_type": "stream",
          "text": [
            "1\n"
          ],
          "name": "stdout"
        }
      ]
    },
    {
      "cell_type": "code",
      "metadata": {
        "id": "6LOViR360LNw",
        "colab_type": "code",
        "colab": {},
        "outputId": "71c5417c-f498-43fe-cb5e-934380054672"
      },
      "source": [
        "###제곱\n",
        "print(a**b)"
      ],
      "execution_count": null,
      "outputs": [
        {
          "output_type": "stream",
          "text": [
            "343\n"
          ],
          "name": "stdout"
        }
      ]
    },
    {
      "cell_type": "code",
      "metadata": {
        "id": "xtj037M-0LNz",
        "colab_type": "code",
        "colab": {},
        "outputId": "8b2776f4-45e8-4c2e-af9d-8f49811c3745"
      },
      "source": [
        "### 문자열 할당\n",
        "temp = 'python is easy'\n",
        "temp"
      ],
      "execution_count": null,
      "outputs": [
        {
          "output_type": "execute_result",
          "data": {
            "text/plain": [
              "'python is easy'"
            ]
          },
          "metadata": {
            "tags": []
          },
          "execution_count": 16
        }
      ]
    },
    {
      "cell_type": "code",
      "metadata": {
        "id": "t2WZt5Kk0LN1",
        "colab_type": "code",
        "colab": {},
        "outputId": "7921a063-08e1-4af4-b8e3-271ac343254c"
      },
      "source": [
        "print(temp)"
      ],
      "execution_count": null,
      "outputs": [
        {
          "output_type": "stream",
          "text": [
            "python is easy\n"
          ],
          "name": "stdout"
        }
      ]
    },
    {
      "cell_type": "code",
      "metadata": {
        "id": "BoGjryij0LN3",
        "colab_type": "code",
        "colab": {}
      },
      "source": [
        "a=7"
      ],
      "execution_count": null,
      "outputs": []
    },
    {
      "cell_type": "code",
      "metadata": {
        "id": "mshu4v3Q0LN5",
        "colab_type": "code",
        "colab": {},
        "outputId": "e0511e9f-a769-4ead-8c7d-08040d5943a1"
      },
      "source": [
        "a."
      ],
      "execution_count": null,
      "outputs": [
        {
          "output_type": "error",
          "ename": "SyntaxError",
          "evalue": "invalid syntax (<ipython-input-19-b4ce96ddcee0>, line 1)",
          "traceback": [
            "\u001b[1;36m  File \u001b[1;32m\"<ipython-input-19-b4ce96ddcee0>\"\u001b[1;36m, line \u001b[1;32m1\u001b[0m\n\u001b[1;33m    a.\u001b[0m\n\u001b[1;37m      ^\u001b[0m\n\u001b[1;31mSyntaxError\u001b[0m\u001b[1;31m:\u001b[0m invalid syntax\n"
          ]
        }
      ]
    },
    {
      "cell_type": "code",
      "metadata": {
        "id": "VNhcAdyK0LN8",
        "colab_type": "code",
        "colab": {}
      },
      "source": [
        "b ='7'"
      ],
      "execution_count": null,
      "outputs": []
    },
    {
      "cell_type": "code",
      "metadata": {
        "id": "gH3pFQs60LN_",
        "colab_type": "code",
        "colab": {},
        "outputId": "9dab0090-7631-40e6-9b69-045a9f87a779"
      },
      "source": [
        "b"
      ],
      "execution_count": null,
      "outputs": [
        {
          "output_type": "execute_result",
          "data": {
            "text/plain": [
              "'7'"
            ]
          },
          "metadata": {
            "tags": []
          },
          "execution_count": 21
        }
      ]
    },
    {
      "cell_type": "code",
      "metadata": {
        "id": "gcK8E_NZ0LOC",
        "colab_type": "code",
        "colab": {},
        "outputId": "3729290a-e744-4b49-8508-6b239f3216e2"
      },
      "source": [
        "temp = 'python is easy'\n",
        "len(temp)"
      ],
      "execution_count": null,
      "outputs": [
        {
          "output_type": "execute_result",
          "data": {
            "text/plain": [
              "14"
            ]
          },
          "metadata": {
            "tags": []
          },
          "execution_count": 22
        }
      ]
    },
    {
      "cell_type": "code",
      "metadata": {
        "id": "3pEKQA9T0LOE",
        "colab_type": "code",
        "colab": {},
        "outputId": "50d517bd-c937-4b3b-d093-b9eb1afcc9ee"
      },
      "source": [
        "'python'+'is easy'"
      ],
      "execution_count": null,
      "outputs": [
        {
          "output_type": "execute_result",
          "data": {
            "text/plain": [
              "'pythonis easy'"
            ]
          },
          "metadata": {
            "tags": []
          },
          "execution_count": 23
        }
      ]
    },
    {
      "cell_type": "code",
      "metadata": {
        "id": "ZmDZ_bmF0LOG",
        "colab_type": "code",
        "colab": {},
        "outputId": "280fcc83-a290-4e8d-9613-82e567869e3b"
      },
      "source": [
        "'python '+'is easy'"
      ],
      "execution_count": null,
      "outputs": [
        {
          "output_type": "execute_result",
          "data": {
            "text/plain": [
              "'python is easy'"
            ]
          },
          "metadata": {
            "tags": []
          },
          "execution_count": 24
        }
      ]
    },
    {
      "cell_type": "code",
      "metadata": {
        "id": "FXEPYRJ00LOI",
        "colab_type": "code",
        "colab": {},
        "outputId": "976b93d8-fe6d-4eae-87ed-740aa5c99d27"
      },
      "source": [
        "a = 'python' ; b = 'is easy'\n",
        "print(a + b)"
      ],
      "execution_count": null,
      "outputs": [
        {
          "output_type": "stream",
          "text": [
            "pythonis easy\n"
          ],
          "name": "stdout"
        }
      ]
    },
    {
      "cell_type": "code",
      "metadata": {
        "id": "zBac3dxS0LOK",
        "colab_type": "code",
        "colab": {},
        "outputId": "d2baebee-6eb9-4e55-a3e1-17cd3c64ccd8"
      },
      "source": [
        "temp = 'python is easy'\n",
        "temp[3]"
      ],
      "execution_count": null,
      "outputs": [
        {
          "output_type": "execute_result",
          "data": {
            "text/plain": [
              "'h'"
            ]
          },
          "metadata": {
            "tags": []
          },
          "execution_count": 29
        }
      ]
    },
    {
      "cell_type": "code",
      "metadata": {
        "id": "LwPbT2n30LOM",
        "colab_type": "code",
        "colab": {},
        "outputId": "958527e0-488b-422d-e4de-8b3a951c0987"
      },
      "source": [
        "temp[0:5]"
      ],
      "execution_count": null,
      "outputs": [
        {
          "output_type": "execute_result",
          "data": {
            "text/plain": [
              "'pytho'"
            ]
          },
          "metadata": {
            "tags": []
          },
          "execution_count": 30
        }
      ]
    },
    {
      "cell_type": "code",
      "metadata": {
        "id": "O_Gb-VLR0LOO",
        "colab_type": "code",
        "colab": {},
        "outputId": "c29ac2e3-c793-4aee-9b16-757ffc9f61e2"
      },
      "source": [
        "temp[7:9]"
      ],
      "execution_count": null,
      "outputs": [
        {
          "output_type": "execute_result",
          "data": {
            "text/plain": [
              "'is'"
            ]
          },
          "metadata": {
            "tags": []
          },
          "execution_count": 31
        }
      ]
    },
    {
      "cell_type": "code",
      "metadata": {
        "id": "75lYDrgs0LOQ",
        "colab_type": "code",
        "colab": {},
        "outputId": "1113aef7-a15f-4ed0-b747-95600269da63"
      },
      "source": [
        "temp[10:14]"
      ],
      "execution_count": null,
      "outputs": [
        {
          "output_type": "execute_result",
          "data": {
            "text/plain": [
              "'easy'"
            ]
          },
          "metadata": {
            "tags": []
          },
          "execution_count": 34
        }
      ]
    },
    {
      "cell_type": "code",
      "metadata": {
        "id": "U9LSS3W40LOS",
        "colab_type": "code",
        "colab": {},
        "outputId": "c1e6d3f1-5684-4eca-a257-5743ae193d82"
      },
      "source": [
        "temp[3:-3]  ## -3은 맨뒤에서부터 마이너스해서, 뒤부터는 0부터 시작하지 않음, 디만 -3번째 문자는 출력하지않음."
      ],
      "execution_count": null,
      "outputs": [
        {
          "output_type": "execute_result",
          "data": {
            "text/plain": [
              "'hon is e'"
            ]
          },
          "metadata": {
            "tags": []
          },
          "execution_count": 35
        }
      ]
    },
    {
      "cell_type": "code",
      "metadata": {
        "id": "pXUF7PLx0LOV",
        "colab_type": "code",
        "colab": {},
        "outputId": "646480c9-39c4-4235-88b5-7bdf8024bc29"
      },
      "source": [
        "i = 200\n",
        "if(i%100==0):   ## if(i%100)==0: 이라고 적어도 됨\n",
        "    print('yes')"
      ],
      "execution_count": null,
      "outputs": [
        {
          "output_type": "stream",
          "text": [
            "yes\n"
          ],
          "name": "stdout"
        }
      ]
    },
    {
      "cell_type": "code",
      "metadata": {
        "id": "9gC1Q3jk0LOX",
        "colab_type": "code",
        "colab": {}
      },
      "source": [
        "temp = 'python is easy'"
      ],
      "execution_count": null,
      "outputs": []
    },
    {
      "cell_type": "code",
      "metadata": {
        "id": "SUMYEnJ80LOa",
        "colab_type": "code",
        "colab": {},
        "outputId": "d9f00771-7880-4fca-959c-592b767f9103"
      },
      "source": [
        "temp.split()"
      ],
      "execution_count": null,
      "outputs": [
        {
          "output_type": "execute_result",
          "data": {
            "text/plain": [
              "['python', 'is', 'easy']"
            ]
          },
          "metadata": {
            "tags": []
          },
          "execution_count": 39
        }
      ]
    },
    {
      "cell_type": "code",
      "metadata": {
        "id": "-_ZjqBJ_0LOb",
        "colab_type": "code",
        "colab": {},
        "outputId": "e0b6c302-3a77-4793-f707-d97026c726bb"
      },
      "source": [
        "temp.split('s')   ###s가 빠짐"
      ],
      "execution_count": null,
      "outputs": [
        {
          "output_type": "execute_result",
          "data": {
            "text/plain": [
              "['python i', ' ea', 'y']"
            ]
          },
          "metadata": {
            "tags": []
          },
          "execution_count": 40
        }
      ]
    },
    {
      "cell_type": "code",
      "metadata": {
        "id": "Vj5u-YyD0LOe",
        "colab_type": "code",
        "colab": {}
      },
      "source": [
        "temp2 = 'python,java,R,SAS'"
      ],
      "execution_count": null,
      "outputs": []
    },
    {
      "cell_type": "code",
      "metadata": {
        "id": "O7j_aynu0LOf",
        "colab_type": "code",
        "colab": {},
        "outputId": "dd9ad590-fa91-4b4b-8f7d-334c773ec7ef"
      },
      "source": [
        "temp2.split(',')"
      ],
      "execution_count": null,
      "outputs": [
        {
          "output_type": "execute_result",
          "data": {
            "text/plain": [
              "['python', 'java', 'R', 'SAS']"
            ]
          },
          "metadata": {
            "tags": []
          },
          "execution_count": 42
        }
      ]
    },
    {
      "cell_type": "code",
      "metadata": {
        "id": "QoALrNCY0LOh",
        "colab_type": "code",
        "colab": {},
        "outputId": "4503af3f-3ebb-43bc-ec83-1f830194775f"
      },
      "source": [
        "temp3 = temp2.split(',')\n",
        "print(temp3)"
      ],
      "execution_count": null,
      "outputs": [
        {
          "output_type": "stream",
          "text": [
            "['python', 'java', 'R', 'SAS']\n"
          ],
          "name": "stdout"
        }
      ]
    },
    {
      "cell_type": "code",
      "metadata": {
        "id": "iZgskFwK0LOj",
        "colab_type": "code",
        "colab": {},
        "outputId": "426b74ff-b8db-43d9-cea6-bdc5ecfc837b"
      },
      "source": [
        "','.join(temp3)"
      ],
      "execution_count": null,
      "outputs": [
        {
          "output_type": "execute_result",
          "data": {
            "text/plain": [
              "'python,java,R,SAS'"
            ]
          },
          "metadata": {
            "tags": []
          },
          "execution_count": 44
        }
      ]
    },
    {
      "cell_type": "code",
      "metadata": {
        "id": "48tTfWk50LOl",
        "colab_type": "code",
        "colab": {},
        "outputId": "a448815e-6c56-46f8-f3e3-f46905d653a5"
      },
      "source": [
        "temp4 = ','.join(temp3)\n",
        "print(temp4)"
      ],
      "execution_count": null,
      "outputs": [
        {
          "output_type": "stream",
          "text": [
            "python,java,R,SAS\n"
          ],
          "name": "stdout"
        }
      ]
    },
    {
      "cell_type": "code",
      "metadata": {
        "id": "F-qnkO6C0LOn",
        "colab_type": "code",
        "colab": {},
        "outputId": "6ea692c9-80a2-41b6-b1ec-33e94d287437"
      },
      "source": [
        "print('temp3 = ', len(temp3))\n",
        "print('temp4 = ', len(temp4))"
      ],
      "execution_count": null,
      "outputs": [
        {
          "output_type": "stream",
          "text": [
            "temp3 =  4\n",
            "temp4 =  17\n"
          ],
          "name": "stdout"
        }
      ]
    },
    {
      "cell_type": "code",
      "metadata": {
        "id": "MWwC8mQy0LOo",
        "colab_type": "code",
        "colab": {},
        "outputId": "b3586bf0-e4d0-4914-e445-5509c2663d04"
      },
      "source": [
        "number = ['one','two','three','four']\n",
        "print(number)"
      ],
      "execution_count": null,
      "outputs": [
        {
          "output_type": "stream",
          "text": [
            "['one', 'two', 'three', 'four']\n"
          ],
          "name": "stdout"
        }
      ]
    },
    {
      "cell_type": "code",
      "metadata": {
        "id": "6NI2F02J0LOq",
        "colab_type": "code",
        "colab": {},
        "outputId": "ce295661-8f44-4899-cb72-46db4395f20a"
      },
      "source": [
        "number_tuple=('one','two','three','four')\n",
        "print(number_tuple)"
      ],
      "execution_count": null,
      "outputs": [
        {
          "output_type": "stream",
          "text": [
            "('one', 'two', 'three', 'four')\n"
          ],
          "name": "stdout"
        }
      ]
    },
    {
      "cell_type": "code",
      "metadata": {
        "id": "ipqL800J0LOs",
        "colab_type": "code",
        "colab": {},
        "outputId": "9bcb6d73-206c-4f16-d4b8-07ba41b4e7b8"
      },
      "source": [
        "list(number_tuple)"
      ],
      "execution_count": null,
      "outputs": [
        {
          "output_type": "execute_result",
          "data": {
            "text/plain": [
              "['one', 'two', 'three', 'four']"
            ]
          },
          "metadata": {
            "tags": []
          },
          "execution_count": 50
        }
      ]
    },
    {
      "cell_type": "code",
      "metadata": {
        "id": "vf1sDN8t0LOu",
        "colab_type": "code",
        "colab": {},
        "outputId": "89dc5413-b6e5-425f-df6d-700e2dea32f2"
      },
      "source": [
        "number[1]"
      ],
      "execution_count": null,
      "outputs": [
        {
          "output_type": "execute_result",
          "data": {
            "text/plain": [
              "'two'"
            ]
          },
          "metadata": {
            "tags": []
          },
          "execution_count": 53
        }
      ]
    },
    {
      "cell_type": "code",
      "metadata": {
        "id": "epiN8WFo0LOw",
        "colab_type": "code",
        "colab": {},
        "outputId": "80a1bb54-e917-42be-a354-9c16742fd1e7"
      },
      "source": [
        "number[2:4]"
      ],
      "execution_count": null,
      "outputs": [
        {
          "output_type": "execute_result",
          "data": {
            "text/plain": [
              "['three', 'four']"
            ]
          },
          "metadata": {
            "tags": []
          },
          "execution_count": 54
        }
      ]
    },
    {
      "cell_type": "code",
      "metadata": {
        "id": "JWluav_y0LOz",
        "colab_type": "code",
        "colab": {},
        "outputId": "3c8dab41-a742-4caa-8221-c1516570ea03"
      },
      "source": [
        "number[::2]  ##두칸씩 추출"
      ],
      "execution_count": null,
      "outputs": [
        {
          "output_type": "execute_result",
          "data": {
            "text/plain": [
              "['one', 'three']"
            ]
          },
          "metadata": {
            "tags": []
          },
          "execution_count": 55
        }
      ]
    },
    {
      "cell_type": "code",
      "metadata": {
        "id": "9dWZ4M4u0LO1",
        "colab_type": "code",
        "colab": {},
        "outputId": "39bce690-8d68-49cb-8ebc-e080b6e829e8"
      },
      "source": [
        "number[0] = 'first'\n",
        "print(number)"
      ],
      "execution_count": null,
      "outputs": [
        {
          "output_type": "stream",
          "text": [
            "['first', 'two', 'three', 'four']\n"
          ],
          "name": "stdout"
        }
      ]
    },
    {
      "cell_type": "code",
      "metadata": {
        "id": "2ghwMtlK0LO4",
        "colab_type": "code",
        "colab": {},
        "outputId": "461688a5-d64e-4a32-caa5-5934f688d672"
      },
      "source": [
        "number[3] = '4'\n",
        "print(number)"
      ],
      "execution_count": null,
      "outputs": [
        {
          "output_type": "stream",
          "text": [
            "['first', 'two', 'three', '4']\n"
          ],
          "name": "stdout"
        }
      ]
    },
    {
      "cell_type": "code",
      "metadata": {
        "id": "78HHGk8N0LO6",
        "colab_type": "code",
        "colab": {},
        "outputId": "2ca275b6-b1f3-48db-aa2d-c9d994f8913a"
      },
      "source": [
        "number[0] = 'one'\n",
        "number[3] = 'four'\n",
        "number.append('five')\n",
        "print(number)"
      ],
      "execution_count": null,
      "outputs": [
        {
          "output_type": "stream",
          "text": [
            "['one', 'two', 'three', 'four', 'five']\n"
          ],
          "name": "stdout"
        }
      ]
    },
    {
      "cell_type": "code",
      "metadata": {
        "id": "l9QbDk6L0LO8",
        "colab_type": "code",
        "colab": {},
        "outputId": "86453ad6-e58a-4c5e-950a-cc487144ac3f"
      },
      "source": [
        "number.append('six')\n",
        "print(number)"
      ],
      "execution_count": null,
      "outputs": [
        {
          "output_type": "stream",
          "text": [
            "['one', 'two', 'three', 'four', 'five', 'six', 'six']\n"
          ],
          "name": "stdout"
        }
      ]
    },
    {
      "cell_type": "code",
      "metadata": {
        "id": "iS5G9bNL0LO-",
        "colab_type": "code",
        "colab": {},
        "outputId": "bdab5f87-e915-4356-bc20-d2c2b2301a5e"
      },
      "source": [
        "del number[5]\n",
        "print(number)"
      ],
      "execution_count": null,
      "outputs": [
        {
          "output_type": "stream",
          "text": [
            "['one', 'two', 'three', 'four', 'five', 'six']\n"
          ],
          "name": "stdout"
        }
      ]
    },
    {
      "cell_type": "code",
      "metadata": {
        "id": "i4GFxUe20LPA",
        "colab_type": "code",
        "colab": {},
        "outputId": "5d88dce4-ab48-4388-c341-61834095affa"
      },
      "source": [
        "number.remove('six')\n",
        "print(number)"
      ],
      "execution_count": null,
      "outputs": [
        {
          "output_type": "stream",
          "text": [
            "['one', 'two', 'three', 'four', 'five']\n"
          ],
          "name": "stdout"
        }
      ]
    },
    {
      "cell_type": "code",
      "metadata": {
        "id": "LpiMtoNx0LPB",
        "colab_type": "code",
        "colab": {},
        "outputId": "0da73916-ee6e-49dd-f904-35da0579ff52"
      },
      "source": [
        "number1 = ['one', 'two', 'three', 'four']\n",
        "number2 = ['five', 'six', 'seven', 'eight']\n",
        "number1.extend(number2)\n",
        "print(number1)"
      ],
      "execution_count": null,
      "outputs": [
        {
          "output_type": "stream",
          "text": [
            "['one', 'two', 'three', 'four', 'five', 'six', 'seven', 'eight']\n"
          ],
          "name": "stdout"
        }
      ]
    },
    {
      "cell_type": "code",
      "metadata": {
        "id": "64Ew3SOi0LPD",
        "colab_type": "code",
        "colab": {},
        "outputId": "6a7c005f-9f13-4c1c-94cd-ccd6dc4381cf"
      },
      "source": [
        "number.sort()\n",
        "print(number)"
      ],
      "execution_count": null,
      "outputs": [
        {
          "output_type": "stream",
          "text": [
            "['five', 'four', 'one', 'three', 'two']\n"
          ],
          "name": "stdout"
        }
      ]
    },
    {
      "cell_type": "code",
      "metadata": {
        "id": "oUdc2Zhy0LPF",
        "colab_type": "code",
        "colab": {},
        "outputId": "ff7c7773-fc50-4c9d-f854-59a7043b2675"
      },
      "source": [
        "number=[1,2,3,4]\n",
        "number.sort(reverse=False)   ###True, False는 꼭 작성해야함\n",
        "print(number)"
      ],
      "execution_count": null,
      "outputs": [
        {
          "output_type": "stream",
          "text": [
            "[1, 2, 3, 4]\n"
          ],
          "name": "stdout"
        }
      ]
    },
    {
      "cell_type": "code",
      "metadata": {
        "id": "QZdO53LO0LPJ",
        "colab_type": "code",
        "colab": {},
        "outputId": "bd302801-ab03-4755-ae17-6f3ee1506fdd"
      },
      "source": [
        "number=(1,2,3,4)\n",
        "print(number)\n",
        "type(number)"
      ],
      "execution_count": null,
      "outputs": [
        {
          "output_type": "stream",
          "text": [
            "(1, 2, 3, 4)\n"
          ],
          "name": "stdout"
        },
        {
          "output_type": "execute_result",
          "data": {
            "text/plain": [
              "tuple"
            ]
          },
          "metadata": {
            "tags": []
          },
          "execution_count": 72
        }
      ]
    },
    {
      "cell_type": "code",
      "metadata": {
        "id": "zrMWSefE0LPK",
        "colab_type": "code",
        "colab": {},
        "outputId": "41377766-6312-4dc5-f46d-cd93d2200bd3"
      },
      "source": [
        "number[1]=4"
      ],
      "execution_count": null,
      "outputs": [
        {
          "output_type": "error",
          "ename": "TypeError",
          "evalue": "'tuple' object does not support item assignment",
          "traceback": [
            "\u001b[1;31m---------------------------------------------------------------------------\u001b[0m",
            "\u001b[1;31mTypeError\u001b[0m                                 Traceback (most recent call last)",
            "\u001b[1;32m<ipython-input-73-43f54f9768bb>\u001b[0m in \u001b[0;36m<module>\u001b[1;34m\u001b[0m\n\u001b[1;32m----> 1\u001b[1;33m \u001b[0mnumber\u001b[0m\u001b[1;33m[\u001b[0m\u001b[1;36m1\u001b[0m\u001b[1;33m]\u001b[0m\u001b[1;33m=\u001b[0m\u001b[1;36m4\u001b[0m\u001b[1;33m\u001b[0m\u001b[1;33m\u001b[0m\u001b[0m\n\u001b[0m",
            "\u001b[1;31mTypeError\u001b[0m: 'tuple' object does not support item assignment"
          ]
        }
      ]
    },
    {
      "cell_type": "code",
      "metadata": {
        "id": "-6Gapbj80LPM",
        "colab_type": "code",
        "colab": {},
        "outputId": "f9f5368e-9589-47a4-c3e2-af2f9570e353"
      },
      "source": [
        "fruit_price = [['apple',3500],['peer',2500],['cherry',5000]]\n",
        "fruit_price=dict(fruit_price)\n",
        "print(fruit_price)"
      ],
      "execution_count": null,
      "outputs": [
        {
          "output_type": "stream",
          "text": [
            "{'apple': 3500, 'peer': 2500, 'cherry': 5000}\n"
          ],
          "name": "stdout"
        }
      ]
    },
    {
      "cell_type": "code",
      "metadata": {
        "id": "JuNIbvde0LPP",
        "colab_type": "code",
        "colab": {},
        "outputId": "3229ef81-1dfc-46a4-dc72-e7ea081d07ea"
      },
      "source": [
        "fruit_price.keys()"
      ],
      "execution_count": null,
      "outputs": [
        {
          "output_type": "execute_result",
          "data": {
            "text/plain": [
              "dict_keys(['apple', 'peer', 'cherry'])"
            ]
          },
          "metadata": {
            "tags": []
          },
          "execution_count": 75
        }
      ]
    },
    {
      "cell_type": "code",
      "metadata": {
        "id": "SMTjqqaZ0LPR",
        "colab_type": "code",
        "colab": {},
        "outputId": "eb19cb4b-5480-4c38-fec4-f77c3dd12d4e"
      },
      "source": [
        "fruit_price['cherry']"
      ],
      "execution_count": null,
      "outputs": [
        {
          "output_type": "execute_result",
          "data": {
            "text/plain": [
              "5000"
            ]
          },
          "metadata": {
            "tags": []
          },
          "execution_count": 76
        }
      ]
    },
    {
      "cell_type": "code",
      "metadata": {
        "id": "2M4EOt2l0LPU",
        "colab_type": "code",
        "colab": {}
      },
      "source": [
        "school_class = {1: ['mina','jane','mark'],\n",
        "                2 : ['peter','pay','parker'],\n",
        "                3 : ['pay','joy','conan'] }"
      ],
      "execution_count": null,
      "outputs": []
    },
    {
      "cell_type": "code",
      "metadata": {
        "id": "BKO8pDen0LPW",
        "colab_type": "code",
        "colab": {},
        "outputId": "df2210ee-ebe4-4990-dbcf-615cdc3112ff"
      },
      "source": [
        "school_class.keys()"
      ],
      "execution_count": null,
      "outputs": [
        {
          "output_type": "execute_result",
          "data": {
            "text/plain": [
              "dict_keys([1, 2, 3])"
            ]
          },
          "metadata": {
            "tags": []
          },
          "execution_count": 78
        }
      ]
    },
    {
      "cell_type": "code",
      "metadata": {
        "id": "Det_EiB-0LPY",
        "colab_type": "code",
        "colab": {},
        "outputId": "77fe065a-92a9-46b2-c8a7-8b0646ab8558"
      },
      "source": [
        "school_class.get(2)  ### key 2 값만 가져옴"
      ],
      "execution_count": null,
      "outputs": [
        {
          "output_type": "execute_result",
          "data": {
            "text/plain": [
              "['peter', 'pay', 'parker']"
            ]
          },
          "metadata": {
            "tags": []
          },
          "execution_count": 79
        }
      ]
    },
    {
      "cell_type": "code",
      "metadata": {
        "id": "xNpnkaHq0LPZ",
        "colab_type": "code",
        "colab": {},
        "outputId": "95fe28ce-d31b-4ed6-e7b4-31f636f5d626"
      },
      "source": [
        "school_class[2]   ### key 2 값만 가져옴"
      ],
      "execution_count": null,
      "outputs": [
        {
          "output_type": "execute_result",
          "data": {
            "text/plain": [
              "['peter', 'pay', 'parker']"
            ]
          },
          "metadata": {
            "tags": []
          },
          "execution_count": 80
        }
      ]
    },
    {
      "cell_type": "code",
      "metadata": {
        "id": "JgPS7LZB0LPb",
        "colab_type": "code",
        "colab": {},
        "outputId": "d33ea363-429f-4010-dea2-ce8ccb70c7be"
      },
      "source": [
        "school_class.values()   ### value값만 가져옴"
      ],
      "execution_count": null,
      "outputs": [
        {
          "output_type": "execute_result",
          "data": {
            "text/plain": [
              "dict_values([['mina', 'jane', 'mark'], ['peter', 'pay', 'parker'], ['pay', 'joy', 'conan']])"
            ]
          },
          "metadata": {
            "tags": []
          },
          "execution_count": 81
        }
      ]
    },
    {
      "cell_type": "code",
      "metadata": {
        "id": "-2e6BY_v0LPd",
        "colab_type": "code",
        "colab": {},
        "outputId": "afe3e069-292d-4222-ad59-2f9dcfbaf401"
      },
      "source": [
        "school_class.items()   ###전체를 다 가져옴"
      ],
      "execution_count": null,
      "outputs": [
        {
          "output_type": "execute_result",
          "data": {
            "text/plain": [
              "dict_items([(1, ['mina', 'jane', 'mark']), (2, ['peter', 'pay', 'parker']), (3, ['pay', 'joy', 'conan'])])"
            ]
          },
          "metadata": {
            "tags": []
          },
          "execution_count": 82
        }
      ]
    },
    {
      "cell_type": "code",
      "metadata": {
        "id": "B11dZwn10LPe",
        "colab_type": "code",
        "colab": {},
        "outputId": "66f3c852-2f56-45a0-bf8d-cdaaa5d1f051"
      },
      "source": [
        "others = {'banana':3200, 'grape':2000}\n",
        "fruit_price.update(others)     ### update는 추가\n",
        "print(fruit_price)"
      ],
      "execution_count": null,
      "outputs": [
        {
          "output_type": "stream",
          "text": [
            "{'apple': 3500, 'peer': 2500, 'cherry': 5000, 'banana': 3200, 'grape': 2000}\n"
          ],
          "name": "stdout"
        }
      ]
    },
    {
      "cell_type": "code",
      "metadata": {
        "id": "zIGjgDoy0LPf",
        "colab_type": "code",
        "colab": {},
        "outputId": "34e4511e-604f-4010-ecbb-cc25d8c2e620"
      },
      "source": [
        "other_class = {4: ['jessica', 'john', 'peter']}\n",
        "school_class.update(other_class)   ### update는 추가\n",
        "print(school_class)"
      ],
      "execution_count": null,
      "outputs": [
        {
          "output_type": "stream",
          "text": [
            "{1: ['mina', 'jane', 'mark'], 2: ['peter', 'pay', 'parker'], 3: ['pay', 'joy', 'conan'], 4: ['jessica', 'john', 'peter']}\n"
          ],
          "name": "stdout"
        }
      ]
    },
    {
      "cell_type": "code",
      "metadata": {
        "id": "jN6aodJo0LPh",
        "colab_type": "code",
        "colab": {}
      },
      "source": [
        "a=10 ; b=20 ; c=30"
      ],
      "execution_count": null,
      "outputs": []
    },
    {
      "cell_type": "code",
      "metadata": {
        "id": "LW52dtTq0LPi",
        "colab_type": "code",
        "colab": {},
        "outputId": "398f4555-a914-4c6e-df84-48efc0d1f449"
      },
      "source": [
        "a==b"
      ],
      "execution_count": null,
      "outputs": [
        {
          "output_type": "execute_result",
          "data": {
            "text/plain": [
              "False"
            ]
          },
          "metadata": {
            "tags": []
          },
          "execution_count": 88
        }
      ]
    },
    {
      "cell_type": "code",
      "metadata": {
        "id": "QPZogllp0LPj",
        "colab_type": "code",
        "colab": {},
        "outputId": "2c3c952e-b7ac-48d0-e0f4-c8a0ba406fa5"
      },
      "source": [
        "a!=b"
      ],
      "execution_count": null,
      "outputs": [
        {
          "output_type": "execute_result",
          "data": {
            "text/plain": [
              "True"
            ]
          },
          "metadata": {
            "tags": []
          },
          "execution_count": 89
        }
      ]
    },
    {
      "cell_type": "code",
      "metadata": {
        "id": "S9x5o3Un0LPl",
        "colab_type": "code",
        "colab": {},
        "outputId": "b5a94f0a-4255-40f1-8a10-ba6076c6ede0"
      },
      "source": [
        "a<b"
      ],
      "execution_count": null,
      "outputs": [
        {
          "output_type": "execute_result",
          "data": {
            "text/plain": [
              "True"
            ]
          },
          "metadata": {
            "tags": []
          },
          "execution_count": 90
        }
      ]
    },
    {
      "cell_type": "code",
      "metadata": {
        "id": "epW6DUTb0LPn",
        "colab_type": "code",
        "colab": {},
        "outputId": "8b3a806b-fd5d-454a-cb19-8c09cdae3f94"
      },
      "source": [
        "a>b"
      ],
      "execution_count": null,
      "outputs": [
        {
          "output_type": "execute_result",
          "data": {
            "text/plain": [
              "False"
            ]
          },
          "metadata": {
            "tags": []
          },
          "execution_count": 91
        }
      ]
    },
    {
      "cell_type": "code",
      "metadata": {
        "id": "5m7sZu1a0LPq",
        "colab_type": "code",
        "colab": {},
        "outputId": "feaea4fe-4345-4ded-f2af-aea72e8d2fc9"
      },
      "source": [
        "a in (10, 20, 30)"
      ],
      "execution_count": null,
      "outputs": [
        {
          "output_type": "execute_result",
          "data": {
            "text/plain": [
              "True"
            ]
          },
          "metadata": {
            "tags": []
          },
          "execution_count": 92
        }
      ]
    },
    {
      "cell_type": "code",
      "metadata": {
        "id": "VCIA2Yq_0LPs",
        "colab_type": "code",
        "colab": {},
        "outputId": "b4aeff77-26f8-41b1-bd22-d4c28bfdbb3b"
      },
      "source": [
        "(a==b and a==c)"
      ],
      "execution_count": null,
      "outputs": [
        {
          "output_type": "execute_result",
          "data": {
            "text/plain": [
              "False"
            ]
          },
          "metadata": {
            "tags": []
          },
          "execution_count": 93
        }
      ]
    },
    {
      "cell_type": "code",
      "metadata": {
        "id": "Ouk9C5cU0LPt",
        "colab_type": "code",
        "colab": {},
        "outputId": "7db89db1-facc-4e53-bc94-3009eea7f865"
      },
      "source": [
        "(a==b) & (a==c)  ###and와 &는 조금 다르다. &는 앞 가로의 값이 거짓이면 뒤 가로값을 계산하지 않고 결론낸다."
      ],
      "execution_count": null,
      "outputs": [
        {
          "output_type": "execute_result",
          "data": {
            "text/plain": [
              "False"
            ]
          },
          "metadata": {
            "tags": []
          },
          "execution_count": 94
        }
      ]
    },
    {
      "cell_type": "code",
      "metadata": {
        "id": "OOO8aHaK0LPv",
        "colab_type": "code",
        "colab": {},
        "outputId": "424170fb-6412-4812-d891-25406a45b8db"
      },
      "source": [
        "(a==b) or (a==c)"
      ],
      "execution_count": null,
      "outputs": [
        {
          "output_type": "execute_result",
          "data": {
            "text/plain": [
              "False"
            ]
          },
          "metadata": {
            "tags": []
          },
          "execution_count": 95
        }
      ]
    },
    {
      "cell_type": "code",
      "metadata": {
        "id": "VNUJmkjV0LPw",
        "colab_type": "code",
        "colab": {},
        "outputId": "a7794dc8-d1e7-412e-c85f-b36830b52731"
      },
      "source": [
        "not(a==b)"
      ],
      "execution_count": null,
      "outputs": [
        {
          "output_type": "execute_result",
          "data": {
            "text/plain": [
              "True"
            ]
          },
          "metadata": {
            "tags": []
          },
          "execution_count": 96
        }
      ]
    },
    {
      "cell_type": "code",
      "metadata": {
        "id": "DTOtOjol0LPx",
        "colab_type": "code",
        "colab": {},
        "outputId": "186f312e-2b1a-4b06-da14-b4fe254852d6"
      },
      "source": [
        "not(a!=b)"
      ],
      "execution_count": null,
      "outputs": [
        {
          "output_type": "execute_result",
          "data": {
            "text/plain": [
              "False"
            ]
          },
          "metadata": {
            "tags": []
          },
          "execution_count": 97
        }
      ]
    },
    {
      "cell_type": "code",
      "metadata": {
        "id": "tNFaszST0LP0",
        "colab_type": "code",
        "colab": {},
        "outputId": "05d6c270-b22b-49a8-e128-afca7afda643"
      },
      "source": [
        "python = True\n",
        "if(python):\n",
        "    print('조건문이 참입니다.')"
      ],
      "execution_count": null,
      "outputs": [
        {
          "output_type": "stream",
          "text": [
            "조건문이 참입니다.\n"
          ],
          "name": "stdout"
        }
      ]
    },
    {
      "cell_type": "code",
      "metadata": {
        "id": "AOferOfo0LP1",
        "colab_type": "code",
        "colab": {},
        "outputId": "2a245656-ec9a-4ac2-f8dd-58f8f90e263b"
      },
      "source": [
        "python = False      ### 값이 0이면 False로 인식\n",
        "if(python):\n",
        "    print('조건문이 참입니다.')\n",
        "else:\n",
        "    print('조건문이 참이 아닙니다.')"
      ],
      "execution_count": null,
      "outputs": [
        {
          "output_type": "stream",
          "text": [
            "조건문이 참이 아닙니다.\n"
          ],
          "name": "stdout"
        }
      ]
    },
    {
      "cell_type": "code",
      "metadata": {
        "id": "-Ab6DHb80LP3",
        "colab_type": "code",
        "colab": {},
        "outputId": "80bcf56d-7085-4916-d666-5ef113b4472f"
      },
      "source": [
        "python = False\n",
        "pycharm = True\n",
        "if(python) : \n",
        "    print(\"첫번째 조건문이 참입니다.\") \n",
        "elif (pycharm) : \n",
        "    print(\"첫번째 조건문은 참이 아니고 두번째 조건문은 참입니다.\")\n",
        "else : \n",
        "    print(\"조건문이 참이 아닙니다.\")"
      ],
      "execution_count": null,
      "outputs": [
        {
          "output_type": "stream",
          "text": [
            "첫번째 조건문은 참이 아니고 두번째 조건문은 참입니다.\n"
          ],
          "name": "stdout"
        }
      ]
    },
    {
      "cell_type": "code",
      "metadata": {
        "id": "iXnJnM5_0LP4",
        "colab_type": "code",
        "colab": {},
        "outputId": "5df529ac-2be0-4e3f-b62b-509c6336106a"
      },
      "source": [
        "python = False\n",
        "pycharm = False\n",
        "if(python) : \n",
        "    print(\"첫번째 조건문이 참입니다.\") \n",
        "elif (pycharm) : \n",
        "    print(\"첫번째 조건문은 참이 아니고 두번째 조건문은 참입니다.\")\n",
        "else : \n",
        "    print(\"조건문이 참이 아닙니다.\")"
      ],
      "execution_count": null,
      "outputs": [
        {
          "output_type": "stream",
          "text": [
            "조건문이 참이 아닙니다.\n"
          ],
          "name": "stdout"
        }
      ]
    },
    {
      "cell_type": "code",
      "metadata": {
        "id": "Mbd4lYjw0LP6",
        "colab_type": "code",
        "colab": {},
        "outputId": "703af8e7-5346-4fe0-e880-56cf8e2f9421"
      },
      "source": [
        "input('숫자를 입력하세요?')   #변수에 데이터를 받아 처리  input()함수"
      ],
      "execution_count": null,
      "outputs": [
        {
          "output_type": "stream",
          "text": [
            "숫자를 입력하세요?123\n"
          ],
          "name": "stdout"
        },
        {
          "output_type": "execute_result",
          "data": {
            "text/plain": [
              "'123'"
            ]
          },
          "metadata": {
            "tags": []
          },
          "execution_count": 103
        }
      ]
    },
    {
      "cell_type": "code",
      "metadata": {
        "id": "jwz9LYgZ0LP7",
        "colab_type": "code",
        "colab": {},
        "outputId": "aca8c996-bfec-4b9c-d0ed-98d8251c75d1"
      },
      "source": [
        "int(input('숫자를 입력하세요?'))  #문자열을 숫자열로 바꾸려면 앞에 int"
      ],
      "execution_count": null,
      "outputs": [
        {
          "output_type": "stream",
          "text": [
            "숫자를 입력하세요?123\n"
          ],
          "name": "stdout"
        },
        {
          "output_type": "execute_result",
          "data": {
            "text/plain": [
              "123"
            ]
          },
          "metadata": {
            "tags": []
          },
          "execution_count": 104
        }
      ]
    },
    {
      "cell_type": "code",
      "metadata": {
        "scrolled": true,
        "id": "Qn6l3ZH60LP8",
        "colab_type": "code",
        "colab": {},
        "outputId": "9e50b6d4-c7c5-4cda-a01d-6ad59383241f"
      },
      "source": [
        "x = int(input('숫자를 입력하세요?'))\n",
        "if(x%2==0):\n",
        "    print('짝수@@')\n",
        "else:\n",
        "    print('홀수!!')      ###내가 해냄!!!!"
      ],
      "execution_count": null,
      "outputs": [
        {
          "output_type": "stream",
          "text": [
            "숫자를 입력하세요?123\n",
            "홀수!!\n"
          ],
          "name": "stdout"
        }
      ]
    },
    {
      "cell_type": "code",
      "metadata": {
        "id": "b9ySqys10LP_",
        "colab_type": "code",
        "colab": {},
        "outputId": "5b784e31-7f51-4864-99cc-6f3a3863a352"
      },
      "source": [
        "x = int(input('점수를 입력하십시오.'))\n",
        "if(x>80):\n",
        "    print('등급= A')\n",
        "elif(70<x<=80):\n",
        "    print('등급= B')\n",
        "elif(60<x<=70):\n",
        "    print('등급= c')\n",
        "else:\n",
        "    print('등급= D')           ##내가 해냄!!!\n",
        "print('점수=', x)"
      ],
      "execution_count": null,
      "outputs": [
        {
          "output_type": "stream",
          "text": [
            "점수를 입력하십시오.80\n",
            "등급= B\n",
            "점수= 80\n"
          ],
          "name": "stdout"
        }
      ]
    },
    {
      "cell_type": "code",
      "metadata": {
        "id": "_kNfGSza0LQA",
        "colab_type": "code",
        "colab": {},
        "outputId": "0e88344b-4651-4baf-bf72-d8ff10edfe7c"
      },
      "source": [
        "### 선생님 답\n",
        "score = int(input('점수를 입력하세요.'))\n",
        "if score > 80:\n",
        "    degree = 'A'\n",
        "elif (score> 70 and score <=80):\n",
        "    degree = 'B'\n",
        "elif (score< 60 and score <=70):\n",
        "    degree = 'C'\n",
        "else:\n",
        "    degree = 'D'\n",
        "print('점수는=',score, '등급은=',degree)"
      ],
      "execution_count": null,
      "outputs": [
        {
          "output_type": "stream",
          "text": [
            "점수를 입력하세요.80\n",
            "점수는= 80 등급은= B\n"
          ],
          "name": "stdout"
        }
      ]
    },
    {
      "cell_type": "code",
      "metadata": {
        "id": "IWvLew6Q0LQC",
        "colab_type": "code",
        "colab": {},
        "outputId": "7e20cf7e-9670-49bc-aefb-1d3ee0ac8417"
      },
      "source": [
        "for i in range(1,11):\n",
        "    print(i)"
      ],
      "execution_count": null,
      "outputs": [
        {
          "output_type": "stream",
          "text": [
            "1\n",
            "2\n",
            "3\n",
            "4\n",
            "5\n",
            "6\n",
            "7\n",
            "8\n",
            "9\n",
            "10\n"
          ],
          "name": "stdout"
        }
      ]
    },
    {
      "cell_type": "code",
      "metadata": {
        "id": "G-kw77wZ0LQD",
        "colab_type": "code",
        "colab": {},
        "outputId": "9febf03f-ffbc-4763-ce9e-57ba20a28b9e"
      },
      "source": [
        "list(range(1,30,3))     ### 3씩 차이나게"
      ],
      "execution_count": null,
      "outputs": [
        {
          "output_type": "execute_result",
          "data": {
            "text/plain": [
              "[1, 4, 7, 10, 13, 16, 19, 22, 25, 28]"
            ]
          },
          "metadata": {
            "tags": []
          },
          "execution_count": 16
        }
      ]
    },
    {
      "cell_type": "code",
      "metadata": {
        "id": "yUhbC8G20LQE",
        "colab_type": "code",
        "colab": {},
        "outputId": "0f8e4eac-7ae8-4cbc-b9a7-c8f5c7373d87"
      },
      "source": [
        "fruit = ['apple', 'pear', 'cherry']\n",
        "type(fruit)"
      ],
      "execution_count": null,
      "outputs": [
        {
          "output_type": "execute_result",
          "data": {
            "text/plain": [
              "list"
            ]
          },
          "metadata": {
            "tags": []
          },
          "execution_count": 21
        }
      ]
    },
    {
      "cell_type": "code",
      "metadata": {
        "id": "yVYGFPSC0LQG",
        "colab_type": "code",
        "colab": {},
        "outputId": "f48b6c5d-33ff-4baa-dc79-28f47599f11e"
      },
      "source": [
        "for i in fruit:\n",
        "    print('i=',i)"
      ],
      "execution_count": null,
      "outputs": [
        {
          "output_type": "stream",
          "text": [
            "i= apple\n",
            "i= pear\n",
            "i= cherry\n"
          ],
          "name": "stdout"
        }
      ]
    },
    {
      "cell_type": "code",
      "metadata": {
        "id": "vDYHd37a0LQH",
        "colab_type": "code",
        "colab": {},
        "outputId": "c91b4b9b-79da-4fc1-8f6d-57686db569d8"
      },
      "source": [
        "fruits = ['apple', 'pear', 'cherry']\n",
        "for fruit in fruits:\n",
        "    print(fruit)"
      ],
      "execution_count": null,
      "outputs": [
        {
          "output_type": "stream",
          "text": [
            "apple\n",
            "pear\n",
            "cherry\n"
          ],
          "name": "stdout"
        }
      ]
    },
    {
      "cell_type": "code",
      "metadata": {
        "id": "pw0HJ8g30LQI",
        "colab_type": "code",
        "colab": {},
        "outputId": "035f3d17-ba53-46fa-aa2f-edd3eab4083c"
      },
      "source": [
        "fruit_price = {'apple':3500, 'pear':2500, 'cherry': 5000}\n",
        "for i in fruit_price.keys():\n",
        "    print(i)"
      ],
      "execution_count": null,
      "outputs": [
        {
          "output_type": "stream",
          "text": [
            "apple\n",
            "pear\n",
            "cherry\n"
          ],
          "name": "stdout"
        }
      ]
    },
    {
      "cell_type": "code",
      "metadata": {
        "id": "vqWbq5Hv0LQK",
        "colab_type": "code",
        "colab": {},
        "outputId": "740037d9-936e-44d1-c7f5-6dc9081baaf4"
      },
      "source": [
        "for i in fruit_price.values():\n",
        "    print(i)"
      ],
      "execution_count": null,
      "outputs": [
        {
          "output_type": "stream",
          "text": [
            "3500\n",
            "2500\n",
            "5000\n"
          ],
          "name": "stdout"
        }
      ]
    },
    {
      "cell_type": "code",
      "metadata": {
        "id": "aBAu3_Vz0LQL",
        "colab_type": "code",
        "colab": {},
        "outputId": "6499fe0a-09f7-4e75-be57-f2015a0c4427"
      },
      "source": [
        "for i in fruit_price.items():\n",
        "    print(i)"
      ],
      "execution_count": null,
      "outputs": [
        {
          "output_type": "stream",
          "text": [
            "('apple', 3500)\n",
            "('pear', 2500)\n",
            "('cherry', 5000)\n"
          ],
          "name": "stdout"
        }
      ]
    },
    {
      "cell_type": "code",
      "metadata": {
        "id": "3ejhfHeC0LQM",
        "colab_type": "code",
        "colab": {},
        "outputId": "311f11c0-3094-4c68-e489-6d22ac6f63eb"
      },
      "source": [
        "fruit_price.items()          ###list 구조라 for문 가능"
      ],
      "execution_count": null,
      "outputs": [
        {
          "output_type": "execute_result",
          "data": {
            "text/plain": [
              "dict_items([('apple', 3500), ('pear', 2500), ('cherry', 5000)])"
            ]
          },
          "metadata": {
            "tags": []
          },
          "execution_count": 31
        }
      ]
    },
    {
      "cell_type": "code",
      "metadata": {
        "id": "m4lD-mHT0LQO",
        "colab_type": "code",
        "colab": {},
        "outputId": "27231a6c-8385-4cbc-cda3-6829140ef7a5"
      },
      "source": [
        "fruit_price = {'apple':3500, 'pear':2500, 'cherry': 5000}\n",
        "for i in fruit_price.items():\n",
        "    print('1=',i[0], '2=',i[1])"
      ],
      "execution_count": null,
      "outputs": [
        {
          "output_type": "stream",
          "text": [
            "1= apple 2= 3500\n",
            "1= pear 2= 2500\n",
            "1= cherry 2= 5000\n"
          ],
          "name": "stdout"
        }
      ]
    },
    {
      "cell_type": "code",
      "metadata": {
        "id": "YFaQL88X0LQP",
        "colab_type": "code",
        "colab": {},
        "outputId": "769fc235-6aa2-4638-f343-f67a4ce8210b"
      },
      "source": [
        "fruit_price={'apple':['a1','a2'], 'pear':['b1','b2'], 'cherry':['c1', 'c2']}\n",
        "for i in fruit_price.items():\n",
        "    print('item=', i)\n",
        "    print('1=', i[0], '2=', i[1])\n",
        "    print('11=', i[0], '2=', i[1][0])\n",
        "    print('11=', i[0], '2=', i[1][1])\n",
        "    print('*'*30)"
      ],
      "execution_count": null,
      "outputs": [
        {
          "output_type": "stream",
          "text": [
            "item= ('apple', ['a1', 'a2'])\n",
            "1= apple 2= ['a1', 'a2']\n",
            "11= apple 2= a1\n",
            "11= apple 2= a2\n",
            "******************************\n",
            "item= ('pear', ['b1', 'b2'])\n",
            "1= pear 2= ['b1', 'b2']\n",
            "11= pear 2= b1\n",
            "11= pear 2= b2\n",
            "******************************\n",
            "item= ('cherry', ['c1', 'c2'])\n",
            "1= cherry 2= ['c1', 'c2']\n",
            "11= cherry 2= c1\n",
            "11= cherry 2= c2\n",
            "******************************\n"
          ],
          "name": "stdout"
        }
      ]
    },
    {
      "cell_type": "code",
      "metadata": {
        "id": "2W2YB7Vm0LQQ",
        "colab_type": "code",
        "colab": {},
        "outputId": "e2090985-57ab-4f98-fefe-7ecdbd35927b"
      },
      "source": [
        "high_price=[]         ###어렵다..\n",
        "low_price=[]\n",
        "fruit_price = {'apple':3500, 'pear':2500, 'cherry': 5000}\n",
        "for i in fruit_price.items():\n",
        "    if i[1]>3000:\n",
        "        high_price.append(i[0])\n",
        "    else:\n",
        "        low_price.append(i[0])\n",
        "print('3000원이상인 과일=', high_price)\n",
        "print('3000원이하인 과일=', low_price)"
      ],
      "execution_count": null,
      "outputs": [
        {
          "output_type": "stream",
          "text": [
            "3000원이상인 과일= ['apple', 'cherry']\n",
            "3000원이하인 과일= ['pear']\n"
          ],
          "name": "stdout"
        }
      ]
    },
    {
      "cell_type": "code",
      "metadata": {
        "id": "NfXc5ati0LQR",
        "colab_type": "code",
        "colab": {},
        "outputId": "767968f2-aed4-4ac5-c934-05e1ae56399f"
      },
      "source": [
        "high_price=[]         ###어렵다..2\n",
        "low_price=[]\n",
        "fruit_price = {'apple':3500, 'pear':2500, 'cherry': 5000}\n",
        "for i, item in enumerate(fruit_price.items()):\n",
        "    print('i= ', i, 'item= ', item)\n",
        "    print('item[0]=', item[0], 'item[1]=', item[1])\n",
        "    if item[1]> 3000:\n",
        "        high_price.append(item[0])\n",
        "    else:\n",
        "        low_price.append(item[0])\n",
        "    print('*'*30)\n",
        "    \n",
        "print(high_price)\n",
        "print(low_price)"
      ],
      "execution_count": null,
      "outputs": [
        {
          "output_type": "stream",
          "text": [
            "i=  0 item=  ('apple', 3500)\n",
            "item[0]= apple item[1]= 3500\n",
            "******************************\n",
            "i=  1 item=  ('pear', 2500)\n",
            "item[0]= pear item[1]= 2500\n",
            "******************************\n",
            "i=  2 item=  ('cherry', 5000)\n",
            "item[0]= cherry item[1]= 5000\n",
            "******************************\n",
            "['apple', 'cherry']\n",
            "['pear']\n"
          ],
          "name": "stdout"
        }
      ]
    },
    {
      "cell_type": "code",
      "metadata": {
        "id": "UzPmQ2eE0LQV",
        "colab_type": "code",
        "colab": {},
        "outputId": "9cb6add3-cae1-413e-f81c-9c15037638ec"
      },
      "source": [
        "names = ['철수', '영희', '영수']\n",
        "for i, name in enumerate(names):\n",
        "  print('{}번: {}'.format(i + 1, name))"
      ],
      "execution_count": null,
      "outputs": [
        {
          "output_type": "stream",
          "text": [
            "1번: 철수\n",
            "2번: 영희\n",
            "3번: 영수\n"
          ],
          "name": "stdout"
        }
      ]
    },
    {
      "cell_type": "code",
      "metadata": {
        "id": "P40WZ99J0LQW",
        "colab_type": "code",
        "colab": {},
        "outputId": "4fb2b01b-3a38-4460-ba0d-b28cce467bfb"
      },
      "source": [
        "score = [50, 85, 97, 30, 88]   ## 점수와 등급을 출력하시오\n",
        "### 출력-> '점수=', ??, '등급=' ,??)\n",
        "for i in score:\n",
        "    print('score=', i)\n",
        "    if(i>80):\n",
        "        print('A')\n",
        "    elif(70<i<=80):\n",
        "        print('B')\n",
        "    elif(60<i<=70):\n",
        "        print('c')\n",
        "    else:\n",
        "        print('D')\n",
        "    print('*'*30)"
      ],
      "execution_count": null,
      "outputs": [
        {
          "output_type": "stream",
          "text": [
            "score= 50\n",
            "D\n",
            "******************************\n",
            "score= 85\n",
            "A\n",
            "******************************\n",
            "score= 97\n",
            "A\n",
            "******************************\n",
            "score= 30\n",
            "D\n",
            "******************************\n",
            "score= 88\n",
            "A\n",
            "******************************\n"
          ],
          "name": "stdout"
        }
      ]
    },
    {
      "cell_type": "code",
      "metadata": {
        "id": "fxk3xQuI0LQY",
        "colab_type": "code",
        "colab": {}
      },
      "source": [
        "fruit = open('C:/jms/fruit.txt','wt')\n",
        "### fruit = open('C:/\\\\jms\\\\/fruit.txt','wt') 와도 같다\n",
        "fruit_price = {'apple':3500, 'pear':2500, 'cherry': 5000}\n",
        "for item in fruit_price.items():\n",
        "    print(item,file=fruit)\n",
        "fruit.close()"
      ],
      "execution_count": null,
      "outputs": []
    },
    {
      "cell_type": "code",
      "metadata": {
        "id": "2hOI3ZOU0LQZ",
        "colab_type": "code",
        "colab": {}
      },
      "source": [
        "fruit = open('C:/jms/fruit2.txt','wt')\n",
        "fruit.write('apple 3500\\n')     ###write 함수,  n은 엔터키 의미\n",
        "fruit.write('peer 2500\\n')\n",
        "fruit.write('cherr 5000\\n')\n",
        "fruit.close()"
      ],
      "execution_count": null,
      "outputs": []
    },
    {
      "cell_type": "code",
      "metadata": {
        "id": "lG47cFjh0LQa",
        "colab_type": "code",
        "colab": {}
      },
      "source": [
        "fruit = open('C:/jms/fruit2a.txt','wt')\n",
        "fruit.write('apple 3500')\n",
        "fruit.write('peer 2500')\n",
        "fruit.write('cherr 5000')\n",
        "fruit.close()       ### with 문을 쓰면 close없어도 됨."
      ],
      "execution_count": null,
      "outputs": []
    },
    {
      "cell_type": "code",
      "metadata": {
        "id": "IMh_JG9Z0LQb",
        "colab_type": "code",
        "colab": {}
      },
      "source": [
        "import csv\n",
        "with open('C:/jms/fruit.csv','w',newline='') as fruit:\n",
        "    writer = csv.writer(fruit,delimiter=',') \n",
        "    writer.writerow(['apple']) \n",
        "    writer.writerow(['peer']) \n",
        "    writer.writerow(['cherry']) \n",
        "    writer.writerow(['banana']) \n",
        "    writer.writerow(['peach'])    ### with 문을 쓰면 close없어도 됨."
      ],
      "execution_count": null,
      "outputs": []
    },
    {
      "cell_type": "code",
      "metadata": {
        "id": "bNM3V7rc0LQc",
        "colab_type": "code",
        "colab": {},
        "outputId": "503720c2-b221-48e5-d63c-4c6095e56535"
      },
      "source": [
        "fruit_path = open('c:/jms/fruit2.txt','rt')\n",
        "fruit_path\n",
        "\n",
        "fruit = fruit_path.readlines()\n",
        "print(fruit)"
      ],
      "execution_count": null,
      "outputs": [
        {
          "output_type": "stream",
          "text": [
            "['apple 3500\\n', 'peer 2500\\n', 'cherr 5000\\n']\n"
          ],
          "name": "stdout"
        }
      ]
    },
    {
      "cell_type": "code",
      "metadata": {
        "id": "iCZeZB9o0LQd",
        "colab_type": "code",
        "colab": {},
        "outputId": "93bc97fa-2634-472f-e196-abb640488de9"
      },
      "source": [
        "fruit_path = open('c:/jms/fruit.txt','rt')\n",
        "fruit_path\n",
        "\n",
        "fruit = fruit_path.readlines()\n",
        "print(fruit)"
      ],
      "execution_count": null,
      "outputs": [
        {
          "output_type": "stream",
          "text": [
            "[\"('apple', 3500)\\n\", \"('pear', 2500)\\n\", \"('cherry', 5000)\\n\"]\n"
          ],
          "name": "stdout"
        }
      ]
    },
    {
      "cell_type": "code",
      "metadata": {
        "id": "xE40mOiS0LQe",
        "colab_type": "code",
        "colab": {},
        "outputId": "8561df68-222e-409a-efdd-36ad8d285971"
      },
      "source": [
        "fruit_path = open('c:/jms/fruit2a.txt','rt')\n",
        "fruit_path\n",
        "\n",
        "fruit = fruit_path.readlines()\n",
        "print(fruit)"
      ],
      "execution_count": null,
      "outputs": [
        {
          "output_type": "stream",
          "text": [
            "['apple 3500peer 2500cherr 5000']\n"
          ],
          "name": "stdout"
        }
      ]
    },
    {
      "cell_type": "code",
      "metadata": {
        "id": "QEBo5dTu0LQf",
        "colab_type": "code",
        "colab": {},
        "outputId": "e300c236-963d-4c13-e534-a7be627ac4c4"
      },
      "source": [
        "import csv\n",
        "\n",
        "f = open('c:/jms/fruit.csv','rt')\n",
        "csvRead = csv.reader(f)\n",
        "csvRead"
      ],
      "execution_count": null,
      "outputs": [
        {
          "output_type": "execute_result",
          "data": {
            "text/plain": [
              "<_csv.reader at 0x21988aaa6a0>"
            ]
          },
          "metadata": {
            "tags": []
          },
          "execution_count": 40
        }
      ]
    },
    {
      "cell_type": "code",
      "metadata": {
        "id": "BVEWK6Ql0LQg",
        "colab_type": "code",
        "colab": {},
        "outputId": "50496639-61af-41ce-d44c-3962ab78ba2f"
      },
      "source": [
        "fruit = []\n",
        "for i in csvRead:\n",
        "    fruit.append(i)\n",
        "    print(i)\n",
        "print('fruit=' ,fruit)"
      ],
      "execution_count": null,
      "outputs": [
        {
          "output_type": "stream",
          "text": [
            "['apple']\n",
            "['peer']\n",
            "['cherry']\n",
            "['banana']\n",
            "['peach']\n",
            "fruit= [['apple'], ['peer'], ['cherry'], ['banana'], ['peach']]\n"
          ],
          "name": "stdout"
        }
      ]
    },
    {
      "cell_type": "code",
      "metadata": {
        "id": "bqLZcWUt0LQh",
        "colab_type": "code",
        "colab": {},
        "outputId": "b02fccf8-4d65-4f50-b780-6da3047b2e30"
      },
      "source": [
        "treehit =0\n",
        "while treehit <10:\n",
        "    treehit = treehit +1\n",
        "    print('나무를 %s번 찍었습니다.' % treehit)\n",
        "    if treehit ==10:\n",
        "        print('나무 넘어갑니다.')"
      ],
      "execution_count": null,
      "outputs": [
        {
          "output_type": "stream",
          "text": [
            "나무를 1번 찍었습니다.\n",
            "나무를 2번 찍었습니다.\n",
            "나무를 3번 찍었습니다.\n",
            "나무를 4번 찍었습니다.\n",
            "나무를 5번 찍었습니다.\n",
            "나무를 6번 찍었습니다.\n",
            "나무를 7번 찍었습니다.\n",
            "나무를 8번 찍었습니다.\n",
            "나무를 9번 찍었습니다.\n",
            "나무를 10번 찍었습니다.\n",
            "나무 넘어갑니다.\n"
          ],
          "name": "stdout"
        }
      ]
    },
    {
      "cell_type": "code",
      "metadata": {
        "id": "tfPTppcC0LQk",
        "colab_type": "code",
        "colab": {},
        "outputId": "7402703e-3003-4849-b8c5-285def762eff"
      },
      "source": [
        "a = '야경'\n",
        "print('{} 청년 아카데미'. format(a))"
      ],
      "execution_count": null,
      "outputs": [
        {
          "output_type": "stream",
          "text": [
            "야경 청년 아카데미\n"
          ],
          "name": "stdout"
        }
      ]
    },
    {
      "cell_type": "code",
      "metadata": {
        "scrolled": true,
        "id": "EVCzHziz0LQl",
        "colab_type": "code",
        "colab": {},
        "outputId": "bb3dda68-9027-4716-a365-980d316e1c2c"
      },
      "source": [
        "a = '청년'\n",
        "print('야경 %s 아카데미' %a)"
      ],
      "execution_count": null,
      "outputs": [
        {
          "output_type": "stream",
          "text": [
            "야경 청년 아카데미\n"
          ],
          "name": "stdout"
        }
      ]
    },
    {
      "cell_type": "code",
      "metadata": {
        "id": "NJ2TA6vU0LQm",
        "colab_type": "code",
        "colab": {},
        "outputId": "3b01bcce-7fe3-4192-a08f-633fb60ef963"
      },
      "source": [
        "a = '청년'\n",
        "b = '데미'\n",
        "print('야경 %s 아카%s' %(a,b))"
      ],
      "execution_count": null,
      "outputs": [
        {
          "output_type": "stream",
          "text": [
            "야경 청년 아카데미\n"
          ],
          "name": "stdout"
        }
      ]
    },
    {
      "cell_type": "code",
      "metadata": {
        "id": "mrfdqi6p0LQn",
        "colab_type": "code",
        "colab": {}
      },
      "source": [
        ""
      ],
      "execution_count": null,
      "outputs": []
    }
  ]
}