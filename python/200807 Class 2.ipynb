{
 "cells": [
  {
   "cell_type": "markdown",
   "metadata": {},
   "source": [
    "###  1차원의 점들이 주어졌을 때, 그 중 가장 거리가 짧은 것의 쌍을 출력하는 함수를 작성하시오(정렬후 작업이 필요)"
   ]
  },
  {
   "cell_type": "code",
   "execution_count": 28,
   "metadata": {},
   "outputs": [],
   "source": [
    "S = [1, 8, 4, 17, 20, 13, 3]\n",
    "#S = [8, 2, 31, 17, 33, 8, 34, 12, 20, 13, 3]"
   ]
  },
  {
   "cell_type": "code",
   "execution_count": 29,
   "metadata": {
    "scrolled": false
   },
   "outputs": [],
   "source": [
    "S.sort()"
   ]
  },
  {
   "cell_type": "code",
   "execution_count": 30,
   "metadata": {},
   "outputs": [
    {
     "data": {
      "text/plain": [
       "[1, 3, 4, 8, 13, 17, 20]"
      ]
     },
     "execution_count": 30,
     "metadata": {},
     "output_type": "execute_result"
    }
   ],
   "source": [
    "S"
   ]
  },
  {
   "cell_type": "code",
   "execution_count": 31,
   "metadata": {},
   "outputs": [
    {
     "name": "stdout",
     "output_type": "stream",
     "text": [
      "3 4\n"
     ]
    }
   ],
   "source": [
    "shortest= S[1]-S[0]\n",
    "index = 0\n",
    "\n",
    "for i in range(1,len(S)):\n",
    "    if S[i]-S[i-1] < shortest:\n",
    "        shortest= S[i]-S[i-1]\n",
    "        index = i\n",
    "        \n",
    "print( S[index-1], S[index])    "
   ]
  },
  {
   "cell_type": "code",
   "execution_count": 32,
   "metadata": {},
   "outputs": [
    {
     "name": "stdout",
     "output_type": "stream",
     "text": [
      "4 3\n"
     ]
    }
   ],
   "source": [
    "shortest= S[1]-S[0]\n",
    "\n",
    "for i in range(1,len(S)):\n",
    "    if S[i]-S[i-1] < shortest:\n",
    "        shortest= S[i]-S[i-1]\n",
    "        print(S[i], S[i-1]) "
   ]
  },
  {
   "cell_type": "code",
   "execution_count": null,
   "metadata": {},
   "outputs": [],
   "source": []
  },
  {
   "cell_type": "code",
   "execution_count": 12,
   "metadata": {},
   "outputs": [
    {
     "data": {
      "text/plain": [
       "[(1, 3), (3, 4), (4, 8), (8, 13), (13, 17), (17, 20)]"
      ]
     },
     "execution_count": 12,
     "metadata": {},
     "output_type": "execute_result"
    }
   ],
   "source": [
    "pairs = list(zip(S[0:], S[1:])) ; pairs"
   ]
  },
  {
   "cell_type": "code",
   "execution_count": 13,
   "metadata": {},
   "outputs": [
    {
     "data": {
      "text/plain": [
       "(1, 3)"
      ]
     },
     "execution_count": 13,
     "metadata": {},
     "output_type": "execute_result"
    }
   ],
   "source": [
    "pairs[0]"
   ]
  },
  {
   "cell_type": "code",
   "execution_count": 14,
   "metadata": {},
   "outputs": [
    {
     "name": "stdout",
     "output_type": "stream",
     "text": [
      "i= (1, 3) i[0]= 1 i[1]= 3\n",
      "diff= 2\n",
      "i= (3, 4) i[0]= 3 i[1]= 4\n",
      "diff= 1\n",
      "i= (4, 8) i[0]= 4 i[1]= 8\n",
      "diff= 4\n",
      "i= (8, 13) i[0]= 8 i[1]= 13\n",
      "diff= 5\n",
      "i= (13, 17) i[0]= 13 i[1]= 17\n",
      "diff= 4\n",
      "i= (17, 20) i[0]= 17 i[1]= 20\n",
      "diff= 3\n"
     ]
    }
   ],
   "source": [
    "new_pairs={}\n",
    "for i in pairs:\n",
    "    print('i=',i, 'i[0]=', i[0], 'i[1]=', i[1])\n",
    "    diff = i[1] -i[0]\n",
    "    print('diff=', diff)\n",
    "    new_pairs[diff] = i"
   ]
  },
  {
   "cell_type": "code",
   "execution_count": 15,
   "metadata": {},
   "outputs": [
    {
     "data": {
      "text/plain": [
       "{2: (1, 3), 1: (3, 4), 4: (13, 17), 5: (8, 13), 3: (17, 20)}"
      ]
     },
     "execution_count": 15,
     "metadata": {},
     "output_type": "execute_result"
    }
   ],
   "source": [
    "new_pairs"
   ]
  },
  {
   "cell_type": "code",
   "execution_count": 16,
   "metadata": {},
   "outputs": [
    {
     "data": {
      "text/plain": [
       "(3, 4)"
      ]
     },
     "execution_count": 16,
     "metadata": {},
     "output_type": "execute_result"
    }
   ],
   "source": [
    "new_pairs[1]"
   ]
  },
  {
   "cell_type": "code",
   "execution_count": null,
   "metadata": {},
   "outputs": [],
   "source": []
  },
  {
   "cell_type": "code",
   "execution_count": null,
   "metadata": {},
   "outputs": [],
   "source": []
  },
  {
   "cell_type": "code",
   "execution_count": 18,
   "metadata": {},
   "outputs": [
    {
     "data": {
      "text/plain": [
       "(3, 4)"
      ]
     },
     "execution_count": 18,
     "metadata": {},
     "output_type": "execute_result"
    }
   ],
   "source": [
    "s = [1, 3, 4, 8, 13, 17, 20]\n",
    "pairs = list(zip(s[0:], s[1:]))\n",
    "pairs.sort(key=lambda x:x[1]-x[0])\n",
    "pairs[0]"
   ]
  },
  {
   "cell_type": "code",
   "execution_count": 22,
   "metadata": {},
   "outputs": [
    {
     "name": "stdout",
     "output_type": "stream",
     "text": [
      "(8, 8)\n"
     ]
    }
   ],
   "source": [
    "def spairs(s):\n",
    "    pairs = list(zip(s[0:], s[1:]))\n",
    "    pairs.sort(key=lambda x:x[1]-x[0])\n",
    "    return pairs[0]\n",
    "\n",
    "#s = [1, 3, 4, 8, 13, 17, 20]\n",
    "s = [8, 2, 31, 17, 33, 8, 34, 12, 20, 13, 3]\n",
    "s.sort()\n",
    "\n",
    "print(spairs(s))"
   ]
  },
  {
   "cell_type": "code",
   "execution_count": null,
   "metadata": {},
   "outputs": [],
   "source": []
  }
 ],
 "metadata": {
  "kernelspec": {
   "display_name": "Python 3",
   "language": "python",
   "name": "python3"
  },
  "language_info": {
   "codemirror_mode": {
    "name": "ipython",
    "version": 3
   },
   "file_extension": ".py",
   "mimetype": "text/x-python",
   "name": "python",
   "nbconvert_exporter": "python",
   "pygments_lexer": "ipython3",
   "version": "3.8.3"
  }
 },
 "nbformat": 4,
 "nbformat_minor": 4
}
