{
 "cells": [
  {
   "cell_type": "code",
   "execution_count": 13,
   "metadata": {},
   "outputs": [],
   "source": [
    "# 국어, 영어, 수학, 과학 점수\n",
    "test_score = {'홍길동':[90, 85, 77, 80],\n",
    "              '이순신':[88, 96, 56, 60],\n",
    "              '허준':[56, 53, 64, 66],\n",
    "              '문익점':[76, 89, 39, 70]\n",
    "             }"
   ]
  },
  {
   "cell_type": "code",
   "execution_count": 14,
   "metadata": {},
   "outputs": [],
   "source": [
    "import pandas as pd\n",
    "t = pd.DataFrame(test_score)"
   ]
  },
  {
   "cell_type": "code",
   "execution_count": 15,
   "metadata": {},
   "outputs": [
    {
     "data": {
      "text/html": [
       "<div>\n",
       "<style scoped>\n",
       "    .dataframe tbody tr th:only-of-type {\n",
       "        vertical-align: middle;\n",
       "    }\n",
       "\n",
       "    .dataframe tbody tr th {\n",
       "        vertical-align: top;\n",
       "    }\n",
       "\n",
       "    .dataframe thead th {\n",
       "        text-align: right;\n",
       "    }\n",
       "</style>\n",
       "<table border=\"1\" class=\"dataframe\">\n",
       "  <thead>\n",
       "    <tr style=\"text-align: right;\">\n",
       "      <th></th>\n",
       "      <th>홍길동</th>\n",
       "      <th>이순신</th>\n",
       "      <th>허준</th>\n",
       "      <th>문익점</th>\n",
       "    </tr>\n",
       "  </thead>\n",
       "  <tbody>\n",
       "    <tr>\n",
       "      <th>국어</th>\n",
       "      <td>90</td>\n",
       "      <td>88</td>\n",
       "      <td>56</td>\n",
       "      <td>76</td>\n",
       "    </tr>\n",
       "    <tr>\n",
       "      <th>영어</th>\n",
       "      <td>85</td>\n",
       "      <td>96</td>\n",
       "      <td>53</td>\n",
       "      <td>89</td>\n",
       "    </tr>\n",
       "    <tr>\n",
       "      <th>수학</th>\n",
       "      <td>77</td>\n",
       "      <td>56</td>\n",
       "      <td>64</td>\n",
       "      <td>39</td>\n",
       "    </tr>\n",
       "    <tr>\n",
       "      <th>과학</th>\n",
       "      <td>80</td>\n",
       "      <td>60</td>\n",
       "      <td>66</td>\n",
       "      <td>70</td>\n",
       "    </tr>\n",
       "  </tbody>\n",
       "</table>\n",
       "</div>"
      ],
      "text/plain": [
       "    홍길동  이순신  허준  문익점\n",
       "국어   90   88  56   76\n",
       "영어   85   96  53   89\n",
       "수학   77   56  64   39\n",
       "과학   80   60  66   70"
      ]
     },
     "execution_count": 15,
     "metadata": {},
     "output_type": "execute_result"
    }
   ],
   "source": [
    "t.index = '국어', '영어','수학','과학'\n",
    "t"
   ]
  },
  {
   "cell_type": "code",
   "execution_count": 16,
   "metadata": {},
   "outputs": [
    {
     "name": "stdout",
     "output_type": "stream",
     "text": [
      "홍길동 평균= 83.0\n",
      "이순신 평균= 75.0\n",
      "허준 평균= 59.75\n",
      "문익점 평균= 68.5\n"
     ]
    }
   ],
   "source": [
    "#학생별 채점 결과는? (평균, 과목최고, 과목 최저 점수)\n",
    "print('홍길동 평균=', t['홍길동'].mean() )\n",
    "print('이순신 평균=', t['이순신'].mean() )\n",
    "print('허준 평균=', t['허준'].mean() )\n",
    "print('문익점 평균=', t['문익점'].mean() )"
   ]
  },
  {
   "cell_type": "code",
   "execution_count": 21,
   "metadata": {},
   "outputs": [
    {
     "name": "stdout",
     "output_type": "stream",
     "text": [
      "홍길동 과목 최고 점수= 90\n",
      "이순신 과목 최고 점수= 96\n",
      "허준 과목 최고 점수= 66\n",
      "문익점 과목 최고 점수= 89\n"
     ]
    }
   ],
   "source": [
    "print('홍길동 과목 최고 점수=', t['홍길동'].max())\n",
    "print('이순신 과목 최고 점수=', t['이순신'].max() )\n",
    "print('허준 과목 최고 점수=', t['허준'].max() )\n",
    "print('문익점 과목 최고 점수=', t['문익점'].max() )"
   ]
  },
  {
   "cell_type": "code",
   "execution_count": 22,
   "metadata": {
    "scrolled": true
   },
   "outputs": [
    {
     "name": "stdout",
     "output_type": "stream",
     "text": [
      "홍길동 과목 최저 점수= 77\n",
      "이순신 과목 최저 점수= 56\n",
      "허준 과목 최저 점수= 53\n",
      "문익점 과목 최저 점수= 39\n"
     ]
    }
   ],
   "source": [
    "print('홍길동 과목 최저 점수=', t['홍길동'].min())\n",
    "print('이순신 과목 최저 점수=', t['이순신'].min() )\n",
    "print('허준 과목 최저 점수=', t['허준'].min() )\n",
    "print('문익점 과목 최저 점수=', t['문익점'].min() )"
   ]
  },
  {
   "cell_type": "code",
   "execution_count": 144,
   "metadata": {
    "scrolled": true
   },
   "outputs": [],
   "source": [
    "columns2 = list(t.columns)"
   ]
  },
  {
   "cell_type": "code",
   "execution_count": 162,
   "metadata": {
    "scrolled": false
   },
   "outputs": [
    {
     "name": "stdout",
     "output_type": "stream",
     "text": [
      "i= 홍길동 불합격\n",
      "i= 이순신 합격\n",
      "i= 허준 합격\n",
      "i= 문익점 불합격\n"
     ]
    }
   ],
   "source": [
    "#합격자는 누구인가?    # 과락 40(최저점수가 40보다 높아야), 평균 60을 넘어야함\n",
    "for i in columns2:\n",
    "    if t[i].mean() > 60 & t[i].min() > 40 :\n",
    "        print('i=',i, '합격')\n",
    "    else:\n",
    "        print('i=',i, '불합격')"
   ]
  },
  {
   "cell_type": "code",
   "execution_count": null,
   "metadata": {},
   "outputs": [],
   "source": [
    "#과목별 최고점수, 최저점수는?"
   ]
  },
  {
   "cell_type": "code",
   "execution_count": 35,
   "metadata": {
    "scrolled": false
   },
   "outputs": [
    {
     "data": {
      "text/html": [
       "<div>\n",
       "<style scoped>\n",
       "    .dataframe tbody tr th:only-of-type {\n",
       "        vertical-align: middle;\n",
       "    }\n",
       "\n",
       "    .dataframe tbody tr th {\n",
       "        vertical-align: top;\n",
       "    }\n",
       "\n",
       "    .dataframe thead th {\n",
       "        text-align: right;\n",
       "    }\n",
       "</style>\n",
       "<table border=\"1\" class=\"dataframe\">\n",
       "  <thead>\n",
       "    <tr style=\"text-align: right;\">\n",
       "      <th></th>\n",
       "      <th>국어</th>\n",
       "      <th>영어</th>\n",
       "      <th>수학</th>\n",
       "      <th>과학</th>\n",
       "    </tr>\n",
       "  </thead>\n",
       "  <tbody>\n",
       "    <tr>\n",
       "      <th>홍길동</th>\n",
       "      <td>90</td>\n",
       "      <td>85</td>\n",
       "      <td>77</td>\n",
       "      <td>80</td>\n",
       "    </tr>\n",
       "    <tr>\n",
       "      <th>이순신</th>\n",
       "      <td>88</td>\n",
       "      <td>96</td>\n",
       "      <td>56</td>\n",
       "      <td>60</td>\n",
       "    </tr>\n",
       "    <tr>\n",
       "      <th>허준</th>\n",
       "      <td>56</td>\n",
       "      <td>53</td>\n",
       "      <td>64</td>\n",
       "      <td>66</td>\n",
       "    </tr>\n",
       "    <tr>\n",
       "      <th>문익점</th>\n",
       "      <td>76</td>\n",
       "      <td>89</td>\n",
       "      <td>39</td>\n",
       "      <td>70</td>\n",
       "    </tr>\n",
       "  </tbody>\n",
       "</table>\n",
       "</div>"
      ],
      "text/plain": [
       "     국어  영어  수학  과학\n",
       "홍길동  90  85  77  80\n",
       "이순신  88  96  56  60\n",
       "허준   56  53  64  66\n",
       "문익점  76  89  39  70"
      ]
     },
     "execution_count": 35,
     "metadata": {},
     "output_type": "execute_result"
    }
   ],
   "source": [
    "t.T"
   ]
  },
  {
   "cell_type": "code",
   "execution_count": 41,
   "metadata": {},
   "outputs": [
    {
     "name": "stdout",
     "output_type": "stream",
     "text": [
      "국어 최고 점수= 90\n",
      "영어 최고 점수= 96\n",
      "수학 최고 점수= 77\n",
      "과학 최고 점수= 80\n"
     ]
    }
   ],
   "source": [
    "print('국어 최고 점수=', t.T['국어'].max() )\n",
    "print('영어 최고 점수=', t.T['영어'].max() )\n",
    "print('수학 최고 점수=', t.T['수학'].max() )\n",
    "print('과학 최고 점수=', t.T['과학'].max() )"
   ]
  },
  {
   "cell_type": "code",
   "execution_count": 42,
   "metadata": {},
   "outputs": [
    {
     "name": "stdout",
     "output_type": "stream",
     "text": [
      "국어 최저 점수= 56\n",
      "영어 최저 점수= 53\n",
      "수학 최저 점수= 39\n",
      "과학 최저 점수= 60\n"
     ]
    }
   ],
   "source": [
    "print('국어 최저 점수=', t.T['국어'].min() )\n",
    "print('영어 최저 점수=', t.T['영어'].min() )\n",
    "print('수학 최저 점수=', t.T['수학'].min() )\n",
    "print('과학 최저 점수=', t.T['과학'].min() )"
   ]
  },
  {
   "cell_type": "code",
   "execution_count": null,
   "metadata": {},
   "outputs": [],
   "source": []
  },
  {
   "cell_type": "code",
   "execution_count": 147,
   "metadata": {},
   "outputs": [
    {
     "name": "stdout",
     "output_type": "stream",
     "text": [
      "이름= 홍길동 평균= 83.0 최고= 90 최저= 77\n",
      "이름= 이순신 평균= 75.0 최고= 96 최저= 56\n",
      "이름= 허준 평균= 59.75 최고= 66 최저= 53\n",
      "이름= 문익점 평균= 68.5 최고= 89 최저= 39\n",
      "합격자= ['홍길동', '이순신']\n"
     ]
    }
   ],
   "source": [
    "#### 선생님의 답\n",
    "exam_result = []\n",
    "\n",
    "for exam_score in test_score.items():\n",
    "    name = exam_score[0]\n",
    "    score = exam_score[1]\n",
    "    avg = sum(score) / len(score)\n",
    "    if (avg>60 and  min(score)>40):\n",
    "        exam_result.append(name)\n",
    "    print('이름=',name,  '평균=',avg, '최고=',max(score), '최저=', min(score))\n",
    "    \n",
    "print('합격자=', exam_result)"
   ]
  },
  {
   "cell_type": "code",
   "execution_count": 149,
   "metadata": {
    "scrolled": true
   },
   "outputs": [
    {
     "data": {
      "text/plain": [
       "dict_items([('홍길동', [90, 85, 77, 80]), ('이순신', [88, 96, 56, 60]), ('허준', [56, 53, 64, 66]), ('문익점', [76, 89, 39, 70])])"
      ]
     },
     "execution_count": 149,
     "metadata": {},
     "output_type": "execute_result"
    }
   ],
   "source": [
    "test_score.items()"
   ]
  },
  {
   "cell_type": "code",
   "execution_count": null,
   "metadata": {},
   "outputs": [],
   "source": [
    "for student, exam_score in enumerate(test_score. items()):\n",
    "    if student ==0\n",
    "        class_max = exam_score[1][:]\n",
    "        class_min = exam_score[1][:]\n",
    "        \n",
    "    for subject, score in enumeratre(exam_score[1]):\n",
    "        if class_max[subject] < score:\n",
    "            class_max[subject] = score\n",
    "        if class_max[subject] < score:    \n",
    "            class_max[subject] = score\n",
    "            \n",
    "print('max=', class_max)\n",
    "print('min=', class_min)"
   ]
  },
  {
   "cell_type": "code",
   "execution_count": 155,
   "metadata": {},
   "outputs": [
    {
     "data": {
      "text/html": [
       "<div>\n",
       "<style scoped>\n",
       "    .dataframe tbody tr th:only-of-type {\n",
       "        vertical-align: middle;\n",
       "    }\n",
       "\n",
       "    .dataframe tbody tr th {\n",
       "        vertical-align: top;\n",
       "    }\n",
       "\n",
       "    .dataframe thead th {\n",
       "        text-align: right;\n",
       "    }\n",
       "</style>\n",
       "<table border=\"1\" class=\"dataframe\">\n",
       "  <thead>\n",
       "    <tr style=\"text-align: right;\">\n",
       "      <th></th>\n",
       "      <th>국어</th>\n",
       "      <th>영어</th>\n",
       "      <th>수학</th>\n",
       "      <th>과학</th>\n",
       "    </tr>\n",
       "  </thead>\n",
       "  <tbody>\n",
       "    <tr>\n",
       "      <th>홍길동</th>\n",
       "      <td>90</td>\n",
       "      <td>85</td>\n",
       "      <td>77</td>\n",
       "      <td>80</td>\n",
       "    </tr>\n",
       "    <tr>\n",
       "      <th>이순신</th>\n",
       "      <td>88</td>\n",
       "      <td>96</td>\n",
       "      <td>56</td>\n",
       "      <td>60</td>\n",
       "    </tr>\n",
       "    <tr>\n",
       "      <th>허준</th>\n",
       "      <td>56</td>\n",
       "      <td>53</td>\n",
       "      <td>64</td>\n",
       "      <td>66</td>\n",
       "    </tr>\n",
       "    <tr>\n",
       "      <th>문익점</th>\n",
       "      <td>76</td>\n",
       "      <td>89</td>\n",
       "      <td>39</td>\n",
       "      <td>70</td>\n",
       "    </tr>\n",
       "    <tr>\n",
       "      <th>평균</th>\n",
       "      <td></td>\n",
       "      <td></td>\n",
       "      <td></td>\n",
       "      <td></td>\n",
       "    </tr>\n",
       "    <tr>\n",
       "      <th>최고</th>\n",
       "      <td></td>\n",
       "      <td></td>\n",
       "      <td></td>\n",
       "      <td></td>\n",
       "    </tr>\n",
       "    <tr>\n",
       "      <th>최저</th>\n",
       "      <td></td>\n",
       "      <td></td>\n",
       "      <td></td>\n",
       "      <td></td>\n",
       "    </tr>\n",
       "    <tr>\n",
       "      <th>합격유무</th>\n",
       "      <td></td>\n",
       "      <td></td>\n",
       "      <td></td>\n",
       "      <td></td>\n",
       "    </tr>\n",
       "  </tbody>\n",
       "</table>\n",
       "</div>"
      ],
      "text/plain": [
       "      국어  영어  수학  과학\n",
       "홍길동   90  85  77  80\n",
       "이순신   88  96  56  60\n",
       "허준    56  53  64  66\n",
       "문익점   76  89  39  70\n",
       "평균                  \n",
       "최고                  \n",
       "최저                  \n",
       "합격유무                "
      ]
     },
     "execution_count": 155,
     "metadata": {},
     "output_type": "execute_result"
    }
   ],
   "source": [
    "t.T['평균']=''\n",
    "t.T['최고']=''\n",
    "t.T['최저']=''\n",
    "t.T['합격유무']=''\n",
    "t.T"
   ]
  },
  {
   "cell_type": "code",
   "execution_count": 159,
   "metadata": {},
   "outputs": [],
   "source": [
    "for columns in range(0,len(t)):\n",
    "    t.iloc[columns,4]"
   ]
  },
  {
   "cell_type": "code",
   "execution_count": 161,
   "metadata": {},
   "outputs": [
    {
     "data": {
      "text/plain": [
       "array([[90, 88, 56, 76, '', '', '', ''],\n",
       "       [85, 96, 53, 89, '', '', '', ''],\n",
       "       [77, 56, 64, 39, '', '', '', ''],\n",
       "       [80, 60, 66, 70, '', '', '', '']], dtype=object)"
      ]
     },
     "execution_count": 161,
     "metadata": {},
     "output_type": "execute_result"
    }
   ],
   "source": [
    "import numpy as np\n",
    "arr = np.array(t)  ;arr"
   ]
  },
  {
   "cell_type": "code",
   "execution_count": null,
   "metadata": {},
   "outputs": [],
   "source": []
  },
  {
   "cell_type": "code",
   "execution_count": null,
   "metadata": {},
   "outputs": [],
   "source": []
  },
  {
   "cell_type": "code",
   "execution_count": null,
   "metadata": {},
   "outputs": [],
   "source": []
  },
  {
   "cell_type": "code",
   "execution_count": null,
   "metadata": {},
   "outputs": [],
   "source": []
  },
  {
   "cell_type": "code",
   "execution_count": null,
   "metadata": {},
   "outputs": [],
   "source": []
  },
  {
   "cell_type": "code",
   "execution_count": null,
   "metadata": {},
   "outputs": [],
   "source": []
  },
  {
   "cell_type": "code",
   "execution_count": null,
   "metadata": {},
   "outputs": [],
   "source": []
  },
  {
   "cell_type": "code",
   "execution_count": null,
   "metadata": {},
   "outputs": [],
   "source": []
  },
  {
   "cell_type": "code",
   "execution_count": null,
   "metadata": {},
   "outputs": [],
   "source": []
  }
 ],
 "metadata": {
  "kernelspec": {
   "display_name": "Python 3",
   "language": "python",
   "name": "python3"
  },
  "language_info": {
   "codemirror_mode": {
    "name": "ipython",
    "version": 3
   },
   "file_extension": ".py",
   "mimetype": "text/x-python",
   "name": "python",
   "nbconvert_exporter": "python",
   "pygments_lexer": "ipython3",
   "version": "3.8.3"
  }
 },
 "nbformat": 4,
 "nbformat_minor": 4
}
