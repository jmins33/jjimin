{
  "nbformat": 4,
  "nbformat_minor": 0,
  "metadata": {
    "kernelspec": {
      "display_name": "Python 3",
      "language": "python",
      "name": "python3"
    },
    "language_info": {
      "codemirror_mode": {
        "name": "ipython",
        "version": 3
      },
      "file_extension": ".py",
      "mimetype": "text/x-python",
      "name": "python",
      "nbconvert_exporter": "python",
      "pygments_lexer": "ipython3",
      "version": "3.8.3"
    },
    "colab": {
      "name": "200728 자습서.ipynb",
      "provenance": [],
      "include_colab_link": true
    }
  },
  "cells": [
    {
      "cell_type": "markdown",
      "metadata": {
        "id": "view-in-github",
        "colab_type": "text"
      },
      "source": [
        "<a href=\"https://colab.research.google.com/github/jmins33/ml_edu/blob/master/python/200728_%EC%9E%90%EC%8A%B5%EC%84%9C.ipynb\" target=\"_parent\"><img src=\"https://colab.research.google.com/assets/colab-badge.svg\" alt=\"Open In Colab\"/></a>"
      ]
    },
    {
      "cell_type": "code",
      "metadata": {
        "id": "GCf6sC_K0pHq",
        "colab_type": "code",
        "colab": {},
        "outputId": "8a829fad-4791-4005-91d5-6de25a59f315"
      },
      "source": [
        "2+2"
      ],
      "execution_count": null,
      "outputs": [
        {
          "output_type": "execute_result",
          "data": {
            "text/plain": [
              "4"
            ]
          },
          "metadata": {
            "tags": []
          },
          "execution_count": 1
        }
      ]
    },
    {
      "cell_type": "code",
      "metadata": {
        "id": "DgBtYr8K0pHy",
        "colab_type": "code",
        "colab": {},
        "outputId": "fb92c850-4ada-499e-fa8e-e0e58b410f8f"
      },
      "source": [
        "50-5*6"
      ],
      "execution_count": null,
      "outputs": [
        {
          "output_type": "execute_result",
          "data": {
            "text/plain": [
              "20"
            ]
          },
          "metadata": {
            "tags": []
          },
          "execution_count": 2
        }
      ]
    },
    {
      "cell_type": "code",
      "metadata": {
        "id": "kO4takb20pH3",
        "colab_type": "code",
        "colab": {},
        "outputId": "4da7c345-b195-4758-c84a-e4027ab69a72"
      },
      "source": [
        "(50-5*6)/4"
      ],
      "execution_count": null,
      "outputs": [
        {
          "output_type": "execute_result",
          "data": {
            "text/plain": [
              "5.0"
            ]
          },
          "metadata": {
            "tags": []
          },
          "execution_count": 3
        }
      ]
    },
    {
      "cell_type": "code",
      "metadata": {
        "id": "9_lF8p-u0pH7",
        "colab_type": "code",
        "colab": {},
        "outputId": "0af03a10-f9a0-4a84-b295-a1b77372f24d"
      },
      "source": [
        "8/5"
      ],
      "execution_count": null,
      "outputs": [
        {
          "output_type": "execute_result",
          "data": {
            "text/plain": [
              "1.6"
            ]
          },
          "metadata": {
            "tags": []
          },
          "execution_count": 4
        }
      ]
    },
    {
      "cell_type": "code",
      "metadata": {
        "id": "JELR2ybx0pH_",
        "colab_type": "code",
        "colab": {},
        "outputId": "54b3f563-8271-4912-ac53-30c35eb367c8"
      },
      "source": [
        "17/3"
      ],
      "execution_count": null,
      "outputs": [
        {
          "output_type": "execute_result",
          "data": {
            "text/plain": [
              "5.666666666666667"
            ]
          },
          "metadata": {
            "tags": []
          },
          "execution_count": 5
        }
      ]
    },
    {
      "cell_type": "code",
      "metadata": {
        "id": "KGZnALPT0pIC",
        "colab_type": "code",
        "colab": {},
        "outputId": "1df684b2-ac9d-4227-9ac9-e4c356170fc0"
      },
      "source": [
        "17//3"
      ],
      "execution_count": null,
      "outputs": [
        {
          "output_type": "execute_result",
          "data": {
            "text/plain": [
              "5"
            ]
          },
          "metadata": {
            "tags": []
          },
          "execution_count": 6
        }
      ]
    },
    {
      "cell_type": "code",
      "metadata": {
        "id": "0Kx8GThv0pIE",
        "colab_type": "code",
        "colab": {},
        "outputId": "8cfd0aa9-9c12-4d3f-e054-f9f5466403be"
      },
      "source": [
        "17%3"
      ],
      "execution_count": null,
      "outputs": [
        {
          "output_type": "execute_result",
          "data": {
            "text/plain": [
              "2"
            ]
          },
          "metadata": {
            "tags": []
          },
          "execution_count": 7
        }
      ]
    },
    {
      "cell_type": "code",
      "metadata": {
        "id": "4gAhyGwh0pIH",
        "colab_type": "code",
        "colab": {},
        "outputId": "7a1ada2d-d6c9-45c9-96b7-d9294029d756"
      },
      "source": [
        "5*3+2"
      ],
      "execution_count": null,
      "outputs": [
        {
          "output_type": "execute_result",
          "data": {
            "text/plain": [
              "17"
            ]
          },
          "metadata": {
            "tags": []
          },
          "execution_count": 8
        }
      ]
    },
    {
      "cell_type": "code",
      "metadata": {
        "id": "SoQAA-k10pIK",
        "colab_type": "code",
        "colab": {},
        "outputId": "65f934d2-6cd5-4f93-d497-50275d772380"
      },
      "source": [
        "5**2"
      ],
      "execution_count": null,
      "outputs": [
        {
          "output_type": "execute_result",
          "data": {
            "text/plain": [
              "25"
            ]
          },
          "metadata": {
            "tags": []
          },
          "execution_count": 9
        }
      ]
    },
    {
      "cell_type": "code",
      "metadata": {
        "id": "FjASyvYz0pIM",
        "colab_type": "code",
        "colab": {},
        "outputId": "25ce8c46-a9d5-45e5-a05b-8bc3d8a12155"
      },
      "source": [
        "2**7"
      ],
      "execution_count": null,
      "outputs": [
        {
          "output_type": "execute_result",
          "data": {
            "text/plain": [
              "128"
            ]
          },
          "metadata": {
            "tags": []
          },
          "execution_count": 10
        }
      ]
    },
    {
      "cell_type": "code",
      "metadata": {
        "id": "geAZ-NYJ0pIO",
        "colab_type": "code",
        "colab": {},
        "outputId": "a81f1ce8-9eef-4a80-d4db-26fc999df337"
      },
      "source": [
        "width = 20\n",
        "height = 5*9\n",
        "width*height"
      ],
      "execution_count": null,
      "outputs": [
        {
          "output_type": "execute_result",
          "data": {
            "text/plain": [
              "900"
            ]
          },
          "metadata": {
            "tags": []
          },
          "execution_count": 11
        }
      ]
    },
    {
      "cell_type": "code",
      "metadata": {
        "id": "ZCMRby6W0pIR",
        "colab_type": "code",
        "colab": {},
        "outputId": "4a3d5a7b-dd1f-4335-b53a-12b2197af101"
      },
      "source": [
        "n"
      ],
      "execution_count": null,
      "outputs": [
        {
          "output_type": "error",
          "ename": "NameError",
          "evalue": "name 'n' is not defined",
          "traceback": [
            "\u001b[1;31m---------------------------------------------------------------------------\u001b[0m",
            "\u001b[1;31mNameError\u001b[0m                                 Traceback (most recent call last)",
            "\u001b[1;32m<ipython-input-12-ab0680a89434>\u001b[0m in \u001b[0;36m<module>\u001b[1;34m\u001b[0m\n\u001b[1;32m----> 1\u001b[1;33m \u001b[0mn\u001b[0m\u001b[1;33m\u001b[0m\u001b[1;33m\u001b[0m\u001b[0m\n\u001b[0m",
            "\u001b[1;31mNameError\u001b[0m: name 'n' is not defined"
          ]
        }
      ]
    },
    {
      "cell_type": "code",
      "metadata": {
        "id": "-cZ6o7yc0pIT",
        "colab_type": "code",
        "colab": {},
        "outputId": "961ec9dc-be09-4427-b76c-5a3fd9b5d95f"
      },
      "source": [
        "4*3.75-1"
      ],
      "execution_count": null,
      "outputs": [
        {
          "output_type": "execute_result",
          "data": {
            "text/plain": [
              "14.0"
            ]
          },
          "metadata": {
            "tags": []
          },
          "execution_count": 13
        }
      ]
    },
    {
      "cell_type": "code",
      "metadata": {
        "id": "60NnWrnc0pIV",
        "colab_type": "code",
        "colab": {},
        "outputId": "1ca100e4-3d50-403b-fe92-5be304902dc7"
      },
      "source": [
        "tax = 12.5/100\n",
        "price = 100.50\n",
        "price * tax"
      ],
      "execution_count": null,
      "outputs": [
        {
          "output_type": "execute_result",
          "data": {
            "text/plain": [
              "12.5625"
            ]
          },
          "metadata": {
            "tags": []
          },
          "execution_count": 14
        }
      ]
    },
    {
      "cell_type": "code",
      "metadata": {
        "id": "C1_SJz9p0pIX",
        "colab_type": "code",
        "colab": {},
        "outputId": "f8037320-f572-47b2-a1ce-10e63a84f868"
      },
      "source": [
        "price + _"
      ],
      "execution_count": null,
      "outputs": [
        {
          "output_type": "execute_result",
          "data": {
            "text/plain": [
              "113.0625"
            ]
          },
          "metadata": {
            "tags": []
          },
          "execution_count": 15
        }
      ]
    },
    {
      "cell_type": "code",
      "metadata": {
        "id": "uMQG8Nkz0pIb",
        "colab_type": "code",
        "colab": {},
        "outputId": "ed5efc24-a829-4b8b-884b-eeda3bef26ab"
      },
      "source": [
        "round(_,2)"
      ],
      "execution_count": null,
      "outputs": [
        {
          "output_type": "execute_result",
          "data": {
            "text/plain": [
              "113.06"
            ]
          },
          "metadata": {
            "tags": []
          },
          "execution_count": 16
        }
      ]
    },
    {
      "cell_type": "code",
      "metadata": {
        "id": "3j2GLhoz0pId",
        "colab_type": "code",
        "colab": {},
        "outputId": "f7ab29dc-d599-455d-fd65-c77af9d1dc69"
      },
      "source": [
        "print('C:\\some\\name')"
      ],
      "execution_count": null,
      "outputs": [
        {
          "output_type": "stream",
          "text": [
            "C:\\some\n",
            "ame\n"
          ],
          "name": "stdout"
        }
      ]
    },
    {
      "cell_type": "code",
      "metadata": {
        "id": "_mj6kArv0pIf",
        "colab_type": "code",
        "colab": {},
        "outputId": "cf284f6a-e790-46b3-d185-3b546ade26b0"
      },
      "source": [
        "print(r'C:\\some\\name')"
      ],
      "execution_count": null,
      "outputs": [
        {
          "output_type": "stream",
          "text": [
            "C:\\some\\name\n"
          ],
          "name": "stdout"
        }
      ]
    },
    {
      "cell_type": "code",
      "metadata": {
        "id": "OArMl9mw0pIi",
        "colab_type": "code",
        "colab": {}
      },
      "source": [
        "text = ('Put several strings within parentheses '\n",
        "...         'to have them joined together.')"
      ],
      "execution_count": null,
      "outputs": []
    },
    {
      "cell_type": "code",
      "metadata": {
        "id": "YrDGYuXl0pIk",
        "colab_type": "code",
        "colab": {},
        "outputId": "f009b8f9-2221-45e3-a4ab-007c7938ec2e"
      },
      "source": [
        "text"
      ],
      "execution_count": null,
      "outputs": [
        {
          "output_type": "execute_result",
          "data": {
            "text/plain": [
              "'Put several strings within parentheses to have them joined together.'"
            ]
          },
          "metadata": {
            "tags": []
          },
          "execution_count": 20
        }
      ]
    },
    {
      "cell_type": "code",
      "metadata": {
        "id": "hUFj7Znu0pIm",
        "colab_type": "code",
        "colab": {},
        "outputId": "c7a49898-cdf8-4153-a71b-bc913add0b96"
      },
      "source": [
        "word = 'python'\n",
        "word[:4] + word[4:]"
      ],
      "execution_count": null,
      "outputs": [
        {
          "output_type": "execute_result",
          "data": {
            "text/plain": [
              "'python'"
            ]
          },
          "metadata": {
            "tags": []
          },
          "execution_count": 22
        }
      ]
    },
    {
      "cell_type": "code",
      "metadata": {
        "id": "8FniqJb40pIo",
        "colab_type": "code",
        "colab": {}
      },
      "source": [
        "a = ['a', 'b', 'c']\n",
        "n = [1, 2, 3]\n",
        "x = [a, n]"
      ],
      "execution_count": null,
      "outputs": []
    },
    {
      "cell_type": "code",
      "metadata": {
        "id": "LZUOR6_R0pIq",
        "colab_type": "code",
        "colab": {},
        "outputId": "e5c61843-6e6a-4e57-a73e-a12e48d2e847"
      },
      "source": [
        "x"
      ],
      "execution_count": null,
      "outputs": [
        {
          "output_type": "execute_result",
          "data": {
            "text/plain": [
              "[['a', 'b', 'c'], [1, 2, 3]]"
            ]
          },
          "metadata": {
            "tags": []
          },
          "execution_count": 24
        }
      ]
    },
    {
      "cell_type": "code",
      "metadata": {
        "id": "i9EEhBb40pIs",
        "colab_type": "code",
        "colab": {},
        "outputId": "a9b67cfb-1083-4caf-c498-4af11dd2ef7a"
      },
      "source": [
        "x[0]"
      ],
      "execution_count": null,
      "outputs": [
        {
          "output_type": "execute_result",
          "data": {
            "text/plain": [
              "['a', 'b', 'c']"
            ]
          },
          "metadata": {
            "tags": []
          },
          "execution_count": 25
        }
      ]
    },
    {
      "cell_type": "code",
      "metadata": {
        "id": "o2h-rBrm0pIv",
        "colab_type": "code",
        "colab": {},
        "outputId": "9a2e220a-8c84-43be-d6b4-ae8f693d188d"
      },
      "source": [
        "x[0][2]"
      ],
      "execution_count": null,
      "outputs": [
        {
          "output_type": "execute_result",
          "data": {
            "text/plain": [
              "'c'"
            ]
          },
          "metadata": {
            "tags": []
          },
          "execution_count": 26
        }
      ]
    },
    {
      "cell_type": "code",
      "metadata": {
        "id": "q8MhMwbt0pIx",
        "colab_type": "code",
        "colab": {},
        "outputId": "778442d8-1ab2-4ca4-b2aa-9b3d8dedc7ff"
      },
      "source": [
        "a, b = 0, 1\n",
        "while a< 10:\n",
        "    print(a)\n",
        "    a, b = b, a+b"
      ],
      "execution_count": null,
      "outputs": [
        {
          "output_type": "stream",
          "text": [
            "0\n",
            "1\n",
            "1\n",
            "2\n",
            "3\n",
            "5\n",
            "8\n"
          ],
          "name": "stdout"
        }
      ]
    },
    {
      "cell_type": "code",
      "metadata": {
        "id": "EyTvBVSL0pIz",
        "colab_type": "code",
        "colab": {},
        "outputId": "8f3dd57d-f682-482a-d794-ca346b1a0a1e"
      },
      "source": [
        "i = 256*256\n",
        "print('the value of i is', i)"
      ],
      "execution_count": null,
      "outputs": [
        {
          "output_type": "stream",
          "text": [
            "the value of i is 65536\n"
          ],
          "name": "stdout"
        }
      ]
    },
    {
      "cell_type": "code",
      "metadata": {
        "id": "GkDl6p1z0pI1",
        "colab_type": "code",
        "colab": {},
        "outputId": "08e16f93-3ed3-4213-a2c3-0b78080e0517"
      },
      "source": [
        "a, b = 0, 1\n",
        "while a< 1000:\n",
        "    print(a, end=',')\n",
        "    a, b = b, a+b"
      ],
      "execution_count": null,
      "outputs": [
        {
          "output_type": "stream",
          "text": [
            "0,1,1,2,3,5,8,13,21,34,55,89,144,233,377,610,987,"
          ],
          "name": "stdout"
        }
      ]
    },
    {
      "cell_type": "code",
      "metadata": {
        "id": "SZFrxKKQ0pI3",
        "colab_type": "code",
        "colab": {},
        "outputId": "2cfdd480-debe-4910-8472-c6469c1bbdfd"
      },
      "source": [
        "x = int(input('please enter an integer:'))"
      ],
      "execution_count": null,
      "outputs": [
        {
          "output_type": "stream",
          "text": [
            "please enter an integer:42\n"
          ],
          "name": "stdout"
        }
      ]
    },
    {
      "cell_type": "code",
      "metadata": {
        "id": "AfQtU4Fw0pI5",
        "colab_type": "code",
        "colab": {},
        "outputId": "98280b75-f4a1-43d7-a6e5-8d74635c5cab"
      },
      "source": [
        "if x<0 :\n",
        "    x=0\n",
        "    print('Negative changed to zero')\n",
        "elif x == 0:\n",
        "        print('zero')\n",
        "elif x == 1:\n",
        "        print('single')\n",
        "else:\n",
        "        print('more')"
      ],
      "execution_count": null,
      "outputs": [
        {
          "output_type": "stream",
          "text": [
            "more\n"
          ],
          "name": "stdout"
        }
      ]
    },
    {
      "cell_type": "code",
      "metadata": {
        "id": "UUeb4Ay_0pI7",
        "colab_type": "code",
        "colab": {},
        "outputId": "a3041adc-39bb-4211-d216-02c8e604b416"
      },
      "source": [
        "words = ['cat', 'window', 'defenestrate']\n",
        "for w in words:\n",
        "    print(w, len(w))"
      ],
      "execution_count": null,
      "outputs": [
        {
          "output_type": "stream",
          "text": [
            "cat 3\n",
            "window 6\n",
            "defenestrate 12\n"
          ],
          "name": "stdout"
        }
      ]
    },
    {
      "cell_type": "code",
      "metadata": {
        "id": "OLJWw7UR0pI9",
        "colab_type": "code",
        "colab": {},
        "outputId": "b3bd184d-cfae-468c-b1fb-abca4e8fddbb"
      },
      "source": [
        "list(range(5, 10))"
      ],
      "execution_count": null,
      "outputs": [
        {
          "output_type": "execute_result",
          "data": {
            "text/plain": [
              "[5, 6, 7, 8, 9]"
            ]
          },
          "metadata": {
            "tags": []
          },
          "execution_count": 43
        }
      ]
    },
    {
      "cell_type": "code",
      "metadata": {
        "scrolled": true,
        "id": "9avSLr5h0pI_",
        "colab_type": "code",
        "colab": {},
        "outputId": "1da20021-1907-4fb3-e5d4-9d186bc02a39"
      },
      "source": [
        "treehit =0\n",
        "while treehit <10:\n",
        "    treehit = treehit +1\n",
        "    print('나무를 %s번 찍었습니다.' % treehit)\n",
        "    if treehit ==10:\n",
        "        print('나무 넘어갑니다.')"
      ],
      "execution_count": null,
      "outputs": [
        {
          "output_type": "stream",
          "text": [
            "나무를 1번 찍었습니다.\n",
            "나무를 2번 찍었습니다.\n",
            "나무를 3번 찍었습니다.\n",
            "나무를 4번 찍었습니다.\n",
            "나무를 5번 찍었습니다.\n",
            "나무를 6번 찍었습니다.\n",
            "나무를 7번 찍었습니다.\n",
            "나무를 8번 찍었습니다.\n",
            "나무를 9번 찍었습니다.\n",
            "나무를 10번 찍었습니다.\n",
            "나무 넘어갑니다.\n"
          ],
          "name": "stdout"
        }
      ]
    },
    {
      "cell_type": "code",
      "metadata": {
        "id": "9O502GeS0pJB",
        "colab_type": "code",
        "colab": {}
      },
      "source": [
        ""
      ],
      "execution_count": null,
      "outputs": []
    },
    {
      "cell_type": "code",
      "metadata": {
        "id": "tvle8rtD0pJC",
        "colab_type": "code",
        "colab": {}
      },
      "source": [
        ""
      ],
      "execution_count": null,
      "outputs": []
    }
  ]
}